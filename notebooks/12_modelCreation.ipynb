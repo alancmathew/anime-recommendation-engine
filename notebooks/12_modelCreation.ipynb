{
 "cells": [
  {
   "cell_type": "code",
   "execution_count": 1,
   "id": "7e38bcda-3ff5-429a-ad11-44b281d7ebbb",
   "metadata": {},
   "outputs": [],
   "source": [
    "import numpy as np\n",
    "import pandas as pd\n",
    "import matplotlib.pyplot as plt\n",
    "import seaborn as sns\n",
    "import scipy as sp\n",
    "from sklearn.metrics.pairwise import cosine_similarity\n",
    "from sklearn.base import RegressorMixin\n",
    "from tqdm import tqdm\n",
    "from itertools import combinations\n",
    "import math\n",
    "from multiprocessing import Pool\n",
    "import warnings\n",
    "from functools import partial"
   ]
  },
  {
   "cell_type": "code",
   "execution_count": 2,
   "id": "b4f9de94-a4e8-4c0b-90b9-4f94436c8a5e",
   "metadata": {},
   "outputs": [],
   "source": [
    "np.random.seed(42)\n",
    "\n",
    "# warnings.filterwarnings(\"ignore\", category=RuntimeWarning)"
   ]
  },
  {
   "cell_type": "code",
   "execution_count": 3,
   "id": "d0fba32d-a882-4a04-8854-f633acbd3dee",
   "metadata": {},
   "outputs": [],
   "source": [
    "def parallelize(groups, func):\n",
    "    num_workers = 16\n",
    "    with Pool(num_workers) as p:\n",
    "        return pd.concat(p.map(func, [group for name, group in groups])).sort_index()"
   ]
  },
  {
   "cell_type": "code",
   "execution_count": 4,
   "id": "4415cd9c-e6a7-4b33-8731-b4d366c65df1",
   "metadata": {},
   "outputs": [],
   "source": [
    "df = pd.read_pickle('../data/train.pkl.xz')\n",
    "anime = pd.read_pickle('../data/anime.pkl.xz').set_index('title')\n",
    "\n",
    "# user_sim_df = pd.read_pickle('../data/user_sim.pkl')\n",
    "# anime_sim_df = pd.read_pickle('../data/anime_sim.pkl')"
   ]
  },
  {
   "cell_type": "markdown",
   "id": "8b6e1e6e-0baf-47c4-9ab0-fe1aeb855d1f",
   "metadata": {},
   "source": [
    "Remove any users who rated less than 10 shows"
   ]
  },
  {
   "cell_type": "code",
   "execution_count": 5,
   "id": "8e0d1a62-cfb5-4bbb-9ed4-6f80723ec7f7",
   "metadata": {},
   "outputs": [],
   "source": [
    "df = df.loc[df.notnull().sum(axis=1) >= 10].copy(deep=True)"
   ]
  },
  {
   "cell_type": "code",
   "execution_count": 6,
   "id": "c58f4f04-bd07-4614-a910-81da3c5572b1",
   "metadata": {},
   "outputs": [
    {
     "data": {
      "text/html": [
       "<div>\n",
       "<style scoped>\n",
       "    .dataframe tbody tr th:only-of-type {\n",
       "        vertical-align: middle;\n",
       "    }\n",
       "\n",
       "    .dataframe tbody tr th {\n",
       "        vertical-align: top;\n",
       "    }\n",
       "\n",
       "    .dataframe thead th {\n",
       "        text-align: right;\n",
       "    }\n",
       "</style>\n",
       "<table border=\"1\" class=\"dataframe\">\n",
       "  <thead>\n",
       "    <tr style=\"text-align: right;\">\n",
       "      <th>title</th>\n",
       "      <th>.hack//Legend Of The Twilight</th>\n",
       "      <th>.hack//Roots</th>\n",
       "      <th>.hack//SIGN</th>\n",
       "      <th>009-1</th>\n",
       "      <th>07-Ghost</th>\n",
       "      <th>100 Sleeping Princes &amp; the Kingdom of Dreams</th>\n",
       "      <th>100% Pascal-sensei (2017)</th>\n",
       "      <th>11eyes</th>\n",
       "      <th>12-Sai: Chiccha na Mune no Tokimeki</th>\n",
       "      <th>12-Sai: Chiccha na Mune no Tokimeki 2</th>\n",
       "      <th>...</th>\n",
       "      <th>gdgd Fairies</th>\n",
       "      <th>gdgd Fairies 2</th>\n",
       "      <th>gdgd men's party</th>\n",
       "      <th>number24</th>\n",
       "      <th>revisions</th>\n",
       "      <th>sola</th>\n",
       "      <th>www.Working!!</th>\n",
       "      <th>xxxHOLiC</th>\n",
       "      <th>xxxHOLiC Kei</th>\n",
       "      <th>ēlDLIVE</th>\n",
       "    </tr>\n",
       "    <tr>\n",
       "      <th>username</th>\n",
       "      <th></th>\n",
       "      <th></th>\n",
       "      <th></th>\n",
       "      <th></th>\n",
       "      <th></th>\n",
       "      <th></th>\n",
       "      <th></th>\n",
       "      <th></th>\n",
       "      <th></th>\n",
       "      <th></th>\n",
       "      <th></th>\n",
       "      <th></th>\n",
       "      <th></th>\n",
       "      <th></th>\n",
       "      <th></th>\n",
       "      <th></th>\n",
       "      <th></th>\n",
       "      <th></th>\n",
       "      <th></th>\n",
       "      <th></th>\n",
       "      <th></th>\n",
       "    </tr>\n",
       "  </thead>\n",
       "  <tbody>\n",
       "    <tr>\n",
       "      <th>Anilucard</th>\n",
       "      <td>NaN</td>\n",
       "      <td>NaN</td>\n",
       "      <td>NaN</td>\n",
       "      <td>NaN</td>\n",
       "      <td>NaN</td>\n",
       "      <td>NaN</td>\n",
       "      <td>NaN</td>\n",
       "      <td>NaN</td>\n",
       "      <td>NaN</td>\n",
       "      <td>NaN</td>\n",
       "      <td>...</td>\n",
       "      <td>NaN</td>\n",
       "      <td>NaN</td>\n",
       "      <td>NaN</td>\n",
       "      <td>NaN</td>\n",
       "      <td>NaN</td>\n",
       "      <td>NaN</td>\n",
       "      <td>NaN</td>\n",
       "      <td>NaN</td>\n",
       "      <td>NaN</td>\n",
       "      <td>NaN</td>\n",
       "    </tr>\n",
       "    <tr>\n",
       "      <th>Thallasian</th>\n",
       "      <td>NaN</td>\n",
       "      <td>NaN</td>\n",
       "      <td>NaN</td>\n",
       "      <td>NaN</td>\n",
       "      <td>NaN</td>\n",
       "      <td>NaN</td>\n",
       "      <td>NaN</td>\n",
       "      <td>NaN</td>\n",
       "      <td>NaN</td>\n",
       "      <td>NaN</td>\n",
       "      <td>...</td>\n",
       "      <td>NaN</td>\n",
       "      <td>NaN</td>\n",
       "      <td>NaN</td>\n",
       "      <td>NaN</td>\n",
       "      <td>0.84261</td>\n",
       "      <td>NaN</td>\n",
       "      <td>NaN</td>\n",
       "      <td>NaN</td>\n",
       "      <td>NaN</td>\n",
       "      <td>NaN</td>\n",
       "    </tr>\n",
       "    <tr>\n",
       "      <th>shegicaesario</th>\n",
       "      <td>NaN</td>\n",
       "      <td>NaN</td>\n",
       "      <td>NaN</td>\n",
       "      <td>NaN</td>\n",
       "      <td>NaN</td>\n",
       "      <td>NaN</td>\n",
       "      <td>NaN</td>\n",
       "      <td>NaN</td>\n",
       "      <td>NaN</td>\n",
       "      <td>NaN</td>\n",
       "      <td>...</td>\n",
       "      <td>NaN</td>\n",
       "      <td>NaN</td>\n",
       "      <td>NaN</td>\n",
       "      <td>NaN</td>\n",
       "      <td>NaN</td>\n",
       "      <td>NaN</td>\n",
       "      <td>NaN</td>\n",
       "      <td>NaN</td>\n",
       "      <td>NaN</td>\n",
       "      <td>NaN</td>\n",
       "    </tr>\n",
       "    <tr>\n",
       "      <th>bearofwisdom</th>\n",
       "      <td>NaN</td>\n",
       "      <td>NaN</td>\n",
       "      <td>NaN</td>\n",
       "      <td>NaN</td>\n",
       "      <td>NaN</td>\n",
       "      <td>NaN</td>\n",
       "      <td>NaN</td>\n",
       "      <td>NaN</td>\n",
       "      <td>NaN</td>\n",
       "      <td>NaN</td>\n",
       "      <td>...</td>\n",
       "      <td>NaN</td>\n",
       "      <td>NaN</td>\n",
       "      <td>NaN</td>\n",
       "      <td>NaN</td>\n",
       "      <td>NaN</td>\n",
       "      <td>NaN</td>\n",
       "      <td>NaN</td>\n",
       "      <td>NaN</td>\n",
       "      <td>NaN</td>\n",
       "      <td>NaN</td>\n",
       "    </tr>\n",
       "    <tr>\n",
       "      <th>Potatocat11</th>\n",
       "      <td>NaN</td>\n",
       "      <td>NaN</td>\n",
       "      <td>NaN</td>\n",
       "      <td>NaN</td>\n",
       "      <td>NaN</td>\n",
       "      <td>NaN</td>\n",
       "      <td>NaN</td>\n",
       "      <td>NaN</td>\n",
       "      <td>NaN</td>\n",
       "      <td>NaN</td>\n",
       "      <td>...</td>\n",
       "      <td>NaN</td>\n",
       "      <td>NaN</td>\n",
       "      <td>NaN</td>\n",
       "      <td>NaN</td>\n",
       "      <td>NaN</td>\n",
       "      <td>NaN</td>\n",
       "      <td>NaN</td>\n",
       "      <td>NaN</td>\n",
       "      <td>NaN</td>\n",
       "      <td>NaN</td>\n",
       "    </tr>\n",
       "  </tbody>\n",
       "</table>\n",
       "<p>5 rows × 4489 columns</p>\n",
       "</div>"
      ],
      "text/plain": [
       "title          .hack//Legend Of The Twilight  .hack//Roots  .hack//SIGN  \\\n",
       "username                                                                  \n",
       "Anilucard                                NaN           NaN          NaN   \n",
       "Thallasian                               NaN           NaN          NaN   \n",
       "shegicaesario                            NaN           NaN          NaN   \n",
       "bearofwisdom                             NaN           NaN          NaN   \n",
       "Potatocat11                              NaN           NaN          NaN   \n",
       "\n",
       "title          009-1  07-Ghost  100 Sleeping Princes & the Kingdom of Dreams  \\\n",
       "username                                                                       \n",
       "Anilucard        NaN       NaN                                           NaN   \n",
       "Thallasian       NaN       NaN                                           NaN   \n",
       "shegicaesario    NaN       NaN                                           NaN   \n",
       "bearofwisdom     NaN       NaN                                           NaN   \n",
       "Potatocat11      NaN       NaN                                           NaN   \n",
       "\n",
       "title          100% Pascal-sensei (2017)  11eyes  \\\n",
       "username                                           \n",
       "Anilucard                            NaN     NaN   \n",
       "Thallasian                           NaN     NaN   \n",
       "shegicaesario                        NaN     NaN   \n",
       "bearofwisdom                         NaN     NaN   \n",
       "Potatocat11                          NaN     NaN   \n",
       "\n",
       "title          12-Sai: Chiccha na Mune no Tokimeki  \\\n",
       "username                                             \n",
       "Anilucard                                      NaN   \n",
       "Thallasian                                     NaN   \n",
       "shegicaesario                                  NaN   \n",
       "bearofwisdom                                   NaN   \n",
       "Potatocat11                                    NaN   \n",
       "\n",
       "title          12-Sai: Chiccha na Mune no Tokimeki 2  ...  gdgd Fairies  \\\n",
       "username                                              ...                 \n",
       "Anilucard                                        NaN  ...           NaN   \n",
       "Thallasian                                       NaN  ...           NaN   \n",
       "shegicaesario                                    NaN  ...           NaN   \n",
       "bearofwisdom                                     NaN  ...           NaN   \n",
       "Potatocat11                                      NaN  ...           NaN   \n",
       "\n",
       "title          gdgd Fairies 2  gdgd men's party  number24  revisions  sola  \\\n",
       "username                                                                     \n",
       "Anilucard                 NaN               NaN       NaN        NaN   NaN   \n",
       "Thallasian                NaN               NaN       NaN    0.84261   NaN   \n",
       "shegicaesario             NaN               NaN       NaN        NaN   NaN   \n",
       "bearofwisdom              NaN               NaN       NaN        NaN   NaN   \n",
       "Potatocat11               NaN               NaN       NaN        NaN   NaN   \n",
       "\n",
       "title          www.Working!!  xxxHOLiC  xxxHOLiC Kei  ēlDLIVE  \n",
       "username                                                       \n",
       "Anilucard                NaN       NaN           NaN      NaN  \n",
       "Thallasian               NaN       NaN           NaN      NaN  \n",
       "shegicaesario            NaN       NaN           NaN      NaN  \n",
       "bearofwisdom             NaN       NaN           NaN      NaN  \n",
       "Potatocat11              NaN       NaN           NaN      NaN  \n",
       "\n",
       "[5 rows x 4489 columns]"
      ]
     },
     "execution_count": 6,
     "metadata": {},
     "output_type": "execute_result"
    }
   ],
   "source": [
    "df.head()"
   ]
  },
  {
   "cell_type": "code",
   "execution_count": 24,
   "id": "bb0a8f59-84b4-4547-a3b3-4d99c7a08bd3",
   "metadata": {},
   "outputs": [],
   "source": [
    "def get_similar_users(username=None, userdata=None, df=df, min_common=10, sortby='cosine_sim', asc=False, num_sim_users=10):    \n",
    "    username = userdata.name if username is None else username\n",
    "    userdata = df.loc[username] if userdata is None else userdata\n",
    "    \n",
    "    common_booled = np.bitwise_and(df.drop(username, axis=0, errors='ignore').notnull(), userdata.notnull())\n",
    "    num_common = common_booled.sum(axis=1)\n",
    "    \n",
    "    if sortby == 'corr':\n",
    "        tmp = df.T\n",
    "        res = tmp.corrwith(userdata)\n",
    "    \n",
    "    elif sortby == 'dist':\n",
    "        tmp = df.fillna(0)\n",
    "\n",
    "        dist = np.sum(tmp.subtract(tmp.loc[username], axis=1) ** 2, axis=1)\n",
    "        dist = dist / num_common\n",
    "        res = dist.loc[dist != 0]\n",
    "        \n",
    "    elif sortby == 'cosine_sim':\n",
    "        tmp = df.fillna(0)\n",
    "        sparse = sp.sparse.csr_matrix(tmp.values, dtype=np.float32)\n",
    "        res = cosine_similarity(sparse, np.array(userdata.fillna(0)).reshape(1, -1))\n",
    "\n",
    "        res = pd.Series(res.flatten(), index=df.index).drop(username, errors='ignore').sort_values(ascending=False)\n",
    "    \n",
    "    elif sortby == 'num_common':\n",
    "        res = []\n",
    "    \n",
    "    data = pd.DataFrame({sortby: res, 'num_common': num_common})\n",
    "    data = data.query(f'username != \"{username}\" and num_common >= {min_common}')\n",
    "    data = data.sort_values(sortby, ascending=asc).head(num_sim_users)\n",
    "\n",
    "    return data"
   ]
  },
  {
   "cell_type": "code",
   "execution_count": 25,
   "id": "5793dd5b-000e-4da7-ad22-026fbe671991",
   "metadata": {},
   "outputs": [],
   "source": [
    "def get_recommendations(username=None, userdata=None, df=df, min_common=10, sortby='cosine_sim', asc=False, num_sim_users=10):\n",
    "    username = userdata.name if username is None else username\n",
    "    userdata = df.loc[username] if userdata is None else userdata\n",
    "    \n",
    "    sim_users = get_similar_users(username=username, userdata=userdata, df=df, min_common=min_common, \n",
    "                                  sortby=sortby, asc=asc, num_sim_users=num_sim_users)\n",
    "    sim_users_data = df.loc[sim_users.index]\n",
    "    sim_users_data = sim_users_data.loc[:,sim_users_data.notnull().any(axis=0)]\n",
    "    user_watched = userdata.loc[userdata.notnull()].index\n",
    "    diff = set(sim_users_data.columns).difference(user_watched)\n",
    "    sim_users_data = sim_users_data[diff]\n",
    "    # recs = sim_users_data.mul((sim_users['cosine_sim'] / sim_users['cosine_sim'].max()), \n",
    "    #                           axis=0).mean().sort_values(ascending=False)\n",
    "    recs = sim_users_data.mean().sort_values(ascending=False)\n",
    "    return recs"
   ]
  },
  {
   "cell_type": "code",
   "execution_count": 9,
   "id": "e491ea41-76f7-4c88-afc8-193ef6fde31b",
   "metadata": {},
   "outputs": [],
   "source": [
    "username = 'JohnTamer'"
   ]
  },
  {
   "cell_type": "code",
   "execution_count": 10,
   "id": "c03c3d30-2709-48dc-904b-694557497119",
   "metadata": {},
   "outputs": [
    {
     "data": {
      "text/html": [
       "<div>\n",
       "<style scoped>\n",
       "    .dataframe tbody tr th:only-of-type {\n",
       "        vertical-align: middle;\n",
       "    }\n",
       "\n",
       "    .dataframe tbody tr th {\n",
       "        vertical-align: top;\n",
       "    }\n",
       "\n",
       "    .dataframe thead th {\n",
       "        text-align: right;\n",
       "    }\n",
       "</style>\n",
       "<table border=\"1\" class=\"dataframe\">\n",
       "  <thead>\n",
       "    <tr style=\"text-align: right;\">\n",
       "      <th></th>\n",
       "      <th>cosine_sim</th>\n",
       "      <th>num_common</th>\n",
       "    </tr>\n",
       "    <tr>\n",
       "      <th>username</th>\n",
       "      <th></th>\n",
       "      <th></th>\n",
       "    </tr>\n",
       "  </thead>\n",
       "  <tbody>\n",
       "    <tr>\n",
       "      <th>NVSRYA</th>\n",
       "      <td>0.566310</td>\n",
       "      <td>70</td>\n",
       "    </tr>\n",
       "    <tr>\n",
       "      <th>JSuperAnime</th>\n",
       "      <td>0.558657</td>\n",
       "      <td>49</td>\n",
       "    </tr>\n",
       "    <tr>\n",
       "      <th>Iguanalana</th>\n",
       "      <td>0.553970</td>\n",
       "      <td>60</td>\n",
       "    </tr>\n",
       "    <tr>\n",
       "      <th>RuneofAces</th>\n",
       "      <td>0.537463</td>\n",
       "      <td>45</td>\n",
       "    </tr>\n",
       "    <tr>\n",
       "      <th>artymisk</th>\n",
       "      <td>0.524306</td>\n",
       "      <td>61</td>\n",
       "    </tr>\n",
       "    <tr>\n",
       "      <th>eraserrain</th>\n",
       "      <td>0.522316</td>\n",
       "      <td>65</td>\n",
       "    </tr>\n",
       "    <tr>\n",
       "      <th>Perko995</th>\n",
       "      <td>0.522301</td>\n",
       "      <td>69</td>\n",
       "    </tr>\n",
       "    <tr>\n",
       "      <th>gedrue</th>\n",
       "      <td>0.516915</td>\n",
       "      <td>46</td>\n",
       "    </tr>\n",
       "    <tr>\n",
       "      <th>Xynene</th>\n",
       "      <td>0.512099</td>\n",
       "      <td>78</td>\n",
       "    </tr>\n",
       "    <tr>\n",
       "      <th>Katelynn</th>\n",
       "      <td>0.506667</td>\n",
       "      <td>77</td>\n",
       "    </tr>\n",
       "  </tbody>\n",
       "</table>\n",
       "</div>"
      ],
      "text/plain": [
       "             cosine_sim  num_common\n",
       "username                           \n",
       "NVSRYA         0.566310          70\n",
       "JSuperAnime    0.558657          49\n",
       "Iguanalana     0.553970          60\n",
       "RuneofAces     0.537463          45\n",
       "artymisk       0.524306          61\n",
       "eraserrain     0.522316          65\n",
       "Perko995       0.522301          69\n",
       "gedrue         0.516915          46\n",
       "Xynene         0.512099          78\n",
       "Katelynn       0.506667          77"
      ]
     },
     "execution_count": 10,
     "metadata": {},
     "output_type": "execute_result"
    }
   ],
   "source": [
    "get_similar_users(username)"
   ]
  },
  {
   "cell_type": "code",
   "execution_count": 11,
   "id": "acc94156-d5c5-4911-bd1a-1ef500022835",
   "metadata": {},
   "outputs": [],
   "source": [
    "recs = get_recommendations(username)"
   ]
  },
  {
   "cell_type": "code",
   "execution_count": 12,
   "id": "9e6c1ff5-ed60-4303-b44f-a864587ca870",
   "metadata": {},
   "outputs": [
    {
     "data": {
      "text/plain": [
       "title\n",
       "Mobile Suit Gundam: Iron-Blooded Orphans      4.288570\n",
       "Barakamon                                     4.217963\n",
       "Death Parade                                  4.217963\n",
       "Black Bullet                                  3.979759\n",
       "Gargantia on the Verdurous Planet             3.953519\n",
       "                                                ...   \n",
       "Naruto Spin-Off: Rock Lee & His Ninja Pals    0.299954\n",
       "A Little Snow Fairy Sugar                     0.286639\n",
       "Kämpfer                                       0.208187\n",
       "Mythical Detective Loki Ragnarok              0.161663\n",
       "Reign: The Conqueror                          0.100036\n",
       "Length: 309, dtype: float64"
      ]
     },
     "execution_count": 12,
     "metadata": {},
     "output_type": "execute_result"
    }
   ],
   "source": [
    "recs"
   ]
  },
  {
   "cell_type": "code",
   "execution_count": 17,
   "id": "f2575311-b008-4ac6-95d3-2a6b6d644b26",
   "metadata": {},
   "outputs": [],
   "source": [
    "validate_true = pd.read_pickle('../data/validate.pkl.xz')"
   ]
  },
  {
   "cell_type": "code",
   "execution_count": 18,
   "id": "636222e3-2d27-4141-9ee1-ec9a1ba34ea5",
   "metadata": {},
   "outputs": [],
   "source": [
    "keeper_mask = pd.DataFrame(np.random.uniform(size=validate_true.shape), \n",
    "                           index=validate_true.index, \n",
    "                           columns=validate_true.columns).applymap(lambda x: x > 0.75)"
   ]
  },
  {
   "cell_type": "code",
   "execution_count": 19,
   "id": "d35bf70d-5269-41db-943a-659a59436cee",
   "metadata": {},
   "outputs": [],
   "source": [
    "validate = validate_true.mask(keeper_mask)"
   ]
  },
  {
   "cell_type": "code",
   "execution_count": null,
   "id": "53d51487-8550-4ad4-9091-9d678e381dde",
   "metadata": {},
   "outputs": [],
   "source": [
    "pred_userdata = get_recommendations(userdata=validate.iloc[0], num_users=200)"
   ]
  },
  {
   "cell_type": "code",
   "execution_count": null,
   "id": "67adc79e-0e7a-4412-90a2-97921bc77a2b",
   "metadata": {},
   "outputs": [],
   "source": [
    "def get_rmse(pred_data, true_data):\n",
    "    true_data = true_data[true_data.notnull()]\n",
    "    watched_intersection = set(true_data.index).intersection(pred_data.index)\n",
    "    true_ratings = true_data[watched_intersection]\n",
    "    pred_ratings = pred_data[watched_intersection]\n",
    "    return np.sqrt(np.mean((true_ratings - pred_ratings)**2))"
   ]
  },
  {
   "cell_type": "code",
   "execution_count": null,
   "id": "0dcac704-6e3e-48fc-91b2-d23f2133cf13",
   "metadata": {},
   "outputs": [],
   "source": []
  },
  {
   "cell_type": "code",
   "execution_count": 26,
   "id": "b3c65aab-5ca2-4e07-909c-15d0f64d5bb8",
   "metadata": {},
   "outputs": [],
   "source": [
    "class RecommenderSystem(RegressorMixin):\n",
    "    def fit(self, X):\n",
    "        self.df = X\n",
    "        \n",
    "    def predict(self, X_new):\n",
    "        return get_recommendations(userdata=X_new, df=self.df, num_sim_users=self.num_sim_users, \n",
    "                                   username=self.username, min_common=self.min_common, \n",
    "                                   sortby=self.sortby, asc=self.asc, num_sim_users=self.num_sim_users)\n",
    "    \n",
    "    def set_params(self, num_sim_users):\n",
    "        self.num_sim_users = num_sim_users"
   ]
  },
  {
   "cell_type": "code",
   "execution_count": 27,
   "id": "a7660563-adbe-4f82-9a19-d05aa0036d1c",
   "metadata": {},
   "outputs": [],
   "source": [
    "recommender = RecommenderSystem()"
   ]
  },
  {
   "cell_type": "code",
   "execution_count": 28,
   "id": "5360f717-d72e-40ee-ba21-76c20311f53f",
   "metadata": {},
   "outputs": [],
   "source": [
    "recommender.fit(df)"
   ]
  },
  {
   "cell_type": "code",
   "execution_count": 29,
   "id": "d5ebae48-ce49-4c10-814a-3db8239018bf",
   "metadata": {},
   "outputs": [],
   "source": [
    "recommender.set_params(num_sim_users = 100)"
   ]
  },
  {
   "cell_type": "code",
   "execution_count": 31,
   "id": "451e8768-3108-4234-a756-43b5abc66019",
   "metadata": {},
   "outputs": [
    {
     "data": {
      "text/plain": [
       "title\n",
       "Ashita no Joe 2                                              4.368842\n",
       "Sexy Commando Gaiden Sugoiyo!! Masaru-san                    4.356941\n",
       "Gallery Fake                                                 4.340704\n",
       "Tiger Mask                                                   4.058205\n",
       "Yes! Pretty Cure 5                                           4.048426\n",
       "                                                               ...   \n",
       "SD Gundam Force                                              0.195431\n",
       "Girl Friend BETA                                             0.163037\n",
       "Conception                                                   0.109300\n",
       "High School Prodigies Have It Easy Even in Another World!    0.061464\n",
       "Dimension High School                                        0.035610\n",
       "Length: 2774, dtype: float64"
      ]
     },
     "execution_count": 31,
     "metadata": {},
     "output_type": "execute_result"
    }
   ],
   "source": [
    "recommender.predict(validate.iloc[1])"
   ]
  },
  {
   "cell_type": "code",
   "execution_count": null,
   "id": "481b7384-04e7-4f5d-9fad-e4b0a30f73ac",
   "metadata": {},
   "outputs": [],
   "source": []
  },
  {
   "cell_type": "code",
   "execution_count": null,
   "id": "61fd6ee9-09e9-4a8d-bdc5-183dddc34688",
   "metadata": {},
   "outputs": [],
   "source": []
  },
  {
   "cell_type": "code",
   "execution_count": null,
   "id": "5b120ced-a8ea-4784-82c0-5aa3d8f3c9f9",
   "metadata": {},
   "outputs": [],
   "source": [
    "total_rmse = 0\n",
    "for idx in tqdm(range(10)):\n",
    "    userdata = validate.iloc[idx]\n",
    "    pred_userdata = get_recommendations(userdata=userdata, num_recs=100, num_users=1000)\n",
    "    true_userdata = validate_true.iloc[idx]\n",
    "    rmse = get_rmse(pred_userdata, true_userdata)\n",
    "    total_rmse += rmse if not(pd.isna(rmse)) else 0"
   ]
  },
  {
   "cell_type": "code",
   "execution_count": null,
   "id": "1660264a-34ab-45e2-a85f-b9435b448dad",
   "metadata": {},
   "outputs": [],
   "source": [
    "get_rmse(pred_userdata, validate_true.iloc[0])"
   ]
  },
  {
   "cell_type": "markdown",
   "id": "ed06b223-4671-4ca4-8b97-cd8b97aa1ada",
   "metadata": {},
   "source": [
    "1000 users"
   ]
  },
  {
   "cell_type": "code",
   "execution_count": null,
   "id": "e211d145-cc17-48c8-83c4-eb8aac835b4f",
   "metadata": {},
   "outputs": [],
   "source": [
    "total_rmse / 10"
   ]
  },
  {
   "cell_type": "markdown",
   "id": "0b691bd1-5e6e-4e48-9b44-6c03afdbbddb",
   "metadata": {},
   "source": [
    "100 users"
   ]
  },
  {
   "cell_type": "code",
   "execution_count": null,
   "id": "1fcbb236-8f58-41bd-92a0-972cea803f4e",
   "metadata": {},
   "outputs": [],
   "source": [
    "total_rmse / 10"
   ]
  },
  {
   "cell_type": "markdown",
   "id": "3f967707-1eee-4054-b96c-42d6c7268835",
   "metadata": {},
   "source": [
    "60 users"
   ]
  },
  {
   "cell_type": "code",
   "execution_count": null,
   "id": "d3cdfc48-76ff-47f8-ac1a-d975bd832a36",
   "metadata": {},
   "outputs": [],
   "source": [
    "total_rmse / 10"
   ]
  },
  {
   "cell_type": "markdown",
   "id": "905900dc-8c5e-4b4c-8de7-95fc90165cef",
   "metadata": {},
   "source": [
    "50 users"
   ]
  },
  {
   "cell_type": "code",
   "execution_count": null,
   "id": "76d1cb12-ae3b-449e-8195-090aa19eca08",
   "metadata": {},
   "outputs": [],
   "source": [
    "total_rmse / 10"
   ]
  },
  {
   "cell_type": "markdown",
   "id": "37ae4262-3afa-41c8-ac0d-7df929b052ec",
   "metadata": {},
   "source": [
    "40 users"
   ]
  },
  {
   "cell_type": "code",
   "execution_count": null,
   "id": "53fc486d-73fd-4008-ac0d-6754f01fbc29",
   "metadata": {},
   "outputs": [],
   "source": [
    "total_rmse / 10"
   ]
  },
  {
   "cell_type": "markdown",
   "id": "b7fa13c7-1cf8-40be-9ea2-6f5e4f0e7ec5",
   "metadata": {},
   "source": [
    "30 users"
   ]
  },
  {
   "cell_type": "code",
   "execution_count": null,
   "id": "71d09f1e-855d-4419-ba4e-4cb02c1e0aac",
   "metadata": {},
   "outputs": [],
   "source": [
    "total_rmse / 10"
   ]
  },
  {
   "cell_type": "markdown",
   "id": "202895a5-26c3-4766-8c0e-6855ef7fa2e6",
   "metadata": {},
   "source": [
    "20 users"
   ]
  },
  {
   "cell_type": "code",
   "execution_count": null,
   "id": "56eb9520-1cb4-4e3f-b4c6-95b9eb61d168",
   "metadata": {},
   "outputs": [],
   "source": [
    "total_rmse / 10"
   ]
  },
  {
   "cell_type": "markdown",
   "id": "c0275e95-2441-4a2e-9a56-45979b92fee5",
   "metadata": {},
   "source": [
    "10 users"
   ]
  },
  {
   "cell_type": "code",
   "execution_count": null,
   "id": "801421cf-81ff-4d1d-8a79-8eae5f4978e1",
   "metadata": {},
   "outputs": [],
   "source": [
    "total_rmse / 10"
   ]
  },
  {
   "cell_type": "markdown",
   "id": "b992110f-47b1-4a62-9a04-539c9b4c9cef",
   "metadata": {},
   "source": [
    "5 users"
   ]
  },
  {
   "cell_type": "code",
   "execution_count": null,
   "id": "b0d7b4a8-f00a-46ad-bcd8-6a092135dff4",
   "metadata": {},
   "outputs": [],
   "source": [
    "total_rmse / 10"
   ]
  },
  {
   "cell_type": "code",
   "execution_count": null,
   "id": "34c55101-034d-4454-b7d4-b4434a731303",
   "metadata": {},
   "outputs": [],
   "source": [
    "idx = 3\n",
    "userdata = validate.iloc[idx]\n",
    "pred_userdata = get_recommendation(userdata=userdata, num_recs=100, num_users=5)\n",
    "true_userdata = validate_true.iloc[idx]\n",
    "get_rmse(pred_userdata, true_userdata)"
   ]
  },
  {
   "cell_type": "code",
   "execution_count": null,
   "id": "f7febdd7-356b-4dc2-8c5e-12168c44e54b",
   "metadata": {},
   "outputs": [],
   "source": []
  },
  {
   "cell_type": "code",
   "execution_count": null,
   "id": "eaf6ed0d-bcbf-4c58-adc3-ad79014c8a5b",
   "metadata": {},
   "outputs": [],
   "source": []
  },
  {
   "cell_type": "code",
   "execution_count": null,
   "id": "77ff4cf8-7b32-4163-9c5c-5bae497bd566",
   "metadata": {},
   "outputs": [],
   "source": []
  }
 ],
 "metadata": {
  "kernelspec": {
   "display_name": "Python 3 (ipykernel)",
   "language": "python",
   "name": "python3"
  },
  "language_info": {
   "codemirror_mode": {
    "name": "ipython",
    "version": 3
   },
   "file_extension": ".py",
   "mimetype": "text/x-python",
   "name": "python",
   "nbconvert_exporter": "python",
   "pygments_lexer": "ipython3",
   "version": "3.8.12"
  }
 },
 "nbformat": 4,
 "nbformat_minor": 5
}
