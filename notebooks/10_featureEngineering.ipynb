{
 "cells": [
  {
   "cell_type": "code",
   "execution_count": 5,
   "id": "c8b546db-3322-4cf0-96a6-bb3fc9cfcf98",
   "metadata": {},
   "outputs": [],
   "source": [
    "import numpy as np\n",
    "import pandas as pd\n",
    "import matplotlib.pyplot as plt\n",
    "import seaborn as sns\n",
    "from tqdm import tqdm\n",
    "from multiprocessing import Pool"
   ]
  },
  {
   "cell_type": "code",
   "execution_count": 2,
   "id": "36408a29-cb56-4fa3-b016-b5134f9b00c1",
   "metadata": {},
   "outputs": [],
   "source": [
    "df = pd.read_pickle('../data/watch_list_clean.pkl.xz')"
   ]
  },
  {
   "cell_type": "markdown",
   "id": "db326636-e29b-4bdc-9706-30f5e9294d02",
   "metadata": {
    "tags": []
   },
   "source": [
    "### Normalize User Ratings to their own rating behavior"
   ]
  },
  {
   "cell_type": "code",
   "execution_count": 34,
   "id": "44bf735f-6568-4938-9742-99e84cadf582",
   "metadata": {},
   "outputs": [
    {
     "data": {
      "text/html": [
       "<div>\n",
       "<style scoped>\n",
       "    .dataframe tbody tr th:only-of-type {\n",
       "        vertical-align: middle;\n",
       "    }\n",
       "\n",
       "    .dataframe tbody tr th {\n",
       "        vertical-align: top;\n",
       "    }\n",
       "\n",
       "    .dataframe thead th {\n",
       "        text-align: right;\n",
       "    }\n",
       "</style>\n",
       "<table border=\"1\" class=\"dataframe\">\n",
       "  <thead>\n",
       "    <tr style=\"text-align: right;\">\n",
       "      <th></th>\n",
       "      <th>title</th>\n",
       "      <th>url</th>\n",
       "      <th>username</th>\n",
       "      <th>status</th>\n",
       "      <th>times_watched</th>\n",
       "      <th>user_rating</th>\n",
       "      <th>num_eps</th>\n",
       "      <th>is_ongoing</th>\n",
       "      <th>duration</th>\n",
       "      <th>studio</th>\n",
       "      <th>start_year</th>\n",
       "      <th>end_year</th>\n",
       "      <th>season</th>\n",
       "      <th>avg_rating</th>\n",
       "      <th>num_votes</th>\n",
       "      <th>synopsis</th>\n",
       "      <th>tags</th>\n",
       "      <th>content_warnings</th>\n",
       "      <th>adj_user_rating1</th>\n",
       "      <th>adj_user_rating2</th>\n",
       "    </tr>\n",
       "  </thead>\n",
       "  <tbody>\n",
       "    <tr>\n",
       "      <th>0</th>\n",
       "      <td>Day Break Illusion: il sole penetra le illusioni</td>\n",
       "      <td>https://www.anime-planet.com/anime/day-break-i...</td>\n",
       "      <td>Ruth</td>\n",
       "      <td>Watched</td>\n",
       "      <td>1</td>\n",
       "      <td>3.0</td>\n",
       "      <td>13</td>\n",
       "      <td>False</td>\n",
       "      <td>NaN</td>\n",
       "      <td>AIC</td>\n",
       "      <td>2013.0</td>\n",
       "      <td>2013.0</td>\n",
       "      <td>Summer</td>\n",
       "      <td>3.158</td>\n",
       "      <td>1980</td>\n",
       "      <td>Akari has always known two things: she’s a ski...</td>\n",
       "      <td>[Drama, Fantasy, Horror, Magical Girl, Contemp...</td>\n",
       "      <td>None</td>\n",
       "      <td>-0.617182</td>\n",
       "      <td>2.777778</td>\n",
       "    </tr>\n",
       "    <tr>\n",
       "      <th>1</th>\n",
       "      <td>Dog Days</td>\n",
       "      <td>https://www.anime-planet.com/anime/dog-days</td>\n",
       "      <td>Ruth</td>\n",
       "      <td>Watched</td>\n",
       "      <td>1</td>\n",
       "      <td>3.5</td>\n",
       "      <td>13</td>\n",
       "      <td>False</td>\n",
       "      <td>NaN</td>\n",
       "      <td>Seven Arcs</td>\n",
       "      <td>2011.0</td>\n",
       "      <td>2011.0</td>\n",
       "      <td>Spring</td>\n",
       "      <td>3.524</td>\n",
       "      <td>9447</td>\n",
       "      <td>In the magical land of Flonyard, animal-eared ...</td>\n",
       "      <td>[Action, Adventure, Ecchi, Fantasy, Animal Cha...</td>\n",
       "      <td>None</td>\n",
       "      <td>-0.073000</td>\n",
       "      <td>3.333333</td>\n",
       "    </tr>\n",
       "    <tr>\n",
       "      <th>2</th>\n",
       "      <td>Dog Days'</td>\n",
       "      <td>https://www.anime-planet.com/anime/dog-days-2</td>\n",
       "      <td>Ruth</td>\n",
       "      <td>Watched</td>\n",
       "      <td>1</td>\n",
       "      <td>3.0</td>\n",
       "      <td>13</td>\n",
       "      <td>False</td>\n",
       "      <td>NaN</td>\n",
       "      <td>Seven Arcs</td>\n",
       "      <td>2012.0</td>\n",
       "      <td>2012.0</td>\n",
       "      <td>Summer</td>\n",
       "      <td>3.651</td>\n",
       "      <td>5345</td>\n",
       "      <td>Three months have passed since Shinku returned...</td>\n",
       "      <td>[Action, Adventure, Ecchi, Fantasy, Animal Cha...</td>\n",
       "      <td>None</td>\n",
       "      <td>-0.617182</td>\n",
       "      <td>2.777778</td>\n",
       "    </tr>\n",
       "    <tr>\n",
       "      <th>3</th>\n",
       "      <td>Fantasista Doll</td>\n",
       "      <td>https://www.anime-planet.com/anime/fantasista-...</td>\n",
       "      <td>Ruth</td>\n",
       "      <td>Watched</td>\n",
       "      <td>1</td>\n",
       "      <td>2.5</td>\n",
       "      <td>12</td>\n",
       "      <td>False</td>\n",
       "      <td>NaN</td>\n",
       "      <td>Hoods Entertainment</td>\n",
       "      <td>2013.0</td>\n",
       "      <td>2013.0</td>\n",
       "      <td>Summer</td>\n",
       "      <td>2.918</td>\n",
       "      <td>1206</td>\n",
       "      <td>Uzume Uno was on her way to class one day when...</td>\n",
       "      <td>[Magical Girl, Sci Fi, Seinen, Slice of Life, ...</td>\n",
       "      <td>None</td>\n",
       "      <td>-1.161365</td>\n",
       "      <td>2.222222</td>\n",
       "    </tr>\n",
       "    <tr>\n",
       "      <th>4</th>\n",
       "      <td>Fate/Kaleid Liner Prisma Illya</td>\n",
       "      <td>https://www.anime-planet.com/anime/fate-kaleid...</td>\n",
       "      <td>Ruth</td>\n",
       "      <td>Watched</td>\n",
       "      <td>1</td>\n",
       "      <td>3.5</td>\n",
       "      <td>10</td>\n",
       "      <td>False</td>\n",
       "      <td>NaN</td>\n",
       "      <td>SILVER LINK.</td>\n",
       "      <td>2013.0</td>\n",
       "      <td>2013.0</td>\n",
       "      <td>Summer</td>\n",
       "      <td>3.513</td>\n",
       "      <td>5655</td>\n",
       "      <td>Illya loves magical girls; but more than anyth...</td>\n",
       "      <td>[Action, Fantasy, Magical Girl, Shounen, Conte...</td>\n",
       "      <td>None</td>\n",
       "      <td>-0.073000</td>\n",
       "      <td>3.333333</td>\n",
       "    </tr>\n",
       "  </tbody>\n",
       "</table>\n",
       "</div>"
      ],
      "text/plain": [
       "                                              title  \\\n",
       "0  Day Break Illusion: il sole penetra le illusioni   \n",
       "1                                          Dog Days   \n",
       "2                                         Dog Days'   \n",
       "3                                   Fantasista Doll   \n",
       "4                    Fate/Kaleid Liner Prisma Illya   \n",
       "\n",
       "                                                 url username   status  \\\n",
       "0  https://www.anime-planet.com/anime/day-break-i...     Ruth  Watched   \n",
       "1        https://www.anime-planet.com/anime/dog-days     Ruth  Watched   \n",
       "2      https://www.anime-planet.com/anime/dog-days-2     Ruth  Watched   \n",
       "3  https://www.anime-planet.com/anime/fantasista-...     Ruth  Watched   \n",
       "4  https://www.anime-planet.com/anime/fate-kaleid...     Ruth  Watched   \n",
       "\n",
       "   times_watched  user_rating  num_eps  is_ongoing  duration  \\\n",
       "0              1          3.0       13       False       NaN   \n",
       "1              1          3.5       13       False       NaN   \n",
       "2              1          3.0       13       False       NaN   \n",
       "3              1          2.5       12       False       NaN   \n",
       "4              1          3.5       10       False       NaN   \n",
       "\n",
       "                studio  start_year  end_year  season  avg_rating  num_votes  \\\n",
       "0                  AIC      2013.0    2013.0  Summer       3.158       1980   \n",
       "1           Seven Arcs      2011.0    2011.0  Spring       3.524       9447   \n",
       "2           Seven Arcs      2012.0    2012.0  Summer       3.651       5345   \n",
       "3  Hoods Entertainment      2013.0    2013.0  Summer       2.918       1206   \n",
       "4         SILVER LINK.      2013.0    2013.0  Summer       3.513       5655   \n",
       "\n",
       "                                            synopsis  \\\n",
       "0  Akari has always known two things: she’s a ski...   \n",
       "1  In the magical land of Flonyard, animal-eared ...   \n",
       "2  Three months have passed since Shinku returned...   \n",
       "3  Uzume Uno was on her way to class one day when...   \n",
       "4  Illya loves magical girls; but more than anyth...   \n",
       "\n",
       "                                                tags content_warnings  \\\n",
       "0  [Drama, Fantasy, Horror, Magical Girl, Contemp...             None   \n",
       "1  [Action, Adventure, Ecchi, Fantasy, Animal Cha...             None   \n",
       "2  [Action, Adventure, Ecchi, Fantasy, Animal Cha...             None   \n",
       "3  [Magical Girl, Sci Fi, Seinen, Slice of Life, ...             None   \n",
       "4  [Action, Fantasy, Magical Girl, Shounen, Conte...             None   \n",
       "\n",
       "   adj_user_rating1  adj_user_rating2  \n",
       "0         -0.617182          2.777778  \n",
       "1         -0.073000          3.333333  \n",
       "2         -0.617182          2.777778  \n",
       "3         -1.161365          2.222222  \n",
       "4         -0.073000          3.333333  "
      ]
     },
     "execution_count": 34,
     "metadata": {},
     "output_type": "execute_result"
    }
   ],
   "source": [
    "df.head()"
   ]
  },
  {
   "cell_type": "code",
   "execution_count": 33,
   "id": "26f9689a-0b50-4673-afec-e8a0b2237fb1",
   "metadata": {},
   "outputs": [
    {
     "data": {
      "text/plain": [
       "0    3.0\n",
       "1    3.5\n",
       "2    3.0\n",
       "3    2.5\n",
       "4    3.5\n",
       "Name: user_rating, dtype: float64"
      ]
     },
     "execution_count": 33,
     "metadata": {},
     "output_type": "execute_result"
    }
   ],
   "source": [
    "df.head()['user_rating'].apply(np.mean)"
   ]
  },
  {
   "cell_type": "code",
   "execution_count": 60,
   "id": "8f08c689-8a2b-4c96-871d-328855f9854c",
   "metadata": {},
   "outputs": [],
   "source": [
    "def applyParallel(df, group_cols, apply_cols, func):\n",
    "    num_workers = 12\n",
    "    grouped = df.groupby(group_cols)[apply_cols]\n",
    "    names, groups = np.array(grouped, dtype=object).T\n",
    "    with Pool(num_workers) as p:\n",
    "        return_list = p.map(func, [group for group in groups])\n",
    "    return list(zip(names, return_list))"
   ]
  },
  {
   "cell_type": "code",
   "execution_count": 85,
   "id": "7b93d41f-4855-4ab8-9666-ca76e75e1e4b",
   "metadata": {},
   "outputs": [],
   "source": [
    "def _transform(args):\n",
    "    data, func = args\n",
    "    data = (data - data) + func(data)\n",
    "    return data"
   ]
  },
  {
   "cell_type": "code",
   "execution_count": 98,
   "id": "05b3fded-f9a7-47b1-a6ea-eab8e8073da3",
   "metadata": {},
   "outputs": [],
   "source": [
    "def transformParallel(df, group_cols, transform_cols, func):\n",
    "    num_workers = 12\n",
    "    grouped = df.groupby(group_cols)[transform_cols]\n",
    "    names, groups = np.array(grouped, dtype=object).T\n",
    "    with Pool(num_workers) as p:\n",
    "        return_list = p.map(_transform, [(group, func) for group in groups])\n",
    "    return pd.concat(return_list)"
   ]
  },
  {
   "cell_type": "code",
   "execution_count": 99,
   "id": "c71b6dbf-0853-4936-a6ab-23551895f80e",
   "metadata": {},
   "outputs": [],
   "source": [
    "def mean_normalization(x):\n",
    "    return (x - x.mean()) / x.std()"
   ]
  },
  {
   "cell_type": "code",
   "execution_count": 100,
   "id": "e4f043f1-8655-4b63-bfd6-42d36a96d92c",
   "metadata": {},
   "outputs": [],
   "source": [
    "def max_min_normalization(x):\n",
    "    return 5 * (x - x.min()) / (x.max() - x.min())"
   ]
  },
  {
   "cell_type": "code",
   "execution_count": 101,
   "id": "a78f2873-fdab-4ec8-b228-7fd703bccc0b",
   "metadata": {},
   "outputs": [
    {
     "name": "stdout",
     "output_type": "stream",
     "text": [
      "CPU times: user 25.4 s, sys: 1.55 s, total: 27 s\n",
      "Wall time: 27.1 s\n"
     ]
    }
   ],
   "source": [
    "%%time\n",
    "res = transformParallel(df, 'username', 'user_rating', mean_normalization)"
   ]
  },
  {
   "cell_type": "code",
   "execution_count": 103,
   "id": "c1480414-9901-4f57-9873-4b516f93b796",
   "metadata": {},
   "outputs": [
    {
     "data": {
      "text/plain": [
       "0         -0.617182\n",
       "1         -0.073000\n",
       "2         -0.617182\n",
       "3         -1.161365\n",
       "4         -0.073000\n",
       "             ...   \n",
       "9205629    0.756533\n",
       "9205630    0.756533\n",
       "9205631    0.756533\n",
       "9205632    0.756533\n",
       "9205633    0.756533\n",
       "Name: user_rating, Length: 9205634, dtype: float32"
      ]
     },
     "execution_count": 103,
     "metadata": {},
     "output_type": "execute_result"
    }
   ],
   "source": [
    "res.sort_index()"
   ]
  },
  {
   "cell_type": "code",
   "execution_count": 96,
   "id": "28c9f159-25dd-4878-abe5-b1f6f208c391",
   "metadata": {},
   "outputs": [
    {
     "name": "stdout",
     "output_type": "stream",
     "text": [
      "CPU times: user 41.6 s, sys: 148 ms, total: 41.8 s\n",
      "Wall time: 41.7 s\n"
     ]
    }
   ],
   "source": [
    "%%time\n",
    "df['adj_user_rating1'] = df.groupby(['username'])['user_rating'].transform(lambda x: (x - x.mean()) / x.std())"
   ]
  },
  {
   "cell_type": "code",
   "execution_count": 4,
   "id": "063209cf-62ac-4c2f-9cd5-c1e7adce3f9a",
   "metadata": {},
   "outputs": [],
   "source": [
    "df['adj_user_rating1'] = df.groupby(['username'])['user_rating'].transform(lambda x: (x - x.mean()) / x.std())\n",
    "df['adj_user_rating2'] = df.groupby(['username'])['adj_user_rating1'].transform(lambda x: 5 * (x - x.min()) / (x.max() - x.min()))"
   ]
  },
  {
   "cell_type": "code",
   "execution_count": null,
   "id": "ea421c10-f36a-46bd-8b0d-64f87b6ca987",
   "metadata": {},
   "outputs": [],
   "source": [
    "df['adj_user_rating2']"
   ]
  },
  {
   "cell_type": "code",
   "execution_count": null,
   "id": "07be2d47-ae98-4953-a44d-4f7c2919dabc",
   "metadata": {},
   "outputs": [],
   "source": [
    "df.tail()[['username', 'title', 'user_rating', 'adj_user_rating1', 'adj_user_rating2']]"
   ]
  },
  {
   "cell_type": "code",
   "execution_count": null,
   "id": "251fcce8-1c91-46d8-b174-534dfe8db92d",
   "metadata": {},
   "outputs": [],
   "source": [
    "df['adj_user_rating'].agg(['min', 'max'])"
   ]
  },
  {
   "cell_type": "code",
   "execution_count": null,
   "id": "b5a89b19-2660-43de-aa67-9319c23fdf86",
   "metadata": {},
   "outputs": [],
   "source": [
    "plt.hist(df['adj_user_rating'], bins=100)\n",
    "plt.xlim(-5, 5)"
   ]
  },
  {
   "cell_type": "code",
   "execution_count": null,
   "id": "d8a2ea30-06a7-49ac-b723-27a0a77146c5",
   "metadata": {},
   "outputs": [],
   "source": []
  }
 ],
 "metadata": {
  "kernelspec": {
   "display_name": "Python 3 (ipykernel)",
   "language": "python",
   "name": "python3"
  },
  "language_info": {
   "codemirror_mode": {
    "name": "ipython",
    "version": 3
   },
   "file_extension": ".py",
   "mimetype": "text/x-python",
   "name": "python",
   "nbconvert_exporter": "python",
   "pygments_lexer": "ipython3",
   "version": "3.8.12"
  }
 },
 "nbformat": 4,
 "nbformat_minor": 5
}
