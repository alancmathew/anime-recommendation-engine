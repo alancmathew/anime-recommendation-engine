{
 "cells": [
  {
   "cell_type": "code",
   "execution_count": 1,
   "id": "7e38bcda-3ff5-429a-ad11-44b281d7ebbb",
   "metadata": {},
   "outputs": [],
   "source": [
    "import numpy as np\n",
    "import pandas as pd\n",
    "import matplotlib.pyplot as plt\n",
    "import seaborn as sns\n",
    "from scipy import stats\n",
    "from tqdm import tqdm\n",
    "from itertools import combinations\n",
    "import math\n",
    "from multiprocessing import Pool\n",
    "import warnings\n",
    "from functools import partial"
   ]
  },
  {
   "cell_type": "code",
   "execution_count": 2,
   "id": "b4f9de94-a4e8-4c0b-90b9-4f94436c8a5e",
   "metadata": {},
   "outputs": [],
   "source": [
    "warnings.filterwarnings(\"ignore\", category=RuntimeWarning)"
   ]
  },
  {
   "cell_type": "code",
   "execution_count": 3,
   "id": "d0fba32d-a882-4a04-8854-f633acbd3dee",
   "metadata": {},
   "outputs": [],
   "source": [
    "def parallelize(groups, func):\n",
    "    num_workers = 16\n",
    "    with Pool(num_workers) as p:\n",
    "        return pd.concat(p.map(func, [group for name, group in groups])).sort_index()"
   ]
  },
  {
   "cell_type": "code",
   "execution_count": 4,
   "id": "4415cd9c-e6a7-4b33-8731-b4d366c65df1",
   "metadata": {},
   "outputs": [],
   "source": [
    "dfu = pd.read_pickle('../data/train.pkl.xz')\n",
    "anime = pd.read_pickle('../data/anime.pkl.xz').set_index('title')\n",
    "\n",
    "# anime_corr = pd.read_pickle('../data/anime_corr.pkl.xz')"
   ]
  },
  {
   "cell_type": "code",
   "execution_count": null,
   "id": "7dbe5219-3672-4247-af63-5ce331d02263",
   "metadata": {},
   "outputs": [],
   "source": [
    "anime_corr = dfu.corr()"
   ]
  },
  {
   "cell_type": "code",
   "execution_count": null,
   "id": "b176a586-bfe2-45cf-83a3-f8630637eff8",
   "metadata": {},
   "outputs": [],
   "source": [
    "anime_corr.to_pickle('../data/anime_corr.pkl')\n",
    "anime_corr.to_csv('../data/anime_corr.csv')"
   ]
  },
  {
   "cell_type": "code",
   "execution_count": null,
   "id": "a79babc1-e016-4ac3-8154-1df4caa9510f",
   "metadata": {},
   "outputs": [],
   "source": [
    "%%bash\n",
    "cd ../data\n",
    "\n",
    "rm anime_corr.pkl.xz\n",
    "xz -vT14 anime_corr.pkl\n",
    "\n",
    "rm anime_corr.csv.xz\n",
    "xz -vT14 anime_corr.csv"
   ]
  },
  {
   "cell_type": "code",
   "execution_count": null,
   "id": "c58f4f04-bd07-4614-a910-81da3c5572b1",
   "metadata": {},
   "outputs": [],
   "source": [
    "dfu.head()"
   ]
  },
  {
   "cell_type": "code",
   "execution_count": null,
   "id": "cd6868a4-8731-4d05-a156-05d41c48fbc3",
   "metadata": {},
   "outputs": [],
   "source": [
    "anime.head()"
   ]
  },
  {
   "cell_type": "code",
   "execution_count": null,
   "id": "ca2615c5-a923-47db-8a5a-f6abacac2102",
   "metadata": {},
   "outputs": [],
   "source": [
    "dfa = dfu.T\n",
    "\n",
    "anime_counts = dfu.notnull().sum(axis=0)\n",
    "users_counts = dfu.notnull().sum(axis=1)"
   ]
  },
  {
   "cell_type": "code",
   "execution_count": null,
   "id": "13d161a6-f4e9-4120-a4a1-58c30a8dc676",
   "metadata": {},
   "outputs": [],
   "source": [
    "def get_similar_shows(title, sort_by='corr', num=10, min_count=1000, min_num_common_tags=2):\n",
    "    def num_common_tags(title):\n",
    "        tags = set(anime.query(f'title == \"{title}\"')['tags'][0])\n",
    "        num_common_series = anime.loc[anime['tags'].notnull(), 'tags'].apply(lambda x: len(set(x).intersection(tags)))\n",
    "        return num_common_series.sort_values(ascending=False)\n",
    "    \n",
    "    dfa = pd.DataFrame({'corr': anime_corr[title], 'dist': dist, 'count': anime_counts, \n",
    "                        'num_common_tags': num_common_tags(title), 'avg_rating': anime['rating']})\n",
    "    dfa = dfa.query(f'title != \"{title}\" and count >= {min_count} and num_common_tags >= {min_num_common_tags}')\n",
    "    return dfa.sort_values(sort_by, ascending=False).head(num)"
   ]
  },
  {
   "cell_type": "code",
   "execution_count": null,
   "id": "8de54140-5437-4e1b-9ad2-f090c2e94b8c",
   "metadata": {},
   "outputs": [],
   "source": [
    "get_similar_shows('Clannad')"
   ]
  },
  {
   "cell_type": "code",
   "execution_count": null,
   "id": "93e45bbb-a4f2-4693-94f9-6071fec5e83e",
   "metadata": {},
   "outputs": [],
   "source": [
    "def find_corr(table, array):\n",
    "    return table.corrwith(array)"
   ]
  },
  {
   "cell_type": "code",
   "execution_count": null,
   "id": "bb0a8f59-84b4-4547-a3b3-4d99c7a08bd3",
   "metadata": {},
   "outputs": [],
   "source": [
    "def get_similar_users(username, num=10, min_common=None):    \n",
    "    chunksize = 1500\n",
    "    chunks = np.split(dfa, range(chunksize, dfa.shape[1]+chunksize, chunksize), axis=1)\n",
    "    with Pool(15) as p:\n",
    "        partial_f = partial(find_corr, array=dfa[username])\n",
    "        user_corr = pd.concat(p.map(partial_f, chunks)).drop(username).fillna(0)\n",
    "    \n",
    "    del chunks\n",
    "\n",
    "    common_booled = np.bitwise_and(dfu.drop(username, axis=0).notnull(), dfa[username].notnull())\n",
    "    \n",
    "    if min_common is None:\n",
    "        min_common = np.sqrt(len(dfa.loc[dfa[username].notnull(), username]))\n",
    "    \n",
    "    data = pd.DataFrame({'corr': user_corr, 'num_common': common_booled.sum(axis=1)})\n",
    "    data = data.query(f'username != \"{username}\" and num_common >= {min_common}')\n",
    "    return data.sort_values(['corr', 'num_common'], ascending=False).head(num)"
   ]
  },
  {
   "cell_type": "code",
   "execution_count": null,
   "id": "e491ea41-76f7-4c88-afc8-193ef6fde31b",
   "metadata": {},
   "outputs": [],
   "source": [
    "username = 'JohnTamer'"
   ]
  },
  {
   "cell_type": "code",
   "execution_count": null,
   "id": "5a546050-9d4f-4072-8b02-1383d763f37c",
   "metadata": {},
   "outputs": [],
   "source": [
    "res = get_similar_users(username, min_common=30)"
   ]
  },
  {
   "cell_type": "code",
   "execution_count": null,
   "id": "e0a6ba51-46a3-495d-8f6a-41944c8d0326",
   "metadata": {},
   "outputs": [],
   "source": [
    "res"
   ]
  },
  {
   "cell_type": "code",
   "execution_count": null,
   "id": "1dc9796a-2b50-41ea-af9c-2e0f01d56928",
   "metadata": {},
   "outputs": [],
   "source": [
    "closest_user = res.head(1).index[0]"
   ]
  },
  {
   "cell_type": "code",
   "execution_count": null,
   "id": "262966b1-4596-4f29-b126-e7cc7eb9fe66",
   "metadata": {},
   "outputs": [],
   "source": [
    "dfa.loc[dfa[[username, closest_user]].notnull().all(axis=1), [username, closest_user]]"
   ]
  },
  {
   "cell_type": "code",
   "execution_count": null,
   "id": "1d12559e-85d4-4572-b6ad-48e0bc6d45ca",
   "metadata": {},
   "outputs": [],
   "source": [
    "sns.scatterplot(x=username, y=closest_user, data=dfa.loc[dfa[[username, closest_user]].notnull().all(axis=1)])"
   ]
  },
  {
   "cell_type": "code",
   "execution_count": null,
   "id": "28edff0b-4647-4e96-9f8d-3d7c690eddb8",
   "metadata": {},
   "outputs": [],
   "source": []
  }
 ],
 "metadata": {
  "kernelspec": {
   "display_name": "Python 3 (ipykernel)",
   "language": "python",
   "name": "python3"
  },
  "language_info": {
   "codemirror_mode": {
    "name": "ipython",
    "version": 3
   },
   "file_extension": ".py",
   "mimetype": "text/x-python",
   "name": "python",
   "nbconvert_exporter": "python",
   "pygments_lexer": "ipython3",
   "version": "3.8.12"
  }
 },
 "nbformat": 4,
 "nbformat_minor": 5
}
