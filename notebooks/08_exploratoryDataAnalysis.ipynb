{
 "cells": [
  {
   "cell_type": "code",
   "execution_count": 1,
   "id": "8b0a5bba-452c-4cc8-a437-2da4b6e7b9ca",
   "metadata": {},
   "outputs": [],
   "source": [
    "import numpy as np\n",
    "import pandas as pd\n",
    "import matplotlib.pyplot as plt\n",
    "import seaborn as sns\n",
    "\n",
    "sns.set_theme(style='whitegrid')\n",
    "grey = '#aca7a7'"
   ]
  },
  {
   "cell_type": "code",
   "execution_count": 2,
   "id": "c3ae93d3-0b38-4285-b392-ce6086fcaf8a",
   "metadata": {},
   "outputs": [],
   "source": [
    "df = pd.read_pickle('../data/watch_list_clean.pkl.xz')"
   ]
  },
  {
   "cell_type": "code",
   "execution_count": 3,
   "id": "b3c39aa2-47c4-4648-a9de-dc16eab4b5de",
   "metadata": {},
   "outputs": [],
   "source": [
    "anime = df[['title', 'num_eps', 'ongoing', 'duration', 'studio', 'start_year', \n",
    "            'end_year', 'season', 'avg_rating', 'num_votes', 'synopsis', 'tags', 'content_warnings', \n",
    "            'url']].drop_duplicates(['title', 'url'],\n",
    "                                    ignore_index=True).sort_values('avg_rating', \n",
    "                                                                   ascending=False, \n",
    "                                                                   ignore_index=True).copy(deep=True)\n",
    "anime[['start_year', 'end_year']] = anime[['start_year', 'end_year']].replace('TBA', np.NaN).astype('float')"
   ]
  },
  {
   "cell_type": "code",
   "execution_count": 4,
   "id": "e9265590-8255-4b5d-aa5c-df2952be60a5",
   "metadata": {},
   "outputs": [
    {
     "data": {
      "text/html": [
       "<div>\n",
       "<style scoped>\n",
       "    .dataframe tbody tr th:only-of-type {\n",
       "        vertical-align: middle;\n",
       "    }\n",
       "\n",
       "    .dataframe tbody tr th {\n",
       "        vertical-align: top;\n",
       "    }\n",
       "\n",
       "    .dataframe thead th {\n",
       "        text-align: right;\n",
       "    }\n",
       "</style>\n",
       "<table border=\"1\" class=\"dataframe\">\n",
       "  <thead>\n",
       "    <tr style=\"text-align: right;\">\n",
       "      <th></th>\n",
       "      <th>title</th>\n",
       "      <th>url</th>\n",
       "      <th>username</th>\n",
       "      <th>status</th>\n",
       "      <th>times_watched</th>\n",
       "      <th>user_rating</th>\n",
       "      <th>num_eps</th>\n",
       "      <th>ongoing</th>\n",
       "      <th>duration</th>\n",
       "      <th>studio</th>\n",
       "      <th>start_year</th>\n",
       "      <th>end_year</th>\n",
       "      <th>season</th>\n",
       "      <th>avg_rating</th>\n",
       "      <th>num_votes</th>\n",
       "      <th>synopsis</th>\n",
       "      <th>tags</th>\n",
       "      <th>content_warnings</th>\n",
       "    </tr>\n",
       "  </thead>\n",
       "  <tbody>\n",
       "    <tr>\n",
       "      <th>6621636</th>\n",
       "      <td>Tokyo Ghoul</td>\n",
       "      <td>https://www.anime-planet.com/anime/tokyo-ghoul</td>\n",
       "      <td>YellowTamaki</td>\n",
       "      <td>Watched</td>\n",
       "      <td>1</td>\n",
       "      <td>4.0</td>\n",
       "      <td>12</td>\n",
       "      <td>False</td>\n",
       "      <td>NaN</td>\n",
       "      <td>Pierrot</td>\n",
       "      <td>2014</td>\n",
       "      <td>2014</td>\n",
       "      <td>Summer</td>\n",
       "      <td>4.176</td>\n",
       "      <td>82422</td>\n",
       "      <td>In modern day Tokyo, society lives in fear of ...</td>\n",
       "      <td>[Action, Drama, Horror, Seinen, Human Experime...</td>\n",
       "      <td>[Cannibalism,, Explicit Violence,, Mature Them...</td>\n",
       "    </tr>\n",
       "    <tr>\n",
       "      <th>4177959</th>\n",
       "      <td>Classroom of the Elite</td>\n",
       "      <td>https://www.anime-planet.com/anime/classroom-o...</td>\n",
       "      <td>rhipsi</td>\n",
       "      <td>Stalled</td>\n",
       "      <td>0</td>\n",
       "      <td>3.0</td>\n",
       "      <td>12</td>\n",
       "      <td>False</td>\n",
       "      <td>NaN</td>\n",
       "      <td>Lerche</td>\n",
       "      <td>2017</td>\n",
       "      <td>2017</td>\n",
       "      <td>Summer</td>\n",
       "      <td>4.103</td>\n",
       "      <td>21887</td>\n",
       "      <td>Ayanokouji Kiyotaka has just enrolled at Tokyo...</td>\n",
       "      <td>[Drama, Ecchi, Boarding School, Psychological,...</td>\n",
       "      <td>None</td>\n",
       "    </tr>\n",
       "    <tr>\n",
       "      <th>894032</th>\n",
       "      <td>Tanaka-kun is Always Listless</td>\n",
       "      <td>https://www.anime-planet.com/anime/tanaka-kun-...</td>\n",
       "      <td>Xnot</td>\n",
       "      <td>Watched</td>\n",
       "      <td>1</td>\n",
       "      <td>4.0</td>\n",
       "      <td>12</td>\n",
       "      <td>False</td>\n",
       "      <td>NaN</td>\n",
       "      <td>SILVER LINK.</td>\n",
       "      <td>2016</td>\n",
       "      <td>2016</td>\n",
       "      <td>Spring</td>\n",
       "      <td>4.052</td>\n",
       "      <td>9905</td>\n",
       "      <td>Adapted from the popular web manga series publ...</td>\n",
       "      <td>[Comedy, Slice of Life, Iyashikei, School Life...</td>\n",
       "      <td>None</td>\n",
       "    </tr>\n",
       "    <tr>\n",
       "      <th>2973259</th>\n",
       "      <td>The Quintessential Quintuplets</td>\n",
       "      <td>https://www.anime-planet.com/anime/the-quintes...</td>\n",
       "      <td>AirAnt</td>\n",
       "      <td>Watched</td>\n",
       "      <td>1</td>\n",
       "      <td>5.0</td>\n",
       "      <td>12</td>\n",
       "      <td>False</td>\n",
       "      <td>NaN</td>\n",
       "      <td>Tezuka Productions</td>\n",
       "      <td>2019</td>\n",
       "      <td>2019</td>\n",
       "      <td>Winter</td>\n",
       "      <td>4.046</td>\n",
       "      <td>12552</td>\n",
       "      <td>One day, a poor high school second-year named ...</td>\n",
       "      <td>[Comedy, Drama, Harem, Romance, Shounen, Schoo...</td>\n",
       "      <td>None</td>\n",
       "    </tr>\n",
       "    <tr>\n",
       "      <th>1583162</th>\n",
       "      <td>Hybrid x Heart Magias Academy Ataraxia</td>\n",
       "      <td>https://www.anime-planet.com/anime/hybrid-x-he...</td>\n",
       "      <td>Matas</td>\n",
       "      <td>Watched</td>\n",
       "      <td>1</td>\n",
       "      <td>3.0</td>\n",
       "      <td>12</td>\n",
       "      <td>False</td>\n",
       "      <td>NaN</td>\n",
       "      <td>Production IMS</td>\n",
       "      <td>2016</td>\n",
       "      <td>2016</td>\n",
       "      <td>Summer</td>\n",
       "      <td>3.130</td>\n",
       "      <td>5010</td>\n",
       "      <td>One day, humanity was invaded by another world...</td>\n",
       "      <td>[Action, Ecchi, Fantasy, Harem, Borderline H, ...</td>\n",
       "      <td>[Explicit Sex]</td>\n",
       "    </tr>\n",
       "  </tbody>\n",
       "</table>\n",
       "</div>"
      ],
      "text/plain": [
       "                                          title  \\\n",
       "6621636                             Tokyo Ghoul   \n",
       "4177959                  Classroom of the Elite   \n",
       "894032            Tanaka-kun is Always Listless   \n",
       "2973259          The Quintessential Quintuplets   \n",
       "1583162  Hybrid x Heart Magias Academy Ataraxia   \n",
       "\n",
       "                                                       url      username  \\\n",
       "6621636     https://www.anime-planet.com/anime/tokyo-ghoul  YellowTamaki   \n",
       "4177959  https://www.anime-planet.com/anime/classroom-o...        rhipsi   \n",
       "894032   https://www.anime-planet.com/anime/tanaka-kun-...          Xnot   \n",
       "2973259  https://www.anime-planet.com/anime/the-quintes...        AirAnt   \n",
       "1583162  https://www.anime-planet.com/anime/hybrid-x-he...         Matas   \n",
       "\n",
       "          status  times_watched  user_rating  num_eps  ongoing  duration  \\\n",
       "6621636  Watched              1          4.0       12    False       NaN   \n",
       "4177959  Stalled              0          3.0       12    False       NaN   \n",
       "894032   Watched              1          4.0       12    False       NaN   \n",
       "2973259  Watched              1          5.0       12    False       NaN   \n",
       "1583162  Watched              1          3.0       12    False       NaN   \n",
       "\n",
       "                     studio start_year end_year  season  avg_rating  \\\n",
       "6621636             Pierrot       2014     2014  Summer       4.176   \n",
       "4177959              Lerche       2017     2017  Summer       4.103   \n",
       "894032         SILVER LINK.       2016     2016  Spring       4.052   \n",
       "2973259  Tezuka Productions       2019     2019  Winter       4.046   \n",
       "1583162      Production IMS       2016     2016  Summer       3.130   \n",
       "\n",
       "         num_votes                                           synopsis  \\\n",
       "6621636      82422  In modern day Tokyo, society lives in fear of ...   \n",
       "4177959      21887  Ayanokouji Kiyotaka has just enrolled at Tokyo...   \n",
       "894032        9905  Adapted from the popular web manga series publ...   \n",
       "2973259      12552  One day, a poor high school second-year named ...   \n",
       "1583162       5010  One day, humanity was invaded by another world...   \n",
       "\n",
       "                                                      tags  \\\n",
       "6621636  [Action, Drama, Horror, Seinen, Human Experime...   \n",
       "4177959  [Drama, Ecchi, Boarding School, Psychological,...   \n",
       "894032   [Comedy, Slice of Life, Iyashikei, School Life...   \n",
       "2973259  [Comedy, Drama, Harem, Romance, Shounen, Schoo...   \n",
       "1583162  [Action, Ecchi, Fantasy, Harem, Borderline H, ...   \n",
       "\n",
       "                                          content_warnings  \n",
       "6621636  [Cannibalism,, Explicit Violence,, Mature Them...  \n",
       "4177959                                               None  \n",
       "894032                                                None  \n",
       "2973259                                               None  \n",
       "1583162                                     [Explicit Sex]  "
      ]
     },
     "execution_count": 4,
     "metadata": {},
     "output_type": "execute_result"
    }
   ],
   "source": [
    "df.sample(5)"
   ]
  },
  {
   "cell_type": "code",
   "execution_count": 5,
   "id": "82d9ea84-f78b-4c51-b4ee-d9c0f099f9d8",
   "metadata": {},
   "outputs": [
    {
     "data": {
      "text/html": [
       "<div>\n",
       "<style scoped>\n",
       "    .dataframe tbody tr th:only-of-type {\n",
       "        vertical-align: middle;\n",
       "    }\n",
       "\n",
       "    .dataframe tbody tr th {\n",
       "        vertical-align: top;\n",
       "    }\n",
       "\n",
       "    .dataframe thead th {\n",
       "        text-align: right;\n",
       "    }\n",
       "</style>\n",
       "<table border=\"1\" class=\"dataframe\">\n",
       "  <thead>\n",
       "    <tr style=\"text-align: right;\">\n",
       "      <th></th>\n",
       "      <th>title</th>\n",
       "      <th>num_eps</th>\n",
       "      <th>ongoing</th>\n",
       "      <th>duration</th>\n",
       "      <th>studio</th>\n",
       "      <th>start_year</th>\n",
       "      <th>end_year</th>\n",
       "      <th>season</th>\n",
       "      <th>avg_rating</th>\n",
       "      <th>num_votes</th>\n",
       "      <th>synopsis</th>\n",
       "      <th>tags</th>\n",
       "      <th>content_warnings</th>\n",
       "      <th>url</th>\n",
       "    </tr>\n",
       "  </thead>\n",
       "  <tbody>\n",
       "    <tr>\n",
       "      <th>0</th>\n",
       "      <td>Fruits Basket the Final Season</td>\n",
       "      <td>13</td>\n",
       "      <td>False</td>\n",
       "      <td>NaN</td>\n",
       "      <td>TMS Entertainment</td>\n",
       "      <td>2021.0</td>\n",
       "      <td>2021.0</td>\n",
       "      <td>Spring</td>\n",
       "      <td>4.633</td>\n",
       "      <td>4764</td>\n",
       "      <td>The final arc of Fruits Basket.</td>\n",
       "      <td>[Drama, Fantasy, Romance, Shoujo, Animal Trans...</td>\n",
       "      <td>[Emotional Abuse,, Mature Themes,, Suicide]</td>\n",
       "      <td>https://www.anime-planet.com/anime/fruits-bask...</td>\n",
       "    </tr>\n",
       "    <tr>\n",
       "      <th>1</th>\n",
       "      <td>Fullmetal Alchemist: Brotherhood</td>\n",
       "      <td>64</td>\n",
       "      <td>False</td>\n",
       "      <td>NaN</td>\n",
       "      <td>Bones</td>\n",
       "      <td>2009.0</td>\n",
       "      <td>2010.0</td>\n",
       "      <td>Spring</td>\n",
       "      <td>4.580</td>\n",
       "      <td>102561</td>\n",
       "      <td>The foundation of alchemy is based on the law ...</td>\n",
       "      <td>[Action, Adventure, Drama, Fantasy, Mystery, S...</td>\n",
       "      <td>[Animal Abuse,, Mature Themes,, Violence,, Dom...</td>\n",
       "      <td>https://www.anime-planet.com/anime/fullmetal-a...</td>\n",
       "    </tr>\n",
       "    <tr>\n",
       "      <th>2</th>\n",
       "      <td>Attack on Titan 3rd Season: Part II</td>\n",
       "      <td>10</td>\n",
       "      <td>False</td>\n",
       "      <td>NaN</td>\n",
       "      <td>WIT Studio</td>\n",
       "      <td>2019.0</td>\n",
       "      <td>2019.0</td>\n",
       "      <td>Spring</td>\n",
       "      <td>4.578</td>\n",
       "      <td>39571</td>\n",
       "      <td>The battle to retake Wall Maria begins now! Wi...</td>\n",
       "      <td>[Action, Fantasy, Horror, Shounen, Dark Fantas...</td>\n",
       "      <td>[Cannibalism,, Explicit Violence]</td>\n",
       "      <td>https://www.anime-planet.com/anime/attack-on-t...</td>\n",
       "    </tr>\n",
       "    <tr>\n",
       "      <th>3</th>\n",
       "      <td>Attack on Titan The Final Season</td>\n",
       "      <td>16</td>\n",
       "      <td>False</td>\n",
       "      <td>NaN</td>\n",
       "      <td>MAPPA</td>\n",
       "      <td>2020.0</td>\n",
       "      <td>2021.0</td>\n",
       "      <td>Fall</td>\n",
       "      <td>4.578</td>\n",
       "      <td>25518</td>\n",
       "      <td>It's been four years since the Scout Regiment ...</td>\n",
       "      <td>[Action, Drama, Fantasy, Horror, Shounen, Dark...</td>\n",
       "      <td>[Explicit Violence,, Mature Themes,, Physical ...</td>\n",
       "      <td>https://www.anime-planet.com/anime/attack-on-t...</td>\n",
       "    </tr>\n",
       "    <tr>\n",
       "      <th>4</th>\n",
       "      <td>Jujutsu Kaisen</td>\n",
       "      <td>24</td>\n",
       "      <td>False</td>\n",
       "      <td>NaN</td>\n",
       "      <td>MAPPA</td>\n",
       "      <td>2020.0</td>\n",
       "      <td>2021.0</td>\n",
       "      <td>Fall</td>\n",
       "      <td>4.577</td>\n",
       "      <td>36351</td>\n",
       "      <td>Although Yuji Itadori looks like your average ...</td>\n",
       "      <td>[Action, Horror, Shounen, Curse, Monsters, Sch...</td>\n",
       "      <td>[Explicit Violence]</td>\n",
       "      <td>https://www.anime-planet.com/anime/jujutsu-kaisen</td>\n",
       "    </tr>\n",
       "  </tbody>\n",
       "</table>\n",
       "</div>"
      ],
      "text/plain": [
       "                                 title  num_eps  ongoing  duration  \\\n",
       "0       Fruits Basket the Final Season       13    False       NaN   \n",
       "1     Fullmetal Alchemist: Brotherhood       64    False       NaN   \n",
       "2  Attack on Titan 3rd Season: Part II       10    False       NaN   \n",
       "3     Attack on Titan The Final Season       16    False       NaN   \n",
       "4                       Jujutsu Kaisen       24    False       NaN   \n",
       "\n",
       "              studio  start_year  end_year  season  avg_rating  num_votes  \\\n",
       "0  TMS Entertainment      2021.0    2021.0  Spring       4.633       4764   \n",
       "1              Bones      2009.0    2010.0  Spring       4.580     102561   \n",
       "2         WIT Studio      2019.0    2019.0  Spring       4.578      39571   \n",
       "3              MAPPA      2020.0    2021.0    Fall       4.578      25518   \n",
       "4              MAPPA      2020.0    2021.0    Fall       4.577      36351   \n",
       "\n",
       "                                            synopsis  \\\n",
       "0                    The final arc of Fruits Basket.   \n",
       "1  The foundation of alchemy is based on the law ...   \n",
       "2  The battle to retake Wall Maria begins now! Wi...   \n",
       "3  It's been four years since the Scout Regiment ...   \n",
       "4  Although Yuji Itadori looks like your average ...   \n",
       "\n",
       "                                                tags  \\\n",
       "0  [Drama, Fantasy, Romance, Shoujo, Animal Trans...   \n",
       "1  [Action, Adventure, Drama, Fantasy, Mystery, S...   \n",
       "2  [Action, Fantasy, Horror, Shounen, Dark Fantas...   \n",
       "3  [Action, Drama, Fantasy, Horror, Shounen, Dark...   \n",
       "4  [Action, Horror, Shounen, Curse, Monsters, Sch...   \n",
       "\n",
       "                                    content_warnings  \\\n",
       "0        [Emotional Abuse,, Mature Themes,, Suicide]   \n",
       "1  [Animal Abuse,, Mature Themes,, Violence,, Dom...   \n",
       "2                  [Cannibalism,, Explicit Violence]   \n",
       "3  [Explicit Violence,, Mature Themes,, Physical ...   \n",
       "4                                [Explicit Violence]   \n",
       "\n",
       "                                                 url  \n",
       "0  https://www.anime-planet.com/anime/fruits-bask...  \n",
       "1  https://www.anime-planet.com/anime/fullmetal-a...  \n",
       "2  https://www.anime-planet.com/anime/attack-on-t...  \n",
       "3  https://www.anime-planet.com/anime/attack-on-t...  \n",
       "4  https://www.anime-planet.com/anime/jujutsu-kaisen  "
      ]
     },
     "execution_count": 5,
     "metadata": {},
     "output_type": "execute_result"
    }
   ],
   "source": [
    "anime.head()"
   ]
  },
  {
   "cell_type": "markdown",
   "id": "5d18759b-c1cb-49b3-b444-f8372054bdd8",
   "metadata": {},
   "source": [
    "### `title`/`anime_url`"
   ]
  },
  {
   "cell_type": "code",
   "execution_count": 6,
   "id": "419d24d9-bc4d-4ea5-9828-6bff5286dee6",
   "metadata": {},
   "outputs": [
    {
     "data": {
      "text/plain": [
       "4473"
      ]
     },
     "execution_count": 6,
     "metadata": {},
     "output_type": "execute_result"
    }
   ],
   "source": [
    "df['title'].nunique()"
   ]
  },
  {
   "cell_type": "markdown",
   "id": "fe2448ff-c8a1-4c73-9e1c-d8f666a55805",
   "metadata": {
    "tags": []
   },
   "source": [
    "#### Which shows are the most popular?"
   ]
  },
  {
   "cell_type": "code",
   "execution_count": 7,
   "id": "9f1a806e-04d2-45d2-926d-0ceffe00514a",
   "metadata": {},
   "outputs": [
    {
     "data": {
      "image/png": "[encoded data removed]",
      "text/plain": [
       "<Figure size 1100x660 with 1 Axes>"
      ]
     },
     "metadata": {},
     "output_type": "display_data"
    }
   ],
   "source": [
    "fig = plt.figure(figsize=(10, 6), dpi=110)\n",
    "sns.set_theme(font_scale=1, style='whitegrid')\n",
    "sns.countplot(y='title', data=df, \n",
    "              order=df['title'].value_counts().iloc[:10].index,\n",
    "              color=grey)\n",
    "plt.title('Most Frequently Watched Shows', fontdict={'fontsize':16})\n",
    "plt.xlabel('Frequency', fontdict={'fontsize':14})\n",
    "plt.ylabel('')\n",
    "plt.show()"
   ]
  },
  {
   "cell_type": "markdown",
   "id": "23446b8e-34c9-4b89-82d5-443cbe306d69",
   "metadata": {},
   "source": [
    "### `num_eps`"
   ]
  },
  {
   "cell_type": "code",
   "execution_count": 8,
   "id": "7bd2df47-4164-460c-97f8-b955ba888535",
   "metadata": {},
   "outputs": [
    {
     "data": {
      "text/plain": [
       "min          1.000000\n",
       "median      20.000000\n",
       "mean        35.872569\n",
       "max       2617.000000\n",
       "Name: num_eps, dtype: float64"
      ]
     },
     "execution_count": 8,
     "metadata": {},
     "output_type": "execute_result"
    }
   ],
   "source": [
    "anime['num_eps'].agg(['min', 'median', 'mean', 'max'])"
   ]
  },
  {
   "cell_type": "code",
   "execution_count": 14,
   "id": "0429e3f0-a6d0-4277-85ac-17597b435c94",
   "metadata": {
    "tags": []
   },
   "outputs": [
    {
     "data": {
      "image/png": "[encoded data removed]",
      "text/plain": [
       "<Figure size 1320x660 with 2 Axes>"
      ]
     },
     "metadata": {},
     "output_type": "display_data"
    }
   ],
   "source": [
    "fig, axs = plt.subplots(2, 1, sharex=True, gridspec_kw={\"height_ratios\": (.2, .8)}, figsize=(12, 6), dpi=110)\n",
    "fig.subplots_adjust(wspace=0, hspace=0.05)\n",
    "sns.set_theme(font_scale=1, style='whitegrid')\n",
    "sns.boxplot(x='num_eps', data=anime, color=grey, ax=axs[0])\n",
    "sns.histplot(x='num_eps', data=anime, bins=range(0, 116, 2), color=grey, ax=axs[1])\n",
    "\n",
    "axs[0].set_title('Number of Episodes Distribution', fontdict={'fontsize':18})\n",
    "axs[0].set_xlabel('')\n",
    "axs[0].text(x=76, y=-0.2, s=f\"{anime.query('num_eps > 80').shape[0]}>\", fontdict={'fontsize':10})\n",
    "axs[0].text(x=72.5, y=0.3, s=f\"max: {anime['num_eps'].max()}\", fontdict={'fontsize':10})\n",
    "\n",
    "axs[1].set_xlabel('Number of Episodes', fontdict={'fontsize':14})\n",
    "axs[1].set_ylabel('Frequency', fontdict={'fontsize':14})\n",
    "axs[1].set_xlim(-5, 80)\n",
    "plt.show()"
   ]
  },
  {
   "cell_type": "code",
   "execution_count": 15,
   "id": "7888dd65-813a-40ef-8996-2a1d847ff4dd",
   "metadata": {},
   "outputs": [
    {
     "data": {
      "text/html": [
       "<div>\n",
       "<style scoped>\n",
       "    .dataframe tbody tr th:only-of-type {\n",
       "        vertical-align: middle;\n",
       "    }\n",
       "\n",
       "    .dataframe tbody tr th {\n",
       "        vertical-align: top;\n",
       "    }\n",
       "\n",
       "    .dataframe thead th {\n",
       "        text-align: right;\n",
       "    }\n",
       "</style>\n",
       "<table border=\"1\" class=\"dataframe\">\n",
       "  <thead>\n",
       "    <tr style=\"text-align: right;\">\n",
       "      <th></th>\n",
       "      <th>title</th>\n",
       "      <th>num_eps</th>\n",
       "      <th>ongoing</th>\n",
       "      <th>start_year</th>\n",
       "      <th>end_year</th>\n",
       "    </tr>\n",
       "  </thead>\n",
       "  <tbody>\n",
       "    <tr>\n",
       "      <th>3513</th>\n",
       "      <td>Sazae-san</td>\n",
       "      <td>2617</td>\n",
       "      <td>True</td>\n",
       "      <td>1969.0</td>\n",
       "      <td>NaN</td>\n",
       "    </tr>\n",
       "  </tbody>\n",
       "</table>\n",
       "</div>"
      ],
      "text/plain": [
       "          title  num_eps  ongoing  start_year  end_year\n",
       "3513  Sazae-san     2617     True      1969.0       NaN"
      ]
     },
     "execution_count": 15,
     "metadata": {},
     "output_type": "execute_result"
    }
   ],
   "source": [
    "anime.loc[anime['num_eps'] == anime['num_eps'].max(), ['title', 'num_eps', 'ongoing', 'start_year', 'end_year']]"
   ]
  },
  {
   "cell_type": "code",
   "execution_count": null,
   "id": "3bf86229-386f-4ef8-9da6-4d440ef64917",
   "metadata": {},
   "outputs": [],
   "source": []
  },
  {
   "cell_type": "markdown",
   "id": "7dd6c37e-781c-4f63-ba3a-b617f7bf9af7",
   "metadata": {},
   "source": [
    "### `avg_rating`"
   ]
  },
  {
   "cell_type": "markdown",
   "id": "078ac041-a4eb-4cb4-877d-fdc25c4b21f0",
   "metadata": {},
   "source": [
    "#### Which shows are the highest rated?"
   ]
  },
  {
   "cell_type": "code",
   "execution_count": null,
   "id": "7602ca8c-fa7a-4b99-99af-d4c002dfa3c1",
   "metadata": {},
   "outputs": [],
   "source": [
    "top10 = anime.head(10).copy(deep=True)\n",
    "top10['title'] = top10['title'].astype('string')\n",
    "\n",
    "sns.set_theme(font_scale=1.6, style='whitegrid')\n",
    "sns.catplot(x='avg_rating', y='title', data=top10, kind='bar', height=8, aspect=2.5, color=grey)\n",
    "plt.title('Highest Rated Shows', fontdict={'fontsize':30})\n",
    "plt.xlim(4.44, 4.66)\n",
    "plt.xlabel('Average Rating', fontdict={'fontsize':22})\n",
    "plt.ylabel('')\n",
    "plt.show()"
   ]
  },
  {
   "cell_type": "markdown",
   "id": "ebc58f39-8764-4365-a195-8e8db2129638",
   "metadata": {},
   "source": [
    "### `num_votes`"
   ]
  },
  {
   "cell_type": "markdown",
   "id": "9ba1a6d2-388c-4553-9d74-3a1bebf87e9a",
   "metadata": {},
   "source": [
    "#### Which shows have the highest number of votes?"
   ]
  },
  {
   "cell_type": "code",
   "execution_count": null,
   "id": "16a02dab-d4aa-481d-9c64-42090d722157",
   "metadata": {},
   "outputs": [],
   "source": [
    "top10 = anime.sort_values('num_votes', ascending=False, ignore_index=True).head(10).copy(deep=True)\n",
    "top10['title'] = top10['title'].astype('string')\n",
    "\n",
    "sns.set_theme(font_scale=1.6, style='whitegrid')\n",
    "sns.catplot(x='num_votes', y='title', data=top10, kind='bar', height=8, aspect=2.5, color=grey)\n",
    "plt.title('Highest Rated Shows', fontdict={'fontsize':30})\n",
    "plt.xlabel('Average Rating', fontdict={'fontsize':22})\n",
    "plt.ylabel('')\n",
    "plt.xlim(80000, 160000)\n",
    "plt.show()"
   ]
  },
  {
   "cell_type": "markdown",
   "id": "e62f0fb8-4799-4e7c-93ef-e6173c372106",
   "metadata": {},
   "source": [
    "### `start_year`"
   ]
  },
  {
   "cell_type": "code",
   "execution_count": null,
   "id": "fd581952-2234-4e7e-931d-297a05948617",
   "metadata": {},
   "outputs": [],
   "source": [
    "df['start_year'].agg(['min', 'max'])"
   ]
  },
  {
   "cell_type": "code",
   "execution_count": null,
   "id": "a41527e1-c9bc-47b3-a5b0-762d7a7714a2",
   "metadata": {},
   "outputs": [],
   "source": [
    "sns.set_theme(font_scale=1.4, style='whitegrid')\n",
    "sns.displot(x='start_year', data=anime, bins=[year for year in range(1960, 2022)], kde=True, color=grey, height=8, aspect=2)\n",
    "plt.title('Release Year Distribution', fontdict={'fontsize':26})\n",
    "plt.xlabel('Release Year', fontdict={'fontsize':20})\n",
    "plt.ylabel('Frequency', fontdict={'fontsize':20})\n",
    "plt.show()"
   ]
  },
  {
   "cell_type": "markdown",
   "id": "0da84bc5-239f-4879-84aa-6f2fb3be9c4f",
   "metadata": {},
   "source": [
    "### `username`"
   ]
  },
  {
   "cell_type": "code",
   "execution_count": null,
   "id": "28082fa5-4f85-47c7-b473-6384ce059c66",
   "metadata": {},
   "outputs": [],
   "source": [
    "df['username'].nunique()"
   ]
  },
  {
   "cell_type": "code",
   "execution_count": null,
   "id": "088c17c4-7805-48c2-9c91-c93069d78077",
   "metadata": {},
   "outputs": [],
   "source": [
    "fig = plt.figure(figsize=(8, 6), dpi=120)\n",
    "sns.countplot(y='username', data=df, \n",
    "              order=df['username'].value_counts().iloc[:10].index,\n",
    "              color=grey)\n",
    "plt.xlabel('Frequency')\n",
    "plt.ylabel('')\n",
    "plt.show()"
   ]
  },
  {
   "cell_type": "markdown",
   "id": "5844a53b-2cde-4cc6-982d-903d4d0b4567",
   "metadata": {},
   "source": [
    "### `avg`"
   ]
  },
  {
   "cell_type": "code",
   "execution_count": null,
   "id": "71030465-2557-49ee-a66a-df10a39f50c8",
   "metadata": {},
   "outputs": [],
   "source": [
    "df['avg'].agg(['min', 'max'])"
   ]
  },
  {
   "cell_type": "code",
   "execution_count": null,
   "id": "80078545-8267-4db8-be75-053dae6d6918",
   "metadata": {},
   "outputs": [],
   "source": [
    "fig = plt.figure(figsize=(8, 6), dpi=120)\n",
    "sns.kdeplot(x=df['avg'].astype('float'), bw_adjust=3, color=grey)\n",
    "plt.show()"
   ]
  },
  {
   "cell_type": "markdown",
   "id": "1777fbbb-4b18-4198-b584-89d19eb3bf4c",
   "metadata": {},
   "source": [
    "### `status`"
   ]
  },
  {
   "cell_type": "code",
   "execution_count": null,
   "id": "d59dc6fe-6f3d-4115-86eb-d44213dc0130",
   "metadata": {},
   "outputs": [],
   "source": [
    "fig = plt.figure(figsize=(8, 6), dpi=120)\n",
    "sns.countplot(x='status', data=df, color=grey)\n",
    "plt.show()"
   ]
  },
  {
   "cell_type": "code",
   "execution_count": null,
   "id": "472c39b2-e029-46ce-ab0e-a2c1912974ba",
   "metadata": {},
   "outputs": [],
   "source": [
    "df['status'].value_counts()"
   ]
  },
  {
   "cell_type": "markdown",
   "id": "0f7bea45-51a8-49ad-a21d-8ddb0aa70b8b",
   "metadata": {},
   "source": [
    "### `total_eps`"
   ]
  },
  {
   "cell_type": "code",
   "execution_count": null,
   "id": "491940b1-38c9-4254-82ae-bb77a5efbbc6",
   "metadata": {},
   "outputs": [],
   "source": [
    "df['total_eps'].agg(['min', 'max'])"
   ]
  },
  {
   "cell_type": "code",
   "execution_count": null,
   "id": "761b9d1b-4146-4a4b-a7e5-e062bff4c273",
   "metadata": {},
   "outputs": [],
   "source": [
    "fig = plt.figure(figsize=(8, 6), dpi=120)\n",
    "sns.kdeplot(x=df.loc[df['total_eps'] <= 100, 'total_eps'], bw_adjust=3, color=grey)\n",
    "plt.show()"
   ]
  },
  {
   "cell_type": "code",
   "execution_count": null,
   "id": "4331ceeb-4715-4287-85f9-34a2021766d3",
   "metadata": {},
   "outputs": [],
   "source": [
    "df['total_eps'].value_counts().head(15)"
   ]
  },
  {
   "cell_type": "markdown",
   "id": "2448d4d6-17d0-4de2-b901-2da3a7c5f2f3",
   "metadata": {},
   "source": [
    "### `times_watched`"
   ]
  },
  {
   "cell_type": "code",
   "execution_count": null,
   "id": "88ed442b-5fce-42be-9f23-5cd0e72e9f25",
   "metadata": {},
   "outputs": [],
   "source": [
    "df['times_watched'].agg(['min', 'max'])"
   ]
  },
  {
   "cell_type": "code",
   "execution_count": null,
   "id": "85222d62-2f65-4f6a-918b-aa4184c1620a",
   "metadata": {},
   "outputs": [],
   "source": [
    "fig = plt.figure(figsize=(8, 6), dpi=120)\n",
    "sns.countplot(x=df.loc[df['times_watched'] <= 10, 'times_watched'], color=grey)\n",
    "plt.show()"
   ]
  },
  {
   "cell_type": "markdown",
   "id": "19d52c55-e87c-4004-9560-dbe0c8ea936f",
   "metadata": {},
   "source": [
    "### `rating`"
   ]
  },
  {
   "cell_type": "code",
   "execution_count": null,
   "id": "2bf06463-1345-4958-88ea-a95d10b6f4c9",
   "metadata": {},
   "outputs": [],
   "source": [
    "df['rating'].agg(['min', 'max'])"
   ]
  },
  {
   "cell_type": "code",
   "execution_count": null,
   "id": "946e51e1-a9ec-42e7-a8f9-f828d751ff99",
   "metadata": {},
   "outputs": [],
   "source": [
    "fig = plt.figure(figsize=(8, 6), dpi=120)\n",
    "sns.countplot(x=df['rating'], color=grey)\n",
    "plt.show()"
   ]
  },
  {
   "cell_type": "markdown",
   "id": "a03a868e-46b3-4d99-a337-f440e14064d4",
   "metadata": {},
   "source": [
    "### Only watched"
   ]
  },
  {
   "cell_type": "code",
   "execution_count": null,
   "id": "b9ce1232-c24f-47de-bac1-4aff0e18372b",
   "metadata": {},
   "outputs": [],
   "source": [
    "fig = plt.figure(figsize=(8, 6), dpi=120)\n",
    "sns.countplot(y='username', data=df, \n",
    "              order=df.loc[df['status'] == 'Watched', 'username'].value_counts().iloc[:10].index,\n",
    "              color=grey)\n",
    "plt.xlabel('Frequency')\n",
    "plt.ylabel('')\n",
    "plt.show()"
   ]
  },
  {
   "cell_type": "markdown",
   "id": "545ef61d-b5e3-4f99-b732-86142818fcec",
   "metadata": {},
   "source": [
    "Wow... exact same users in the same order"
   ]
  }
 ],
 "metadata": {
  "kernelspec": {
   "display_name": "Python 3",
   "language": "python",
   "name": "python3"
  },
  "language_info": {
   "codemirror_mode": {
    "name": "ipython",
    "version": 3
   },
   "file_extension": ".py",
   "mimetype": "text/x-python",
   "name": "python",
   "nbconvert_exporter": "python",
   "pygments_lexer": "ipython3",
   "version": "3.8.10"
  }
 },
 "nbformat": 4,
 "nbformat_minor": 5
}
