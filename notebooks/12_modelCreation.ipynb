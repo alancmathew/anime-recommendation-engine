{
 "cells": [
  {
   "cell_type": "code",
   "execution_count": 1,
   "id": "7e38bcda-3ff5-429a-ad11-44b281d7ebbb",
   "metadata": {},
   "outputs": [],
   "source": [
    "import numpy as np\n",
    "import pandas as pd\n",
    "import matplotlib.pyplot as plt\n",
    "import seaborn as sns\n",
    "import scipy as sp\n",
    "from sklearn.metrics.pairwise import cosine_similarity\n",
    "from sklearn.base import RegressorMixin\n",
    "from sklearn.decomposition import TruncatedSVD\n",
    "from tqdm import tqdm\n",
    "from itertools import combinations\n",
    "import math\n",
    "from multiprocessing import Pool\n",
    "import warnings\n",
    "from functools import partial\n",
    "from pandarallel import pandarallel"
   ]
  },
  {
   "cell_type": "code",
   "execution_count": 2,
   "id": "b4f9de94-a4e8-4c0b-90b9-4f94436c8a5e",
   "metadata": {},
   "outputs": [
    {
     "name": "stdout",
     "output_type": "stream",
     "text": [
      "INFO: Pandarallel will run on 16 workers.\n",
      "INFO: Pandarallel will use Memory file system to transfer data between the main process and workers.\n"
     ]
    }
   ],
   "source": [
    "np.random.seed(42)\n",
    "tqdm.pandas()\n",
    "pandarallel.initialize(progress_bar=True)\n",
    "warnings.filterwarnings(\"ignore\", category=RuntimeWarning)"
   ]
  },
  {
   "cell_type": "code",
   "execution_count": 3,
   "id": "33f313b1-8e4a-4782-bbb3-c4378158013a",
   "metadata": {},
   "outputs": [],
   "source": [
    "def chunker(seq, size):\n",
    "    return (seq[pos:pos + size] for pos in range(0, len(seq), size))"
   ]
  },
  {
   "cell_type": "code",
   "execution_count": 4,
   "id": "d0fba32d-a882-4a04-8854-f633acbd3dee",
   "metadata": {},
   "outputs": [],
   "source": [
    "def parallelize(groups, func):\n",
    "    num_workers = 16\n",
    "    with Pool(num_workers) as p:\n",
    "        return pd.concat(p.map(func, [group for name, group in groups])).sort_index()"
   ]
  },
  {
   "cell_type": "code",
   "execution_count": 5,
   "id": "4415cd9c-e6a7-4b33-8731-b4d366c65df1",
   "metadata": {},
   "outputs": [],
   "source": [
    "df = pd.read_pickle('../data/train.pkl.xz')\n",
    "anime = pd.read_pickle('../data/anime.pkl.xz')\n",
    "\n",
    "# user_sim_df = pd.read_pickle('../data/user_sim.pkl')\n",
    "# anime_sim_df = pd.read_pickle('../data/anime_sim.pkl')"
   ]
  },
  {
   "cell_type": "code",
   "execution_count": 6,
   "id": "52700f9f-6fbd-4d4d-be0c-0dad76b46472",
   "metadata": {},
   "outputs": [],
   "source": [
    "validate_full = pd.read_pickle('../data/validate.pkl.xz')"
   ]
  },
  {
   "cell_type": "code",
   "execution_count": 7,
   "id": "30e15d57-2381-4da5-8dad-e1fa7e2a0d01",
   "metadata": {},
   "outputs": [],
   "source": [
    "keeper_mask = pd.DataFrame(np.random.uniform(size=validate_full.shape), \n",
    "                           index=validate_full.index, \n",
    "                           columns=validate_full.columns).applymap(lambda x: x > 0.75)"
   ]
  },
  {
   "cell_type": "code",
   "execution_count": 8,
   "id": "e281143a-8cf4-49d3-90ce-5702222e12f3",
   "metadata": {},
   "outputs": [],
   "source": [
    "validate_masked = validate_full.mask(keeper_mask)"
   ]
  },
  {
   "cell_type": "code",
   "execution_count": 9,
   "id": "bb0a7eaf-9b15-478a-9717-2a6b58c1d240",
   "metadata": {},
   "outputs": [],
   "source": [
    "validate_actual = validate_full.mask(~keeper_mask)"
   ]
  },
  {
   "cell_type": "markdown",
   "id": "8b6e1e6e-0baf-47c4-9ab0-fe1aeb855d1f",
   "metadata": {},
   "source": [
    "Remove any users who rated less than 10 shows"
   ]
  },
  {
   "cell_type": "code",
   "execution_count": 10,
   "id": "8e0d1a62-cfb5-4bbb-9ed4-6f80723ec7f7",
   "metadata": {},
   "outputs": [],
   "source": [
    "df = df.loc[df.notnull().sum(axis=1) >= 10].copy(deep=True)"
   ]
  },
  {
   "cell_type": "code",
   "execution_count": 11,
   "id": "c58f4f04-bd07-4614-a910-81da3c5572b1",
   "metadata": {},
   "outputs": [
    {
     "data": {
      "text/html": [
       "<div>\n",
       "<style scoped>\n",
       "    .dataframe tbody tr th:only-of-type {\n",
       "        vertical-align: middle;\n",
       "    }\n",
       "\n",
       "    .dataframe tbody tr th {\n",
       "        vertical-align: top;\n",
       "    }\n",
       "\n",
       "    .dataframe thead th {\n",
       "        text-align: right;\n",
       "    }\n",
       "</style>\n",
       "<table border=\"1\" class=\"dataframe\">\n",
       "  <thead>\n",
       "    <tr style=\"text-align: right;\">\n",
       "      <th>title</th>\n",
       "      <th>.hack//Legend Of The Twilight</th>\n",
       "      <th>.hack//Roots</th>\n",
       "      <th>.hack//SIGN</th>\n",
       "      <th>009-1</th>\n",
       "      <th>07-Ghost</th>\n",
       "      <th>100 Sleeping Princes &amp; the Kingdom of Dreams</th>\n",
       "      <th>100% Pascal-sensei (2017)</th>\n",
       "      <th>11eyes</th>\n",
       "      <th>12-Sai: Chiccha na Mune no Tokimeki</th>\n",
       "      <th>12-Sai: Chiccha na Mune no Tokimeki 2</th>\n",
       "      <th>...</th>\n",
       "      <th>gdgd Fairies</th>\n",
       "      <th>gdgd Fairies 2</th>\n",
       "      <th>gdgd men's party</th>\n",
       "      <th>number24</th>\n",
       "      <th>revisions</th>\n",
       "      <th>sola</th>\n",
       "      <th>www.Working!!</th>\n",
       "      <th>xxxHOLiC</th>\n",
       "      <th>xxxHOLiC Kei</th>\n",
       "      <th>ēlDLIVE</th>\n",
       "    </tr>\n",
       "    <tr>\n",
       "      <th>username</th>\n",
       "      <th></th>\n",
       "      <th></th>\n",
       "      <th></th>\n",
       "      <th></th>\n",
       "      <th></th>\n",
       "      <th></th>\n",
       "      <th></th>\n",
       "      <th></th>\n",
       "      <th></th>\n",
       "      <th></th>\n",
       "      <th></th>\n",
       "      <th></th>\n",
       "      <th></th>\n",
       "      <th></th>\n",
       "      <th></th>\n",
       "      <th></th>\n",
       "      <th></th>\n",
       "      <th></th>\n",
       "      <th></th>\n",
       "      <th></th>\n",
       "      <th></th>\n",
       "    </tr>\n",
       "  </thead>\n",
       "  <tbody>\n",
       "    <tr>\n",
       "      <th>Varelaw</th>\n",
       "      <td>NaN</td>\n",
       "      <td>NaN</td>\n",
       "      <td>NaN</td>\n",
       "      <td>NaN</td>\n",
       "      <td>NaN</td>\n",
       "      <td>NaN</td>\n",
       "      <td>NaN</td>\n",
       "      <td>NaN</td>\n",
       "      <td>NaN</td>\n",
       "      <td>NaN</td>\n",
       "      <td>...</td>\n",
       "      <td>NaN</td>\n",
       "      <td>NaN</td>\n",
       "      <td>NaN</td>\n",
       "      <td>NaN</td>\n",
       "      <td>NaN</td>\n",
       "      <td>NaN</td>\n",
       "      <td>NaN</td>\n",
       "      <td>NaN</td>\n",
       "      <td>NaN</td>\n",
       "      <td>NaN</td>\n",
       "    </tr>\n",
       "    <tr>\n",
       "      <th>Hayomi</th>\n",
       "      <td>NaN</td>\n",
       "      <td>NaN</td>\n",
       "      <td>NaN</td>\n",
       "      <td>NaN</td>\n",
       "      <td>NaN</td>\n",
       "      <td>NaN</td>\n",
       "      <td>NaN</td>\n",
       "      <td>NaN</td>\n",
       "      <td>NaN</td>\n",
       "      <td>NaN</td>\n",
       "      <td>...</td>\n",
       "      <td>NaN</td>\n",
       "      <td>NaN</td>\n",
       "      <td>NaN</td>\n",
       "      <td>NaN</td>\n",
       "      <td>NaN</td>\n",
       "      <td>NaN</td>\n",
       "      <td>NaN</td>\n",
       "      <td>NaN</td>\n",
       "      <td>NaN</td>\n",
       "      <td>NaN</td>\n",
       "    </tr>\n",
       "    <tr>\n",
       "      <th>fudizilla</th>\n",
       "      <td>NaN</td>\n",
       "      <td>NaN</td>\n",
       "      <td>NaN</td>\n",
       "      <td>NaN</td>\n",
       "      <td>NaN</td>\n",
       "      <td>NaN</td>\n",
       "      <td>NaN</td>\n",
       "      <td>NaN</td>\n",
       "      <td>0.416939</td>\n",
       "      <td>0.286725</td>\n",
       "      <td>...</td>\n",
       "      <td>NaN</td>\n",
       "      <td>NaN</td>\n",
       "      <td>NaN</td>\n",
       "      <td>NaN</td>\n",
       "      <td>NaN</td>\n",
       "      <td>NaN</td>\n",
       "      <td>0.559873</td>\n",
       "      <td>NaN</td>\n",
       "      <td>NaN</td>\n",
       "      <td>NaN</td>\n",
       "    </tr>\n",
       "    <tr>\n",
       "      <th>lindatjuh</th>\n",
       "      <td>NaN</td>\n",
       "      <td>NaN</td>\n",
       "      <td>NaN</td>\n",
       "      <td>NaN</td>\n",
       "      <td>NaN</td>\n",
       "      <td>NaN</td>\n",
       "      <td>NaN</td>\n",
       "      <td>NaN</td>\n",
       "      <td>NaN</td>\n",
       "      <td>NaN</td>\n",
       "      <td>...</td>\n",
       "      <td>NaN</td>\n",
       "      <td>NaN</td>\n",
       "      <td>NaN</td>\n",
       "      <td>NaN</td>\n",
       "      <td>NaN</td>\n",
       "      <td>NaN</td>\n",
       "      <td>NaN</td>\n",
       "      <td>NaN</td>\n",
       "      <td>NaN</td>\n",
       "      <td>NaN</td>\n",
       "    </tr>\n",
       "    <tr>\n",
       "      <th>Spiderwebzz</th>\n",
       "      <td>NaN</td>\n",
       "      <td>NaN</td>\n",
       "      <td>NaN</td>\n",
       "      <td>NaN</td>\n",
       "      <td>NaN</td>\n",
       "      <td>NaN</td>\n",
       "      <td>NaN</td>\n",
       "      <td>NaN</td>\n",
       "      <td>NaN</td>\n",
       "      <td>NaN</td>\n",
       "      <td>...</td>\n",
       "      <td>NaN</td>\n",
       "      <td>NaN</td>\n",
       "      <td>NaN</td>\n",
       "      <td>NaN</td>\n",
       "      <td>NaN</td>\n",
       "      <td>NaN</td>\n",
       "      <td>NaN</td>\n",
       "      <td>NaN</td>\n",
       "      <td>NaN</td>\n",
       "      <td>NaN</td>\n",
       "    </tr>\n",
       "  </tbody>\n",
       "</table>\n",
       "<p>5 rows × 4489 columns</p>\n",
       "</div>"
      ],
      "text/plain": [
       "title        .hack//Legend Of The Twilight  .hack//Roots  .hack//SIGN  009-1  \\\n",
       "username                                                                       \n",
       "Varelaw                                NaN           NaN          NaN    NaN   \n",
       "Hayomi                                 NaN           NaN          NaN    NaN   \n",
       "fudizilla                              NaN           NaN          NaN    NaN   \n",
       "lindatjuh                              NaN           NaN          NaN    NaN   \n",
       "Spiderwebzz                            NaN           NaN          NaN    NaN   \n",
       "\n",
       "title        07-Ghost  100 Sleeping Princes & the Kingdom of Dreams  \\\n",
       "username                                                              \n",
       "Varelaw           NaN                                           NaN   \n",
       "Hayomi            NaN                                           NaN   \n",
       "fudizilla         NaN                                           NaN   \n",
       "lindatjuh         NaN                                           NaN   \n",
       "Spiderwebzz       NaN                                           NaN   \n",
       "\n",
       "title        100% Pascal-sensei (2017)  11eyes  \\\n",
       "username                                         \n",
       "Varelaw                            NaN     NaN   \n",
       "Hayomi                             NaN     NaN   \n",
       "fudizilla                          NaN     NaN   \n",
       "lindatjuh                          NaN     NaN   \n",
       "Spiderwebzz                        NaN     NaN   \n",
       "\n",
       "title        12-Sai: Chiccha na Mune no Tokimeki  \\\n",
       "username                                           \n",
       "Varelaw                                      NaN   \n",
       "Hayomi                                       NaN   \n",
       "fudizilla                               0.416939   \n",
       "lindatjuh                                    NaN   \n",
       "Spiderwebzz                                  NaN   \n",
       "\n",
       "title        12-Sai: Chiccha na Mune no Tokimeki 2  ...  gdgd Fairies  \\\n",
       "username                                            ...                 \n",
       "Varelaw                                        NaN  ...           NaN   \n",
       "Hayomi                                         NaN  ...           NaN   \n",
       "fudizilla                                 0.286725  ...           NaN   \n",
       "lindatjuh                                      NaN  ...           NaN   \n",
       "Spiderwebzz                                    NaN  ...           NaN   \n",
       "\n",
       "title        gdgd Fairies 2  gdgd men's party  number24  revisions  sola  \\\n",
       "username                                                                   \n",
       "Varelaw                 NaN               NaN       NaN        NaN   NaN   \n",
       "Hayomi                  NaN               NaN       NaN        NaN   NaN   \n",
       "fudizilla               NaN               NaN       NaN        NaN   NaN   \n",
       "lindatjuh               NaN               NaN       NaN        NaN   NaN   \n",
       "Spiderwebzz             NaN               NaN       NaN        NaN   NaN   \n",
       "\n",
       "title        www.Working!!  xxxHOLiC  xxxHOLiC Kei  ēlDLIVE  \n",
       "username                                                     \n",
       "Varelaw                NaN       NaN           NaN      NaN  \n",
       "Hayomi                 NaN       NaN           NaN      NaN  \n",
       "fudizilla         0.559873       NaN           NaN      NaN  \n",
       "lindatjuh              NaN       NaN           NaN      NaN  \n",
       "Spiderwebzz            NaN       NaN           NaN      NaN  \n",
       "\n",
       "[5 rows x 4489 columns]"
      ]
     },
     "execution_count": 11,
     "metadata": {},
     "output_type": "execute_result"
    }
   ],
   "source": [
    "df.head()"
   ]
  },
  {
   "cell_type": "code",
   "execution_count": 12,
   "id": "24c8cc68-b7f9-4799-96ea-eeb26203e2a9",
   "metadata": {},
   "outputs": [],
   "source": [
    "df = df.fillna(0)"
   ]
  },
  {
   "cell_type": "code",
   "execution_count": 13,
   "id": "22e6a9bc-5add-4443-9699-ab38943ed73d",
   "metadata": {},
   "outputs": [],
   "source": [
    "sparse = sp.sparse.csr_matrix(df.values, dtype=np.float32)\n",
    "\n",
    "def similarity_calculator(data):\n",
    "    return pd.DataFrame(cosine_similarity(sparse, data), index=df.index, columns=data.index).astype(np.float16)\n",
    "\n",
    "chunksize = int(validate_masked.shape[0]/14)+1\n",
    "chunks = chunker(validate_masked.fillna(0), chunksize)\n",
    "with Pool(14) as p:\n",
    "    similarity_matrix = pd.concat(p.map(similarity_calculator, chunks), axis=1)"
   ]
  },
  {
   "cell_type": "code",
   "execution_count": 14,
   "id": "0950d41b-56bb-4608-a06b-452649044355",
   "metadata": {},
   "outputs": [],
   "source": [
    "similarity_matrix.to_pickle('../data/similarity_matrix.pkl')"
   ]
  },
  {
   "cell_type": "code",
   "execution_count": 15,
   "id": "fc11e126-70a7-45b9-a736-408bf8332741",
   "metadata": {},
   "outputs": [],
   "source": [
    "del chunks"
   ]
  },
  {
   "cell_type": "code",
   "execution_count": 29,
   "id": "8861b1a1-bb91-40d6-84f5-946386965f70",
   "metadata": {},
   "outputs": [],
   "source": [
    "def n_similar_users(column, n=50):\n",
    "    return pd.Series(column.sort_values(ascending=False).head(n).index, name=column.name)\n",
    "\n",
    "with Pool(14) as p:\n",
    "    most_similar_users = pd.concat(p.map(n_similar_users, (tup[1] for tup in similarity_matrix.items())), axis=1)"
   ]
  },
  {
   "cell_type": "code",
   "execution_count": null,
   "id": "69c4416d-8faa-44d2-9695-ebd771915b23",
   "metadata": {},
   "outputs": [],
   "source": [
    "most_similar_users.to_pickle('../data/most_similar_users.pkl')"
   ]
  },
  {
   "cell_type": "code",
   "execution_count": null,
   "id": "a42acc27-8906-4ad4-a3fe-9b2577dba1f3",
   "metadata": {},
   "outputs": [],
   "source": [
    "df = df.replace(0, np.NaN)\n",
    "most_similar_users = pd.read_pickle('../data/most_similar_users.pkl')\n",
    "\n",
    "def get_recommendations(username):\n",
    "    sim_users_data = df.loc[most_similar_users[username].values]\n",
    "\n",
    "    sim_users_data = sim_users_data.loc[:,sim_users_data.notnull().any(axis=0)]\n",
    "\n",
    "    watch_data = validate_masked.loc[username]\n",
    "\n",
    "    user_watched = watch_data.loc[watch_data.notnull()].index\n",
    "\n",
    "    suggestables = set(sim_users_data.columns).difference(user_watched)\n",
    "\n",
    "    sim_users_data = sim_users_data[suggestables].head(50)\n",
    "\n",
    "    priors = df[sim_users_data.columns].mean()\n",
    "\n",
    "    sim_users_data = pd.concat([pd.DataFrame(priors, columns=['average']).T, sim_users_data], axis=0)\n",
    "\n",
    "    prior_weight = 1.0\n",
    "    incremental_base = 1.01\n",
    "    user_weights = [prior_weight] + [incremental_base**x for x in range(sim_users_data.shape[0]-1, 0, -1)]\n",
    "\n",
    "    weighted_sum = sim_users_data.mul(user_weights, axis=0).sum()\n",
    "\n",
    "    anime_weights = sim_users_data.notnull().astype('int').mul(user_weights, axis=0).sum()\n",
    "\n",
    "    pred_data = (weighted_sum / anime_weights).sort_values(ascending=False)\n",
    "    \n",
    "    return pred_data\n",
    "\n",
    "with Pool(14) as p:\n",
    "    all_recs = []\n",
    "    for recs in tqdm(p.imap(get_recommendations, validate_masked.index), total=validate_masked.shape[0]):\n",
    "        all_recs.append(recs)\n",
    "        \n",
    "validate_pred = pd.DataFrame(all_recs, index=validate_masked.index)\n",
    "\n",
    "validate_pred.to_pickle('../data/validation_recs.pkl')"
   ]
  },
  {
   "cell_type": "code",
   "execution_count": null,
   "id": "4d11f1b1-340b-414a-93dd-4a3fe63ea6c7",
   "metadata": {},
   "outputs": [],
   "source": [
    "validate_pred = pd.read_pickle('../data/validation_recs.pkl')"
   ]
  },
  {
   "cell_type": "code",
   "execution_count": null,
   "id": "62bbf7fa-6f6e-45b2-b7c2-d7637c117743",
   "metadata": {},
   "outputs": [],
   "source": [
    "rmse = np.sqrt(((validate_pred - validate_actual)**2).mean(axis=1))"
   ]
  },
  {
   "cell_type": "code",
   "execution_count": null,
   "id": "79bf1ffc-fc82-4379-8597-ed105565a9e9",
   "metadata": {},
   "outputs": [],
   "source": [
    "rmse.mean()"
   ]
  },
  {
   "cell_type": "markdown",
   "id": "6e256c3b-8481-4a51-983b-03a6eb96e890",
   "metadata": {},
   "source": [
    "### Model"
   ]
  },
  {
   "cell_type": "code",
   "execution_count": null,
   "id": "ac185a58-10d0-4c25-822b-65ef3b608fd0",
   "metadata": {
    "jupyter": {
     "source_hidden": true
    },
    "tags": []
   },
   "outputs": [],
   "source": [
    "class User:\n",
    "    def __init__(self, watch_data, true_data):\n",
    "        self.username = watch_data.name\n",
    "        self.watch_data = watch_data\n",
    "        self.similar_users = None\n",
    "        self.true_data = true_data\n",
    "        \n",
    "    def get_similar_users(self, min_common=10, sortby='cosine_sim', asc=False, num=50):\n",
    "        # username = userdata.name if username is None else username\n",
    "        # userdata = df.loc[username] if userdata is None else userdata\n",
    "\n",
    "#         common_booled = np.bitwise_and(df == 0, self.watch_data == 0)\n",
    "#         num_common = common_booled.sum(axis=1)\n",
    "\n",
    "#         if sortby == 'corr':\n",
    "#             tmp = df.T\n",
    "#             res = tmp.corrwith(self.watch_data)\n",
    "\n",
    "#         elif sortby == 'dist':\n",
    "#             tmp = df.fillna(0)\n",
    "\n",
    "#             dist = np.sum(tmp.subtract(tmp.loc[self.username], axis=1) ** 2, axis=1)\n",
    "#             dist = dist / num_common\n",
    "#             res = dist.loc[dist != 0]\n",
    "\n",
    "#         elif sortby == 'cosine_sim':\n",
    "        tmp = df.fillna(0)\n",
    "        sparse = sp.sparse.csr_matrix(tmp.values, dtype=np.float32)\n",
    "        res = cosine_similarity(sparse, pd.DataFrame([validate.iloc[0]]).fillna(0))\n",
    "\n",
    "        res = pd.Series(res.flatten(), \n",
    "                        index=df.index).drop(self.username, \n",
    "                                             errors='ignore').sort_values(ascending=False)\n",
    "\n",
    "        data = pd.DataFrame({sortby: res, 'num_common': num_common})\n",
    "        data = data.query(f'username != \"{self.username}\" and num_common >= {min_common}')\n",
    "        data = data.sort_values(sortby, ascending=asc).head(num)\n",
    "        \n",
    "        return data.index\n",
    "    \n",
    "    def get_recommendations(self, num=10, prior_weight=1.0, incremental_base=1.01):\n",
    "        \n",
    "        if self.similar_users is None:\n",
    "            self.similar_users = self.get_similar_users()\n",
    "            \n",
    "        sim_users_data = df.loc[self.similar_users]\n",
    "        sim_users_data = sim_users_data.loc[:,sim_users_data.notnull().any(axis=0)]\n",
    "        user_watched = self.watch_data.loc[self.watch_data.notnull()].index\n",
    "        diff = set(sim_users_data.columns).difference(user_watched)\n",
    "        sim_users_data = sim_users_data[diff].head(num)\n",
    "    \n",
    "        priors = df[sim_users_data.columns].mean()\n",
    "        sim_users_data = pd.concat([pd.DataFrame(priors, columns=['average']).T, sim_users_data], axis=0)\n",
    "        user_weights = [prior_weight] + [incremental_base**x for x in range(sim_users_data.shape[0]-1, 0, -1)]\n",
    "        weighted_sum = sim_users_data.mul(user_weights, axis=0).sum()\n",
    "        anime_weights = sim_users_data.notnull().astype('int').mul(user_weights, axis=0).sum()\n",
    "        self.pred_data = (weighted_sum / anime_weights).sort_values(ascending=False)\n",
    "        \n",
    "        # self.recs = sim_users_data.mean().sort_values(ascending=False)\n",
    "        \n",
    "        return self.pred_data\n",
    "    \n",
    "    def get_rmse(self):\n",
    "        true_data = self.true_data\n",
    "        pred_data = self.pred_data\n",
    "        \n",
    "        true_data = true_data[true_data.notnull()]\n",
    "        watched_intersection = set(true_data.index).intersection(pred_data.index)\n",
    "        true_ratings = true_data[watched_intersection]\n",
    "        pred_ratings = pred_data[watched_intersection]\n",
    "        return np.sqrt(np.mean((true_ratings - pred_ratings)**2))"
   ]
  },
  {
   "cell_type": "code",
   "execution_count": null,
   "id": "a61ba0e1-68e6-4619-b9cc-efe9f726470f",
   "metadata": {
    "jupyter": {
     "source_hidden": true
    },
    "tags": []
   },
   "outputs": [],
   "source": [
    "def evaluate_model(idx):\n",
    "    user = User(watch_data=validate.iloc[idx], true_data=validate_true.iloc[idx])\n",
    "    _ = user.get_recommendations()\n",
    "    return user.get_rmse()"
   ]
  },
  {
   "cell_type": "code",
   "execution_count": null,
   "id": "25d95c2f-7fe7-47a6-bb2f-6e32def65920",
   "metadata": {
    "jupyter": {
     "source_hidden": true
    },
    "tags": []
   },
   "outputs": [],
   "source": [
    "with Pool(16) as p:\n",
    "    rmses = pd.Series(p.map(evaluate_model, range(0, 16)), index=range(0, 16))"
   ]
  },
  {
   "cell_type": "code",
   "execution_count": null,
   "id": "04a7aca4-b0e9-4c03-995f-397acc97715e",
   "metadata": {
    "jupyter": {
     "source_hidden": true
    },
    "tags": []
   },
   "outputs": [],
   "source": [
    "rmses.mean()"
   ]
  },
  {
   "cell_type": "markdown",
   "id": "9cc65908-326e-41e0-aab4-29fd0d6b04f8",
   "metadata": {
    "jp-MarkdownHeadingCollapsed": true,
    "tags": []
   },
   "source": [
    "### Hidden"
   ]
  },
  {
   "cell_type": "code",
   "execution_count": null,
   "id": "bb0a8f59-84b4-4547-a3b3-4d99c7a08bd3",
   "metadata": {},
   "outputs": [],
   "source": [
    "def get_similar_users(username=None, userdata=None, df=df, min_common=10, sortby='cosine_sim', asc=False, num_sim_users=50):    \n",
    "    username = userdata.name if username is None else username\n",
    "    userdata = df.loc[username] if userdata is None else userdata\n",
    "    \n",
    "    common_booled = np.bitwise_and(df.drop(username, axis=0, errors='ignore').notnull(), userdata.notnull())\n",
    "    num_common = common_booled.sum(axis=1)\n",
    "    \n",
    "    if sortby == 'corr':\n",
    "        tmp = df.T\n",
    "        res = tmp.corrwith(userdata)\n",
    "    \n",
    "    elif sortby == 'dist':\n",
    "        tmp = df.fillna(0)\n",
    "\n",
    "        dist = np.sum(tmp.subtract(tmp.loc[username], axis=1) ** 2, axis=1)\n",
    "        dist = dist / num_common\n",
    "        res = dist.loc[dist != 0]\n",
    "        \n",
    "    elif sortby == 'cosine_sim':\n",
    "        tmp = df.fillna(0)\n",
    "        sparse = sp.sparse.csr_matrix(tmp.values, dtype=np.float32)\n",
    "        res = cosine_similarity(sparse, np.array(userdata.fillna(0)).reshape(1, -1))\n",
    "\n",
    "        res = pd.Series(res.flatten(), index=df.index).drop(username, errors='ignore').sort_values(ascending=False)\n",
    "    \n",
    "    elif sortby == 'num_common':\n",
    "        res = []\n",
    "    \n",
    "    data = pd.DataFrame({sortby: res, 'num_common': num_common})\n",
    "    data = data.query(f'username != \"{username}\" and num_common >= {min_common}')\n",
    "    data = data.sort_values(sortby, ascending=asc).head(num_sim_users)\n",
    "\n",
    "    return data"
   ]
  },
  {
   "cell_type": "code",
   "execution_count": null,
   "id": "5793dd5b-000e-4da7-ad22-026fbe671991",
   "metadata": {},
   "outputs": [],
   "source": [
    "def get_recommendations(username=None, userdata=None, df=df, min_common=10, sortby='cosine_sim', asc=False, num_sim_users=50):\n",
    "    username = userdata.name if username is None else username\n",
    "    userdata = df.loc[username] if userdata is None else userdata\n",
    "    \n",
    "    sim_users = get_similar_users(username=username, userdata=userdata, df=df, min_common=min_common, \n",
    "                                  sortby=sortby, asc=asc, num_sim_users=num_sim_users)\n",
    "    sim_users_data = df.loc[sim_users.index]\n",
    "    sim_users_data = sim_users_data.loc[:,sim_users_data.notnull().any(axis=0)]\n",
    "    user_watched = userdata.loc[userdata.notnull()].index\n",
    "    diff = set(sim_users_data.columns).difference(user_watched)\n",
    "    sim_users_data = sim_users_data[diff]\n",
    "\n",
    "    # recs = sim_users_data.mean().sort_values(ascending=False)\n",
    "    \n",
    "    \n",
    "    priors = df[sim_users_data.columns].mean()\n",
    "    sim_users_data = pd.concat([pd.DataFrame(priors, columns=['average']).T, sim_users_data], axis=0)\n",
    "    user_weights = [1.5] + [1.01**x for x in range(sim_users_data.shape[0]-1, 0, -1)]\n",
    "    weighted_sum = sim_users_data.mul(user_weights, axis=0).sum()\n",
    "    anime_weights = sim_users_data.notnull().astype('int').mul(user_weights, axis=0).sum()\n",
    "    recs = (weighted_sum / anime_weights).sort_values(ascending=False)\n",
    "    \n",
    "    return recs"
   ]
  },
  {
   "cell_type": "code",
   "execution_count": null,
   "id": "67adc79e-0e7a-4412-90a2-97921bc77a2b",
   "metadata": {},
   "outputs": [],
   "source": [
    "def get_rmse(pred_data, true_data):\n",
    "    true_data = true_data[true_data.notnull()]\n",
    "    watched_intersection = set(true_data.index).intersection(pred_data.index)\n",
    "    true_ratings = true_data[watched_intersection]\n",
    "    pred_ratings = pred_data[watched_intersection]\n",
    "    return np.sqrt(np.mean((true_ratings - pred_ratings)**2))"
   ]
  },
  {
   "cell_type": "code",
   "execution_count": null,
   "id": "53d51487-8550-4ad4-9091-9d678e381dde",
   "metadata": {},
   "outputs": [],
   "source": [
    "pred_userdata = get_recommendations(userdata=validate.iloc[0])"
   ]
  },
  {
   "cell_type": "code",
   "execution_count": null,
   "id": "0dcac704-6e3e-48fc-91b2-d23f2133cf13",
   "metadata": {},
   "outputs": [],
   "source": [
    "get_rmse(pred_userdata, validate_true.iloc[0])"
   ]
  },
  {
   "cell_type": "code",
   "execution_count": null,
   "id": "5b120ced-a8ea-4784-82c0-5aa3d8f3c9f9",
   "metadata": {},
   "outputs": [],
   "source": [
    "total_rmse = 0\n",
    "for idx in tqdm(range(10)):\n",
    "    userdata = validate.iloc[idx]\n",
    "    pred_userdata = get_recommendations(userdata=userdata, num_sim_users=50, sortby='corr')\n",
    "    true_userdata = validate_true.iloc[idx]\n",
    "    rmse = get_rmse(pred_userdata, true_userdata)\n",
    "    total_rmse += rmse if not(pd.isna(rmse)) else 0"
   ]
  },
  {
   "cell_type": "markdown",
   "id": "905900dc-8c5e-4b4c-8de7-95fc90165cef",
   "metadata": {},
   "source": [
    "50 users"
   ]
  },
  {
   "cell_type": "code",
   "execution_count": null,
   "id": "76d1cb12-ae3b-449e-8195-090aa19eca08",
   "metadata": {},
   "outputs": [],
   "source": [
    "total_rmse / 10"
   ]
  },
  {
   "cell_type": "code",
   "execution_count": null,
   "id": "34c55101-034d-4454-b7d4-b4434a731303",
   "metadata": {},
   "outputs": [],
   "source": [
    "idx = 3\n",
    "userdata = validate.iloc[idx]\n",
    "pred_userdata = get_recommendation(userdata=userdata, num_recs=100, num_users=5)\n",
    "true_userdata = validate_true.iloc[idx]\n",
    "get_rmse(pred_userdata, true_userdata)"
   ]
  },
  {
   "cell_type": "code",
   "execution_count": null,
   "id": "f7febdd7-356b-4dc2-8c5e-12168c44e54b",
   "metadata": {},
   "outputs": [],
   "source": []
  },
  {
   "cell_type": "code",
   "execution_count": null,
   "id": "eaf6ed0d-bcbf-4c58-adc3-ad79014c8a5b",
   "metadata": {},
   "outputs": [],
   "source": []
  },
  {
   "cell_type": "code",
   "execution_count": null,
   "id": "77ff4cf8-7b32-4163-9c5c-5bae497bd566",
   "metadata": {},
   "outputs": [],
   "source": []
  }
 ],
 "metadata": {
  "kernelspec": {
   "display_name": "Python 3 (ipykernel)",
   "language": "python",
   "name": "python3"
  },
  "language_info": {
   "codemirror_mode": {
    "name": "ipython",
    "version": 3
   },
   "file_extension": ".py",
   "mimetype": "text/x-python",
   "name": "python",
   "nbconvert_exporter": "python",
   "pygments_lexer": "ipython3",
   "version": "3.8.12"
  }
 },
 "nbformat": 4,
 "nbformat_minor": 5
}
