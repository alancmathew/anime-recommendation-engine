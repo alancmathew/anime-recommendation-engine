{
 "cells": [
  {
   "cell_type": "code",
   "execution_count": 1,
   "id": "b43de628-2c7c-4dc3-b5f5-ed0204b5b6cf",
   "metadata": {},
   "outputs": [],
   "source": [
    "import requests\n",
    "from bs4 import BeautifulSoup\n",
    "import numpy as np\n",
    "import pandas as pd\n",
    "from tqdm import tqdm\n",
    "import time\n",
    "import pickle"
   ]
  },
  {
   "cell_type": "code",
   "execution_count": 2,
   "id": "0ba925cb-20b9-43f2-a1ae-5193900014a0",
   "metadata": {},
   "outputs": [],
   "source": [
    "# urls = {'novel':set(), 'done':set(), 'cur':set()}\n",
    "with open('../data/urls.pkl','rb') as file:\n",
    "    urls = pickle.load(file)"
   ]
  },
  {
   "cell_type": "code",
   "execution_count": 3,
   "id": "cb1e25ad-063a-4bd8-a9ab-e23ec182d7cf",
   "metadata": {},
   "outputs": [],
   "source": [
    "def saveUrls():\n",
    "    with open('../data/urls.pkl','wb') as file:\n",
    "        pickle.dump(urls, file)"
   ]
  },
  {
   "cell_type": "code",
   "execution_count": 4,
   "id": "ff0c968e-a798-46a7-a3e9-7cc635a6bba8",
   "metadata": {},
   "outputs": [],
   "source": [
    "def getCurrentPageUrls(url):\n",
    "    urls = []\n",
    "    \n",
    "    reqs = requests.get(url)\n",
    "    soup = BeautifulSoup(reqs.text, 'html.parser')\n",
    "\n",
    "    for link in soup.find_all('a'):\n",
    "        try:\n",
    "            branch = link.get('href')\n",
    "            if branch[0] == '/':\n",
    "                urls.append('https://www.anime-planet.com' + branch)\n",
    "        except:\n",
    "            pass\n",
    "    \n",
    "    return set(urls)"
   ]
  },
  {
   "cell_type": "code",
   "execution_count": 5,
   "id": "2c776f3b-66c4-465e-8cc3-da41aaa0cb2b",
   "metadata": {},
   "outputs": [],
   "source": [
    "def getAllUrls(url):\n",
    "    urls['novel'].add(url)\n",
    "    \n",
    "    while len(urls['novel']) > 0:\n",
    "        cur_url = urls['novel'].pop()\n",
    "        if cur_url not in urls['done']:\n",
    "            urls['cur'] = getCurrentPageUrls(cur_url)\n",
    "            urls['done'].add(cur_url)\n",
    "\n",
    "            diff = urls['cur'].difference(urls['done'])\n",
    "            urls['novel'] = urls['novel'].union(diff)\n",
    "            saveUrls()"
   ]
  },
  {
   "cell_type": "code",
   "execution_count": 6,
   "id": "0a314ef4-2808-4179-b65f-ac740772ad37",
   "metadata": {},
   "outputs": [],
   "source": [
    "url = 'https://www.anime-planet.com/'"
   ]
  },
  {
   "cell_type": "code",
   "execution_count": null,
   "id": "dc501110-04b2-462e-9bdd-0058e909ac2e",
   "metadata": {},
   "outputs": [],
   "source": [
    "getAllUrls(url)"
   ]
  },
  {
   "cell_type": "code",
   "execution_count": 8,
   "id": "a8426d48-0e9a-4069-b39e-bb38f79e6416",
   "metadata": {},
   "outputs": [
    {
     "name": "stdout",
     "output_type": "stream",
     "text": [
      "351656 44863 0.12757638146370318\n"
     ]
    }
   ],
   "source": [
    "print(len(urls['novel']), len(urls['done']), len(urls['done'])/len(urls['novel']))"
   ]
  },
  {
   "cell_type": "code",
   "execution_count": null,
   "id": "16e63238-0476-4171-be40-a8a1eb2f559a",
   "metadata": {},
   "outputs": [],
   "source": []
  }
 ],
 "metadata": {
  "kernelspec": {
   "display_name": "Python 3",
   "language": "python",
   "name": "python3"
  },
  "language_info": {
   "codemirror_mode": {
    "name": "ipython",
    "version": 3
   },
   "file_extension": ".py",
   "mimetype": "text/x-python",
   "name": "python",
   "nbconvert_exporter": "python",
   "pygments_lexer": "ipython3",
   "version": "3.8.10"
  }
 },
 "nbformat": 4,
 "nbformat_minor": 5
}
