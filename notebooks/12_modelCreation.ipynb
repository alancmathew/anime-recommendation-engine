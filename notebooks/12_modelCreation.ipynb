{
 "cells": [
  {
   "cell_type": "code",
   "execution_count": 1,
   "id": "7e38bcda-3ff5-429a-ad11-44b281d7ebbb",
   "metadata": {},
   "outputs": [],
   "source": [
    "import numpy as np\n",
    "import pandas as pd\n",
    "import matplotlib.pyplot as plt\n",
    "import seaborn as sns\n",
    "import scipy as sp\n",
    "from sklearn.metrics.pairwise import cosine_similarity\n",
    "from tqdm import tqdm\n",
    "from itertools import combinations\n",
    "import math\n",
    "from multiprocessing import Pool\n",
    "import warnings\n",
    "from functools import partial"
   ]
  },
  {
   "cell_type": "code",
   "execution_count": 2,
   "id": "b4f9de94-a4e8-4c0b-90b9-4f94436c8a5e",
   "metadata": {},
   "outputs": [],
   "source": [
    "warnings.filterwarnings(\"ignore\", category=RuntimeWarning)"
   ]
  },
  {
   "cell_type": "code",
   "execution_count": 3,
   "id": "d0fba32d-a882-4a04-8854-f633acbd3dee",
   "metadata": {},
   "outputs": [],
   "source": [
    "def parallelize(groups, func):\n",
    "    num_workers = 16\n",
    "    with Pool(num_workers) as p:\n",
    "        return pd.concat(p.map(func, [group for name, group in groups])).sort_index()"
   ]
  },
  {
   "cell_type": "code",
   "execution_count": 4,
   "id": "4415cd9c-e6a7-4b33-8731-b4d366c65df1",
   "metadata": {},
   "outputs": [],
   "source": [
    "df = pd.read_pickle('../data/train.pkl.xz')\n",
    "anime = pd.read_pickle('../data/anime.pkl.xz').set_index('title')\n",
    "\n",
    "user_sim_df = pd.read_pickle('../data/user_sim.pkl')\n",
    "anime_sim_df = pd.read_pickle('../data/anime_sim.pkl')"
   ]
  },
  {
   "cell_type": "markdown",
   "id": "8b6e1e6e-0baf-47c4-9ab0-fe1aeb855d1f",
   "metadata": {},
   "source": [
    "Remove any users who rated less than 10 shows"
   ]
  },
  {
   "cell_type": "code",
   "execution_count": 5,
   "id": "8e0d1a62-cfb5-4bbb-9ed4-6f80723ec7f7",
   "metadata": {},
   "outputs": [],
   "source": [
    "df = df.loc[df.notnull().sum(axis=1) >= 10].copy(deep=True)"
   ]
  },
  {
   "cell_type": "markdown",
   "id": "030de11d-fad3-40dc-ad2f-699a3c3004c3",
   "metadata": {},
   "source": [
    "anime_corr = df.corr()\n",
    "\n",
    "anime_corr.to_pickle('../data/anime_corr.pkl')\n",
    "anime_corr.to_csv('../data/anime_corr.csv')\n",
    "\n",
    "%%bash\n",
    "cd ../data\n",
    "\n",
    "rm anime_corr.pkl.xz\n",
    "xz -vT14 anime_corr.pkl\n",
    "\n",
    "rm anime_corr.csv.xz\n",
    "xz -vT14 anime_corr.csv"
   ]
  },
  {
   "cell_type": "code",
   "execution_count": 6,
   "id": "c58f4f04-bd07-4614-a910-81da3c5572b1",
   "metadata": {},
   "outputs": [
    {
     "data": {
      "text/html": [
       "<div>\n",
       "<style scoped>\n",
       "    .dataframe tbody tr th:only-of-type {\n",
       "        vertical-align: middle;\n",
       "    }\n",
       "\n",
       "    .dataframe tbody tr th {\n",
       "        vertical-align: top;\n",
       "    }\n",
       "\n",
       "    .dataframe thead th {\n",
       "        text-align: right;\n",
       "    }\n",
       "</style>\n",
       "<table border=\"1\" class=\"dataframe\">\n",
       "  <thead>\n",
       "    <tr style=\"text-align: right;\">\n",
       "      <th>title</th>\n",
       "      <th>.hack//Legend Of The Twilight</th>\n",
       "      <th>.hack//Roots</th>\n",
       "      <th>.hack//SIGN</th>\n",
       "      <th>009-1</th>\n",
       "      <th>07-Ghost</th>\n",
       "      <th>100 Sleeping Princes &amp; the Kingdom of Dreams</th>\n",
       "      <th>100% Pascal-sensei (2017)</th>\n",
       "      <th>11eyes</th>\n",
       "      <th>12-Sai: Chiccha na Mune no Tokimeki</th>\n",
       "      <th>12-Sai: Chiccha na Mune no Tokimeki 2</th>\n",
       "      <th>...</th>\n",
       "      <th>gdgd Fairies</th>\n",
       "      <th>gdgd Fairies 2</th>\n",
       "      <th>gdgd men's party</th>\n",
       "      <th>number24</th>\n",
       "      <th>revisions</th>\n",
       "      <th>sola</th>\n",
       "      <th>www.Working!!</th>\n",
       "      <th>xxxHOLiC</th>\n",
       "      <th>xxxHOLiC Kei</th>\n",
       "      <th>ēlDLIVE</th>\n",
       "    </tr>\n",
       "    <tr>\n",
       "      <th>username</th>\n",
       "      <th></th>\n",
       "      <th></th>\n",
       "      <th></th>\n",
       "      <th></th>\n",
       "      <th></th>\n",
       "      <th></th>\n",
       "      <th></th>\n",
       "      <th></th>\n",
       "      <th></th>\n",
       "      <th></th>\n",
       "      <th></th>\n",
       "      <th></th>\n",
       "      <th></th>\n",
       "      <th></th>\n",
       "      <th></th>\n",
       "      <th></th>\n",
       "      <th></th>\n",
       "      <th></th>\n",
       "      <th></th>\n",
       "      <th></th>\n",
       "      <th></th>\n",
       "    </tr>\n",
       "  </thead>\n",
       "  <tbody>\n",
       "    <tr>\n",
       "      <th>Anilucard</th>\n",
       "      <td>NaN</td>\n",
       "      <td>NaN</td>\n",
       "      <td>NaN</td>\n",
       "      <td>NaN</td>\n",
       "      <td>NaN</td>\n",
       "      <td>NaN</td>\n",
       "      <td>NaN</td>\n",
       "      <td>NaN</td>\n",
       "      <td>NaN</td>\n",
       "      <td>NaN</td>\n",
       "      <td>...</td>\n",
       "      <td>NaN</td>\n",
       "      <td>NaN</td>\n",
       "      <td>NaN</td>\n",
       "      <td>NaN</td>\n",
       "      <td>NaN</td>\n",
       "      <td>NaN</td>\n",
       "      <td>NaN</td>\n",
       "      <td>NaN</td>\n",
       "      <td>NaN</td>\n",
       "      <td>NaN</td>\n",
       "    </tr>\n",
       "    <tr>\n",
       "      <th>Thallasian</th>\n",
       "      <td>NaN</td>\n",
       "      <td>NaN</td>\n",
       "      <td>NaN</td>\n",
       "      <td>NaN</td>\n",
       "      <td>NaN</td>\n",
       "      <td>NaN</td>\n",
       "      <td>NaN</td>\n",
       "      <td>NaN</td>\n",
       "      <td>NaN</td>\n",
       "      <td>NaN</td>\n",
       "      <td>...</td>\n",
       "      <td>NaN</td>\n",
       "      <td>NaN</td>\n",
       "      <td>NaN</td>\n",
       "      <td>NaN</td>\n",
       "      <td>0.84261</td>\n",
       "      <td>NaN</td>\n",
       "      <td>NaN</td>\n",
       "      <td>NaN</td>\n",
       "      <td>NaN</td>\n",
       "      <td>NaN</td>\n",
       "    </tr>\n",
       "    <tr>\n",
       "      <th>shegicaesario</th>\n",
       "      <td>NaN</td>\n",
       "      <td>NaN</td>\n",
       "      <td>NaN</td>\n",
       "      <td>NaN</td>\n",
       "      <td>NaN</td>\n",
       "      <td>NaN</td>\n",
       "      <td>NaN</td>\n",
       "      <td>NaN</td>\n",
       "      <td>NaN</td>\n",
       "      <td>NaN</td>\n",
       "      <td>...</td>\n",
       "      <td>NaN</td>\n",
       "      <td>NaN</td>\n",
       "      <td>NaN</td>\n",
       "      <td>NaN</td>\n",
       "      <td>NaN</td>\n",
       "      <td>NaN</td>\n",
       "      <td>NaN</td>\n",
       "      <td>NaN</td>\n",
       "      <td>NaN</td>\n",
       "      <td>NaN</td>\n",
       "    </tr>\n",
       "    <tr>\n",
       "      <th>bearofwisdom</th>\n",
       "      <td>NaN</td>\n",
       "      <td>NaN</td>\n",
       "      <td>NaN</td>\n",
       "      <td>NaN</td>\n",
       "      <td>NaN</td>\n",
       "      <td>NaN</td>\n",
       "      <td>NaN</td>\n",
       "      <td>NaN</td>\n",
       "      <td>NaN</td>\n",
       "      <td>NaN</td>\n",
       "      <td>...</td>\n",
       "      <td>NaN</td>\n",
       "      <td>NaN</td>\n",
       "      <td>NaN</td>\n",
       "      <td>NaN</td>\n",
       "      <td>NaN</td>\n",
       "      <td>NaN</td>\n",
       "      <td>NaN</td>\n",
       "      <td>NaN</td>\n",
       "      <td>NaN</td>\n",
       "      <td>NaN</td>\n",
       "    </tr>\n",
       "    <tr>\n",
       "      <th>Potatocat11</th>\n",
       "      <td>NaN</td>\n",
       "      <td>NaN</td>\n",
       "      <td>NaN</td>\n",
       "      <td>NaN</td>\n",
       "      <td>NaN</td>\n",
       "      <td>NaN</td>\n",
       "      <td>NaN</td>\n",
       "      <td>NaN</td>\n",
       "      <td>NaN</td>\n",
       "      <td>NaN</td>\n",
       "      <td>...</td>\n",
       "      <td>NaN</td>\n",
       "      <td>NaN</td>\n",
       "      <td>NaN</td>\n",
       "      <td>NaN</td>\n",
       "      <td>NaN</td>\n",
       "      <td>NaN</td>\n",
       "      <td>NaN</td>\n",
       "      <td>NaN</td>\n",
       "      <td>NaN</td>\n",
       "      <td>NaN</td>\n",
       "    </tr>\n",
       "  </tbody>\n",
       "</table>\n",
       "<p>5 rows × 4489 columns</p>\n",
       "</div>"
      ],
      "text/plain": [
       "title          .hack//Legend Of The Twilight  .hack//Roots  .hack//SIGN  \\\n",
       "username                                                                  \n",
       "Anilucard                                NaN           NaN          NaN   \n",
       "Thallasian                               NaN           NaN          NaN   \n",
       "shegicaesario                            NaN           NaN          NaN   \n",
       "bearofwisdom                             NaN           NaN          NaN   \n",
       "Potatocat11                              NaN           NaN          NaN   \n",
       "\n",
       "title          009-1  07-Ghost  100 Sleeping Princes & the Kingdom of Dreams  \\\n",
       "username                                                                       \n",
       "Anilucard        NaN       NaN                                           NaN   \n",
       "Thallasian       NaN       NaN                                           NaN   \n",
       "shegicaesario    NaN       NaN                                           NaN   \n",
       "bearofwisdom     NaN       NaN                                           NaN   \n",
       "Potatocat11      NaN       NaN                                           NaN   \n",
       "\n",
       "title          100% Pascal-sensei (2017)  11eyes  \\\n",
       "username                                           \n",
       "Anilucard                            NaN     NaN   \n",
       "Thallasian                           NaN     NaN   \n",
       "shegicaesario                        NaN     NaN   \n",
       "bearofwisdom                         NaN     NaN   \n",
       "Potatocat11                          NaN     NaN   \n",
       "\n",
       "title          12-Sai: Chiccha na Mune no Tokimeki  \\\n",
       "username                                             \n",
       "Anilucard                                      NaN   \n",
       "Thallasian                                     NaN   \n",
       "shegicaesario                                  NaN   \n",
       "bearofwisdom                                   NaN   \n",
       "Potatocat11                                    NaN   \n",
       "\n",
       "title          12-Sai: Chiccha na Mune no Tokimeki 2  ...  gdgd Fairies  \\\n",
       "username                                              ...                 \n",
       "Anilucard                                        NaN  ...           NaN   \n",
       "Thallasian                                       NaN  ...           NaN   \n",
       "shegicaesario                                    NaN  ...           NaN   \n",
       "bearofwisdom                                     NaN  ...           NaN   \n",
       "Potatocat11                                      NaN  ...           NaN   \n",
       "\n",
       "title          gdgd Fairies 2  gdgd men's party  number24  revisions  sola  \\\n",
       "username                                                                     \n",
       "Anilucard                 NaN               NaN       NaN        NaN   NaN   \n",
       "Thallasian                NaN               NaN       NaN    0.84261   NaN   \n",
       "shegicaesario             NaN               NaN       NaN        NaN   NaN   \n",
       "bearofwisdom              NaN               NaN       NaN        NaN   NaN   \n",
       "Potatocat11               NaN               NaN       NaN        NaN   NaN   \n",
       "\n",
       "title          www.Working!!  xxxHOLiC  xxxHOLiC Kei  ēlDLIVE  \n",
       "username                                                       \n",
       "Anilucard                NaN       NaN           NaN      NaN  \n",
       "Thallasian               NaN       NaN           NaN      NaN  \n",
       "shegicaesario            NaN       NaN           NaN      NaN  \n",
       "bearofwisdom             NaN       NaN           NaN      NaN  \n",
       "Potatocat11              NaN       NaN           NaN      NaN  \n",
       "\n",
       "[5 rows x 4489 columns]"
      ]
     },
     "execution_count": 6,
     "metadata": {},
     "output_type": "execute_result"
    }
   ],
   "source": [
    "df.head()"
   ]
  },
  {
   "cell_type": "markdown",
   "id": "29d10617-a36d-4d0b-bc26-d8e582b1cd04",
   "metadata": {},
   "source": [
    "def get_similar_shows(title, sort_by='corr', num=10, min_count=1000, min_num_common_tags=2):\n",
    "    def num_common_tags(title):\n",
    "        tags = set(anime.query(f'title == \"{title}\"')['tags'][0])\n",
    "        num_common_series = anime.loc[anime['tags'].notnull(), 'tags'].apply(lambda x: len(set(x).intersection(tags)))\n",
    "        return num_common_series.sort_values(ascending=False)\n",
    "    \n",
    "    dfa = pd.DataFrame({'corr': anime_corr[title], 'count': anime_counts, \n",
    "                        'num_common_tags': num_common_tags(title), 'avg_rating': anime['rating']})\n",
    "    dfa = dfa.query(f'title != \"{title}\" and count >= {min_count} and num_common_tags >= {min_num_common_tags}')\n",
    "    return dfa.sort_values(sort_by, ascending=False).head(num)"
   ]
  },
  {
   "cell_type": "markdown",
   "id": "30d79360-c19f-4c19-804d-58aceca5abf3",
   "metadata": {},
   "source": [
    "df = df.fillna(0)\n",
    "\n",
    "df_sparse = sp.sparse.csr_matrix(df.values, dtype=np.float32)\n",
    "\n",
    "user_similarity = cosine_similarity(df_sparse)\n",
    "anime_similarity = cosine_similarity(df_sparse.T)\n",
    "\n",
    "user_sim_df = pd.DataFrame(user_similarity, index=df.index, columns=df.index)\n",
    "anime_sim_df = pd.DataFrame(anime_similarity, index=df.columns, columns=df.columns)\n",
    "\n",
    "user_sim_df\n",
    "\n",
    "anime_sim_df\n",
    "\n",
    "user_sim_df.to_pickle('../data/user_sim.pkl')\n",
    "anime_sim_df.to_pickle('../data/anime_sim.pkl')\n",
    "\n",
    "df = df.replace(0, np.NaN).copy(deep=True)"
   ]
  },
  {
   "cell_type": "code",
   "execution_count": 106,
   "id": "bb0a8f59-84b4-4547-a3b3-4d99c7a08bd3",
   "metadata": {},
   "outputs": [],
   "source": [
    "def get_similar_users(username=None, userdata=None, min_common=10, sortby='cosine_sim', asc=False, num_users=10):    \n",
    "    username = userdata.name if username is None else username\n",
    "    userdata = df.loc[username] if userdata is None else userdata\n",
    "    \n",
    "    common_booled = np.bitwise_and(df.drop(username, axis=0, errors='ignore').notnull(), userdata.notnull())\n",
    "    num_common = common_booled.sum(axis=1)\n",
    "    \n",
    "    if sortby == 'corr':\n",
    "        tmp = df.T\n",
    "        res = tmp.corrwith(userdata)\n",
    "    \n",
    "    elif sortby == 'dist':\n",
    "        tmp = df.fillna(0)\n",
    "\n",
    "        dist = np.sum(tmp.subtract(tmp.loc[username], axis=1) ** 2, axis=1)\n",
    "        dist = dist / num_common\n",
    "        res = dist.loc[dist != 0]\n",
    "        \n",
    "    elif sortby == 'cosine_sim':\n",
    "        if username in user_sim_df.columns:\n",
    "            res = user_sim_df[username].drop(username, errors='ignore').sort_values(ascending=False)\n",
    "        else:\n",
    "            tmp = df.fillna(0)\n",
    "            sparse = sp.sparse.csr_matrix(tmp.values, dtype=np.float32)\n",
    "            res = cosine_similarity(sparse, np.array(userdata.fillna(0)).reshape(1, -1))\n",
    "            \n",
    "            res = pd.Series(res.flatten(), index=df.index).drop(username, errors='ignore').sort_values(ascending=False)\n",
    "    \n",
    "    elif sortby == 'num_common':\n",
    "        res = []\n",
    "    \n",
    "    data = pd.DataFrame({sortby: res, 'num_common': num_common})\n",
    "    data = data.query(f'username != \"{username}\" and num_common >= {min_common}')\n",
    "    data = data.sort_values(sortby, ascending=asc).head(num_users)\n",
    "\n",
    "    return data"
   ]
  },
  {
   "cell_type": "code",
   "execution_count": 171,
   "id": "5793dd5b-000e-4da7-ad22-026fbe671991",
   "metadata": {},
   "outputs": [],
   "source": [
    "def get_recommendations(username=None, userdata=None, num_recs=10, min_common=10, sortby='cosine_sim', asc=False, num_users=10):\n",
    "    username = userdata.name if username is None else username\n",
    "    userdata = df.loc[username] if userdata is None else userdata\n",
    "    \n",
    "    sim_users = get_similar_users(username=username, userdata=userdata, min_common=min_common, \n",
    "                                  sortby=sortby, asc=asc, num_users=num_users)\n",
    "    sim_users_data = df.loc[sim_users.index]\n",
    "    sim_users_data = sim_users_data.loc[:,sim_users_data.notnull().any(axis=0)]\n",
    "    user_watched = userdata.loc[userdata.notnull()].index\n",
    "    diff = set(sim_users_data.columns).difference(user_watched)\n",
    "    sim_users_data = sim_users_data[diff]\n",
    "    # recs = sim_users_data.mul((sim_users['cosine_sim'] / sim_users['cosine_sim'].max()), \n",
    "    #                           axis=0).mean().sort_values(ascending=False)\n",
    "    recs = sim_users_data.mean().sort_values(ascending=False)\n",
    "    return recs.head(num_recs)"
   ]
  },
  {
   "cell_type": "code",
   "execution_count": 75,
   "id": "e491ea41-76f7-4c88-afc8-193ef6fde31b",
   "metadata": {},
   "outputs": [],
   "source": [
    "username = 'JohnTamer'"
   ]
  },
  {
   "cell_type": "code",
   "execution_count": 57,
   "id": "acc94156-d5c5-4911-bd1a-1ef500022835",
   "metadata": {},
   "outputs": [],
   "source": [
    "recs = get_recommendation(username, num_recs=100)"
   ]
  },
  {
   "cell_type": "code",
   "execution_count": 58,
   "id": "9e6c1ff5-ed60-4303-b44f-a864587ca870",
   "metadata": {},
   "outputs": [
    {
     "data": {
      "text/plain": [
       "title\n",
       "Mobile Suit Gundam: Iron-Blooded Orphans    3.955297\n",
       "Knights of Sidonia                          3.953519\n",
       "Gargantia on the Verdurous Planet           3.953519\n",
       "Death Parade                                3.814186\n",
       "Barakamon                                   3.814186\n",
       "                                              ...   \n",
       "Le Chevalier D'Eon                          2.345870\n",
       "Tower of Druaga: the Sword of Uruk          2.345870\n",
       "Hayate the Combat Butler!                   2.345870\n",
       "Phantom Thief Jeanne                        2.345870\n",
       "Romeo x Juliet                              2.345870\n",
       "Length: 100, dtype: float64"
      ]
     },
     "execution_count": 58,
     "metadata": {},
     "output_type": "execute_result"
    }
   ],
   "source": [
    "recs"
   ]
  },
  {
   "cell_type": "code",
   "execution_count": 59,
   "id": "f2575311-b008-4ac6-95d3-2a6b6d644b26",
   "metadata": {},
   "outputs": [],
   "source": [
    "validate_true = pd.read_pickle('../data/validate.pkl.xz')"
   ]
  },
  {
   "cell_type": "code",
   "execution_count": 60,
   "id": "636222e3-2d27-4141-9ee1-ec9a1ba34ea5",
   "metadata": {},
   "outputs": [],
   "source": [
    "keeper_mask = pd.DataFrame(np.random.uniform(size=validate_true.shape), \n",
    "                           index=validate_true.index, \n",
    "                           columns=validate_true.columns)"
   ]
  },
  {
   "cell_type": "code",
   "execution_count": 61,
   "id": "b1db0742-7f19-435a-9faa-e987309a7661",
   "metadata": {},
   "outputs": [],
   "source": [
    "keeper_mask = keeper_mask.applymap(lambda x: int(x > 0.3))"
   ]
  },
  {
   "cell_type": "code",
   "execution_count": 62,
   "id": "d35bf70d-5269-41db-943a-659a59436cee",
   "metadata": {},
   "outputs": [],
   "source": [
    "validate = validate_true.mul(keeper_mask)\n",
    "validate = validate.replace(0, np.NaN)"
   ]
  },
  {
   "cell_type": "code",
   "execution_count": 144,
   "id": "67adc79e-0e7a-4412-90a2-97921bc77a2b",
   "metadata": {},
   "outputs": [],
   "source": [
    "def get_rmse(pred_data, true_data):\n",
    "    true_data = true_data[true_data.notnull()]\n",
    "    watched_intersection = set(true_data.index).intersection(pred_data.index)\n",
    "    true_ratings = true_data[watched_intersection]\n",
    "    pred_ratings = pred_data[watched_intersection]\n",
    "    return np.sqrt(np.mean((true_ratings - pred_ratings)**2))"
   ]
  },
  {
   "cell_type": "code",
   "execution_count": 169,
   "id": "5b120ced-a8ea-4784-82c0-5aa3d8f3c9f9",
   "metadata": {},
   "outputs": [
    {
     "name": "stderr",
     "output_type": "stream",
     "text": [
      "100%|███████████████████████████████████████████████████████████████████████████████████████████████████████████████████████████████████████████████████████████████████████████████| 10/10 [00:40<00:00,  4.04s/it]\n"
     ]
    }
   ],
   "source": [
    "total_rmse = 0\n",
    "for idx in tqdm(range(10)):\n",
    "    userdata = validate.iloc[idx]\n",
    "    pred_userdata = get_recommendations(userdata=userdata, num_recs=100, num_users=100)\n",
    "    true_userdata = validate_true.iloc[idx]\n",
    "    rmse = get_rmse(pred_userdata, true_userdata)\n",
    "    total_rmse += rmse if not(pd.isna(rmse)) else 0"
   ]
  },
  {
   "cell_type": "markdown",
   "id": "0b691bd1-5e6e-4e48-9b44-6c03afdbbddb",
   "metadata": {},
   "source": [
    "100 users"
   ]
  },
  {
   "cell_type": "code",
   "execution_count": 170,
   "id": "1fcbb236-8f58-41bd-92a0-972cea803f4e",
   "metadata": {},
   "outputs": [
    {
     "data": {
      "text/plain": [
       "0.3433757774634369"
      ]
     },
     "execution_count": 170,
     "metadata": {},
     "output_type": "execute_result"
    }
   ],
   "source": [
    "total_rmse / 10"
   ]
  },
  {
   "cell_type": "markdown",
   "id": "3f967707-1eee-4054-b96c-42d6c7268835",
   "metadata": {},
   "source": [
    "60 users"
   ]
  },
  {
   "cell_type": "code",
   "execution_count": 168,
   "id": "d3cdfc48-76ff-47f8-ac1a-d975bd832a36",
   "metadata": {},
   "outputs": [
    {
     "data": {
      "text/plain": [
       "0.2229355115621468"
      ]
     },
     "execution_count": 168,
     "metadata": {},
     "output_type": "execute_result"
    }
   ],
   "source": [
    "total_rmse / 10"
   ]
  },
  {
   "cell_type": "markdown",
   "id": "905900dc-8c5e-4b4c-8de7-95fc90165cef",
   "metadata": {},
   "source": [
    "50 users"
   ]
  },
  {
   "cell_type": "code",
   "execution_count": 166,
   "id": "76d1cb12-ae3b-449e-8195-090aa19eca08",
   "metadata": {},
   "outputs": [
    {
     "data": {
      "text/plain": [
       "0.31293383233202865"
      ]
     },
     "execution_count": 166,
     "metadata": {},
     "output_type": "execute_result"
    }
   ],
   "source": [
    "total_rmse / 10"
   ]
  },
  {
   "cell_type": "markdown",
   "id": "37ae4262-3afa-41c8-ac0d-7df929b052ec",
   "metadata": {},
   "source": [
    "40 users"
   ]
  },
  {
   "cell_type": "code",
   "execution_count": 164,
   "id": "53fc486d-73fd-4008-ac0d-6754f01fbc29",
   "metadata": {},
   "outputs": [
    {
     "data": {
      "text/plain": [
       "0.30244510486698617"
      ]
     },
     "execution_count": 164,
     "metadata": {},
     "output_type": "execute_result"
    }
   ],
   "source": [
    "total_rmse / 10"
   ]
  },
  {
   "cell_type": "markdown",
   "id": "b7fa13c7-1cf8-40be-9ea2-6f5e4f0e7ec5",
   "metadata": {},
   "source": [
    "30 users"
   ]
  },
  {
   "cell_type": "code",
   "execution_count": 162,
   "id": "71d09f1e-855d-4419-ba4e-4cb02c1e0aac",
   "metadata": {},
   "outputs": [
    {
     "data": {
      "text/plain": [
       "0.4740876720691517"
      ]
     },
     "execution_count": 162,
     "metadata": {},
     "output_type": "execute_result"
    }
   ],
   "source": [
    "total_rmse / 10"
   ]
  },
  {
   "cell_type": "markdown",
   "id": "202895a5-26c3-4766-8c0e-6855ef7fa2e6",
   "metadata": {},
   "source": [
    "20 users"
   ]
  },
  {
   "cell_type": "code",
   "execution_count": 160,
   "id": "56eb9520-1cb4-4e3f-b4c6-95b9eb61d168",
   "metadata": {},
   "outputs": [
    {
     "data": {
      "text/plain": [
       "0.5135132010697075"
      ]
     },
     "execution_count": 160,
     "metadata": {},
     "output_type": "execute_result"
    }
   ],
   "source": [
    "total_rmse / 10"
   ]
  },
  {
   "cell_type": "markdown",
   "id": "c0275e95-2441-4a2e-9a56-45979b92fee5",
   "metadata": {},
   "source": [
    "10 users"
   ]
  },
  {
   "cell_type": "code",
   "execution_count": 158,
   "id": "801421cf-81ff-4d1d-8a79-8eae5f4978e1",
   "metadata": {},
   "outputs": [
    {
     "data": {
      "text/plain": [
       "0.6253547934468812"
      ]
     },
     "execution_count": 158,
     "metadata": {},
     "output_type": "execute_result"
    }
   ],
   "source": [
    "total_rmse / 10"
   ]
  },
  {
   "cell_type": "markdown",
   "id": "b992110f-47b1-4a62-9a04-539c9b4c9cef",
   "metadata": {},
   "source": [
    "5 users"
   ]
  },
  {
   "cell_type": "code",
   "execution_count": 156,
   "id": "b0d7b4a8-f00a-46ad-bcd8-6a092135dff4",
   "metadata": {},
   "outputs": [
    {
     "data": {
      "text/plain": [
       "0.6797406666494116"
      ]
     },
     "execution_count": 156,
     "metadata": {},
     "output_type": "execute_result"
    }
   ],
   "source": [
    "total_rmse / 10"
   ]
  },
  {
   "cell_type": "code",
   "execution_count": 153,
   "id": "34c55101-034d-4454-b7d4-b4434a731303",
   "metadata": {},
   "outputs": [
    {
     "data": {
      "text/plain": [
       "0.5525482298811581"
      ]
     },
     "execution_count": 153,
     "metadata": {},
     "output_type": "execute_result"
    }
   ],
   "source": [
    "idx = 3\n",
    "userdata = validate.iloc[idx]\n",
    "pred_userdata = get_recommendation(userdata=userdata, num_recs=100, num_users=5)\n",
    "true_userdata = validate_true.iloc[idx]\n",
    "get_rmse(pred_userdata, true_userdata)"
   ]
  },
  {
   "cell_type": "code",
   "execution_count": 145,
   "id": "f7febdd7-356b-4dc2-8c5e-12168c44e54b",
   "metadata": {},
   "outputs": [],
   "source": []
  },
  {
   "cell_type": "code",
   "execution_count": 146,
   "id": "eaf6ed0d-bcbf-4c58-adc3-ad79014c8a5b",
   "metadata": {},
   "outputs": [
    {
     "data": {
      "text/plain": [
       "0.7822375720344664"
      ]
     },
     "execution_count": 146,
     "metadata": {},
     "output_type": "execute_result"
    }
   ],
   "source": []
  },
  {
   "cell_type": "code",
   "execution_count": null,
   "id": "77ff4cf8-7b32-4163-9c5c-5bae497bd566",
   "metadata": {},
   "outputs": [],
   "source": []
  }
 ],
 "metadata": {
  "kernelspec": {
   "display_name": "Python 3 (ipykernel)",
   "language": "python",
   "name": "python3"
  },
  "language_info": {
   "codemirror_mode": {
    "name": "ipython",
    "version": 3
   },
   "file_extension": ".py",
   "mimetype": "text/x-python",
   "name": "python",
   "nbconvert_exporter": "python",
   "pygments_lexer": "ipython3",
   "version": "3.8.12"
  }
 },
 "nbformat": 4,
 "nbformat_minor": 5
}
