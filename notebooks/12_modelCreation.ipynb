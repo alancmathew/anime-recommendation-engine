{
 "cells": [
  {
   "cell_type": "code",
   "execution_count": 1,
   "id": "7e38bcda-3ff5-429a-ad11-44b281d7ebbb",
   "metadata": {},
   "outputs": [],
   "source": [
    "import numpy as np\n",
    "import pandas as pd\n",
    "import matplotlib.pyplot as plt\n",
    "import seaborn as sns\n",
    "import scipy as sp\n",
    "from sklearn.metrics.pairwise import cosine_similarity\n",
    "from tqdm import tqdm\n",
    "import math\n",
    "from multiprocessing import Pool\n",
    "import warnings\n",
    "from functools import partial\n",
    "import random\n",
    "from numba import njit, vectorize"
   ]
  },
  {
   "cell_type": "code",
   "execution_count": 2,
   "id": "b4f9de94-a4e8-4c0b-90b9-4f94436c8a5e",
   "metadata": {},
   "outputs": [],
   "source": [
    "np.random.seed(42)\n",
    "tqdm.pandas()\n",
    "warnings.filterwarnings(\"ignore\", category=RuntimeWarning)"
   ]
  },
  {
   "cell_type": "code",
   "execution_count": 3,
   "id": "33f313b1-8e4a-4782-bbb3-c4378158013a",
   "metadata": {},
   "outputs": [],
   "source": [
    "def chunker(seq, size):\n",
    "    return (seq[pos:pos + size] for pos in range(0, len(seq), size))"
   ]
  },
  {
   "cell_type": "code",
   "execution_count": 4,
   "id": "d0fba32d-a882-4a04-8854-f633acbd3dee",
   "metadata": {},
   "outputs": [],
   "source": [
    "def parallelize(groups, func):\n",
    "    num_workers = 16\n",
    "    with Pool(num_workers) as p:\n",
    "        return pd.concat(p.map(func, [group for name, group in groups])).sort_index()"
   ]
  },
  {
   "cell_type": "code",
   "execution_count": 5,
   "id": "6db0d56b-cce8-43d0-97a0-be68f8b09b16",
   "metadata": {},
   "outputs": [],
   "source": [
    "df = pd.read_pickle('../data/train.pkl.xz')"
   ]
  },
  {
   "cell_type": "code",
   "execution_count": 6,
   "id": "a5f16796-3c3d-4afb-866d-70518e3a1f09",
   "metadata": {},
   "outputs": [],
   "source": [
    "validate_X = pd.read_pickle('../data/validate_X.pkl.xz')\n",
    "validate_Y = pd.read_pickle('../data/validate_Y.pkl.xz')"
   ]
  },
  {
   "cell_type": "markdown",
   "id": "e4baa572-c298-4c2c-85b5-731029ae5853",
   "metadata": {},
   "source": [
    "df = df.fillna(0)"
   ]
  },
  {
   "cell_type": "markdown",
   "id": "a4fb3a4f-db99-48ad-ac69-fb45ffa602d2",
   "metadata": {},
   "source": [
    "sparse = sp.sparse.csr_matrix(df.values, dtype=np.float32)"
   ]
  },
  {
   "cell_type": "markdown",
   "id": "a3644ae2-bd13-482e-941e-7734045d3347",
   "metadata": {},
   "source": [
    "def similarity_calculator(data):\n",
    "    return pd.DataFrame(cosine_similarity(sparse, data), index=df.index, columns=data.index).astype(np.float16)\n",
    "\n",
    "num_workers = 15\n",
    "chunksize = int(validate_X.shape[0]/num_workers)+1\n",
    "chunks = chunker(validate_X.fillna(0), chunksize)\n",
    "with Pool(num_workers) as p:\n",
    "    similarity_matrix = pd.concat(p.map(similarity_calculator, chunks), axis=1)\n",
    "    \n",
    "del chunks\n",
    "\n",
    "similarity_matrix.to_pickle('/mnt/int_drive_0/Data/anime-recommendation-engine/similarity_matrix.pkl')"
   ]
  },
  {
   "cell_type": "markdown",
   "id": "5dbd26ca-0146-4bb2-a0ee-3242a4e3362a",
   "metadata": {},
   "source": [
    "similarity_matrix = pd.read_pickle('/mnt/int_drive_0/Data/anime-recommendation-engine/similarity_matrix.pkl')\n",
    "def n_similar_users(column, n=1000):\n",
    "    return pd.Series(column.sort_values(ascending=False).head(n).index, name=column.name)\n",
    "\n",
    "def similar_users_ordered(column):\n",
    "    return pd.Series(column.sort_values(ascending=False).index, name=column.name)\n",
    "\n",
    "with Pool(15) as p:\n",
    "    similar_users_ordered = pd.concat(p.map(similar_users_ordered, (tup[1] for tup in similarity_matrix.items())), axis=1)\n",
    "\n",
    "similar_users_ordered.to_pickle('/mnt/int_drive_0/Data/anime-recommendation-engine/similar_users_ordered.pkl')"
   ]
  },
  {
   "cell_type": "markdown",
   "id": "29e96fa4-23f5-40ea-bc1d-1750c5309f95",
   "metadata": {},
   "source": [
    "df = df.replace(0, np.NaN)"
   ]
  },
  {
   "cell_type": "code",
   "execution_count": 7,
   "id": "f7bcc039-f41a-4346-9db9-33177f76572a",
   "metadata": {},
   "outputs": [],
   "source": [
    "similar_users_ordered = pd.read_pickle('/mnt/int_drive_0/Data/anime-recommendation-engine/similar_users_ordered.pkl')"
   ]
  },
  {
   "cell_type": "code",
   "execution_count": 22,
   "id": "461b1cf4-276f-4429-9a1c-bb0a8b48f754",
   "metadata": {},
   "outputs": [
    {
     "data": {
      "text/plain": [
       "title\n",
       ".hack//Legend Of The Twilight   NaN\n",
       ".hack//Roots                    NaN\n",
       ".hack//SIGN                     NaN\n",
       "009-1                           NaN\n",
       "07-Ghost                        NaN\n",
       "                                 ..\n",
       "sola                            NaN\n",
       "www.Working!!                   NaN\n",
       "xxxHOLiC                        NaN\n",
       "xxxHOLiC Kei                    NaN\n",
       "ēlDLIVE                         NaN\n",
       "Name: Kai777, Length: 4489, dtype: float64"
      ]
     },
     "execution_count": 22,
     "metadata": {},
     "output_type": "execute_result"
    }
   ],
   "source": [
    "df.loc['Kai777']"
   ]
  },
  {
   "cell_type": "code",
   "execution_count": 21,
   "id": "f253ea7d-59c8-40bf-baf9-001a49292515",
   "metadata": {},
   "outputs": [],
   "source": [
    "def get_recommendations(username, num_sim_users=2000, avg_method='simple'):    \n",
    "    sim_users_data = df.loc[similar_users_ordered[username].head(num_sim_users).values]\n",
    "\n",
    "    watch_data = validate_X.loc[username]\n",
    "\n",
    "    user_watched = watch_data.loc[watch_data.notnull()].index\n",
    "\n",
    "    suggestables = set(sim_users_data.columns).difference(user_watched)\n",
    "\n",
    "    sim_users_data = sim_users_data[suggestables]\n",
    "\n",
    "    if avg_method == 'simple':\n",
    "        pred_data = sim_users_data.mean(axis=0).sort_values(ascending=False)\n",
    "\n",
    "    elif avg_method == 'weighted':\n",
    "        # user_weights = [incremental_base**x for x in range(sim_users_data.shape[0], 0, -1)]\n",
    "        user_weights = np.arange(sim_users_data.shape[0], 0, -1)\n",
    "\n",
    "        weighted_sum = sim_users_data.mul(user_weights, axis=0).sum()\n",
    "\n",
    "        anime_weights = sim_users_data.notnull().astype('int').mul(user_weights, axis=0).sum()\n",
    "\n",
    "        pred_data = (weighted_sum / anime_weights).sort_values(ascending=False)\n",
    "\n",
    "    \n",
    "    return pred_data"
   ]
  },
  {
   "cell_type": "markdown",
   "id": "1eed1a17-0a09-46ec-8ff0-caa50225a639",
   "metadata": {},
   "source": [
    "## Hyperparameter Tuning"
   ]
  },
  {
   "cell_type": "markdown",
   "id": "1c692358-fea9-4815-b8d1-c31ef11b6446",
   "metadata": {},
   "source": [
    "### Number of Similar Users to Consider"
   ]
  },
  {
   "cell_type": "code",
   "execution_count": 9,
   "id": "1754c5ff-57ca-41ee-a65d-337c3dc533ba",
   "metadata": {},
   "outputs": [],
   "source": [
    "num_sim_users_list = [10, 20, 50, 100, 200, 500, 1000]\n",
    "avg_method_list = ['simple', 'weighted']\n",
    "# incremental_base_list = [1.0001, 1.001, 1.01, 1.1]\n",
    "\n",
    "parameter_combs = []\n",
    "for nsu in num_sim_users_list:\n",
    "    for avgm in avg_method_list:\n",
    "        parameter_combs.append((nsu, avgm))\n",
    "        # if avgm == 'weighted':\n",
    "        #     for base in incremental_base_list:\n",
    "        #         parameter_combs.append((nsu, avgm, base))\n",
    "        # else:\n",
    "        #     parameter_combs.append((nsu, avgm, 1))\n",
    "            \n",
    "random.shuffle(parameter_combs)"
   ]
  },
  {
   "cell_type": "code",
   "execution_count": 10,
   "id": "f99aef0a-791b-417e-a6f8-1369747452c8",
   "metadata": {
    "tags": []
   },
   "outputs": [
    {
     "name": "stderr",
     "output_type": "stream",
     "text": [
      "100%|███████████████████████████████████████████████████████████████████████████████████████████████████████████████████████████████████████████████████████████████████████████████| 14/14 [03:06<00:00, 13.34s/it]\n"
     ]
    }
   ],
   "source": [
    "data = validate_X.sample(750, random_state=42).index\n",
    "rmse_dict = {}\n",
    "\n",
    "for nsu, avgm in tqdm(parameter_combs):\n",
    "    with Pool(15) as p:\n",
    "        partial_f = partial(get_recommendations, num_sim_users=nsu, avg_method=avgm)\n",
    "        validate_pred = pd.DataFrame(p.map(partial_f, np.array(data)), index=data)\n",
    "\n",
    "    rmse = np.sqrt(((validate_pred - validate_Y.loc[data])**2).mean(axis=1)).mean()\n",
    "    rmse_dict[(nsu, avgm)] = rmse"
   ]
  },
  {
   "cell_type": "code",
   "execution_count": 11,
   "id": "ef653259-7fd1-4992-89cf-78b338452fae",
   "metadata": {},
   "outputs": [
    {
     "data": {
      "text/plain": [
       "{(20, 'weighted'): 1.0060779142597882,\n",
       " (100, 'weighted'): 0.9834626163287248,\n",
       " (20, 'simple'): 0.9982245518484044,\n",
       " (50, 'weighted'): 1.0039704549058774,\n",
       " (200, 'simple'): 0.9382487534843342,\n",
       " (200, 'weighted'): 0.9510880255188843,\n",
       " (10, 'simple'): 0.9965872347996549,\n",
       " (500, 'simple'): 0.9051905183658246,\n",
       " (50, 'simple'): 0.995706588861658,\n",
       " (500, 'weighted'): 0.9109556308465195,\n",
       " (1000, 'simple'): 0.8933785916580511,\n",
       " (10, 'weighted'): 1.0007960179960607,\n",
       " (1000, 'weighted'): 0.8950569789072624,\n",
       " (100, 'simple'): 0.969866150656389}"
      ]
     },
     "execution_count": 11,
     "metadata": {},
     "output_type": "execute_result"
    }
   ],
   "source": [
    "rmse_dict"
   ]
  },
  {
   "cell_type": "code",
   "execution_count": 14,
   "id": "26b34312-4f10-4aef-8648-5160686bc44d",
   "metadata": {},
   "outputs": [],
   "source": [
    "anime_ratings = df.mean(axis=0)"
   ]
  },
  {
   "cell_type": "code",
   "execution_count": 15,
   "id": "6a1fffd7-dd9c-4fa6-9187-709c883cde44",
   "metadata": {},
   "outputs": [],
   "source": [
    "validate_avg = pd.DataFrame([anime_ratings]*validate_Y.shape[0], columns=validate_Y.columns, index=validate_Y.index)"
   ]
  },
  {
   "cell_type": "code",
   "execution_count": 18,
   "id": "4c92e1f5-bd49-4554-a1ef-460d6f50f8f4",
   "metadata": {},
   "outputs": [
    {
     "data": {
      "text/plain": [
       "0.8774203373492494"
      ]
     },
     "execution_count": 18,
     "metadata": {},
     "output_type": "execute_result"
    }
   ],
   "source": [
    "np.sqrt(((validate_avg - validate_Y)**2).mean(axis=1)).mean()"
   ]
  },
  {
   "cell_type": "code",
   "execution_count": null,
   "id": "7e81253d-6cec-40ac-8d1b-aca4a71f5218",
   "metadata": {},
   "outputs": [],
   "source": [
    "get_recommendations('WirlWind')"
   ]
  },
  {
   "cell_type": "code",
   "execution_count": null,
   "id": "ba55222c-6e9f-4302-97a8-7385d9b8fb84",
   "metadata": {},
   "outputs": [],
   "source": [
    "with Pool(15) as p:\n",
    "    partial_f = partial(get_recommendations, num_sim_users=2000, avg_method='weighted')\n",
    "    validate_pred = pd.DataFrame(p.map(partial_f, data.tolist()), index=data)"
   ]
  },
  {
   "cell_type": "code",
   "execution_count": null,
   "id": "e8750383-73b2-49f9-a7b3-b0ab2e4ff983",
   "metadata": {},
   "outputs": [],
   "source": [
    "rmse_list = np.sqrt(((validate_pred - validate_Y.loc[data])**2).mean(axis=1))\n",
    "rmse_list"
   ]
  },
  {
   "cell_type": "code",
   "execution_count": null,
   "id": "53ec2386-6596-4eaf-9096-e5d4c0929784",
   "metadata": {},
   "outputs": [],
   "source": [
    "\n",
    "np.sqrt(((pd.DataFrame([anime_ratings]*len(data), index=data) - validate_Y.loc[data])**2).mean(axis=1)).mean()"
   ]
  },
  {
   "cell_type": "code",
   "execution_count": null,
   "id": "636257a8-86cf-46c8-8f13-c3b0779fe58f",
   "metadata": {},
   "outputs": [],
   "source": [
    "rmse_list.mean()"
   ]
  },
  {
   "cell_type": "markdown",
   "id": "1966a130-fd96-4f32-afb7-bf59d58d4811",
   "metadata": {},
   "source": [
    "### Simple vs Weighted Average"
   ]
  },
  {
   "cell_type": "markdown",
   "id": "fa69c303-1e46-4706-bd71-2c691def6ca3",
   "metadata": {},
   "source": [
    "### Previous"
   ]
  },
  {
   "cell_type": "code",
   "execution_count": null,
   "id": "757fe686-c52d-41f0-af9b-a10d71d4999f",
   "metadata": {},
   "outputs": [],
   "source": [
    "validate_pred_prev = pd.read_pickle('../data/validate_pred.pkl.xz')"
   ]
  },
  {
   "cell_type": "markdown",
   "id": "b4b4868f-6b0d-4933-9115-c500db0e7b68",
   "metadata": {},
   "source": [
    "validate_pred.to_pickle('../data/validate_pred.pkl')"
   ]
  },
  {
   "cell_type": "markdown",
   "id": "f1f80c96-3b88-4802-a267-eef571918dd4",
   "metadata": {},
   "source": [
    "%%bash\n",
    "\n",
    "cd ../data\n",
    "\n",
    "rm validate_pred.pkl.xz\n",
    "xz -vT14 validate_pred.pkl"
   ]
  },
  {
   "cell_type": "markdown",
   "id": "0d2257ac-fb69-4d76-9e77-a2cd3de77b07",
   "metadata": {},
   "source": [
    "validate_pred = pd.read_pickle('../data/validate_pred.pkl.xz')"
   ]
  },
  {
   "cell_type": "code",
   "execution_count": null,
   "id": "62bbf7fa-6f6e-45b2-b7c2-d7637c117743",
   "metadata": {},
   "outputs": [],
   "source": [
    "rmse = np.sqrt(((validate_pred_prev - validate_Y)**2).mean(axis=1))"
   ]
  },
  {
   "cell_type": "code",
   "execution_count": null,
   "id": "85745dac-e166-434c-80da-5bd7dde62a1a",
   "metadata": {},
   "outputs": [],
   "source": [
    "rmse.mean()"
   ]
  },
  {
   "cell_type": "code",
   "execution_count": null,
   "id": "dc886d58-e1ef-4cbc-969e-710ec831def1",
   "metadata": {},
   "outputs": [],
   "source": []
  }
 ],
 "metadata": {
  "kernelspec": {
   "display_name": "Python 3 (ipykernel)",
   "language": "python",
   "name": "python3"
  },
  "language_info": {
   "codemirror_mode": {
    "name": "ipython",
    "version": 3
   },
   "file_extension": ".py",
   "mimetype": "text/x-python",
   "name": "python",
   "nbconvert_exporter": "python",
   "pygments_lexer": "ipython3",
   "version": "3.8.12"
  }
 },
 "nbformat": 4,
 "nbformat_minor": 5
}
