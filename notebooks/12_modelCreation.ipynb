{
 "cells": [
  {
   "cell_type": "code",
   "execution_count": 1,
   "id": "7e38bcda-3ff5-429a-ad11-44b281d7ebbb",
   "metadata": {},
   "outputs": [],
   "source": [
    "import numpy as np\n",
    "import pandas as pd\n",
    "import matplotlib.pyplot as plt\n",
    "import seaborn as sns\n",
    "import scipy as sp\n",
    "from sklearn.metrics.pairwise import cosine_similarity\n",
    "from tqdm import tqdm\n",
    "import math\n",
    "from multiprocessing import Pool\n",
    "import warnings\n",
    "from functools import partial\n",
    "import random"
   ]
  },
  {
   "cell_type": "code",
   "execution_count": 2,
   "id": "b4f9de94-a4e8-4c0b-90b9-4f94436c8a5e",
   "metadata": {},
   "outputs": [],
   "source": [
    "np.random.seed(42)\n",
    "tqdm.pandas()\n",
    "warnings.filterwarnings(\"ignore\", category=RuntimeWarning)"
   ]
  },
  {
   "cell_type": "code",
   "execution_count": 3,
   "id": "33f313b1-8e4a-4782-bbb3-c4378158013a",
   "metadata": {},
   "outputs": [],
   "source": [
    "def chunker(seq, size):\n",
    "    return (seq[pos:pos + size] for pos in range(0, len(seq), size))"
   ]
  },
  {
   "cell_type": "code",
   "execution_count": 4,
   "id": "d0fba32d-a882-4a04-8854-f633acbd3dee",
   "metadata": {},
   "outputs": [],
   "source": [
    "def parallelize(groups, func):\n",
    "    num_workers = 16\n",
    "    with Pool(num_workers) as p:\n",
    "        return pd.concat(p.map(func, [group for name, group in groups])).sort_index()"
   ]
  },
  {
   "cell_type": "code",
   "execution_count": 5,
   "id": "6db0d56b-cce8-43d0-97a0-be68f8b09b16",
   "metadata": {},
   "outputs": [],
   "source": [
    "df = pd.read_pickle('../data/train.pkl.xz')"
   ]
  },
  {
   "cell_type": "code",
   "execution_count": 6,
   "id": "a5f16796-3c3d-4afb-866d-70518e3a1f09",
   "metadata": {},
   "outputs": [],
   "source": [
    "validate_X = pd.read_pickle('../data/validate_X.pkl.xz')\n",
    "validate_Y = pd.read_pickle('../data/validate_Y.pkl.xz')"
   ]
  },
  {
   "cell_type": "code",
   "execution_count": null,
   "id": "31b7ab9e-7162-40ef-9c2d-79d1f71dc8bd",
   "metadata": {},
   "outputs": [],
   "source": [
    "df = df.fillna(0)\n",
    "\n",
    "sparse = sp.sparse.csr_matrix(df.values, dtype=np.float32)\n",
    "\n",
    "def similarity_calculator(data):\n",
    "    return pd.DataFrame(cosine_similarity(sparse, data), index=df.index, columns=data.index).astype(np.float16)\n",
    "\n",
    "num_workers = 15\n",
    "chunksize = int(validate_X.shape[0]/num_workers)+1\n",
    "chunks = chunker(validate_X.fillna(0), chunksize)\n",
    "with Pool(num_workers) as p:\n",
    "    similarity_matrix = pd.concat(p.map(similarity_calculator, chunks), axis=1)\n",
    "    \n",
    "del chunks\n",
    "\n",
    "similarity_matrix.to_pickle('/mnt/int_drive_0/Data/anime-recommendation-engine/similarity_matrix.pkl')\n",
    "\n",
    "similarity_matrix = pd.read_pickle('/mnt/int_drive_0/Data/anime-recommendation-engine/similarity_matrix.pkl')\n",
    "def n_similar_users(column, n=1000):\n",
    "    return pd.Series(column.sort_values(ascending=False).head(n).index, name=column.name)\n",
    "\n",
    "def similar_users_ordered(column):\n",
    "    return pd.Series(column.sort_values(ascending=False).index, name=column.name)\n",
    "\n",
    "with Pool(15) as p:\n",
    "    similar_users_ordered = pd.concat(p.map(similar_users_ordered, (tup[1] for tup in similarity_matrix.items())), axis=1)\n",
    "\n",
    "similar_users_ordered.to_pickle('/mnt/int_drive_0/Data/anime-recommendation-engine/similar_users_ordered.pkl')\n",
    "\n",
    "df = df.replace(0, np.NaN)"
   ]
  },
  {
   "cell_type": "code",
   "execution_count": 8,
   "id": "f7bcc039-f41a-4346-9db9-33177f76572a",
   "metadata": {},
   "outputs": [],
   "source": [
    "similar_users_ordered = pd.read_pickle('/mnt/int_drive_0/data/anime-recommendation-engine/similar_users_ordered.pkl')"
   ]
  },
  {
   "cell_type": "code",
   "execution_count": 10,
   "id": "f253ea7d-59c8-40bf-baf9-001a49292515",
   "metadata": {},
   "outputs": [],
   "source": [
    "def get_recommendations(username, num_sim_users=2000, avg_method='simple'):    \n",
    "    sim_users_data = df.loc[similar_users_ordered[username].head(num_sim_users).values]\n",
    "\n",
    "    watch_data = validate_X.loc[username]\n",
    "\n",
    "    user_watched = watch_data.loc[watch_data.notnull()].index\n",
    "\n",
    "    suggestables = set(sim_users_data.columns).difference(user_watched)\n",
    "\n",
    "    sim_users_data = sim_users_data[suggestables]\n",
    "\n",
    "    if avg_method == 'simple':\n",
    "        pred_data = sim_users_data.mean(axis=0).sort_values(ascending=False)\n",
    "\n",
    "    elif avg_method == 'weighted':\n",
    "        # user_weights = [incremental_base**x for x in range(sim_users_data.shape[0], 0, -1)]\n",
    "        user_weights = np.arange(sim_users_data.shape[0], 0, -1)\n",
    "\n",
    "        weighted_sum = sim_users_data.mul(user_weights, axis=0).sum()\n",
    "\n",
    "        anime_weights = sim_users_data.notnull().astype('int').mul(user_weights, axis=0).sum()\n",
    "\n",
    "        pred_data = (weighted_sum / anime_weights).sort_values(ascending=False)\n",
    "\n",
    "    \n",
    "    return pred_data"
   ]
  },
  {
   "cell_type": "markdown",
   "id": "1eed1a17-0a09-46ec-8ff0-caa50225a639",
   "metadata": {},
   "source": [
    "## Hyperparameter Tuning"
   ]
  },
  {
   "cell_type": "code",
   "execution_count": 30,
   "id": "380e7335-cbf1-42c8-ae2d-de890756241b",
   "metadata": {},
   "outputs": [],
   "source": [
    "def rmse(pred, true):\n",
    "    return np.sqrt(np.nanmean((pred - true)**2))"
   ]
  },
  {
   "cell_type": "markdown",
   "id": "1c692358-fea9-4815-b8d1-c31ef11b6446",
   "metadata": {},
   "source": [
    "### Number of Similar Users to Consider"
   ]
  },
  {
   "cell_type": "code",
   "execution_count": 11,
   "id": "1754c5ff-57ca-41ee-a65d-337c3dc533ba",
   "metadata": {},
   "outputs": [],
   "source": [
    "num_sim_users_list = [10, 20, 50, 100, 200, 500, 1000]\n",
    "avg_method_list = ['simple', 'weighted']\n",
    "# incremental_base_list = [1.0001, 1.001, 1.01, 1.1]\n",
    "\n",
    "parameter_combs = []\n",
    "for nsu in num_sim_users_list:\n",
    "    for avgm in avg_method_list:\n",
    "        parameter_combs.append((nsu, avgm))\n",
    "            \n",
    "random.shuffle(parameter_combs)"
   ]
  },
  {
   "cell_type": "code",
   "execution_count": 23,
   "id": "f99aef0a-791b-417e-a6f8-1369747452c8",
   "metadata": {
    "tags": []
   },
   "outputs": [
    {
     "name": "stderr",
     "output_type": "stream",
     "text": [
      "100%|███████████████████████████████████████████████████████████████████████████████████████████████████████████████████████████████████████████████████████████████████████████████| 14/14 [03:49<00:00, 16.36s/it]\n"
     ]
    }
   ],
   "source": [
    "data = validate_X.sample(750, random_state=42).index\n",
    "rmse_dict = {}\n",
    "\n",
    "for nsu, avgm in tqdm(parameter_combs):\n",
    "    with Pool(15) as p:\n",
    "        partial_f = partial(get_recommendations, num_sim_users=nsu, avg_method=avgm)\n",
    "        validate_pred = pd.DataFrame(p.map(partial_f, np.array(data)), index=data)\n",
    "\n",
    "    rmse_dict[(nsu, avgm)] = rmse(validate_pred, validate_Y.loc[data])"
   ]
  },
  {
   "cell_type": "code",
   "execution_count": 24,
   "id": "ef653259-7fd1-4992-89cf-78b338452fae",
   "metadata": {},
   "outputs": [
    {
     "data": {
      "text/plain": [
       "{(20, 'weighted'): 1.0164731114288996,\n",
       " (20, 'simple'): 1.0094720884576431,\n",
       " (50, 'simple'): 1.004475373088348,\n",
       " (10, 'weighted'): 1.0168702648055246,\n",
       " (200, 'weighted'): 0.9570248796560815,\n",
       " (500, 'weighted'): 0.9132503671621245,\n",
       " (200, 'simple'): 0.9452104899892659,\n",
       " (500, 'simple'): 0.9050967724213126,\n",
       " (1000, 'simple'): 0.8892681622914886,\n",
       " (100, 'simple'): 0.9739179682261925,\n",
       " (10, 'simple'): 1.0135619224343615,\n",
       " (1000, 'weighted'): 0.8932796171901453,\n",
       " (100, 'weighted'): 0.9885698333129669,\n",
       " (50, 'weighted'): 1.0159410861985771}"
      ]
     },
     "execution_count": 24,
     "metadata": {},
     "output_type": "execute_result"
    }
   ],
   "source": [
    "rmse_dict"
   ]
  },
  {
   "cell_type": "markdown",
   "id": "ef1db219-e1f7-4a07-922b-aaf1145a5bad",
   "metadata": {},
   "source": [
    "### The best model"
   ]
  },
  {
   "cell_type": "code",
   "execution_count": 48,
   "id": "aa041e76-0259-4399-81ac-977e361f14b9",
   "metadata": {},
   "outputs": [],
   "source": [
    "data = validate_X.sample(750, random_state=42).index\n",
    "with Pool(15) as p:\n",
    "    partial_f = partial(get_recommendations, num_sim_users=1000, avg_method='simple')\n",
    "    validate_pred = pd.DataFrame(p.map(partial_f, np.array(data)), index=data)"
   ]
  },
  {
   "cell_type": "code",
   "execution_count": 49,
   "id": "491c338c-c947-4022-94f4-67b7e587ffc2",
   "metadata": {},
   "outputs": [
    {
     "data": {
      "text/plain": [
       "0.8892681622914886"
      ]
     },
     "execution_count": 49,
     "metadata": {},
     "output_type": "execute_result"
    }
   ],
   "source": [
    "rmse(validate_pred, validate_Y.loc[data])"
   ]
  },
  {
   "cell_type": "markdown",
   "id": "f5c22495-2c5f-4c31-b4bb-0c9164437833",
   "metadata": {},
   "source": [
    "### Benchmark (Mean of the titles)"
   ]
  },
  {
   "cell_type": "code",
   "execution_count": 46,
   "id": "d70eb918-4e26-47a0-b918-02f7ee9014ed",
   "metadata": {},
   "outputs": [],
   "source": [
    "mean_pred = pd.DataFrame([validate_X.mean()] * validate_X.shape[1], index=validate_X.index)"
   ]
  },
  {
   "cell_type": "code",
   "execution_count": 47,
   "id": "b55293b6-8ed0-48ad-84fe-7db895d1728a",
   "metadata": {},
   "outputs": [
    {
     "data": {
      "text/plain": [
       "0.9145362271736047"
      ]
     },
     "execution_count": 47,
     "metadata": {},
     "output_type": "execute_result"
    }
   ],
   "source": [
    "rmse(mean_pred, validate_Y)"
   ]
  },
  {
   "cell_type": "markdown",
   "id": "2c028ba8-3654-4f78-99d0-6341777588a6",
   "metadata": {},
   "source": [
    "validate_pred_prev = pd.read_pickle('../data/validate_pred.pkl.xz')"
   ]
  },
  {
   "cell_type": "markdown",
   "id": "b4b4868f-6b0d-4933-9115-c500db0e7b68",
   "metadata": {},
   "source": [
    "validate_pred.to_pickle('../data/validate_pred.pkl')"
   ]
  },
  {
   "cell_type": "markdown",
   "id": "f1f80c96-3b88-4802-a267-eef571918dd4",
   "metadata": {},
   "source": [
    "%%bash\n",
    "\n",
    "cd ../data\n",
    "\n",
    "rm validate_pred.pkl.xz\n",
    "xz -vT14 validate_pred.pkl"
   ]
  },
  {
   "cell_type": "markdown",
   "id": "0d2257ac-fb69-4d76-9e77-a2cd3de77b07",
   "metadata": {},
   "source": [
    "validate_pred = pd.read_pickle('../data/validate_pred.pkl.xz')"
   ]
  }
 ],
 "metadata": {
  "kernelspec": {
   "display_name": "Python 3 (ipykernel)",
   "language": "python",
   "name": "python3"
  },
  "language_info": {
   "codemirror_mode": {
    "name": "ipython",
    "version": 3
   },
   "file_extension": ".py",
   "mimetype": "text/x-python",
   "name": "python",
   "nbconvert_exporter": "python",
   "pygments_lexer": "ipython3",
   "version": "3.8.12"
  }
 },
 "nbformat": 4,
 "nbformat_minor": 5
}
