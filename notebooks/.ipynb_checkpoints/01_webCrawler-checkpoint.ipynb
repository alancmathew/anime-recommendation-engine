{
 "cells": [
  {
   "cell_type": "code",
   "execution_count": 1,
   "id": "96aafb91-23d4-4c87-a7c5-b8be3cf9b219",
   "metadata": {},
   "outputs": [],
   "source": [
    "hard_drive = 'sdb'"
   ]
  },
  {
   "cell_type": "code",
   "execution_count": 2,
   "id": "b43de628-2c7c-4dc3-b5f5-ed0204b5b6cf",
   "metadata": {},
   "outputs": [],
   "source": [
    "import requests\n",
    "from bs4 import BeautifulSoup\n",
    "import numpy as np\n",
    "import pandas as pd\n",
    "from tqdm import tqdm\n",
    "import os\n",
    "import sys\n",
    "import time\n",
    "import random\n",
    "import pickle\n",
    "import json\n",
    "from itertools import cycle\n",
    "from multiprocessing import Pool\n",
    "from concurrent.futures import ThreadPoolExecutor\n",
    "\n",
    "sys.path.insert(0, '../tools/')\n",
    "from specialRequests import specialRequests"
   ]
  },
  {
   "cell_type": "code",
   "execution_count": 3,
   "id": "0ba925cb-20b9-43f2-a1ae-5193900014a0",
   "metadata": {},
   "outputs": [],
   "source": [
    "# urls = {'novel':{'https://www.anime-planet.com/'}, 'done':set(), 'batch':[]}\n",
    "with open('../data/urls.pkl','rb') as file:\n",
    "    urls = pickle.load(file)  "
   ]
  },
  {
   "cell_type": "code",
   "execution_count": 4,
   "id": "cb1e25ad-063a-4bd8-a9ab-e23ec182d7cf",
   "metadata": {},
   "outputs": [],
   "source": [
    "def saveData(page_data):\n",
    "    with open('../data/urls.pkl','wb') as file:\n",
    "        pickle.dump(urls, file)\n",
    "        \n",
    "    with open(\"../data/urls_novel.json\", 'w') as file:\n",
    "        json.dump(list(urls['novel']), file, indent=2) \n",
    "        \n",
    "    page_df = pd.DataFrame(page_data)\n",
    "    page_df.to_csv(f'/mnt/{hard_drive}/data/page_data.csv', mode='a', index=False,\n",
    "               header=not os.path.exists(f'/mnt/{hard_drive}/data/page_data.csv'))\n",
    "    del page_df"
   ]
  },
  {
   "cell_type": "code",
   "execution_count": 5,
   "id": "a8aa2f55-0bdf-44b3-a420-838f2098cdb1",
   "metadata": {},
   "outputs": [],
   "source": [
    "sr = specialRequests()"
   ]
  },
  {
   "cell_type": "code",
   "execution_count": 6,
   "id": "ff0c968e-a798-46a7-a3e9-7cc635a6bba8",
   "metadata": {},
   "outputs": [],
   "source": [
    "def getCurrentPageUrls(url):    \n",
    "    time.sleep(random.randint(2000, 5000)/1000)\n",
    "    \n",
    "    cur_urls = set()\n",
    "\n",
    "    html_text = sr.get(url)\n",
    "    soup = BeautifulSoup(html_text, 'html.parser')\n",
    "\n",
    "    for link in soup.find_all('a'):\n",
    "        try:\n",
    "            branch = link.get('href')\n",
    "            if branch[0] == '/':\n",
    "                cur_urls.add('https://www.anime-planet.com' + branch)\n",
    "        except:\n",
    "            pass\n",
    "    \n",
    "    return cur_urls, (url, html_text)"
   ]
  },
  {
   "cell_type": "code",
   "execution_count": 7,
   "id": "2c776f3b-66c4-465e-8cc3-da41aaa0cb2b",
   "metadata": {},
   "outputs": [],
   "source": [
    "# def getAllUrls():\n",
    "#     page_data = {'url':[], 'html_text':[]}\n",
    "#     disallowed_urls = ['https://www.anime-planet.com/search.php', 'https://www.anime-planet.com/login',\n",
    "#                        'https://www.anime-planet.com/sign-up']\n",
    "#     while len(urls['novel']) > 0:\n",
    "#         pop_url = urls['novel'].pop()\n",
    "\n",
    "#         if pop_url[-1] == '.':\n",
    "#             pop_url = pop_url.replace('forum/members', 'users')[:-1]\n",
    "\n",
    "#         if (pop_url not in urls['done']) and (pop_url not in disallowed_urls):\n",
    "#             cur_urls, html_text = getCurrentPageUrls(pop_url)\n",
    "#             urls['done'].add(pop_url)\n",
    "#             page_data['url'].append(pop_url)\n",
    "#             page_data['html_text'].append(html_text)\n",
    "        \n",
    "#             diff = cur_urls.difference(urls['done'])\n",
    "#             urls['novel'] = urls['novel'].union(diff)\n",
    "        \n",
    "#             print(len(urls['novel']), len(urls['done']), 0 if len(urls['novel']) == 0 else len(urls['done'])/len(urls['novel']), pop_url)\n",
    "        \n",
    "#             if len(urls['done']) % 100 == 0:\n",
    "#                 print('saving data...')\n",
    "#                 saveData(page_data)\n",
    "#                 page_data = {'url':[], 'html_text':[]}"
   ]
  },
  {
   "cell_type": "code",
   "execution_count": 8,
   "id": "8aa8dc80-123f-4818-8f0a-087019500d3c",
   "metadata": {},
   "outputs": [],
   "source": [
    "def getAllUrlsMulti():\n",
    "    page_data = {'url':[], 'html_text':[]}\n",
    "    disallowed_urls = ['https://www.anime-planet.com/search.php', 'https://www.anime-planet.com/login',\n",
    "                       'https://www.anime-planet.com/sign-up']\n",
    "    start_time = time.time()\n",
    "    while len(urls['novel']) > 0:\n",
    "        popped_urls = []\n",
    "        while len(popped_urls) < 25:\n",
    "            pop_url = urls['novel'].pop()\n",
    "\n",
    "            if pop_url[-1] == '.':\n",
    "                pop_url = pop_url.replace('forum/members', 'users')[:-1]\n",
    "\n",
    "            if (pop_url not in urls['done']) and (pop_url not in disallowed_urls):\n",
    "                popped_urls.append(pop_url)\n",
    "\n",
    "        with ThreadPoolExecutor(max_workers=25) as executor:\n",
    "            results = list(executor.map(getCurrentPageUrls, popped_urls))\n",
    "\n",
    "\n",
    "        urls['done'] = urls['done'].union(popped_urls)\n",
    "\n",
    "        cur_urls = set().union(*[item[0] for item in results])\n",
    "        list_of_tuples = [item[1] for item in results]\n",
    "        url_html_dict = {}\n",
    "        for tup in list_of_tuples:\n",
    "            page_data['url'].append(tup[0])\n",
    "            page_data['html_text'].append(tup[1])\n",
    "\n",
    "        diff = cur_urls.difference(urls['done'])\n",
    "        urls['novel'] = urls['novel'].union(diff)\n",
    "\n",
    "        print(len(urls['novel']), len(urls['done']), 0 if len(urls['novel']) == 0 else len(urls['done'])/len(urls['novel']))\n",
    "\n",
    "        if len(urls['done']) % 500 == 0:\n",
    "            end_time = time.time()\n",
    "            print('timer: ', end_time-start_time)\n",
    "            print('saving data...')\n",
    "            saveData(page_data)\n",
    "            page_data = {'url':[], 'html_text':[]}\n",
    "            time.sleep(random.randint(5000, 10000)/1000)\n",
    "            start_time = time.time()"
   ]
  },
  {
   "cell_type": "code",
   "execution_count": 9,
   "id": "3cfe2caf-bf42-449b-bbfb-97ab8dd39701",
   "metadata": {},
   "outputs": [
    {
     "name": "stdout",
     "output_type": "stream",
     "text": [
      "929252 211120 0.22719348465217185\n",
      "929341 211140 0.22719324768841578\n",
      "929413 211160 0.22719716638351303\n",
      "929498 211180 0.22719790682712604\n",
      "929567 211200 0.2272025577500062\n",
      "saving data...\n",
      "929664 211220 0.22720036486300427\n"
     ]
    },
    {
     "ename": "KeyboardInterrupt",
     "evalue": "",
     "output_type": "error",
     "traceback": [
      "\u001b[0;31m---------------------------------------------------------------------------\u001b[0m",
      "\u001b[0;31mKeyboardInterrupt\u001b[0m                         Traceback (most recent call last)",
      "\u001b[0;32m<ipython-input-8-b21c2ea720f9>\u001b[0m in \u001b[0;36mgetAllUrlsMulti\u001b[0;34m()\u001b[0m\n\u001b[1;32m     16\u001b[0m         \u001b[0;32mwith\u001b[0m \u001b[0mThreadPoolExecutor\u001b[0m\u001b[0;34m(\u001b[0m\u001b[0mmax_workers\u001b[0m\u001b[0;34m=\u001b[0m\u001b[0;36m20\u001b[0m\u001b[0;34m)\u001b[0m \u001b[0;32mas\u001b[0m \u001b[0mexecutor\u001b[0m\u001b[0;34m:\u001b[0m\u001b[0;34m\u001b[0m\u001b[0;34m\u001b[0m\u001b[0m\n\u001b[0;32m---> 17\u001b[0;31m             \u001b[0mresults\u001b[0m \u001b[0;34m=\u001b[0m \u001b[0mlist\u001b[0m\u001b[0;34m(\u001b[0m\u001b[0mexecutor\u001b[0m\u001b[0;34m.\u001b[0m\u001b[0mmap\u001b[0m\u001b[0;34m(\u001b[0m\u001b[0mgetCurrentPageUrls\u001b[0m\u001b[0;34m,\u001b[0m \u001b[0mpopped_urls\u001b[0m\u001b[0;34m)\u001b[0m\u001b[0;34m)\u001b[0m\u001b[0;34m\u001b[0m\u001b[0;34m\u001b[0m\u001b[0m\n\u001b[0m\u001b[1;32m     18\u001b[0m \u001b[0;34m\u001b[0m\u001b[0m\n",
      "\u001b[0;32m~/miniconda3/envs/anime-recommendation-engine/lib/python3.8/concurrent/futures/_base.py\u001b[0m in \u001b[0;36mresult_iterator\u001b[0;34m()\u001b[0m\n\u001b[1;32m    618\u001b[0m                     \u001b[0;32mif\u001b[0m \u001b[0mtimeout\u001b[0m \u001b[0;32mis\u001b[0m \u001b[0;32mNone\u001b[0m\u001b[0;34m:\u001b[0m\u001b[0;34m\u001b[0m\u001b[0;34m\u001b[0m\u001b[0m\n\u001b[0;32m--> 619\u001b[0;31m                         \u001b[0;32myield\u001b[0m \u001b[0mfs\u001b[0m\u001b[0;34m.\u001b[0m\u001b[0mpop\u001b[0m\u001b[0;34m(\u001b[0m\u001b[0;34m)\u001b[0m\u001b[0;34m.\u001b[0m\u001b[0mresult\u001b[0m\u001b[0;34m(\u001b[0m\u001b[0;34m)\u001b[0m\u001b[0;34m\u001b[0m\u001b[0;34m\u001b[0m\u001b[0m\n\u001b[0m\u001b[1;32m    620\u001b[0m                     \u001b[0;32melse\u001b[0m\u001b[0;34m:\u001b[0m\u001b[0;34m\u001b[0m\u001b[0;34m\u001b[0m\u001b[0m\n",
      "\u001b[0;32m~/miniconda3/envs/anime-recommendation-engine/lib/python3.8/concurrent/futures/_base.py\u001b[0m in \u001b[0;36mresult\u001b[0;34m(self, timeout)\u001b[0m\n\u001b[1;32m    438\u001b[0m \u001b[0;34m\u001b[0m\u001b[0m\n\u001b[0;32m--> 439\u001b[0;31m                 \u001b[0mself\u001b[0m\u001b[0;34m.\u001b[0m\u001b[0m_condition\u001b[0m\u001b[0;34m.\u001b[0m\u001b[0mwait\u001b[0m\u001b[0;34m(\u001b[0m\u001b[0mtimeout\u001b[0m\u001b[0;34m)\u001b[0m\u001b[0;34m\u001b[0m\u001b[0;34m\u001b[0m\u001b[0m\n\u001b[0m\u001b[1;32m    440\u001b[0m \u001b[0;34m\u001b[0m\u001b[0m\n",
      "\u001b[0;32m~/miniconda3/envs/anime-recommendation-engine/lib/python3.8/threading.py\u001b[0m in \u001b[0;36mwait\u001b[0;34m(self, timeout)\u001b[0m\n\u001b[1;32m    301\u001b[0m             \u001b[0;32mif\u001b[0m \u001b[0mtimeout\u001b[0m \u001b[0;32mis\u001b[0m \u001b[0;32mNone\u001b[0m\u001b[0;34m:\u001b[0m\u001b[0;34m\u001b[0m\u001b[0;34m\u001b[0m\u001b[0m\n\u001b[0;32m--> 302\u001b[0;31m                 \u001b[0mwaiter\u001b[0m\u001b[0;34m.\u001b[0m\u001b[0macquire\u001b[0m\u001b[0;34m(\u001b[0m\u001b[0;34m)\u001b[0m\u001b[0;34m\u001b[0m\u001b[0;34m\u001b[0m\u001b[0m\n\u001b[0m\u001b[1;32m    303\u001b[0m                 \u001b[0mgotit\u001b[0m \u001b[0;34m=\u001b[0m \u001b[0;32mTrue\u001b[0m\u001b[0;34m\u001b[0m\u001b[0;34m\u001b[0m\u001b[0m\n",
      "\u001b[0;31mKeyboardInterrupt\u001b[0m: ",
      "\nDuring handling of the above exception, another exception occurred:\n",
      "\u001b[0;31mKeyboardInterrupt\u001b[0m                         Traceback (most recent call last)",
      "\u001b[0;32m<ipython-input-9-3c01b3c1a96a>\u001b[0m in \u001b[0;36m<module>\u001b[0;34m\u001b[0m\n\u001b[0;32m----> 1\u001b[0;31m \u001b[0mgetAllUrlsMulti\u001b[0m\u001b[0;34m(\u001b[0m\u001b[0;34m)\u001b[0m\u001b[0;34m\u001b[0m\u001b[0;34m\u001b[0m\u001b[0m\n\u001b[0m",
      "\u001b[0;32m<ipython-input-8-b21c2ea720f9>\u001b[0m in \u001b[0;36mgetAllUrlsMulti\u001b[0;34m()\u001b[0m\n\u001b[1;32m     15\u001b[0m \u001b[0;34m\u001b[0m\u001b[0m\n\u001b[1;32m     16\u001b[0m         \u001b[0;32mwith\u001b[0m \u001b[0mThreadPoolExecutor\u001b[0m\u001b[0;34m(\u001b[0m\u001b[0mmax_workers\u001b[0m\u001b[0;34m=\u001b[0m\u001b[0;36m20\u001b[0m\u001b[0;34m)\u001b[0m \u001b[0;32mas\u001b[0m \u001b[0mexecutor\u001b[0m\u001b[0;34m:\u001b[0m\u001b[0;34m\u001b[0m\u001b[0;34m\u001b[0m\u001b[0m\n\u001b[0;32m---> 17\u001b[0;31m             \u001b[0mresults\u001b[0m \u001b[0;34m=\u001b[0m \u001b[0mlist\u001b[0m\u001b[0;34m(\u001b[0m\u001b[0mexecutor\u001b[0m\u001b[0;34m.\u001b[0m\u001b[0mmap\u001b[0m\u001b[0;34m(\u001b[0m\u001b[0mgetCurrentPageUrls\u001b[0m\u001b[0;34m,\u001b[0m \u001b[0mpopped_urls\u001b[0m\u001b[0;34m)\u001b[0m\u001b[0;34m)\u001b[0m\u001b[0;34m\u001b[0m\u001b[0;34m\u001b[0m\u001b[0m\n\u001b[0m\u001b[1;32m     18\u001b[0m \u001b[0;34m\u001b[0m\u001b[0m\n\u001b[1;32m     19\u001b[0m \u001b[0;34m\u001b[0m\u001b[0m\n",
      "\u001b[0;32m~/miniconda3/envs/anime-recommendation-engine/lib/python3.8/concurrent/futures/_base.py\u001b[0m in \u001b[0;36m__exit__\u001b[0;34m(self, exc_type, exc_val, exc_tb)\u001b[0m\n\u001b[1;32m    642\u001b[0m \u001b[0;34m\u001b[0m\u001b[0m\n\u001b[1;32m    643\u001b[0m     \u001b[0;32mdef\u001b[0m \u001b[0m__exit__\u001b[0m\u001b[0;34m(\u001b[0m\u001b[0mself\u001b[0m\u001b[0;34m,\u001b[0m \u001b[0mexc_type\u001b[0m\u001b[0;34m,\u001b[0m \u001b[0mexc_val\u001b[0m\u001b[0;34m,\u001b[0m \u001b[0mexc_tb\u001b[0m\u001b[0;34m)\u001b[0m\u001b[0;34m:\u001b[0m\u001b[0;34m\u001b[0m\u001b[0;34m\u001b[0m\u001b[0m\n\u001b[0;32m--> 644\u001b[0;31m         \u001b[0mself\u001b[0m\u001b[0;34m.\u001b[0m\u001b[0mshutdown\u001b[0m\u001b[0;34m(\u001b[0m\u001b[0mwait\u001b[0m\u001b[0;34m=\u001b[0m\u001b[0;32mTrue\u001b[0m\u001b[0;34m)\u001b[0m\u001b[0;34m\u001b[0m\u001b[0;34m\u001b[0m\u001b[0m\n\u001b[0m\u001b[1;32m    645\u001b[0m         \u001b[0;32mreturn\u001b[0m \u001b[0;32mFalse\u001b[0m\u001b[0;34m\u001b[0m\u001b[0;34m\u001b[0m\u001b[0m\n\u001b[1;32m    646\u001b[0m \u001b[0;34m\u001b[0m\u001b[0m\n",
      "\u001b[0;32m~/miniconda3/envs/anime-recommendation-engine/lib/python3.8/concurrent/futures/thread.py\u001b[0m in \u001b[0;36mshutdown\u001b[0;34m(self, wait)\u001b[0m\n\u001b[1;32m    234\u001b[0m         \u001b[0;32mif\u001b[0m \u001b[0mwait\u001b[0m\u001b[0;34m:\u001b[0m\u001b[0;34m\u001b[0m\u001b[0;34m\u001b[0m\u001b[0m\n\u001b[1;32m    235\u001b[0m             \u001b[0;32mfor\u001b[0m \u001b[0mt\u001b[0m \u001b[0;32min\u001b[0m \u001b[0mself\u001b[0m\u001b[0;34m.\u001b[0m\u001b[0m_threads\u001b[0m\u001b[0;34m:\u001b[0m\u001b[0;34m\u001b[0m\u001b[0;34m\u001b[0m\u001b[0m\n\u001b[0;32m--> 236\u001b[0;31m                 \u001b[0mt\u001b[0m\u001b[0;34m.\u001b[0m\u001b[0mjoin\u001b[0m\u001b[0;34m(\u001b[0m\u001b[0;34m)\u001b[0m\u001b[0;34m\u001b[0m\u001b[0;34m\u001b[0m\u001b[0m\n\u001b[0m\u001b[1;32m    237\u001b[0m     \u001b[0mshutdown\u001b[0m\u001b[0;34m.\u001b[0m\u001b[0m__doc__\u001b[0m \u001b[0;34m=\u001b[0m \u001b[0m_base\u001b[0m\u001b[0;34m.\u001b[0m\u001b[0mExecutor\u001b[0m\u001b[0;34m.\u001b[0m\u001b[0mshutdown\u001b[0m\u001b[0;34m.\u001b[0m\u001b[0m__doc__\u001b[0m\u001b[0;34m\u001b[0m\u001b[0;34m\u001b[0m\u001b[0m\n",
      "\u001b[0;32m~/miniconda3/envs/anime-recommendation-engine/lib/python3.8/threading.py\u001b[0m in \u001b[0;36mjoin\u001b[0;34m(self, timeout)\u001b[0m\n\u001b[1;32m   1009\u001b[0m \u001b[0;34m\u001b[0m\u001b[0m\n\u001b[1;32m   1010\u001b[0m         \u001b[0;32mif\u001b[0m \u001b[0mtimeout\u001b[0m \u001b[0;32mis\u001b[0m \u001b[0;32mNone\u001b[0m\u001b[0;34m:\u001b[0m\u001b[0;34m\u001b[0m\u001b[0;34m\u001b[0m\u001b[0m\n\u001b[0;32m-> 1011\u001b[0;31m             \u001b[0mself\u001b[0m\u001b[0;34m.\u001b[0m\u001b[0m_wait_for_tstate_lock\u001b[0m\u001b[0;34m(\u001b[0m\u001b[0;34m)\u001b[0m\u001b[0;34m\u001b[0m\u001b[0;34m\u001b[0m\u001b[0m\n\u001b[0m\u001b[1;32m   1012\u001b[0m         \u001b[0;32melse\u001b[0m\u001b[0;34m:\u001b[0m\u001b[0;34m\u001b[0m\u001b[0;34m\u001b[0m\u001b[0m\n\u001b[1;32m   1013\u001b[0m             \u001b[0;31m# the behavior of a negative timeout isn't documented, but\u001b[0m\u001b[0;34m\u001b[0m\u001b[0;34m\u001b[0m\u001b[0;34m\u001b[0m\u001b[0m\n",
      "\u001b[0;32m~/miniconda3/envs/anime-recommendation-engine/lib/python3.8/threading.py\u001b[0m in \u001b[0;36m_wait_for_tstate_lock\u001b[0;34m(self, block, timeout)\u001b[0m\n\u001b[1;32m   1025\u001b[0m         \u001b[0;32mif\u001b[0m \u001b[0mlock\u001b[0m \u001b[0;32mis\u001b[0m \u001b[0;32mNone\u001b[0m\u001b[0;34m:\u001b[0m  \u001b[0;31m# already determined that the C code is done\u001b[0m\u001b[0;34m\u001b[0m\u001b[0;34m\u001b[0m\u001b[0m\n\u001b[1;32m   1026\u001b[0m             \u001b[0;32massert\u001b[0m \u001b[0mself\u001b[0m\u001b[0;34m.\u001b[0m\u001b[0m_is_stopped\u001b[0m\u001b[0;34m\u001b[0m\u001b[0;34m\u001b[0m\u001b[0m\n\u001b[0;32m-> 1027\u001b[0;31m         \u001b[0;32melif\u001b[0m \u001b[0mlock\u001b[0m\u001b[0;34m.\u001b[0m\u001b[0macquire\u001b[0m\u001b[0;34m(\u001b[0m\u001b[0mblock\u001b[0m\u001b[0;34m,\u001b[0m \u001b[0mtimeout\u001b[0m\u001b[0;34m)\u001b[0m\u001b[0;34m:\u001b[0m\u001b[0;34m\u001b[0m\u001b[0;34m\u001b[0m\u001b[0m\n\u001b[0m\u001b[1;32m   1028\u001b[0m             \u001b[0mlock\u001b[0m\u001b[0;34m.\u001b[0m\u001b[0mrelease\u001b[0m\u001b[0;34m(\u001b[0m\u001b[0;34m)\u001b[0m\u001b[0;34m\u001b[0m\u001b[0;34m\u001b[0m\u001b[0m\n\u001b[1;32m   1029\u001b[0m             \u001b[0mself\u001b[0m\u001b[0;34m.\u001b[0m\u001b[0m_stop\u001b[0m\u001b[0;34m(\u001b[0m\u001b[0;34m)\u001b[0m\u001b[0;34m\u001b[0m\u001b[0;34m\u001b[0m\u001b[0m\n",
      "\u001b[0;31mKeyboardInterrupt\u001b[0m: "
     ]
    }
   ],
   "source": [
    "getAllUrlsMulti()"
   ]
  }
 ],
 "metadata": {
  "kernelspec": {
   "display_name": "Python 3",
   "language": "python",
   "name": "python3"
  },
  "language_info": {
   "codemirror_mode": {
    "name": "ipython",
    "version": 3
   },
   "file_extension": ".py",
   "mimetype": "text/x-python",
   "name": "python",
   "nbconvert_exporter": "python",
   "pygments_lexer": "ipython3",
   "version": "3.8.10"
  }
 },
 "nbformat": 4,
 "nbformat_minor": 5
}
