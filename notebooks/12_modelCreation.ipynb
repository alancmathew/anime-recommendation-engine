{
 "cells": [
  {
   "cell_type": "code",
   "execution_count": 13,
   "id": "7e38bcda-3ff5-429a-ad11-44b281d7ebbb",
   "metadata": {},
   "outputs": [],
   "source": [
    "import numpy as np\n",
    "import pandas as pd\n",
    "import matplotlib.pyplot as plt\n",
    "import seaborn as sns\n",
    "import scipy as sp\n",
    "from sklearn.metrics.pairwise import cosine_similarity\n",
    "from tqdm import tqdm\n",
    "import math\n",
    "from multiprocessing import Pool\n",
    "import warnings\n",
    "from functools import partial\n",
    "from itertools import product"
   ]
  },
  {
   "cell_type": "code",
   "execution_count": 2,
   "id": "b4f9de94-a4e8-4c0b-90b9-4f94436c8a5e",
   "metadata": {},
   "outputs": [],
   "source": [
    "np.random.seed(42)\n",
    "tqdm.pandas()\n",
    "warnings.filterwarnings(\"ignore\", category=RuntimeWarning)"
   ]
  },
  {
   "cell_type": "code",
   "execution_count": 3,
   "id": "33f313b1-8e4a-4782-bbb3-c4378158013a",
   "metadata": {},
   "outputs": [],
   "source": [
    "def chunker(seq, size):\n",
    "    return (seq[pos:pos + size] for pos in range(0, len(seq), size))"
   ]
  },
  {
   "cell_type": "code",
   "execution_count": 4,
   "id": "d0fba32d-a882-4a04-8854-f633acbd3dee",
   "metadata": {},
   "outputs": [],
   "source": [
    "def parallelize(groups, func):\n",
    "    num_workers = 16\n",
    "    with Pool(num_workers) as p:\n",
    "        return pd.concat(p.map(func, [group for name, group in groups])).sort_index()"
   ]
  },
  {
   "cell_type": "code",
   "execution_count": 5,
   "id": "791015eb-8956-4dad-98a5-f7c42db7ebb3",
   "metadata": {},
   "outputs": [],
   "source": [
    "df = pd.read_pickle('../data/train.pkl.xz')"
   ]
  },
  {
   "cell_type": "markdown",
   "id": "69a5250c-0e07-4080-99f4-8d335fe58cd2",
   "metadata": {},
   "source": [
    "keeper_mask = pd.DataFrame(np.random.uniform(size=df.shape), \n",
    "                           index=df.index, \n",
    "                           columns=df.columns).applymap(lambda x: x > 0.75)\n",
    "\n",
    "train_masked = df.mask(keeper_mask)\n",
    "\n",
    "train_actual = df.mask(~keeper_mask)\n",
    "\n",
    "train_masked.to_pickle('../data/train_masked.pkl.xz')\n",
    "train_actual.to_pickle('../data/train_actual.pkl.xz')"
   ]
  },
  {
   "cell_type": "markdown",
   "id": "f91dfc1c-8135-4011-805b-52491af59e45",
   "metadata": {},
   "source": [
    "validate_full = pd.read_pickle('../data/validate.pkl.xz')\n",
    "\n",
    "keeper_mask = pd.DataFrame(np.random.uniform(size=validate_full.shape), \n",
    "                           index=validate_full.index, \n",
    "                           columns=validate_full.columns).applymap(lambda x: x > 0.75)\n",
    "\n",
    "validate_masked = validate_full.mask(keeper_mask)\n",
    "\n",
    "validate_actual = validate_full.mask(~keeper_mask)\n",
    "\n",
    "validate_masked.to_pickle('../data/validate_masked.pkl.xz')\n",
    "validate_actual.to_pickle('../data/validate_actual.pkl.xz')"
   ]
  },
  {
   "cell_type": "code",
   "execution_count": 35,
   "id": "1946ae12-c80a-44b6-9295-bc1944527fb4",
   "metadata": {},
   "outputs": [],
   "source": [
    "anime_ratings = df.mean(axis=0).sort_values(ascending=False)"
   ]
  },
  {
   "cell_type": "code",
   "execution_count": 6,
   "id": "a5f16796-3c3d-4afb-866d-70518e3a1f09",
   "metadata": {},
   "outputs": [],
   "source": [
    "validate_masked = pd.read_pickle('../data/validate_masked.pkl.xz')\n",
    "validate_actual = pd.read_pickle('../data/validate_actual.pkl.xz')"
   ]
  },
  {
   "cell_type": "markdown",
   "id": "4ee1695a-9be7-4ab0-8e2e-3ff2a54d9038",
   "metadata": {},
   "source": [
    "df = df.fillna(0)"
   ]
  },
  {
   "cell_type": "markdown",
   "id": "343fb755-d08f-4101-8e7a-951f367a8a62",
   "metadata": {},
   "source": [
    "sparse = sp.sparse.csr_matrix(df.values, dtype=np.float32)"
   ]
  },
  {
   "cell_type": "markdown",
   "id": "ea0baefb-ee53-453a-a519-d1305c869225",
   "metadata": {},
   "source": [
    "def similarity_calculator(data):\n",
    "    return pd.DataFrame(cosine_similarity(sparse, data), index=df.index, columns=data.index).astype(np.float16)\n",
    "\n",
    "num_workers = 15\n",
    "chunksize = int(validate_masked.shape[0]/num_workers)+1\n",
    "chunks = chunker(validate_masked.fillna(0), chunksize)\n",
    "with Pool(num_workers) as p:\n",
    "    similarity_matrix = pd.concat(p.map(similarity_calculator, chunks), axis=1)\n",
    "    \n",
    "del chunks\n",
    "\n",
    "similarity_matrix.to_pickle('/mnt/int_drive_0/Data/anime-recommendation-engine/similarity_matrix.pkl')"
   ]
  },
  {
   "cell_type": "markdown",
   "id": "951ba4d6-1595-4d27-a3c7-6c14bb933573",
   "metadata": {},
   "source": [
    "similarity_matrix = pd.read_pickle('/mnt/int_drive_0/Data/anime-recommendation-engine/similarity_matrix.pkl')\n",
    "def n_similar_users(column, n=1000):\n",
    "    return pd.Series(column.sort_values(ascending=False).head(n).index, name=column.name)\n",
    "\n",
    "def similar_users_ordered(column):\n",
    "    return pd.Series(column.sort_values(ascending=False).index, name=column.name)\n",
    "\n",
    "with Pool(15) as p:\n",
    "    similar_users_ordered = pd.concat(p.map(similar_users_ordered, (tup[1] for tup in similarity_matrix.items())), axis=1)\n",
    "\n",
    "similar_users_ordered.to_pickle('/mnt/int_drive_0/Data/anime-recommendation-engine/similar_users_ordered.pkl')"
   ]
  },
  {
   "cell_type": "markdown",
   "id": "89d5de25-fc8d-4215-b1bb-d6b11f7b4734",
   "metadata": {},
   "source": [
    "df = df.replace(0, np.NaN)"
   ]
  },
  {
   "cell_type": "code",
   "execution_count": 7,
   "id": "f7bcc039-f41a-4346-9db9-33177f76572a",
   "metadata": {},
   "outputs": [],
   "source": [
    "similar_users_ordered = pd.read_pickle('/mnt/int_drive_0/Data/anime-recommendation-engine/similar_users_ordered.pkl')"
   ]
  },
  {
   "cell_type": "code",
   "execution_count": 57,
   "id": "f253ea7d-59c8-40bf-baf9-001a49292515",
   "metadata": {},
   "outputs": [],
   "source": [
    "def get_recommendations(username, num_sim_users=2000, avg_method='simple'):\n",
    "    if avg_method == 'title':\n",
    "        return anime_ratings\n",
    "    \n",
    "    sim_users_data = df.loc[similar_users_ordered[username].head(num_sim_users).values]\n",
    "\n",
    "    watch_data = validate_masked.loc[username]\n",
    "\n",
    "    user_watched = watch_data.loc[watch_data.notnull()].index\n",
    "\n",
    "    suggestables = set(sim_users_data.columns).difference(user_watched)\n",
    "\n",
    "    sim_users_data = sim_users_data[suggestables]\n",
    "\n",
    "    \n",
    "\n",
    "    if avg_method == 'simple':\n",
    "        pred_data = sim_users_data.mean(axis=0).sort_values(ascending=False)\n",
    "\n",
    "    elif avg_method == 'weighted':\n",
    "        # incremental_base = 1.01\n",
    "        # user_weights = [incremental_base**x for x in range(sim_users_data.shape[0], 0, -1)]\n",
    "        user_weights = list(range(sim_users_data.shape[0], 0, -1))\n",
    "\n",
    "        weighted_sum = sim_users_data.mul(user_weights, axis=0).sum()\n",
    "\n",
    "        anime_weights = sim_users_data.notnull().astype('int').mul(user_weights, axis=0).sum()\n",
    "\n",
    "        pred_data = (weighted_sum / anime_weights).sort_values(ascending=False)\n",
    "\n",
    "    \n",
    "    return pred_data"
   ]
  },
  {
   "cell_type": "markdown",
   "id": "1eed1a17-0a09-46ec-8ff0-caa50225a639",
   "metadata": {
    "tags": []
   },
   "source": [
    "## Hyperparameter Tuning"
   ]
  },
  {
   "cell_type": "markdown",
   "id": "1c692358-fea9-4815-b8d1-c31ef11b6446",
   "metadata": {},
   "source": [
    "### Number of Similar Users to Consider"
   ]
  },
  {
   "cell_type": "code",
   "execution_count": 22,
   "id": "f99aef0a-791b-417e-a6f8-1369747452c8",
   "metadata": {
    "tags": []
   },
   "outputs": [
    {
     "name": "stderr",
     "output_type": "stream",
     "text": [
      "100%|██████████████████████████████████████████████████████████████████████████████████████████████████████████████████████████████████████████████████████████████████████████████| 22/22 [38:40<00:00, 105.49s/it]"
     ]
    },
    {
     "name": "stdout",
     "output_type": "stream",
     "text": [
      "CPU times: user 1min 52s, sys: 33.9 s, total: 2min 26s\n",
      "Wall time: 38min 40s\n"
     ]
    },
    {
     "name": "stderr",
     "output_type": "stream",
     "text": [
      "\n"
     ]
    }
   ],
   "source": [
    "%%time\n",
    "\n",
    "data = validate_masked.sample(1500).index\n",
    "avg_method_list = ['simple', 'weighted', 'title']\n",
    "num_sim_users_list = [10, 20, 50, 100, 200, 500, 1000, 2000, 3000, 4000, 5000]\n",
    "rmse_dict = {avg_method:{num_sim_users:None for num_sim_users in num_sim_users_list} for avg_method in avg_method_list}\n",
    "\n",
    "\n",
    "for avg_method, num_sim_users in tqdm(list(product(avg_method_list, num_sim_users_list))):\n",
    "    with Pool(15) as p:\n",
    "        partial_f = partial(get_recommendations, num_sim_users=num_sim_users, avg_method=avg_method)\n",
    "        validate_pred = pd.DataFrame(p.map(partial_f, data.tolist()), index=data)\n",
    "\n",
    "    rmse = np.sqrt(((validate_pred - validate_actual.loc[data])**2).mean(axis=1)).mean()\n",
    "    rmse_dict[avg_method][num_sim_users] = rmse"
   ]
  },
  {
   "cell_type": "code",
   "execution_count": 23,
   "id": "ef653259-7fd1-4992-89cf-78b338452fae",
   "metadata": {},
   "outputs": [
    {
     "data": {
      "text/plain": [
       "{'simple': {10: 0.20010043857678947,\n",
       "  20: 0.1950415966258326,\n",
       "  50: 0.18794863029260073,\n",
       "  100: 0.18409802871981906,\n",
       "  200: 0.1799481565217846,\n",
       "  500: 0.1744847977004152,\n",
       "  1000: 0.1735082418100596,\n",
       "  2000: 0.17357124351165187,\n",
       "  3000: 0.1744043972866788,\n",
       "  4000: 0.1747082252552745,\n",
       "  5000: 0.175103277597533},\n",
       " 'weighted': {10: 0.203415598423892,\n",
       "  20: 0.1986182015071358,\n",
       "  50: 0.19053264022762387,\n",
       "  100: 0.1865186569540035,\n",
       "  200: 0.18088875179957942,\n",
       "  500: 0.17533525622359586,\n",
       "  1000: 0.17334287332710785,\n",
       "  2000: 0.17311719211616267,\n",
       "  3000: 0.1734320146771835,\n",
       "  4000: 0.17390105297189984,\n",
       "  5000: 0.1742032278802834}}"
      ]
     },
     "execution_count": 23,
     "metadata": {},
     "output_type": "execute_result"
    }
   ],
   "source": [
    "rmse_dict"
   ]
  },
  {
   "cell_type": "code",
   "execution_count": 58,
   "id": "ba55222c-6e9f-4302-97a8-7385d9b8fb84",
   "metadata": {},
   "outputs": [],
   "source": [
    "with Pool(15) as p:\n",
    "    partial_f = partial(get_recommendations, num_sim_users=2000, avg_method='weighted')\n",
    "    validate_pred = pd.DataFrame(p.map(partial_f, data.tolist()), index=data)"
   ]
  },
  {
   "cell_type": "code",
   "execution_count": 60,
   "id": "e8750383-73b2-49f9-a7b3-b0ab2e4ff983",
   "metadata": {},
   "outputs": [
    {
     "data": {
      "text/plain": [
       "username\n",
       "NataliPe            0.265294\n",
       "kireiko             0.131675\n",
       "XMDREAMdragon       0.144744\n",
       "DakyZET             0.170418\n",
       "thejetblackwings    0.144517\n",
       "                      ...   \n",
       "Yuriko0w0           0.190868\n",
       "ishmael1991         0.080113\n",
       "Recknext                 NaN\n",
       "IKindaLoveAnime     0.177064\n",
       "thegoodgirl         0.339828\n",
       "Length: 1500, dtype: float64"
      ]
     },
     "execution_count": 60,
     "metadata": {},
     "output_type": "execute_result"
    }
   ],
   "source": [
    "rmse_list = np.sqrt(((validate_pred - validate_actual.loc[data])**2).mean(axis=1))\n",
    "rmse_list"
   ]
  },
  {
   "cell_type": "code",
   "execution_count": 83,
   "id": "53ec2386-6596-4eaf-9096-e5d4c0929784",
   "metadata": {},
   "outputs": [
    {
     "data": {
      "text/plain": [
       "0.17929860906430503"
      ]
     },
     "execution_count": 83,
     "metadata": {},
     "output_type": "execute_result"
    }
   ],
   "source": [
    "\n",
    "np.sqrt(((pd.DataFrame([anime_ratings]*len(data), index=data) - validate_actual.loc[data])**2).mean(axis=1)).mean()"
   ]
  },
  {
   "cell_type": "code",
   "execution_count": 84,
   "id": "636257a8-86cf-46c8-8f13-c3b0779fe58f",
   "metadata": {},
   "outputs": [
    {
     "data": {
      "text/plain": [
       "0.17311719211616267"
      ]
     },
     "execution_count": 84,
     "metadata": {},
     "output_type": "execute_result"
    }
   ],
   "source": [
    "rmse_list.mean()"
   ]
  },
  {
   "cell_type": "markdown",
   "id": "1966a130-fd96-4f32-afb7-bf59d58d4811",
   "metadata": {},
   "source": [
    "### Simple vs Weighted Average"
   ]
  },
  {
   "cell_type": "markdown",
   "id": "fa69c303-1e46-4706-bd71-2c691def6ca3",
   "metadata": {},
   "source": [
    "### Previous"
   ]
  },
  {
   "cell_type": "code",
   "execution_count": null,
   "id": "757fe686-c52d-41f0-af9b-a10d71d4999f",
   "metadata": {},
   "outputs": [],
   "source": [
    "validate_pred_prev = pd.read_pickle('../data/validate_pred.pkl.xz')"
   ]
  },
  {
   "cell_type": "markdown",
   "id": "b4b4868f-6b0d-4933-9115-c500db0e7b68",
   "metadata": {},
   "source": [
    "validate_pred.to_pickle('../data/validate_pred.pkl')"
   ]
  },
  {
   "cell_type": "markdown",
   "id": "f1f80c96-3b88-4802-a267-eef571918dd4",
   "metadata": {},
   "source": [
    "%%bash\n",
    "\n",
    "cd ../data\n",
    "\n",
    "rm validate_pred.pkl.xz\n",
    "xz -vT14 validate_pred.pkl"
   ]
  },
  {
   "cell_type": "markdown",
   "id": "0d2257ac-fb69-4d76-9e77-a2cd3de77b07",
   "metadata": {},
   "source": [
    "validate_pred = pd.read_pickle('../data/validate_pred.pkl.xz')"
   ]
  },
  {
   "cell_type": "code",
   "execution_count": null,
   "id": "62bbf7fa-6f6e-45b2-b7c2-d7637c117743",
   "metadata": {},
   "outputs": [],
   "source": [
    "rmse = np.sqrt(((validate_pred_prev - validate_actual)**2).mean(axis=1))"
   ]
  },
  {
   "cell_type": "code",
   "execution_count": null,
   "id": "85745dac-e166-434c-80da-5bd7dde62a1a",
   "metadata": {},
   "outputs": [],
   "source": [
    "rmse.mean()"
   ]
  },
  {
   "cell_type": "code",
   "execution_count": null,
   "id": "dc886d58-e1ef-4cbc-969e-710ec831def1",
   "metadata": {},
   "outputs": [],
   "source": []
  }
 ],
 "metadata": {
  "kernelspec": {
   "display_name": "Python 3 (ipykernel)",
   "language": "python",
   "name": "python3"
  },
  "language_info": {
   "codemirror_mode": {
    "name": "ipython",
    "version": 3
   },
   "file_extension": ".py",
   "mimetype": "text/x-python",
   "name": "python",
   "nbconvert_exporter": "python",
   "pygments_lexer": "ipython3",
   "version": "3.8.12"
  }
 },
 "nbformat": 4,
 "nbformat_minor": 5
}
