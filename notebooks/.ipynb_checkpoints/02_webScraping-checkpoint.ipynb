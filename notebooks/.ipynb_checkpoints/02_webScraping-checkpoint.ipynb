{
 "cells": [
  {
   "cell_type": "code",
   "execution_count": 1,
   "id": "0d863a04-206c-4813-a378-bcdfe8536b5c",
   "metadata": {},
   "outputs": [],
   "source": [
    "import pickle\n",
    "import numpy as np\n",
    "import pandas as pd"
   ]
  },
  {
   "cell_type": "code",
   "execution_count": 2,
   "id": "8ede0a01-06ba-451f-b2bb-1101e8f8dbac",
   "metadata": {},
   "outputs": [],
   "source": [
    "with open('../data/urls.pkl', 'rb') as f:\n",
    "    urls = pickle.load(f)"
   ]
  },
  {
   "cell_type": "code",
   "execution_count": 3,
   "id": "47067f3a-2537-43c7-8eaf-370ea3aa0e3e",
   "metadata": {},
   "outputs": [],
   "source": [
    "done = pd.Series(list(urls['done']))"
   ]
  },
  {
   "cell_type": "code",
   "execution_count": 4,
   "id": "8f6d1ec2-9b52-4abb-bccf-dfbb8c5d4f65",
   "metadata": {},
   "outputs": [],
   "source": [
    "users = done.str.extract(r'users/([a-zA-Z0-9_]*)/')[0]"
   ]
  },
  {
   "cell_type": "code",
   "execution_count": 5,
   "id": "f4bc5f3c-85de-43b3-8f8f-b5db4fafd750",
   "metadata": {},
   "outputs": [],
   "source": [
    "users = users.loc[users.notnull()].drop_duplicates().reset_index(drop=True)"
   ]
  },
  {
   "cell_type": "code",
   "execution_count": 6,
   "id": "b355f971-7720-458e-9235-2b11492a4cd3",
   "metadata": {},
   "outputs": [
    {
     "data": {
      "text/plain": [
       "0         GamerX121\n",
       "1            Riezze\n",
       "2       Octopusbell\n",
       "3           natyvvv\n",
       "4       RazzleBerry\n",
       "           ...     \n",
       "4816        holtron\n",
       "4817       FurkanGr\n",
       "4818          oAKKO\n",
       "4819    Supernova90\n",
       "4820          Allon\n",
       "Name: 0, Length: 4821, dtype: object"
      ]
     },
     "execution_count": 6,
     "metadata": {},
     "output_type": "execute_result"
    }
   ],
   "source": [
    "users"
   ]
  },
  {
   "cell_type": "code",
   "execution_count": null,
   "id": "c3057e25-aeb3-48a7-b2b9-60bbf74927be",
   "metadata": {},
   "outputs": [],
   "source": []
  }
 ],
 "metadata": {
  "kernelspec": {
   "display_name": "Python 3",
   "language": "python",
   "name": "python3"
  },
  "language_info": {
   "codemirror_mode": {
    "name": "ipython",
    "version": 3
   },
   "file_extension": ".py",
   "mimetype": "text/x-python",
   "name": "python",
   "nbconvert_exporter": "python",
   "pygments_lexer": "ipython3",
   "version": "3.8.10"
  }
 },
 "nbformat": 4,
 "nbformat_minor": 5
}
