{
 "cells": [
  {
   "cell_type": "code",
   "execution_count": 1,
   "id": "8b0a5bba-452c-4cc8-a437-2da4b6e7b9ca",
   "metadata": {},
   "outputs": [],
   "source": [
    "import numpy as np\n",
    "import pandas as pd\n",
    "import matplotlib.pyplot as plt\n",
    "import seaborn as sns\n",
    "from scipy import stats\n",
    "\n",
    "pd.set_option('display.float_format', lambda x: '%.4f' % x)\n",
    "\n",
    "sns.set_theme(style='whitegrid')\n",
    "grey = '#aca7a7'"
   ]
  },
  {
   "cell_type": "code",
   "execution_count": 2,
   "id": "c3ae93d3-0b38-4285-b392-ce6086fcaf8a",
   "metadata": {},
   "outputs": [],
   "source": [
    "df = pd.read_pickle('../data/watch_list_clean.pkl.xz')"
   ]
  },
  {
   "cell_type": "code",
   "execution_count": 3,
   "id": "b3c39aa2-47c4-4648-a9de-dc16eab4b5de",
   "metadata": {},
   "outputs": [],
   "source": [
    "anime = df[['title', 'num_eps', 'ongoing', 'duration', 'studio', 'start_year', \n",
    "            'end_year', 'season', 'avg_rating', 'num_votes', 'synopsis', 'tags', 'content_warnings', \n",
    "            'url']].drop_duplicates(['title', 'url'],\n",
    "                                    ignore_index=True).sort_values('avg_rating', \n",
    "                                                                   ascending=False, \n",
    "                                                                   ignore_index=True).copy(deep=True)\n",
    "anime[['start_year', 'end_year']] = anime[['start_year', 'end_year']].replace('TBA', np.NaN).astype('float')"
   ]
  },
  {
   "cell_type": "code",
   "execution_count": 4,
   "id": "e9265590-8255-4b5d-aa5c-df2952be60a5",
   "metadata": {},
   "outputs": [
    {
     "data": {
      "text/html": [
       "<div>\n",
       "<style scoped>\n",
       "    .dataframe tbody tr th:only-of-type {\n",
       "        vertical-align: middle;\n",
       "    }\n",
       "\n",
       "    .dataframe tbody tr th {\n",
       "        vertical-align: top;\n",
       "    }\n",
       "\n",
       "    .dataframe thead th {\n",
       "        text-align: right;\n",
       "    }\n",
       "</style>\n",
       "<table border=\"1\" class=\"dataframe\">\n",
       "  <thead>\n",
       "    <tr style=\"text-align: right;\">\n",
       "      <th></th>\n",
       "      <th>title</th>\n",
       "      <th>url</th>\n",
       "      <th>username</th>\n",
       "      <th>status</th>\n",
       "      <th>times_watched</th>\n",
       "      <th>user_rating</th>\n",
       "      <th>num_eps</th>\n",
       "      <th>ongoing</th>\n",
       "      <th>duration</th>\n",
       "      <th>studio</th>\n",
       "      <th>start_year</th>\n",
       "      <th>end_year</th>\n",
       "      <th>season</th>\n",
       "      <th>avg_rating</th>\n",
       "      <th>num_votes</th>\n",
       "      <th>synopsis</th>\n",
       "      <th>tags</th>\n",
       "      <th>content_warnings</th>\n",
       "    </tr>\n",
       "  </thead>\n",
       "  <tbody>\n",
       "    <tr>\n",
       "      <th>874400</th>\n",
       "      <td>Hellsing</td>\n",
       "      <td>https://www.anime-planet.com/anime/hellsing</td>\n",
       "      <td>funnymanhu</td>\n",
       "      <td>Watched</td>\n",
       "      <td>1</td>\n",
       "      <td>4.0000</td>\n",
       "      <td>13</td>\n",
       "      <td>False</td>\n",
       "      <td>NaN</td>\n",
       "      <td>GONZO</td>\n",
       "      <td>2001.0000</td>\n",
       "      <td>2002.0000</td>\n",
       "      <td>Fall</td>\n",
       "      <td>3.9230</td>\n",
       "      <td>47128</td>\n",
       "      <td>In present day England, a war is being fought....</td>\n",
       "      <td>[Action, Horror, Seinen, Conspiracy, England, ...</td>\n",
       "      <td>[Mature Themes, Sexual Content, Suicide, Viole...</td>\n",
       "    </tr>\n",
       "    <tr>\n",
       "      <th>3315418</th>\n",
       "      <td>The Heroic Legend of Arslan: Dust Storm Dance</td>\n",
       "      <td>https://www.anime-planet.com/anime/the-heroic-...</td>\n",
       "      <td>Schorai</td>\n",
       "      <td>Watched</td>\n",
       "      <td>1</td>\n",
       "      <td>3.5000</td>\n",
       "      <td>8</td>\n",
       "      <td>False</td>\n",
       "      <td>NaN</td>\n",
       "      <td>LIDEN FILMS</td>\n",
       "      <td>2016.0000</td>\n",
       "      <td>2016.0000</td>\n",
       "      <td>Summer</td>\n",
       "      <td>3.9720</td>\n",
       "      <td>5061</td>\n",
       "      <td>The Lusitania forces continue to hold rule ove...</td>\n",
       "      <td>[Action, Adventure, Fantasy, Shounen, Medieval...</td>\n",
       "      <td>[Violence]</td>\n",
       "    </tr>\n",
       "    <tr>\n",
       "      <th>5219401</th>\n",
       "      <td>K</td>\n",
       "      <td>https://www.anime-planet.com/anime/k-anime</td>\n",
       "      <td>phenyo</td>\n",
       "      <td>Watched</td>\n",
       "      <td>1</td>\n",
       "      <td>4.5000</td>\n",
       "      <td>13</td>\n",
       "      <td>False</td>\n",
       "      <td>NaN</td>\n",
       "      <td>GoHands</td>\n",
       "      <td>2012.0000</td>\n",
       "      <td>2012.0000</td>\n",
       "      <td>Fall</td>\n",
       "      <td>3.8930</td>\n",
       "      <td>27910</td>\n",
       "      <td>Japan has reclaimed its former glory under the...</td>\n",
       "      <td>[Action, Mystery, Animeism, Gangs, Supernatura...</td>\n",
       "      <td>None</td>\n",
       "    </tr>\n",
       "    <tr>\n",
       "      <th>1494922</th>\n",
       "      <td>Amagami SS</td>\n",
       "      <td>https://www.anime-planet.com/anime/amagami-ss</td>\n",
       "      <td>Keii735</td>\n",
       "      <td>Watched</td>\n",
       "      <td>1</td>\n",
       "      <td>3.5000</td>\n",
       "      <td>25</td>\n",
       "      <td>False</td>\n",
       "      <td>NaN</td>\n",
       "      <td>AIC</td>\n",
       "      <td>2010.0000</td>\n",
       "      <td>2010.0000</td>\n",
       "      <td>Summer</td>\n",
       "      <td>3.7480</td>\n",
       "      <td>12295</td>\n",
       "      <td>After being stood up during a date on Christma...</td>\n",
       "      <td>[Romance, School Life, Based on a Visual Novel]</td>\n",
       "      <td>None</td>\n",
       "    </tr>\n",
       "    <tr>\n",
       "      <th>2346186</th>\n",
       "      <td>Bleach</td>\n",
       "      <td>https://www.anime-planet.com/anime/bleach</td>\n",
       "      <td>lawnchaircrisis</td>\n",
       "      <td>Stalled</td>\n",
       "      <td>0</td>\n",
       "      <td>5.0000</td>\n",
       "      <td>366</td>\n",
       "      <td>False</td>\n",
       "      <td>NaN</td>\n",
       "      <td>Pierrot</td>\n",
       "      <td>2004.0000</td>\n",
       "      <td>2012.0000</td>\n",
       "      <td>Fall</td>\n",
       "      <td>4.0020</td>\n",
       "      <td>94895</td>\n",
       "      <td>Fifteen-year-old Ichigo Kurosaki is a typical ...</td>\n",
       "      <td>[Action, Shounen, Afterlife, Shinigami, Supern...</td>\n",
       "      <td>[Violence]</td>\n",
       "    </tr>\n",
       "  </tbody>\n",
       "</table>\n",
       "</div>"
      ],
      "text/plain": [
       "                                                 title  \\\n",
       "874400                                        Hellsing   \n",
       "3315418  The Heroic Legend of Arslan: Dust Storm Dance   \n",
       "5219401                                              K   \n",
       "1494922                                     Amagami SS   \n",
       "2346186                                         Bleach   \n",
       "\n",
       "                                                       url         username  \\\n",
       "874400         https://www.anime-planet.com/anime/hellsing       funnymanhu   \n",
       "3315418  https://www.anime-planet.com/anime/the-heroic-...          Schorai   \n",
       "5219401         https://www.anime-planet.com/anime/k-anime           phenyo   \n",
       "1494922      https://www.anime-planet.com/anime/amagami-ss          Keii735   \n",
       "2346186          https://www.anime-planet.com/anime/bleach  lawnchaircrisis   \n",
       "\n",
       "          status  times_watched  user_rating  num_eps  ongoing  duration  \\\n",
       "874400   Watched              1       4.0000       13    False       NaN   \n",
       "3315418  Watched              1       3.5000        8    False       NaN   \n",
       "5219401  Watched              1       4.5000       13    False       NaN   \n",
       "1494922  Watched              1       3.5000       25    False       NaN   \n",
       "2346186  Stalled              0       5.0000      366    False       NaN   \n",
       "\n",
       "              studio  start_year  end_year  season  avg_rating  num_votes  \\\n",
       "874400         GONZO   2001.0000 2002.0000    Fall      3.9230      47128   \n",
       "3315418  LIDEN FILMS   2016.0000 2016.0000  Summer      3.9720       5061   \n",
       "5219401      GoHands   2012.0000 2012.0000    Fall      3.8930      27910   \n",
       "1494922          AIC   2010.0000 2010.0000  Summer      3.7480      12295   \n",
       "2346186      Pierrot   2004.0000 2012.0000    Fall      4.0020      94895   \n",
       "\n",
       "                                                  synopsis  \\\n",
       "874400   In present day England, a war is being fought....   \n",
       "3315418  The Lusitania forces continue to hold rule ove...   \n",
       "5219401  Japan has reclaimed its former glory under the...   \n",
       "1494922  After being stood up during a date on Christma...   \n",
       "2346186  Fifteen-year-old Ichigo Kurosaki is a typical ...   \n",
       "\n",
       "                                                      tags  \\\n",
       "874400   [Action, Horror, Seinen, Conspiracy, England, ...   \n",
       "3315418  [Action, Adventure, Fantasy, Shounen, Medieval...   \n",
       "5219401  [Action, Mystery, Animeism, Gangs, Supernatura...   \n",
       "1494922    [Romance, School Life, Based on a Visual Novel]   \n",
       "2346186  [Action, Shounen, Afterlife, Shinigami, Supern...   \n",
       "\n",
       "                                          content_warnings  \n",
       "874400   [Mature Themes, Sexual Content, Suicide, Viole...  \n",
       "3315418                                         [Violence]  \n",
       "5219401                                               None  \n",
       "1494922                                               None  \n",
       "2346186                                         [Violence]  "
      ]
     },
     "execution_count": 4,
     "metadata": {},
     "output_type": "execute_result"
    }
   ],
   "source": [
    "df.sample(5, random_state=42)"
   ]
  },
  {
   "cell_type": "code",
   "execution_count": 5,
   "id": "82d9ea84-f78b-4c51-b4ee-d9c0f099f9d8",
   "metadata": {},
   "outputs": [
    {
     "data": {
      "text/html": [
       "<div>\n",
       "<style scoped>\n",
       "    .dataframe tbody tr th:only-of-type {\n",
       "        vertical-align: middle;\n",
       "    }\n",
       "\n",
       "    .dataframe tbody tr th {\n",
       "        vertical-align: top;\n",
       "    }\n",
       "\n",
       "    .dataframe thead th {\n",
       "        text-align: right;\n",
       "    }\n",
       "</style>\n",
       "<table border=\"1\" class=\"dataframe\">\n",
       "  <thead>\n",
       "    <tr style=\"text-align: right;\">\n",
       "      <th></th>\n",
       "      <th>title</th>\n",
       "      <th>num_eps</th>\n",
       "      <th>ongoing</th>\n",
       "      <th>duration</th>\n",
       "      <th>studio</th>\n",
       "      <th>start_year</th>\n",
       "      <th>end_year</th>\n",
       "      <th>season</th>\n",
       "      <th>avg_rating</th>\n",
       "      <th>num_votes</th>\n",
       "      <th>synopsis</th>\n",
       "      <th>tags</th>\n",
       "      <th>content_warnings</th>\n",
       "      <th>url</th>\n",
       "    </tr>\n",
       "  </thead>\n",
       "  <tbody>\n",
       "    <tr>\n",
       "      <th>0</th>\n",
       "      <td>Fruits Basket the Final Season</td>\n",
       "      <td>13</td>\n",
       "      <td>False</td>\n",
       "      <td>NaN</td>\n",
       "      <td>TMS Entertainment</td>\n",
       "      <td>2021.0000</td>\n",
       "      <td>2021.0000</td>\n",
       "      <td>Spring</td>\n",
       "      <td>4.6330</td>\n",
       "      <td>4764</td>\n",
       "      <td>The final arc of Fruits Basket.</td>\n",
       "      <td>[Drama, Fantasy, Romance, Shoujo, Animal Trans...</td>\n",
       "      <td>[Emotional Abuse, Mature Themes, Suicide]</td>\n",
       "      <td>https://www.anime-planet.com/anime/fruits-bask...</td>\n",
       "    </tr>\n",
       "    <tr>\n",
       "      <th>1</th>\n",
       "      <td>Fullmetal Alchemist: Brotherhood</td>\n",
       "      <td>64</td>\n",
       "      <td>False</td>\n",
       "      <td>NaN</td>\n",
       "      <td>Bones</td>\n",
       "      <td>2009.0000</td>\n",
       "      <td>2010.0000</td>\n",
       "      <td>Spring</td>\n",
       "      <td>4.5800</td>\n",
       "      <td>102561</td>\n",
       "      <td>The foundation of alchemy is based on the law ...</td>\n",
       "      <td>[Action, Adventure, Drama, Fantasy, Mystery, S...</td>\n",
       "      <td>[Animal Abuse, Mature Themes, Violence, Domest...</td>\n",
       "      <td>https://www.anime-planet.com/anime/fullmetal-a...</td>\n",
       "    </tr>\n",
       "    <tr>\n",
       "      <th>2</th>\n",
       "      <td>Attack on Titan 3rd Season: Part II</td>\n",
       "      <td>10</td>\n",
       "      <td>False</td>\n",
       "      <td>NaN</td>\n",
       "      <td>WIT Studio</td>\n",
       "      <td>2019.0000</td>\n",
       "      <td>2019.0000</td>\n",
       "      <td>Spring</td>\n",
       "      <td>4.5780</td>\n",
       "      <td>39571</td>\n",
       "      <td>The battle to retake Wall Maria begins now! Wi...</td>\n",
       "      <td>[Action, Fantasy, Horror, Shounen, Dark Fantas...</td>\n",
       "      <td>[Cannibalism, Explicit Violence]</td>\n",
       "      <td>https://www.anime-planet.com/anime/attack-on-t...</td>\n",
       "    </tr>\n",
       "    <tr>\n",
       "      <th>3</th>\n",
       "      <td>Attack on Titan The Final Season</td>\n",
       "      <td>16</td>\n",
       "      <td>False</td>\n",
       "      <td>NaN</td>\n",
       "      <td>MAPPA</td>\n",
       "      <td>2020.0000</td>\n",
       "      <td>2021.0000</td>\n",
       "      <td>Fall</td>\n",
       "      <td>4.5780</td>\n",
       "      <td>25518</td>\n",
       "      <td>It's been four years since the Scout Regiment ...</td>\n",
       "      <td>[Action, Drama, Fantasy, Horror, Shounen, Dark...</td>\n",
       "      <td>[Explicit Violence, Mature Themes, Physical Ab...</td>\n",
       "      <td>https://www.anime-planet.com/anime/attack-on-t...</td>\n",
       "    </tr>\n",
       "    <tr>\n",
       "      <th>4</th>\n",
       "      <td>Jujutsu Kaisen</td>\n",
       "      <td>24</td>\n",
       "      <td>False</td>\n",
       "      <td>NaN</td>\n",
       "      <td>MAPPA</td>\n",
       "      <td>2020.0000</td>\n",
       "      <td>2021.0000</td>\n",
       "      <td>Fall</td>\n",
       "      <td>4.5770</td>\n",
       "      <td>36351</td>\n",
       "      <td>Although Yuji Itadori looks like your average ...</td>\n",
       "      <td>[Action, Horror, Shounen, Curse, Monsters, Sch...</td>\n",
       "      <td>[Explicit Violence]</td>\n",
       "      <td>https://www.anime-planet.com/anime/jujutsu-kaisen</td>\n",
       "    </tr>\n",
       "  </tbody>\n",
       "</table>\n",
       "</div>"
      ],
      "text/plain": [
       "                                 title  num_eps  ongoing  duration  \\\n",
       "0       Fruits Basket the Final Season       13    False       NaN   \n",
       "1     Fullmetal Alchemist: Brotherhood       64    False       NaN   \n",
       "2  Attack on Titan 3rd Season: Part II       10    False       NaN   \n",
       "3     Attack on Titan The Final Season       16    False       NaN   \n",
       "4                       Jujutsu Kaisen       24    False       NaN   \n",
       "\n",
       "              studio  start_year  end_year  season  avg_rating  num_votes  \\\n",
       "0  TMS Entertainment   2021.0000 2021.0000  Spring      4.6330       4764   \n",
       "1              Bones   2009.0000 2010.0000  Spring      4.5800     102561   \n",
       "2         WIT Studio   2019.0000 2019.0000  Spring      4.5780      39571   \n",
       "3              MAPPA   2020.0000 2021.0000    Fall      4.5780      25518   \n",
       "4              MAPPA   2020.0000 2021.0000    Fall      4.5770      36351   \n",
       "\n",
       "                                            synopsis  \\\n",
       "0                    The final arc of Fruits Basket.   \n",
       "1  The foundation of alchemy is based on the law ...   \n",
       "2  The battle to retake Wall Maria begins now! Wi...   \n",
       "3  It's been four years since the Scout Regiment ...   \n",
       "4  Although Yuji Itadori looks like your average ...   \n",
       "\n",
       "                                                tags  \\\n",
       "0  [Drama, Fantasy, Romance, Shoujo, Animal Trans...   \n",
       "1  [Action, Adventure, Drama, Fantasy, Mystery, S...   \n",
       "2  [Action, Fantasy, Horror, Shounen, Dark Fantas...   \n",
       "3  [Action, Drama, Fantasy, Horror, Shounen, Dark...   \n",
       "4  [Action, Horror, Shounen, Curse, Monsters, Sch...   \n",
       "\n",
       "                                    content_warnings  \\\n",
       "0          [Emotional Abuse, Mature Themes, Suicide]   \n",
       "1  [Animal Abuse, Mature Themes, Violence, Domest...   \n",
       "2                   [Cannibalism, Explicit Violence]   \n",
       "3  [Explicit Violence, Mature Themes, Physical Ab...   \n",
       "4                                [Explicit Violence]   \n",
       "\n",
       "                                                 url  \n",
       "0  https://www.anime-planet.com/anime/fruits-bask...  \n",
       "1  https://www.anime-planet.com/anime/fullmetal-a...  \n",
       "2  https://www.anime-planet.com/anime/attack-on-t...  \n",
       "3  https://www.anime-planet.com/anime/attack-on-t...  \n",
       "4  https://www.anime-planet.com/anime/jujutsu-kaisen  "
      ]
     },
     "execution_count": 5,
     "metadata": {},
     "output_type": "execute_result"
    }
   ],
   "source": [
    "anime.head()"
   ]
  },
  {
   "cell_type": "code",
   "execution_count": 6,
   "id": "6a89662e-6a65-494c-b6fb-bc1bce60725f",
   "metadata": {},
   "outputs": [
    {
     "name": "stdout",
     "output_type": "stream",
     "text": [
      "<class 'pandas.core.frame.DataFrame'>\n",
      "RangeIndex: 9205634 entries, 0 to 9205633\n",
      "Data columns (total 18 columns):\n",
      " #   Column            Non-Null Count    Dtype   \n",
      "---  ------            --------------    -----   \n",
      " 0   title             9205634 non-null  category\n",
      " 1   url               9205634 non-null  category\n",
      " 2   username          9205634 non-null  category\n",
      " 3   status            9205634 non-null  category\n",
      " 4   times_watched     9205634 non-null  uint16  \n",
      " 5   user_rating       9205634 non-null  float32 \n",
      " 6   num_eps           9205634 non-null  uint16  \n",
      " 7   ongoing           9205634 non-null  bool    \n",
      " 8   duration          334574 non-null   float32 \n",
      " 9   studio            9194196 non-null  category\n",
      " 10  start_year        9205634 non-null  float64 \n",
      " 11  end_year          9205634 non-null  float64 \n",
      " 12  season            8960955 non-null  category\n",
      " 13  avg_rating        9205634 non-null  float32 \n",
      " 14  num_votes         9205634 non-null  uint32  \n",
      " 15  synopsis          9205634 non-null  string  \n",
      " 16  tags              9205397 non-null  object  \n",
      " 17  content_warnings  3604265 non-null  object  \n",
      "dtypes: bool(1), category(6), float32(3), float64(2), object(2), string(1), uint16(2), uint32(1)\n",
      "memory usage: 646.1+ MB\n"
     ]
    }
   ],
   "source": [
    "df.info(show_counts=True)"
   ]
  },
  {
   "cell_type": "code",
   "execution_count": 7,
   "id": "86d6085a-c0c1-4ffd-ab04-b92addc13f62",
   "metadata": {},
   "outputs": [
    {
     "name": "stdout",
     "output_type": "stream",
     "text": [
      "<class 'pandas.core.frame.DataFrame'>\n",
      "RangeIndex: 4473 entries, 0 to 4472\n",
      "Data columns (total 14 columns):\n",
      " #   Column            Non-Null Count  Dtype   \n",
      "---  ------            --------------  -----   \n",
      " 0   title             4473 non-null   category\n",
      " 1   num_eps           4473 non-null   uint16  \n",
      " 2   ongoing           4473 non-null   bool    \n",
      " 3   duration          855 non-null    float32 \n",
      " 4   studio            4159 non-null   category\n",
      " 5   start_year        4473 non-null   float64 \n",
      " 6   end_year          4473 non-null   float64 \n",
      " 7   season            3505 non-null   category\n",
      " 8   avg_rating        4473 non-null   float32 \n",
      " 9   num_votes         4473 non-null   uint32  \n",
      " 10  synopsis          4473 non-null   string  \n",
      " 11  tags              4462 non-null   object  \n",
      " 12  content_warnings  702 non-null    object  \n",
      " 13  url               4473 non-null   category\n",
      "dtypes: bool(1), category(4), float32(2), float64(2), object(2), string(1), uint16(1), uint32(1)\n",
      "memory usage: 620.3+ KB\n"
     ]
    }
   ],
   "source": [
    "anime.info(show_counts=True)"
   ]
  },
  {
   "cell_type": "markdown",
   "id": "5d18759b-c1cb-49b3-b444-f8372054bdd8",
   "metadata": {},
   "source": [
    "### `title`/`anime_url`"
   ]
  },
  {
   "cell_type": "code",
   "execution_count": 8,
   "id": "419d24d9-bc4d-4ea5-9828-6bff5286dee6",
   "metadata": {},
   "outputs": [
    {
     "data": {
      "text/plain": [
       "4473"
      ]
     },
     "execution_count": 8,
     "metadata": {},
     "output_type": "execute_result"
    }
   ],
   "source": [
    "anime['title'].count()"
   ]
  },
  {
   "cell_type": "markdown",
   "id": "fe2448ff-c8a1-4c73-9e1c-d8f666a55805",
   "metadata": {
    "tags": []
   },
   "source": [
    "#### Which shows are the most popular?"
   ]
  },
  {
   "cell_type": "code",
   "execution_count": 9,
   "id": "9f1a806e-04d2-45d2-926d-0ceffe00514a",
   "metadata": {},
   "outputs": [
    {
     "data": {
      "image/png": "[encoded data removed]",
      "text/plain": [
       "<Figure size 1152x576 with 1 Axes>"
      ]
     },
     "metadata": {},
     "output_type": "display_data"
    }
   ],
   "source": [
    "fig = plt.figure(figsize=(16, 8))\n",
    "sns.set_theme(font_scale=1.6, style='whitegrid')\n",
    "sns.countplot(y='title', data=df, \n",
    "              order=df['title'].value_counts().iloc[:10].index,\n",
    "              color=grey, saturation=1)\n",
    "plt.title('Most Popular Shows', fontdict={'fontsize':26})\n",
    "plt.xlabel('Frequency', fontdict={'fontsize':20})\n",
    "plt.ylabel('')\n",
    "plt.yticks([])\n",
    "plt.xlim(29000, 53000)\n",
    "for idx, val in enumerate(df['title'].value_counts().iloc[:10].index):\n",
    "    plt.text(29500, idx+0.1, val, fontdict={'fontsize':16, 'backgroundcolor':(1, 1, 1, 0.6)})\n",
    "plt.tight_layout()\n",
    "plt.show()\n",
    "fig.savefig('../assets/01_title_top10.png', dpi=200)"
   ]
  },
  {
   "cell_type": "markdown",
   "id": "23446b8e-34c9-4b89-82d5-443cbe306d69",
   "metadata": {},
   "source": [
    "### `num_eps`"
   ]
  },
  {
   "cell_type": "code",
   "execution_count": 10,
   "id": "7bd2df47-4164-460c-97f8-b955ba888535",
   "metadata": {},
   "outputs": [
    {
     "data": {
      "text/plain": [
       "count   4473.0000\n",
       "mean      35.8726\n",
       "std      103.0163\n",
       "min        1.0000\n",
       "25%       12.0000\n",
       "50%       20.0000\n",
       "75%       35.0000\n",
       "max     2617.0000\n",
       "Name: num_eps, dtype: float64"
      ]
     },
     "execution_count": 10,
     "metadata": {},
     "output_type": "execute_result"
    }
   ],
   "source": [
    "anime['num_eps'].describe()"
   ]
  },
  {
   "cell_type": "code",
   "execution_count": 11,
   "id": "0429e3f0-a6d0-4277-85ac-17597b435c94",
   "metadata": {
    "tags": []
   },
   "outputs": [
    {
     "data": {
      "image/png": "[encoded data removed]",
      "text/plain": [
       "<Figure size 864x432 with 2 Axes>"
      ]
     },
     "metadata": {},
     "output_type": "display_data"
    }
   ],
   "source": [
    "fig, axs = plt.subplots(2, 1, sharex=True, gridspec_kw={\"height_ratios\": (.2, .8)}, figsize=(12, 6))\n",
    "fig.subplots_adjust(wspace=0, hspace=0.05)\n",
    "sns.set_theme(font_scale=1, style='whitegrid')\n",
    "sns.boxplot(x='num_eps', data=anime, color=grey, ax=axs[0])\n",
    "sns.histplot(x='num_eps', data=anime, bins=range(0, 116, 2), color=grey, ax=axs[1])\n",
    "\n",
    "axs[0].set_title('Distribution of Number of Episodes', fontdict={'fontsize':18})\n",
    "axs[0].set_xlabel('')\n",
    "axs[0].text(x=76, y=-0.2, s=f\"{anime.query('num_eps >= 80').shape[0]}>\", fontdict={'fontsize':10})\n",
    "axs[0].text(x=72.5, y=0.3, s=f\"max: {anime['num_eps'].max()}\", fontdict={'fontsize':10})\n",
    "\n",
    "axs[1].set_xlabel('Number of Episodes', fontdict={'fontsize':14})\n",
    "axs[1].set_ylabel('Frequency', fontdict={'fontsize':14})\n",
    "axs[1].set_xlim(-5, 80)\n",
    "plt.tight_layout()\n",
    "plt.show()\n",
    "fig.savefig('../assets/02_num_eps_distribution.png', dpi=300)"
   ]
  },
  {
   "cell_type": "code",
   "execution_count": null,
   "id": "7888dd65-813a-40ef-8996-2a1d847ff4dd",
   "metadata": {},
   "outputs": [],
   "source": [
    "anime.loc[anime['num_eps'] == anime['num_eps'].max(), ['title', 'num_eps', 'ongoing', 'start_year', 'end_year', 'duration']]"
   ]
  },
  {
   "cell_type": "markdown",
   "id": "56f74777-dbee-4e40-ba70-f338d75f890e",
   "metadata": {},
   "source": [
    "### `ongoing`"
   ]
  },
  {
   "cell_type": "code",
   "execution_count": null,
   "id": "2e2c771c-1caa-4545-9dd1-b512b8a9a0d4",
   "metadata": {},
   "outputs": [],
   "source": [
    "fig = plt.figure(figsize=(10, 6), dpi=110)\n",
    "plt.pie(anime['ongoing'].value_counts(), labels=['Completed', 'Ongoing'], autopct='%1.0f%%', pctdistance=0.85, labeldistance=1.1)\n",
    "plt.title('Airing Status of Shows', fontdict={'fontsize':16})\n",
    "plt.tight_layout()\n",
    "plt.show()\n",
    "fig.savefig('../assets/03_num_eps_distribution.png', dpi=200)"
   ]
  },
  {
   "cell_type": "markdown",
   "id": "ae00c2a8-a2e8-4a99-adaf-2e57c47b088a",
   "metadata": {},
   "source": [
    "### `duration`"
   ]
  },
  {
   "cell_type": "code",
   "execution_count": null,
   "id": "178605dc-2099-4206-a7ee-bf3283a3181d",
   "metadata": {},
   "outputs": [],
   "source": [
    "anime['duration'].describe()"
   ]
  },
  {
   "cell_type": "code",
   "execution_count": null,
   "id": "09233cfe-a42f-49a1-82b0-b1836c401ba0",
   "metadata": {
    "tags": []
   },
   "outputs": [],
   "source": [
    "fig, axs = plt.subplots(2, 1, sharex=True, gridspec_kw={\"height_ratios\": (.2, .8)}, figsize=(12, 6), dpi=110)\n",
    "fig.subplots_adjust(wspace=0, hspace=0.05)\n",
    "sns.set_theme(font_scale=1, style='whitegrid')\n",
    "sns.boxplot(x='duration', data=anime, color=grey, ax=axs[0])\n",
    "sns.histplot(x='duration', data=anime, kde=True, bins=range(0, 116, 2), color=grey, ax=axs[1])\n",
    "\n",
    "axs[0].set_title('Distribution of Show Durations', fontdict={'fontsize':18})\n",
    "axs[0].set_xlabel('')\n",
    "axs[0].text(x=30.8, y=-0.2, s=f\"{anime.query('duration >= 32').shape[0]}>\", fontdict={'fontsize':10})\n",
    "axs[0].text(x=29.2, y=0.3, s=f\"max: {anime['duration'].max()}\", fontdict={'fontsize':10})\n",
    "\n",
    "axs[1].set_xlabel('Duration (mins)', fontdict={'fontsize':14})\n",
    "axs[1].set_ylabel('Frequency', fontdict={'fontsize':14})\n",
    "axs[1].set_xlim(-2, 32)\n",
    "plt.show()"
   ]
  },
  {
   "cell_type": "code",
   "execution_count": null,
   "id": "2af40475-fdbc-4815-b85c-4baae7564bfd",
   "metadata": {},
   "outputs": [],
   "source": [
    "anime.loc[anime['duration'] == anime['duration'].max(), ['title', 'duration', 'num_eps', 'ongoing', 'start_year', 'end_year']]"
   ]
  },
  {
   "cell_type": "markdown",
   "id": "57ef83fe-e6c3-4803-a2e7-7322ddefd18a",
   "metadata": {},
   "source": [
    "### `studio`"
   ]
  },
  {
   "cell_type": "code",
   "execution_count": null,
   "id": "91f681fb-8202-4e9d-9259-eadde9300e8d",
   "metadata": {},
   "outputs": [],
   "source": [
    "anime['studio'].nunique()"
   ]
  },
  {
   "cell_type": "code",
   "execution_count": null,
   "id": "d1103991-d8ea-4d80-b824-df93c9029729",
   "metadata": {},
   "outputs": [],
   "source": [
    "fig = plt.figure(figsize=(10, 6), dpi=110)\n",
    "sns.set_theme(font_scale=1, style='whitegrid')\n",
    "sns.countplot(y='studio', data=anime, \n",
    "              order=anime['studio'].value_counts().iloc[:10].index,\n",
    "              color=grey)\n",
    "plt.title('Studios with Most Works', fontdict={'fontsize':16})\n",
    "plt.xlabel('Frequency', fontdict={'fontsize':14})\n",
    "plt.ylabel('')\n",
    "plt.show()"
   ]
  },
  {
   "cell_type": "markdown",
   "id": "e4f8f1e0-126b-40dd-baa5-d34d2057b7ca",
   "metadata": {},
   "source": [
    "### `start_year`"
   ]
  },
  {
   "cell_type": "code",
   "execution_count": null,
   "id": "58ac4132-36ac-4670-9c5d-22c48a4f8b62",
   "metadata": {},
   "outputs": [],
   "source": [
    "anime['start_year'].describe()"
   ]
  },
  {
   "cell_type": "code",
   "execution_count": null,
   "id": "8f107777-7560-4783-8ccd-bbcf1d5a403c",
   "metadata": {},
   "outputs": [],
   "source": [
    "sns.set_theme(font_scale=1.4, style='whitegrid')\n",
    "sns.displot(x='start_year', data=anime, bins=[year for year in range(1960, 2022)], kde=True, color=grey, height=8, aspect=2)\n",
    "plt.title('Release Year Distribution', fontdict={'fontsize':26})\n",
    "plt.xlabel('Release Year', fontdict={'fontsize':20})\n",
    "plt.ylabel('Frequency', fontdict={'fontsize':20})\n",
    "plt.show()"
   ]
  },
  {
   "cell_type": "markdown",
   "id": "369dcb1b-8012-4666-904c-aa0a7244f806",
   "metadata": {},
   "source": [
    "### `season`"
   ]
  },
  {
   "cell_type": "code",
   "execution_count": null,
   "id": "f63fef2c-fa60-4d67-bda5-453109790618",
   "metadata": {},
   "outputs": [],
   "source": [
    "fig = plt.figure(figsize=(10, 6), dpi=110)\n",
    "sns.set_theme(font_scale=1, style='whitegrid')\n",
    "sns.countplot(y='season', data=anime, \n",
    "              order=anime['season'].value_counts().index,\n",
    "              color=grey)\n",
    "plt.title('Number of Works per Season', fontdict={'fontsize':16})\n",
    "plt.xlabel('Frequency', fontdict={'fontsize':14})\n",
    "plt.ylabel('')\n",
    "plt.xlim(450, 1250)\n",
    "plt.show()"
   ]
  },
  {
   "cell_type": "markdown",
   "id": "7dd6c37e-781c-4f63-ba3a-b617f7bf9af7",
   "metadata": {},
   "source": [
    "### `avg_rating`"
   ]
  },
  {
   "cell_type": "code",
   "execution_count": null,
   "id": "66e02e19-c9bb-45f5-989f-819208168970",
   "metadata": {},
   "outputs": [],
   "source": [
    "anime['avg_rating'].describe()"
   ]
  },
  {
   "cell_type": "markdown",
   "id": "078ac041-a4eb-4cb4-877d-fdc25c4b21f0",
   "metadata": {},
   "source": [
    "#### Which shows are the highest rated?"
   ]
  },
  {
   "cell_type": "code",
   "execution_count": null,
   "id": "7602ca8c-fa7a-4b99-99af-d4c002dfa3c1",
   "metadata": {},
   "outputs": [],
   "source": [
    "top10 = anime.head(10).copy(deep=True)\n",
    "top10['title'] = top10['title'].astype('string')\n",
    "\n",
    "sns.set_theme(font_scale=1.6, style='whitegrid')\n",
    "sns.catplot(x='avg_rating', y='title', data=top10, kind='bar', height=8, aspect=3, color=grey)\n",
    "plt.title('Highest Rated Shows', fontdict={'fontsize':30})\n",
    "plt.xlabel('Average Rating', fontdict={'fontsize':22})\n",
    "plt.ylabel('')\n",
    "plt.yticks([])\n",
    "plt.xlim(4.49, 4.65)\n",
    "for idx, val in enumerate(top10['title']):\n",
    "    plt.text(4.495, idx+0.1, val, fontdict={'fontsize':16, 'backgroundcolor':(1, 1, 1, 0.6)})\n",
    "plt.show()"
   ]
  },
  {
   "cell_type": "markdown",
   "id": "ecac4138-f1c3-45a5-89c2-ebc3a92774c4",
   "metadata": {},
   "source": [
    "### `num_votes`"
   ]
  },
  {
   "cell_type": "markdown",
   "id": "be769446-9368-4c28-b063-fce99dc3c046",
   "metadata": {},
   "source": [
    "#### Which shows have the most votes?"
   ]
  },
  {
   "cell_type": "code",
   "execution_count": null,
   "id": "1a13ede5-090e-41e0-bc5f-840c22a7e04e",
   "metadata": {},
   "outputs": [],
   "source": [
    "top10 = anime.sort_values('num_votes', ascending=False).head(10).copy(deep=True)\n",
    "top10['title'] = top10['title'].astype('string')\n",
    "\n",
    "sns.set_theme(font_scale=1.6, style='whitegrid')\n",
    "sns.catplot(x='num_votes', y='title', data=top10, kind='bar', height=8, aspect=2.7, color=grey)\n",
    "plt.title('Shows with Most Votes', fontdict={'fontsize':30})\n",
    "plt.xlabel('Number of Votes', fontdict={'fontsize':22})\n",
    "plt.ylabel('')\n",
    "plt.yticks([])\n",
    "plt.xlim(77000, 163000)\n",
    "for idx, val in enumerate(top10['title']):\n",
    "    plt.text(79000, idx+0.1, val, fontdict={'fontsize':16, 'backgroundcolor':(1, 1, 1, 0.6)})\n",
    "plt.show()"
   ]
  },
  {
   "cell_type": "markdown",
   "id": "9b01cf05-774a-4321-b9c4-03c633e35902",
   "metadata": {},
   "source": [
    "### `tags`"
   ]
  },
  {
   "cell_type": "code",
   "execution_count": null,
   "id": "3bc8e9a0-0dda-4467-9420-07e70d0de757",
   "metadata": {},
   "outputs": [],
   "source": [
    "tags_df = anime[['title', 'tags']].set_index('title')"
   ]
  },
  {
   "cell_type": "code",
   "execution_count": null,
   "id": "df43645c-6f83-4f7b-899e-3b4a188461ed",
   "metadata": {},
   "outputs": [],
   "source": [
    "tags_df = tags_df.explode('tags').reset_index()"
   ]
  },
  {
   "cell_type": "code",
   "execution_count": null,
   "id": "a5dfa90f-88db-4d68-a167-2e7404b895cd",
   "metadata": {},
   "outputs": [],
   "source": [
    "tags_df['tags'][0]"
   ]
  },
  {
   "cell_type": "code",
   "execution_count": null,
   "id": "609d1059-e987-447b-bd01-82f5a8a034a6",
   "metadata": {},
   "outputs": [],
   "source": [
    "tags_df['tags'].nunique()"
   ]
  },
  {
   "cell_type": "code",
   "execution_count": null,
   "id": "ca7e1262-28ee-4669-a768-e782a12a32da",
   "metadata": {},
   "outputs": [],
   "source": [
    "fig = plt.figure(figsize=(20, 8))\n",
    "sns.set_theme(font_scale=1.6, style='whitegrid')\n",
    "sns.countplot(y='tags', data=tags_df, \n",
    "              order=tags_df['tags'].value_counts().iloc[:10].index,\n",
    "              color=grey, saturation=1)\n",
    "plt.title('Most Popular Tags', fontdict={'fontsize':26})\n",
    "plt.xlabel('Frequency', fontdict={'fontsize':22})\n",
    "plt.ylabel('Tag', fontdict={'fontsize':22})\n",
    "plt.xlim(550, 1850)\n",
    "plt.show()"
   ]
  },
  {
   "cell_type": "markdown",
   "id": "bb3917f2-8af9-4447-b23d-8f03c0c3d152",
   "metadata": {},
   "source": [
    "### `content_warnings`"
   ]
  },
  {
   "cell_type": "code",
   "execution_count": null,
   "id": "cc61ba21-f20b-474e-8af4-74b1be98709e",
   "metadata": {},
   "outputs": [],
   "source": [
    "cw_df = anime[['title', 'content_warnings']].set_index('title')"
   ]
  },
  {
   "cell_type": "code",
   "execution_count": null,
   "id": "c2f83962-c463-494c-9d36-b6f6ace906c5",
   "metadata": {},
   "outputs": [],
   "source": [
    "cw_df = cw_df.explode('content_warnings').reset_index()"
   ]
  },
  {
   "cell_type": "code",
   "execution_count": null,
   "id": "4d6f2220-7137-4610-afe7-d43448915ae2",
   "metadata": {},
   "outputs": [],
   "source": [
    "cw_df"
   ]
  },
  {
   "cell_type": "code",
   "execution_count": null,
   "id": "1c3b3f58-f866-4990-aa14-21d8ed677149",
   "metadata": {},
   "outputs": [],
   "source": [
    "cw_df['content_warnings'].nunique()"
   ]
  },
  {
   "cell_type": "code",
   "execution_count": null,
   "id": "871561a3-ab25-4e86-ad4b-5ac6dd647c6f",
   "metadata": {},
   "outputs": [],
   "source": [
    "fig = plt.figure(figsize=(20, 12))\n",
    "sns.set_theme(font_scale=1.6, style='whitegrid')\n",
    "sns.countplot(y='content_warnings', data=cw_df, \n",
    "              order=cw_df['content_warnings'].value_counts().index,\n",
    "              color=grey, saturation=1)\n",
    "plt.title('Most Popular Content Warnings', fontdict={'fontsize':26})\n",
    "plt.xlabel('Frequency', fontdict={'fontsize':22})\n",
    "plt.ylabel('Tag', fontdict={'fontsize':22})\n",
    "plt.show()"
   ]
  },
  {
   "cell_type": "markdown",
   "id": "0da84bc5-239f-4879-84aa-6f2fb3be9c4f",
   "metadata": {},
   "source": [
    "### `username`"
   ]
  },
  {
   "cell_type": "code",
   "execution_count": null,
   "id": "28082fa5-4f85-47c7-b473-6384ce059c66",
   "metadata": {},
   "outputs": [],
   "source": [
    "df['username'].nunique()"
   ]
  },
  {
   "cell_type": "code",
   "execution_count": null,
   "id": "088c17c4-7805-48c2-9c91-c93069d78077",
   "metadata": {},
   "outputs": [],
   "source": [
    "fig = plt.figure(figsize=(20, 8))\n",
    "sns.set_theme(font_scale=1.6, style='whitegrid')\n",
    "sns.countplot(y='username', data=df, \n",
    "              order=df['username'].value_counts().iloc[:10].index,\n",
    "              color=grey, saturation=1)\n",
    "plt.title('Users with Most Titles Watched', fontdict={'fontsize':26})\n",
    "plt.xlabel('Title Count', fontdict={'fontsize':22})\n",
    "plt.ylabel('User', fontdict={'fontsize':22})\n",
    "plt.show()"
   ]
  },
  {
   "cell_type": "markdown",
   "id": "1777fbbb-4b18-4198-b584-89d19eb3bf4c",
   "metadata": {},
   "source": [
    "### `status`"
   ]
  },
  {
   "cell_type": "code",
   "execution_count": null,
   "id": "472c39b2-e029-46ce-ab0e-a2c1912974ba",
   "metadata": {},
   "outputs": [],
   "source": [
    "df['status'].value_counts()"
   ]
  },
  {
   "cell_type": "markdown",
   "id": "2448d4d6-17d0-4de2-b901-2da3a7c5f2f3",
   "metadata": {},
   "source": [
    "### `times_watched`"
   ]
  },
  {
   "cell_type": "code",
   "execution_count": null,
   "id": "88ed442b-5fce-42be-9f23-5cd0e72e9f25",
   "metadata": {},
   "outputs": [],
   "source": [
    "df['times_watched'].describe()"
   ]
  },
  {
   "cell_type": "code",
   "execution_count": null,
   "id": "c4874ae1-9539-4ef4-8f58-4005c452f98e",
   "metadata": {},
   "outputs": [],
   "source": [
    "df['times_watched'].value_counts().head(10)"
   ]
  },
  {
   "cell_type": "markdown",
   "id": "19d52c55-e87c-4004-9560-dbe0c8ea936f",
   "metadata": {},
   "source": [
    "### `user_rating`"
   ]
  },
  {
   "cell_type": "code",
   "execution_count": null,
   "id": "2020f0cb-2c28-4efe-a5ef-cd49fe92d7f1",
   "metadata": {},
   "outputs": [],
   "source": [
    "df['user_rating'].describe()"
   ]
  },
  {
   "cell_type": "code",
   "execution_count": null,
   "id": "b60476bc-d04d-4ede-af5c-80161e353c43",
   "metadata": {},
   "outputs": [],
   "source": [
    "df['user_rating'].value_counts()"
   ]
  }
 ],
 "metadata": {
  "kernelspec": {
   "display_name": "Python 3",
   "language": "python",
   "name": "python3"
  },
  "language_info": {
   "codemirror_mode": {
    "name": "ipython",
    "version": 3
   },
   "file_extension": ".py",
   "mimetype": "text/x-python",
   "name": "python",
   "nbconvert_exporter": "python",
   "pygments_lexer": "ipython3",
   "version": "3.8.10"
  }
 },
 "nbformat": 4,
 "nbformat_minor": 5
}
