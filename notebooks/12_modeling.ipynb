{
 "cells": [
  {
   "cell_type": "code",
   "execution_count": 1,
   "id": "7e38bcda-3ff5-429a-ad11-44b281d7ebbb",
   "metadata": {},
   "outputs": [],
   "source": [
    "import numpy as np\n",
    "import pandas as pd\n",
    "import matplotlib.pyplot as plt\n",
    "import seaborn as sns\n",
    "import scipy as sp\n",
    "from sklearn.metrics.pairwise import cosine_similarity\n",
    "from tqdm import tqdm\n",
    "import math\n",
    "from multiprocessing import Pool\n",
    "import warnings\n",
    "from functools import partial\n",
    "import random"
   ]
  },
  {
   "cell_type": "code",
   "execution_count": 2,
   "id": "b4f9de94-a4e8-4c0b-90b9-4f94436c8a5e",
   "metadata": {},
   "outputs": [],
   "source": [
    "np.random.seed(42)\n",
    "tqdm.pandas()\n",
    "warnings.filterwarnings(\"ignore\", category=RuntimeWarning)"
   ]
  },
  {
   "cell_type": "code",
   "execution_count": 3,
   "id": "33f313b1-8e4a-4782-bbb3-c4378158013a",
   "metadata": {},
   "outputs": [],
   "source": [
    "def chunker(seq, size):\n",
    "    return (seq[pos:pos + size] for pos in range(0, len(seq), size))"
   ]
  },
  {
   "cell_type": "code",
   "execution_count": 4,
   "id": "d0fba32d-a882-4a04-8854-f633acbd3dee",
   "metadata": {},
   "outputs": [],
   "source": [
    "def parallelize(groups, func):\n",
    "    num_workers = 16\n",
    "    with Pool(num_workers) as p:\n",
    "        return pd.concat(p.map(func, [group for name, group in groups])).sort_index()"
   ]
  },
  {
   "cell_type": "code",
   "execution_count": 5,
   "id": "6db0d56b-cce8-43d0-97a0-be68f8b09b16",
   "metadata": {},
   "outputs": [],
   "source": [
    "train = pd.read_pickle('../data/train.pkl.xz')"
   ]
  },
  {
   "cell_type": "code",
   "execution_count": 6,
   "id": "9ba510b5-ad01-4086-a3a1-358c993326c1",
   "metadata": {},
   "outputs": [],
   "source": [
    "title_means = train.mean()"
   ]
  },
  {
   "cell_type": "code",
   "execution_count": 7,
   "id": "380e7335-cbf1-42c8-ae2d-de890756241b",
   "metadata": {},
   "outputs": [],
   "source": [
    "def rmse(pred, true):\n",
    "    return np.sqrt(np.nanmean((pred - true)**2))"
   ]
  },
  {
   "cell_type": "markdown",
   "id": "b5331c25-8dd8-468e-8cb3-d335287dec02",
   "metadata": {},
   "source": [
    "## Model : Mean of Ratings of Most Similar Users (Cosine Similarity Matrix)"
   ]
  },
  {
   "cell_type": "code",
   "execution_count": 6,
   "id": "a5f16796-3c3d-4afb-866d-70518e3a1f09",
   "metadata": {},
   "outputs": [],
   "source": [
    "validate_X = pd.read_pickle('../data/validate_X.pkl.xz')\n",
    "validate_Y = pd.read_pickle('../data/validate_Y.pkl.xz')"
   ]
  },
  {
   "cell_type": "code",
   "execution_count": 13,
   "id": "31b7ab9e-7162-40ef-9c2d-79d1f71dc8bd",
   "metadata": {},
   "outputs": [],
   "source": [
    "train = train.fillna(0)\n",
    "\n",
    "sparse = sp.sparse.csr_matrix(train.values, dtype=np.float32)\n",
    "\n",
    "def similarity_calculator(data):\n",
    "    return pd.DataFrame(cosine_similarity(sparse, data), index=train.index, columns=data.index).astype(np.float16)\n",
    "\n",
    "num_workers = 15\n",
    "chunksize = int(validate_X.shape[0]/num_workers)+1\n",
    "chunks = chunker(validate_X.fillna(0), chunksize)\n",
    "with Pool(num_workers) as p:\n",
    "    similarity_matrix = pd.concat(p.map(similarity_calculator, chunks), axis=1)\n",
    "    \n",
    "del chunks\n",
    "\n",
    "similarity_matrix.to_pickle('/mnt/int_drive_0/Data/anime-recommendation-engine/similarity_matrix.pkl')\n",
    "\n",
    "similarity_matrix = pd.read_pickle('/mnt/int_drive_0/Data/anime-recommendation-engine/similarity_matrix.pkl')\n",
    "def n_similar_users(column, n=1000):\n",
    "    return pd.Series(column.sort_values(ascending=False).head(n).index, name=column.name)\n",
    "\n",
    "def similar_users_ordered(column):\n",
    "    return pd.Series(column.sort_values(ascending=False).index, name=column.name)\n",
    "\n",
    "with Pool(15) as p:\n",
    "    similar_users_ordered = pd.concat(p.map(similar_users_ordered, (tup[1] for tup in similarity_matrix.items())), axis=1)\n",
    "\n",
    "similar_users_ordered.to_pickle('/mnt/int_drive_0/Data/anime-recommendation-engine/similar_users_ordered.pkl')\n",
    "\n",
    "train = train.replace(0, np.NaN)"
   ]
  },
  {
   "cell_type": "code",
   "execution_count": 14,
   "id": "f7bcc039-f41a-4346-9db9-33177f76572a",
   "metadata": {},
   "outputs": [],
   "source": [
    "similar_users_ordered = pd.read_pickle('/mnt/int_drive_0/Data/anime-recommendation-engine/similar_users_ordered.pkl')"
   ]
  },
  {
   "cell_type": "code",
   "execution_count": 15,
   "id": "f253ea7d-59c8-40bf-baf9-001a49292515",
   "metadata": {},
   "outputs": [],
   "source": [
    "def get_recommendations(username, num_sim_users=2000, avg_method='simple'):    \n",
    "    sim_users_data = train.loc[similar_users_ordered[username].head(num_sim_users).values]\n",
    "\n",
    "    watch_data = validate_X.loc[username]\n",
    "\n",
    "    user_watched = watch_data.loc[watch_data.notnull()].index\n",
    "\n",
    "    suggestables = set(sim_users_data.columns).difference(user_watched)\n",
    "\n",
    "    sim_users_data = sim_users_data[suggestables]\n",
    "\n",
    "    if avg_method == 'simple':\n",
    "        pred_data = sim_users_data.mean(axis=0).sort_values(ascending=False)\n",
    "\n",
    "    elif avg_method == 'weighted':\n",
    "        # user_weights = [incremental_base**x for x in range(sim_users_data.shape[0], 0, -1)]\n",
    "        user_weights = np.arange(sim_users_data.shape[0], 0, -1)\n",
    "\n",
    "        weighted_sum = sim_users_data.mul(user_weights, axis=0).sum()\n",
    "\n",
    "        anime_weights = sim_users_data.notnull().astype('int').mul(user_weights, axis=0).sum()\n",
    "\n",
    "        pred_data = (weighted_sum / anime_weights).sort_values(ascending=False)\n",
    "\n",
    "    \n",
    "    return pred_data"
   ]
  },
  {
   "cell_type": "markdown",
   "id": "1eed1a17-0a09-46ec-8ff0-caa50225a639",
   "metadata": {},
   "source": [
    "## Hyperparameter Tuning"
   ]
  },
  {
   "cell_type": "markdown",
   "id": "1c692358-fea9-4815-b8d1-c31ef11b6446",
   "metadata": {},
   "source": [
    "### Number of Similar Users to Consider"
   ]
  },
  {
   "cell_type": "code",
   "execution_count": 17,
   "id": "1754c5ff-57ca-41ee-a65d-337c3dc533ba",
   "metadata": {},
   "outputs": [],
   "source": [
    "num_sim_users_list = [10, 20, 50, 100, 200, 500, 1000, 2000, 4000]\n",
    "avg_method_list = ['simple', 'weighted']\n",
    "# incremental_base_list = [1.0001, 1.001, 1.01, 1.1]\n",
    "\n",
    "parameter_combs = []\n",
    "for nsu in num_sim_users_list:\n",
    "    for avgm in avg_method_list:\n",
    "        parameter_combs.append((nsu, avgm))\n",
    "            \n",
    "random.shuffle(parameter_combs)"
   ]
  },
  {
   "cell_type": "code",
   "execution_count": 18,
   "id": "f99aef0a-791b-417e-a6f8-1369747452c8",
   "metadata": {
    "tags": []
   },
   "outputs": [
    {
     "name": "stderr",
     "output_type": "stream",
     "text": [
      "100%|██████████| 18/18 [07:16<00:00, 24.26s/it]\n"
     ]
    }
   ],
   "source": [
    "data = validate_X.sample(500, random_state=42).index\n",
    "rmse_dict = {}\n",
    "\n",
    "for nsu, avgm in tqdm(parameter_combs):\n",
    "    with Pool(15) as p:\n",
    "        partial_f = partial(get_recommendations, num_sim_users=nsu, avg_method=avgm)\n",
    "        validate_pred = pd.DataFrame(p.map(partial_f, np.array(data)), index=data)\n",
    "\n",
    "    rmse_dict[(nsu, avgm)] = rmse(validate_pred, validate_Y.loc[data])"
   ]
  },
  {
   "cell_type": "code",
   "execution_count": 19,
   "id": "ef653259-7fd1-4992-89cf-78b338452fae",
   "metadata": {},
   "outputs": [
    {
     "data": {
      "text/plain": [
       "{(10, 'simple'): 0.2143944826334401,\n",
       " (4000, 'weighted'): 0.17993241160038503,\n",
       " (4000, 'simple'): 0.1805542327349845,\n",
       " (20, 'weighted'): 0.21065714211621878,\n",
       " (2000, 'weighted'): 0.17975068380955647,\n",
       " (200, 'simple'): 0.18994990031427866,\n",
       " (200, 'weighted'): 0.19230069767148963,\n",
       " (1000, 'simple'): 0.18097026013101253,\n",
       " (500, 'simple'): 0.18325626407655016,\n",
       " (100, 'simple'): 0.1943903428534364,\n",
       " (1000, 'weighted'): 0.18128137866286645,\n",
       " (50, 'weighted'): 0.202639283168223,\n",
       " (500, 'weighted'): 0.18454352045758826,\n",
       " (20, 'simple'): 0.20713744953324137,\n",
       " (10, 'weighted'): 0.21778560894173007,\n",
       " (50, 'simple'): 0.19910013127841067,\n",
       " (100, 'weighted'): 0.19688605876167084,\n",
       " (2000, 'simple'): 0.17999431105071925}"
      ]
     },
     "execution_count": 19,
     "metadata": {},
     "output_type": "execute_result"
    }
   ],
   "source": [
    "rmse_dict"
   ]
  },
  {
   "cell_type": "markdown",
   "id": "ef1db219-e1f7-4a07-922b-aaf1145a5bad",
   "metadata": {},
   "source": [
    "### The best model"
   ]
  },
  {
   "cell_type": "code",
   "execution_count": 20,
   "id": "aa041e76-0259-4399-81ac-977e361f14b9",
   "metadata": {},
   "outputs": [],
   "source": [
    "data = validate_X.sample(1000, random_state=42).index\n",
    "with Pool(15) as p:\n",
    "    partial_f = partial(get_recommendations, num_sim_users=2000, avg_method='weighted')\n",
    "    validate_pred = pd.DataFrame(p.map(partial_f, np.array(data)), index=data)"
   ]
  },
  {
   "cell_type": "code",
   "execution_count": 21,
   "id": "491c338c-c947-4022-94f4-67b7e587ffc2",
   "metadata": {},
   "outputs": [
    {
     "data": {
      "text/plain": [
       "0.17991354396697642"
      ]
     },
     "execution_count": 21,
     "metadata": {},
     "output_type": "execute_result"
    }
   ],
   "source": [
    "rmse(validate_pred, validate_Y.loc[data])"
   ]
  },
  {
   "cell_type": "markdown",
   "id": "d136b383-b9e3-49d7-a9c9-45dd4493703d",
   "metadata": {},
   "source": [
    "## Testing"
   ]
  },
  {
   "cell_type": "code",
   "execution_count": 8,
   "id": "6d5541fb-a138-4ccc-ada3-6a2167f1778c",
   "metadata": {},
   "outputs": [],
   "source": [
    "validate = pd.read_pickle('../data/validate.pkl.xz')"
   ]
  },
  {
   "cell_type": "code",
   "execution_count": 9,
   "id": "cd1c992a-66ff-451a-b9f4-f1d7e17cdf66",
   "metadata": {},
   "outputs": [],
   "source": [
    "train = pd.concat([train, validate], axis=0)"
   ]
  },
  {
   "cell_type": "code",
   "execution_count": 10,
   "id": "333d7292-2839-4ddd-901c-d73613c6c06a",
   "metadata": {},
   "outputs": [],
   "source": [
    "test_X = pd.read_pickle('../data/test_X.pkl.xz')\n",
    "test_Y = pd.read_pickle('../data/test_Y.pkl.xz')"
   ]
  },
  {
   "cell_type": "code",
   "execution_count": 11,
   "id": "ace741e7-584a-4a6d-819d-3f749e621024",
   "metadata": {},
   "outputs": [
    {
     "ename": "KeyboardInterrupt",
     "evalue": "",
     "output_type": "error",
     "traceback": [
      "\u001b[0;31m---------------------------------------------------------------------------\u001b[0m",
      "\u001b[0;31mKeyboardInterrupt\u001b[0m                         Traceback (most recent call last)",
      "\u001b[0;32m/tmp/ipykernel_77232/3573272805.py\u001b[0m in \u001b[0;36m<module>\u001b[0;34m\u001b[0m\n\u001b[0;32m----> 1\u001b[0;31m \u001b[0mtrain\u001b[0m \u001b[0;34m=\u001b[0m \u001b[0mtrain\u001b[0m\u001b[0;34m.\u001b[0m\u001b[0mfillna\u001b[0m\u001b[0;34m(\u001b[0m\u001b[0;36m0\u001b[0m\u001b[0;34m)\u001b[0m\u001b[0;34m\u001b[0m\u001b[0;34m\u001b[0m\u001b[0m\n\u001b[0m\u001b[1;32m      2\u001b[0m \u001b[0;34m\u001b[0m\u001b[0m\n\u001b[1;32m      3\u001b[0m \u001b[0msparse\u001b[0m \u001b[0;34m=\u001b[0m \u001b[0msp\u001b[0m\u001b[0;34m.\u001b[0m\u001b[0msparse\u001b[0m\u001b[0;34m.\u001b[0m\u001b[0mcsr_matrix\u001b[0m\u001b[0;34m(\u001b[0m\u001b[0mtrain\u001b[0m\u001b[0;34m.\u001b[0m\u001b[0mvalues\u001b[0m\u001b[0;34m,\u001b[0m \u001b[0mdtype\u001b[0m\u001b[0;34m=\u001b[0m\u001b[0mnp\u001b[0m\u001b[0;34m.\u001b[0m\u001b[0mfloat32\u001b[0m\u001b[0;34m)\u001b[0m\u001b[0;34m\u001b[0m\u001b[0;34m\u001b[0m\u001b[0m\n\u001b[1;32m      4\u001b[0m \u001b[0;34m\u001b[0m\u001b[0m\n\u001b[1;32m      5\u001b[0m \u001b[0;32mdef\u001b[0m \u001b[0msimilarity_calculator\u001b[0m\u001b[0;34m(\u001b[0m\u001b[0mdata\u001b[0m\u001b[0;34m)\u001b[0m\u001b[0;34m:\u001b[0m\u001b[0;34m\u001b[0m\u001b[0;34m\u001b[0m\u001b[0m\n",
      "\u001b[0;32m~/miniconda3/envs/anime-recommendation-engine/lib/python3.8/site-packages/pandas/util/_decorators.py\u001b[0m in \u001b[0;36mwrapper\u001b[0;34m(*args, **kwargs)\u001b[0m\n\u001b[1;32m    309\u001b[0m                     \u001b[0mstacklevel\u001b[0m\u001b[0;34m=\u001b[0m\u001b[0mstacklevel\u001b[0m\u001b[0;34m,\u001b[0m\u001b[0;34m\u001b[0m\u001b[0;34m\u001b[0m\u001b[0m\n\u001b[1;32m    310\u001b[0m                 )\n\u001b[0;32m--> 311\u001b[0;31m             \u001b[0;32mreturn\u001b[0m \u001b[0mfunc\u001b[0m\u001b[0;34m(\u001b[0m\u001b[0;34m*\u001b[0m\u001b[0margs\u001b[0m\u001b[0;34m,\u001b[0m \u001b[0;34m**\u001b[0m\u001b[0mkwargs\u001b[0m\u001b[0;34m)\u001b[0m\u001b[0;34m\u001b[0m\u001b[0;34m\u001b[0m\u001b[0m\n\u001b[0m\u001b[1;32m    312\u001b[0m \u001b[0;34m\u001b[0m\u001b[0m\n\u001b[1;32m    313\u001b[0m         \u001b[0;32mreturn\u001b[0m \u001b[0mwrapper\u001b[0m\u001b[0;34m\u001b[0m\u001b[0;34m\u001b[0m\u001b[0m\n",
      "\u001b[0;32m~/miniconda3/envs/anime-recommendation-engine/lib/python3.8/site-packages/pandas/core/frame.py\u001b[0m in \u001b[0;36mfillna\u001b[0;34m(self, value, method, axis, inplace, limit, downcast)\u001b[0m\n\u001b[1;32m   5174\u001b[0m         \u001b[0mdowncast\u001b[0m\u001b[0;34m=\u001b[0m\u001b[0;32mNone\u001b[0m\u001b[0;34m,\u001b[0m\u001b[0;34m\u001b[0m\u001b[0;34m\u001b[0m\u001b[0m\n\u001b[1;32m   5175\u001b[0m     ) -> DataFrame | None:\n\u001b[0;32m-> 5176\u001b[0;31m         return super().fillna(\n\u001b[0m\u001b[1;32m   5177\u001b[0m             \u001b[0mvalue\u001b[0m\u001b[0;34m=\u001b[0m\u001b[0mvalue\u001b[0m\u001b[0;34m,\u001b[0m\u001b[0;34m\u001b[0m\u001b[0;34m\u001b[0m\u001b[0m\n\u001b[1;32m   5178\u001b[0m             \u001b[0mmethod\u001b[0m\u001b[0;34m=\u001b[0m\u001b[0mmethod\u001b[0m\u001b[0;34m,\u001b[0m\u001b[0;34m\u001b[0m\u001b[0;34m\u001b[0m\u001b[0m\n",
      "\u001b[0;32m~/miniconda3/envs/anime-recommendation-engine/lib/python3.8/site-packages/pandas/core/generic.py\u001b[0m in \u001b[0;36mfillna\u001b[0;34m(self, value, method, axis, inplace, limit, downcast)\u001b[0m\n\u001b[1;32m   6380\u001b[0m \u001b[0;34m\u001b[0m\u001b[0m\n\u001b[1;32m   6381\u001b[0m             \u001b[0;32melif\u001b[0m \u001b[0;32mnot\u001b[0m \u001b[0mis_list_like\u001b[0m\u001b[0;34m(\u001b[0m\u001b[0mvalue\u001b[0m\u001b[0;34m)\u001b[0m\u001b[0;34m:\u001b[0m\u001b[0;34m\u001b[0m\u001b[0;34m\u001b[0m\u001b[0m\n\u001b[0;32m-> 6382\u001b[0;31m                 new_data = self._mgr.fillna(\n\u001b[0m\u001b[1;32m   6383\u001b[0m                     \u001b[0mvalue\u001b[0m\u001b[0;34m=\u001b[0m\u001b[0mvalue\u001b[0m\u001b[0;34m,\u001b[0m \u001b[0mlimit\u001b[0m\u001b[0;34m=\u001b[0m\u001b[0mlimit\u001b[0m\u001b[0;34m,\u001b[0m \u001b[0minplace\u001b[0m\u001b[0;34m=\u001b[0m\u001b[0minplace\u001b[0m\u001b[0;34m,\u001b[0m \u001b[0mdowncast\u001b[0m\u001b[0;34m=\u001b[0m\u001b[0mdowncast\u001b[0m\u001b[0;34m\u001b[0m\u001b[0;34m\u001b[0m\u001b[0m\n\u001b[1;32m   6384\u001b[0m                 )\n",
      "\u001b[0;32m~/miniconda3/envs/anime-recommendation-engine/lib/python3.8/site-packages/pandas/core/internals/managers.py\u001b[0m in \u001b[0;36mfillna\u001b[0;34m(self, value, limit, inplace, downcast)\u001b[0m\n\u001b[1;32m    408\u001b[0m \u001b[0;34m\u001b[0m\u001b[0m\n\u001b[1;32m    409\u001b[0m     \u001b[0;32mdef\u001b[0m \u001b[0mfillna\u001b[0m\u001b[0;34m(\u001b[0m\u001b[0mself\u001b[0m\u001b[0;34m:\u001b[0m \u001b[0mT\u001b[0m\u001b[0;34m,\u001b[0m \u001b[0mvalue\u001b[0m\u001b[0;34m,\u001b[0m \u001b[0mlimit\u001b[0m\u001b[0;34m,\u001b[0m \u001b[0minplace\u001b[0m\u001b[0;34m:\u001b[0m \u001b[0mbool\u001b[0m\u001b[0;34m,\u001b[0m \u001b[0mdowncast\u001b[0m\u001b[0;34m)\u001b[0m \u001b[0;34m->\u001b[0m \u001b[0mT\u001b[0m\u001b[0;34m:\u001b[0m\u001b[0;34m\u001b[0m\u001b[0;34m\u001b[0m\u001b[0m\n\u001b[0;32m--> 410\u001b[0;31m         return self.apply(\n\u001b[0m\u001b[1;32m    411\u001b[0m             \u001b[0;34m\"fillna\"\u001b[0m\u001b[0;34m,\u001b[0m \u001b[0mvalue\u001b[0m\u001b[0;34m=\u001b[0m\u001b[0mvalue\u001b[0m\u001b[0;34m,\u001b[0m \u001b[0mlimit\u001b[0m\u001b[0;34m=\u001b[0m\u001b[0mlimit\u001b[0m\u001b[0;34m,\u001b[0m \u001b[0minplace\u001b[0m\u001b[0;34m=\u001b[0m\u001b[0minplace\u001b[0m\u001b[0;34m,\u001b[0m \u001b[0mdowncast\u001b[0m\u001b[0;34m=\u001b[0m\u001b[0mdowncast\u001b[0m\u001b[0;34m\u001b[0m\u001b[0;34m\u001b[0m\u001b[0m\n\u001b[1;32m    412\u001b[0m         )\n",
      "\u001b[0;32m~/miniconda3/envs/anime-recommendation-engine/lib/python3.8/site-packages/pandas/core/internals/managers.py\u001b[0m in \u001b[0;36mapply\u001b[0;34m(self, f, align_keys, ignore_failures, **kwargs)\u001b[0m\n\u001b[1;32m    325\u001b[0m                     \u001b[0mapplied\u001b[0m \u001b[0;34m=\u001b[0m \u001b[0mb\u001b[0m\u001b[0;34m.\u001b[0m\u001b[0mapply\u001b[0m\u001b[0;34m(\u001b[0m\u001b[0mf\u001b[0m\u001b[0;34m,\u001b[0m \u001b[0;34m**\u001b[0m\u001b[0mkwargs\u001b[0m\u001b[0;34m)\u001b[0m\u001b[0;34m\u001b[0m\u001b[0;34m\u001b[0m\u001b[0m\n\u001b[1;32m    326\u001b[0m                 \u001b[0;32melse\u001b[0m\u001b[0;34m:\u001b[0m\u001b[0;34m\u001b[0m\u001b[0;34m\u001b[0m\u001b[0m\n\u001b[0;32m--> 327\u001b[0;31m                     \u001b[0mapplied\u001b[0m \u001b[0;34m=\u001b[0m \u001b[0mgetattr\u001b[0m\u001b[0;34m(\u001b[0m\u001b[0mb\u001b[0m\u001b[0;34m,\u001b[0m \u001b[0mf\u001b[0m\u001b[0;34m)\u001b[0m\u001b[0;34m(\u001b[0m\u001b[0;34m**\u001b[0m\u001b[0mkwargs\u001b[0m\u001b[0;34m)\u001b[0m\u001b[0;34m\u001b[0m\u001b[0;34m\u001b[0m\u001b[0m\n\u001b[0m\u001b[1;32m    328\u001b[0m             \u001b[0;32mexcept\u001b[0m \u001b[0;34m(\u001b[0m\u001b[0mTypeError\u001b[0m\u001b[0;34m,\u001b[0m \u001b[0mNotImplementedError\u001b[0m\u001b[0;34m)\u001b[0m\u001b[0;34m:\u001b[0m\u001b[0;34m\u001b[0m\u001b[0;34m\u001b[0m\u001b[0m\n\u001b[1;32m    329\u001b[0m                 \u001b[0;32mif\u001b[0m \u001b[0;32mnot\u001b[0m \u001b[0mignore_failures\u001b[0m\u001b[0;34m:\u001b[0m\u001b[0;34m\u001b[0m\u001b[0;34m\u001b[0m\u001b[0m\n",
      "\u001b[0;32m~/miniconda3/envs/anime-recommendation-engine/lib/python3.8/site-packages/pandas/core/internals/blocks.py\u001b[0m in \u001b[0;36mfillna\u001b[0;34m(self, value, limit, inplace, downcast)\u001b[0m\n\u001b[1;32m    450\u001b[0m \u001b[0;34m\u001b[0m\u001b[0m\n\u001b[1;32m    451\u001b[0m         \u001b[0;32mif\u001b[0m \u001b[0mself\u001b[0m\u001b[0;34m.\u001b[0m\u001b[0m_can_hold_element\u001b[0m\u001b[0;34m(\u001b[0m\u001b[0mvalue\u001b[0m\u001b[0;34m)\u001b[0m\u001b[0;34m:\u001b[0m\u001b[0;34m\u001b[0m\u001b[0;34m\u001b[0m\u001b[0m\n\u001b[0;32m--> 452\u001b[0;31m             \u001b[0mnb\u001b[0m \u001b[0;34m=\u001b[0m \u001b[0mself\u001b[0m \u001b[0;32mif\u001b[0m \u001b[0minplace\u001b[0m \u001b[0;32melse\u001b[0m \u001b[0mself\u001b[0m\u001b[0;34m.\u001b[0m\u001b[0mcopy\u001b[0m\u001b[0;34m(\u001b[0m\u001b[0;34m)\u001b[0m\u001b[0;34m\u001b[0m\u001b[0;34m\u001b[0m\u001b[0m\n\u001b[0m\u001b[1;32m    453\u001b[0m             \u001b[0mputmask_inplace\u001b[0m\u001b[0;34m(\u001b[0m\u001b[0mnb\u001b[0m\u001b[0;34m.\u001b[0m\u001b[0mvalues\u001b[0m\u001b[0;34m,\u001b[0m \u001b[0mmask\u001b[0m\u001b[0;34m,\u001b[0m \u001b[0mvalue\u001b[0m\u001b[0;34m)\u001b[0m\u001b[0;34m\u001b[0m\u001b[0;34m\u001b[0m\u001b[0m\n\u001b[1;32m    454\u001b[0m             \u001b[0;32mreturn\u001b[0m \u001b[0mnb\u001b[0m\u001b[0;34m.\u001b[0m\u001b[0m_maybe_downcast\u001b[0m\u001b[0;34m(\u001b[0m\u001b[0;34m[\u001b[0m\u001b[0mnb\u001b[0m\u001b[0;34m]\u001b[0m\u001b[0;34m,\u001b[0m \u001b[0mdowncast\u001b[0m\u001b[0;34m)\u001b[0m\u001b[0;34m\u001b[0m\u001b[0;34m\u001b[0m\u001b[0m\n",
      "\u001b[0;32m~/miniconda3/envs/anime-recommendation-engine/lib/python3.8/site-packages/pandas/core/internals/blocks.py\u001b[0m in \u001b[0;36mcopy\u001b[0;34m(self, deep)\u001b[0m\n\u001b[1;32m    648\u001b[0m         \u001b[0mvalues\u001b[0m \u001b[0;34m=\u001b[0m \u001b[0mself\u001b[0m\u001b[0;34m.\u001b[0m\u001b[0mvalues\u001b[0m\u001b[0;34m\u001b[0m\u001b[0;34m\u001b[0m\u001b[0m\n\u001b[1;32m    649\u001b[0m         \u001b[0;32mif\u001b[0m \u001b[0mdeep\u001b[0m\u001b[0;34m:\u001b[0m\u001b[0;34m\u001b[0m\u001b[0;34m\u001b[0m\u001b[0m\n\u001b[0;32m--> 650\u001b[0;31m             \u001b[0mvalues\u001b[0m \u001b[0;34m=\u001b[0m \u001b[0mvalues\u001b[0m\u001b[0;34m.\u001b[0m\u001b[0mcopy\u001b[0m\u001b[0;34m(\u001b[0m\u001b[0;34m)\u001b[0m\u001b[0;34m\u001b[0m\u001b[0;34m\u001b[0m\u001b[0m\n\u001b[0m\u001b[1;32m    651\u001b[0m         \u001b[0;32mreturn\u001b[0m \u001b[0mself\u001b[0m\u001b[0;34m.\u001b[0m\u001b[0mmake_block_same_class\u001b[0m\u001b[0;34m(\u001b[0m\u001b[0mvalues\u001b[0m\u001b[0;34m)\u001b[0m\u001b[0;34m\u001b[0m\u001b[0;34m\u001b[0m\u001b[0m\n\u001b[1;32m    652\u001b[0m \u001b[0;34m\u001b[0m\u001b[0m\n",
      "\u001b[0;31mKeyboardInterrupt\u001b[0m: "
     ]
    }
   ],
   "source": [
    "train = train.fillna(0)\n",
    "\n",
    "sparse = sp.sparse.csr_matrix(train.values, dtype=np.float32)\n",
    "\n",
    "def similarity_calculator(data):\n",
    "    return pd.DataFrame(cosine_similarity(sparse, data), index=train.index, columns=data.index).astype(np.float16)\n",
    "\n",
    "num_workers = 15\n",
    "chunksize = int(test_X.shape[0]/num_workers)+1\n",
    "chunks = chunker(test_X.fillna(0), chunksize)\n",
    "with Pool(num_workers) as p:\n",
    "    similarity_matrix = pd.concat(p.map(similarity_calculator, chunks), axis=1)\n",
    "    \n",
    "del chunks\n",
    "\n",
    "similarity_matrix.to_pickle('/mnt/int_drive_0/Data/anime-recommendation-engine/similarity_matrix_test.pkl')\n",
    "\n",
    "similarity_matrix = pd.read_pickle('/mnt/int_drive_0/Data/anime-recommendation-engine/similarity_matrix_test.pkl')\n",
    "def n_similar_users(column, n=1000):\n",
    "    return pd.Series(column.sort_values(ascending=False).head(n).index, name=column.name)\n",
    "\n",
    "def similar_users_ordered(column):\n",
    "    return pd.Series(column.sort_values(ascending=False).index, name=column.name)\n",
    "\n",
    "with Pool(15) as p:\n",
    "    similar_users_ordered = pd.concat(p.map(similar_users_ordered, (tup[1] for tup in similarity_matrix.items())), axis=1)\n",
    "\n",
    "similar_users_ordered.to_pickle('/mnt/int_drive_0/Data/anime-recommendation-engine/similar_users_ordered_test.pkl')\n",
    "\n",
    "train = train.replace(0, np.NaN)"
   ]
  },
  {
   "cell_type": "code",
   "execution_count": 12,
   "id": "727bf3d3-40fb-45f4-a0aa-709a41be3721",
   "metadata": {},
   "outputs": [],
   "source": [
    "similar_users_ordered = pd.read_pickle('/mnt/int_drive_0/Data/anime-recommendation-engine/similar_users_ordered_test.pkl')"
   ]
  },
  {
   "cell_type": "code",
   "execution_count": 13,
   "id": "3050642e-fb36-40f5-b760-93b05efe6a6f",
   "metadata": {},
   "outputs": [],
   "source": [
    "def get_recommendations(username, num_sim_users=2000, avg_method='weighted'):    \n",
    "    sim_users_data = train.loc[similar_users_ordered[username].head(num_sim_users).values]\n",
    "\n",
    "    watch_data = test_X.loc[username]\n",
    "\n",
    "    user_watched = watch_data.loc[watch_data.notnull()].index\n",
    "\n",
    "    suggestables = set(sim_users_data.columns).difference(user_watched)\n",
    "\n",
    "    sim_users_data = sim_users_data[suggestables]\n",
    "\n",
    "    if avg_method == 'simple':\n",
    "        pred_data = sim_users_data.mean(axis=0).sort_values(ascending=False)\n",
    "\n",
    "    elif avg_method == 'weighted':\n",
    "        # user_weights = [incremental_base**x for x in range(sim_users_data.shape[0], 0, -1)]\n",
    "        user_weights = np.arange(sim_users_data.shape[0], 0, -1)\n",
    "\n",
    "        weighted_sum = sim_users_data.mul(user_weights, axis=0).sum()\n",
    "\n",
    "        anime_weights = sim_users_data.notnull().astype('int').mul(user_weights, axis=0).sum()\n",
    "\n",
    "        pred_data = (weighted_sum / anime_weights).sort_values(ascending=False)\n",
    "\n",
    "    \n",
    "    return pred_data"
   ]
  },
  {
   "cell_type": "code",
   "execution_count": 14,
   "id": "984adcdd-e936-4e29-9f63-cbedf46e2095",
   "metadata": {},
   "outputs": [],
   "source": [
    "data = test_X.sample(2000, random_state=42).index\n",
    "with Pool(15) as p:\n",
    "    partial_f = partial(get_recommendations, num_sim_users=2000, avg_method='weighted')\n",
    "    test_pred = pd.DataFrame(p.map(partial_f, np.array(data)), index=data)"
   ]
  },
  {
   "cell_type": "code",
   "execution_count": 21,
   "id": "2552e265-32e4-424b-b094-2febd7fe85ae",
   "metadata": {},
   "outputs": [
    {
     "data": {
      "text/plain": [
       "0.1790261474692326"
      ]
     },
     "execution_count": 21,
     "metadata": {},
     "output_type": "execute_result"
    }
   ],
   "source": [
    "model_rmse = rmse(test_pred, test_Y.loc[data])\n",
    "model_rmse"
   ]
  },
  {
   "cell_type": "markdown",
   "id": "f5c22495-2c5f-4c31-b4bb-0c9164437833",
   "metadata": {
    "tags": []
   },
   "source": [
    "### Benchmark (Mean of the titles)"
   ]
  },
  {
   "cell_type": "code",
   "execution_count": 16,
   "id": "d70eb918-4e26-47a0-b918-02f7ee9014ed",
   "metadata": {},
   "outputs": [],
   "source": [
    "mean_pred = pd.DataFrame([title_means] * test_X.shape[0], index=test_X.index)"
   ]
  },
  {
   "cell_type": "code",
   "execution_count": 17,
   "id": "f5ca20ad-659c-4681-bd21-710ae6f2b9de",
   "metadata": {},
   "outputs": [
    {
     "data": {
      "text/html": [
       "<div>\n",
       "<style scoped>\n",
       "    .dataframe tbody tr th:only-of-type {\n",
       "        vertical-align: middle;\n",
       "    }\n",
       "\n",
       "    .dataframe tbody tr th {\n",
       "        vertical-align: top;\n",
       "    }\n",
       "\n",
       "    .dataframe thead th {\n",
       "        text-align: right;\n",
       "    }\n",
       "</style>\n",
       "<table border=\"1\" class=\"dataframe\">\n",
       "  <thead>\n",
       "    <tr style=\"text-align: right;\">\n",
       "      <th>title</th>\n",
       "      <th>.hack//Legend Of The Twilight</th>\n",
       "      <th>.hack//Roots</th>\n",
       "      <th>.hack//SIGN</th>\n",
       "      <th>009-1</th>\n",
       "      <th>07-Ghost</th>\n",
       "      <th>100 Sleeping Princes &amp; the Kingdom of Dreams</th>\n",
       "      <th>100% Pascal-sensei (2017)</th>\n",
       "      <th>11eyes</th>\n",
       "      <th>12-Sai: Chiccha na Mune no Tokimeki</th>\n",
       "      <th>12-Sai: Chiccha na Mune no Tokimeki 2</th>\n",
       "      <th>...</th>\n",
       "      <th>gdgd Fairies</th>\n",
       "      <th>gdgd Fairies 2</th>\n",
       "      <th>gdgd men's party</th>\n",
       "      <th>number24</th>\n",
       "      <th>revisions</th>\n",
       "      <th>sola</th>\n",
       "      <th>www.Working!!</th>\n",
       "      <th>xxxHOLiC</th>\n",
       "      <th>xxxHOLiC Kei</th>\n",
       "      <th>ēlDLIVE</th>\n",
       "    </tr>\n",
       "    <tr>\n",
       "      <th>username</th>\n",
       "      <th></th>\n",
       "      <th></th>\n",
       "      <th></th>\n",
       "      <th></th>\n",
       "      <th></th>\n",
       "      <th></th>\n",
       "      <th></th>\n",
       "      <th></th>\n",
       "      <th></th>\n",
       "      <th></th>\n",
       "      <th></th>\n",
       "      <th></th>\n",
       "      <th></th>\n",
       "      <th></th>\n",
       "      <th></th>\n",
       "      <th></th>\n",
       "      <th></th>\n",
       "      <th></th>\n",
       "      <th></th>\n",
       "      <th></th>\n",
       "      <th></th>\n",
       "    </tr>\n",
       "  </thead>\n",
       "  <tbody>\n",
       "    <tr>\n",
       "      <th>merlin44</th>\n",
       "      <td>0.398595</td>\n",
       "      <td>0.437319</td>\n",
       "      <td>0.440021</td>\n",
       "      <td>0.318789</td>\n",
       "      <td>0.458356</td>\n",
       "      <td>0.322079</td>\n",
       "      <td>0.316159</td>\n",
       "      <td>0.343093</td>\n",
       "      <td>0.401711</td>\n",
       "      <td>0.402605</td>\n",
       "      <td>...</td>\n",
       "      <td>0.398049</td>\n",
       "      <td>0.445373</td>\n",
       "      <td>0.273214</td>\n",
       "      <td>0.428703</td>\n",
       "      <td>0.319214</td>\n",
       "      <td>0.468144</td>\n",
       "      <td>0.503494</td>\n",
       "      <td>0.545162</td>\n",
       "      <td>0.608905</td>\n",
       "      <td>0.31114</td>\n",
       "    </tr>\n",
       "    <tr>\n",
       "      <th>Pcnumero1</th>\n",
       "      <td>0.398595</td>\n",
       "      <td>0.437319</td>\n",
       "      <td>0.440021</td>\n",
       "      <td>0.318789</td>\n",
       "      <td>0.458356</td>\n",
       "      <td>0.322079</td>\n",
       "      <td>0.316159</td>\n",
       "      <td>0.343093</td>\n",
       "      <td>0.401711</td>\n",
       "      <td>0.402605</td>\n",
       "      <td>...</td>\n",
       "      <td>0.398049</td>\n",
       "      <td>0.445373</td>\n",
       "      <td>0.273214</td>\n",
       "      <td>0.428703</td>\n",
       "      <td>0.319214</td>\n",
       "      <td>0.468144</td>\n",
       "      <td>0.503494</td>\n",
       "      <td>0.545162</td>\n",
       "      <td>0.608905</td>\n",
       "      <td>0.31114</td>\n",
       "    </tr>\n",
       "    <tr>\n",
       "      <th>Krigod</th>\n",
       "      <td>0.398595</td>\n",
       "      <td>0.437319</td>\n",
       "      <td>0.440021</td>\n",
       "      <td>0.318789</td>\n",
       "      <td>0.458356</td>\n",
       "      <td>0.322079</td>\n",
       "      <td>0.316159</td>\n",
       "      <td>0.343093</td>\n",
       "      <td>0.401711</td>\n",
       "      <td>0.402605</td>\n",
       "      <td>...</td>\n",
       "      <td>0.398049</td>\n",
       "      <td>0.445373</td>\n",
       "      <td>0.273214</td>\n",
       "      <td>0.428703</td>\n",
       "      <td>0.319214</td>\n",
       "      <td>0.468144</td>\n",
       "      <td>0.503494</td>\n",
       "      <td>0.545162</td>\n",
       "      <td>0.608905</td>\n",
       "      <td>0.31114</td>\n",
       "    </tr>\n",
       "    <tr>\n",
       "      <th>Luiven801</th>\n",
       "      <td>0.398595</td>\n",
       "      <td>0.437319</td>\n",
       "      <td>0.440021</td>\n",
       "      <td>0.318789</td>\n",
       "      <td>0.458356</td>\n",
       "      <td>0.322079</td>\n",
       "      <td>0.316159</td>\n",
       "      <td>0.343093</td>\n",
       "      <td>0.401711</td>\n",
       "      <td>0.402605</td>\n",
       "      <td>...</td>\n",
       "      <td>0.398049</td>\n",
       "      <td>0.445373</td>\n",
       "      <td>0.273214</td>\n",
       "      <td>0.428703</td>\n",
       "      <td>0.319214</td>\n",
       "      <td>0.468144</td>\n",
       "      <td>0.503494</td>\n",
       "      <td>0.545162</td>\n",
       "      <td>0.608905</td>\n",
       "      <td>0.31114</td>\n",
       "    </tr>\n",
       "    <tr>\n",
       "      <th>sylphine</th>\n",
       "      <td>0.398595</td>\n",
       "      <td>0.437319</td>\n",
       "      <td>0.440021</td>\n",
       "      <td>0.318789</td>\n",
       "      <td>0.458356</td>\n",
       "      <td>0.322079</td>\n",
       "      <td>0.316159</td>\n",
       "      <td>0.343093</td>\n",
       "      <td>0.401711</td>\n",
       "      <td>0.402605</td>\n",
       "      <td>...</td>\n",
       "      <td>0.398049</td>\n",
       "      <td>0.445373</td>\n",
       "      <td>0.273214</td>\n",
       "      <td>0.428703</td>\n",
       "      <td>0.319214</td>\n",
       "      <td>0.468144</td>\n",
       "      <td>0.503494</td>\n",
       "      <td>0.545162</td>\n",
       "      <td>0.608905</td>\n",
       "      <td>0.31114</td>\n",
       "    </tr>\n",
       "    <tr>\n",
       "      <th>...</th>\n",
       "      <td>...</td>\n",
       "      <td>...</td>\n",
       "      <td>...</td>\n",
       "      <td>...</td>\n",
       "      <td>...</td>\n",
       "      <td>...</td>\n",
       "      <td>...</td>\n",
       "      <td>...</td>\n",
       "      <td>...</td>\n",
       "      <td>...</td>\n",
       "      <td>...</td>\n",
       "      <td>...</td>\n",
       "      <td>...</td>\n",
       "      <td>...</td>\n",
       "      <td>...</td>\n",
       "      <td>...</td>\n",
       "      <td>...</td>\n",
       "      <td>...</td>\n",
       "      <td>...</td>\n",
       "      <td>...</td>\n",
       "      <td>...</td>\n",
       "    </tr>\n",
       "    <tr>\n",
       "      <th>jenniferm1</th>\n",
       "      <td>0.398595</td>\n",
       "      <td>0.437319</td>\n",
       "      <td>0.440021</td>\n",
       "      <td>0.318789</td>\n",
       "      <td>0.458356</td>\n",
       "      <td>0.322079</td>\n",
       "      <td>0.316159</td>\n",
       "      <td>0.343093</td>\n",
       "      <td>0.401711</td>\n",
       "      <td>0.402605</td>\n",
       "      <td>...</td>\n",
       "      <td>0.398049</td>\n",
       "      <td>0.445373</td>\n",
       "      <td>0.273214</td>\n",
       "      <td>0.428703</td>\n",
       "      <td>0.319214</td>\n",
       "      <td>0.468144</td>\n",
       "      <td>0.503494</td>\n",
       "      <td>0.545162</td>\n",
       "      <td>0.608905</td>\n",
       "      <td>0.31114</td>\n",
       "    </tr>\n",
       "    <tr>\n",
       "      <th>Burokun</th>\n",
       "      <td>0.398595</td>\n",
       "      <td>0.437319</td>\n",
       "      <td>0.440021</td>\n",
       "      <td>0.318789</td>\n",
       "      <td>0.458356</td>\n",
       "      <td>0.322079</td>\n",
       "      <td>0.316159</td>\n",
       "      <td>0.343093</td>\n",
       "      <td>0.401711</td>\n",
       "      <td>0.402605</td>\n",
       "      <td>...</td>\n",
       "      <td>0.398049</td>\n",
       "      <td>0.445373</td>\n",
       "      <td>0.273214</td>\n",
       "      <td>0.428703</td>\n",
       "      <td>0.319214</td>\n",
       "      <td>0.468144</td>\n",
       "      <td>0.503494</td>\n",
       "      <td>0.545162</td>\n",
       "      <td>0.608905</td>\n",
       "      <td>0.31114</td>\n",
       "    </tr>\n",
       "    <tr>\n",
       "      <th>camilasantander21</th>\n",
       "      <td>0.398595</td>\n",
       "      <td>0.437319</td>\n",
       "      <td>0.440021</td>\n",
       "      <td>0.318789</td>\n",
       "      <td>0.458356</td>\n",
       "      <td>0.322079</td>\n",
       "      <td>0.316159</td>\n",
       "      <td>0.343093</td>\n",
       "      <td>0.401711</td>\n",
       "      <td>0.402605</td>\n",
       "      <td>...</td>\n",
       "      <td>0.398049</td>\n",
       "      <td>0.445373</td>\n",
       "      <td>0.273214</td>\n",
       "      <td>0.428703</td>\n",
       "      <td>0.319214</td>\n",
       "      <td>0.468144</td>\n",
       "      <td>0.503494</td>\n",
       "      <td>0.545162</td>\n",
       "      <td>0.608905</td>\n",
       "      <td>0.31114</td>\n",
       "    </tr>\n",
       "    <tr>\n",
       "      <th>GorillazAlchemist</th>\n",
       "      <td>0.398595</td>\n",
       "      <td>0.437319</td>\n",
       "      <td>0.440021</td>\n",
       "      <td>0.318789</td>\n",
       "      <td>0.458356</td>\n",
       "      <td>0.322079</td>\n",
       "      <td>0.316159</td>\n",
       "      <td>0.343093</td>\n",
       "      <td>0.401711</td>\n",
       "      <td>0.402605</td>\n",
       "      <td>...</td>\n",
       "      <td>0.398049</td>\n",
       "      <td>0.445373</td>\n",
       "      <td>0.273214</td>\n",
       "      <td>0.428703</td>\n",
       "      <td>0.319214</td>\n",
       "      <td>0.468144</td>\n",
       "      <td>0.503494</td>\n",
       "      <td>0.545162</td>\n",
       "      <td>0.608905</td>\n",
       "      <td>0.31114</td>\n",
       "    </tr>\n",
       "    <tr>\n",
       "      <th>fukoiscool</th>\n",
       "      <td>0.398595</td>\n",
       "      <td>0.437319</td>\n",
       "      <td>0.440021</td>\n",
       "      <td>0.318789</td>\n",
       "      <td>0.458356</td>\n",
       "      <td>0.322079</td>\n",
       "      <td>0.316159</td>\n",
       "      <td>0.343093</td>\n",
       "      <td>0.401711</td>\n",
       "      <td>0.402605</td>\n",
       "      <td>...</td>\n",
       "      <td>0.398049</td>\n",
       "      <td>0.445373</td>\n",
       "      <td>0.273214</td>\n",
       "      <td>0.428703</td>\n",
       "      <td>0.319214</td>\n",
       "      <td>0.468144</td>\n",
       "      <td>0.503494</td>\n",
       "      <td>0.545162</td>\n",
       "      <td>0.608905</td>\n",
       "      <td>0.31114</td>\n",
       "    </tr>\n",
       "  </tbody>\n",
       "</table>\n",
       "<p>23433 rows × 4489 columns</p>\n",
       "</div>"
      ],
      "text/plain": [
       "title              .hack//Legend Of The Twilight  .hack//Roots  .hack//SIGN  \\\n",
       "username                                                                      \n",
       "merlin44                                0.398595      0.437319     0.440021   \n",
       "Pcnumero1                               0.398595      0.437319     0.440021   \n",
       "Krigod                                  0.398595      0.437319     0.440021   \n",
       "Luiven801                               0.398595      0.437319     0.440021   \n",
       "sylphine                                0.398595      0.437319     0.440021   \n",
       "...                                          ...           ...          ...   \n",
       "jenniferm1                              0.398595      0.437319     0.440021   \n",
       "Burokun                                 0.398595      0.437319     0.440021   \n",
       "camilasantander21                       0.398595      0.437319     0.440021   \n",
       "GorillazAlchemist                       0.398595      0.437319     0.440021   \n",
       "fukoiscool                              0.398595      0.437319     0.440021   \n",
       "\n",
       "title                 009-1  07-Ghost  \\\n",
       "username                                \n",
       "merlin44           0.318789  0.458356   \n",
       "Pcnumero1          0.318789  0.458356   \n",
       "Krigod             0.318789  0.458356   \n",
       "Luiven801          0.318789  0.458356   \n",
       "sylphine           0.318789  0.458356   \n",
       "...                     ...       ...   \n",
       "jenniferm1         0.318789  0.458356   \n",
       "Burokun            0.318789  0.458356   \n",
       "camilasantander21  0.318789  0.458356   \n",
       "GorillazAlchemist  0.318789  0.458356   \n",
       "fukoiscool         0.318789  0.458356   \n",
       "\n",
       "title              100 Sleeping Princes & the Kingdom of Dreams  \\\n",
       "username                                                          \n",
       "merlin44                                               0.322079   \n",
       "Pcnumero1                                              0.322079   \n",
       "Krigod                                                 0.322079   \n",
       "Luiven801                                              0.322079   \n",
       "sylphine                                               0.322079   \n",
       "...                                                         ...   \n",
       "jenniferm1                                             0.322079   \n",
       "Burokun                                                0.322079   \n",
       "camilasantander21                                      0.322079   \n",
       "GorillazAlchemist                                      0.322079   \n",
       "fukoiscool                                             0.322079   \n",
       "\n",
       "title              100% Pascal-sensei (2017)    11eyes  \\\n",
       "username                                                 \n",
       "merlin44                            0.316159  0.343093   \n",
       "Pcnumero1                           0.316159  0.343093   \n",
       "Krigod                              0.316159  0.343093   \n",
       "Luiven801                           0.316159  0.343093   \n",
       "sylphine                            0.316159  0.343093   \n",
       "...                                      ...       ...   \n",
       "jenniferm1                          0.316159  0.343093   \n",
       "Burokun                             0.316159  0.343093   \n",
       "camilasantander21                   0.316159  0.343093   \n",
       "GorillazAlchemist                   0.316159  0.343093   \n",
       "fukoiscool                          0.316159  0.343093   \n",
       "\n",
       "title              12-Sai: Chiccha na Mune no Tokimeki  \\\n",
       "username                                                 \n",
       "merlin44                                      0.401711   \n",
       "Pcnumero1                                     0.401711   \n",
       "Krigod                                        0.401711   \n",
       "Luiven801                                     0.401711   \n",
       "sylphine                                      0.401711   \n",
       "...                                                ...   \n",
       "jenniferm1                                    0.401711   \n",
       "Burokun                                       0.401711   \n",
       "camilasantander21                             0.401711   \n",
       "GorillazAlchemist                             0.401711   \n",
       "fukoiscool                                    0.401711   \n",
       "\n",
       "title              12-Sai: Chiccha na Mune no Tokimeki 2  ...  gdgd Fairies  \\\n",
       "username                                                  ...                 \n",
       "merlin44                                        0.402605  ...      0.398049   \n",
       "Pcnumero1                                       0.402605  ...      0.398049   \n",
       "Krigod                                          0.402605  ...      0.398049   \n",
       "Luiven801                                       0.402605  ...      0.398049   \n",
       "sylphine                                        0.402605  ...      0.398049   \n",
       "...                                                  ...  ...           ...   \n",
       "jenniferm1                                      0.402605  ...      0.398049   \n",
       "Burokun                                         0.402605  ...      0.398049   \n",
       "camilasantander21                               0.402605  ...      0.398049   \n",
       "GorillazAlchemist                               0.402605  ...      0.398049   \n",
       "fukoiscool                                      0.402605  ...      0.398049   \n",
       "\n",
       "title              gdgd Fairies 2  gdgd men's party  number24  revisions  \\\n",
       "username                                                                   \n",
       "merlin44                 0.445373          0.273214  0.428703   0.319214   \n",
       "Pcnumero1                0.445373          0.273214  0.428703   0.319214   \n",
       "Krigod                   0.445373          0.273214  0.428703   0.319214   \n",
       "Luiven801                0.445373          0.273214  0.428703   0.319214   \n",
       "sylphine                 0.445373          0.273214  0.428703   0.319214   \n",
       "...                           ...               ...       ...        ...   \n",
       "jenniferm1               0.445373          0.273214  0.428703   0.319214   \n",
       "Burokun                  0.445373          0.273214  0.428703   0.319214   \n",
       "camilasantander21        0.445373          0.273214  0.428703   0.319214   \n",
       "GorillazAlchemist        0.445373          0.273214  0.428703   0.319214   \n",
       "fukoiscool               0.445373          0.273214  0.428703   0.319214   \n",
       "\n",
       "title                  sola  www.Working!!  xxxHOLiC  xxxHOLiC Kei  ēlDLIVE  \n",
       "username                                                                     \n",
       "merlin44           0.468144       0.503494  0.545162      0.608905  0.31114  \n",
       "Pcnumero1          0.468144       0.503494  0.545162      0.608905  0.31114  \n",
       "Krigod             0.468144       0.503494  0.545162      0.608905  0.31114  \n",
       "Luiven801          0.468144       0.503494  0.545162      0.608905  0.31114  \n",
       "sylphine           0.468144       0.503494  0.545162      0.608905  0.31114  \n",
       "...                     ...            ...       ...           ...      ...  \n",
       "jenniferm1         0.468144       0.503494  0.545162      0.608905  0.31114  \n",
       "Burokun            0.468144       0.503494  0.545162      0.608905  0.31114  \n",
       "camilasantander21  0.468144       0.503494  0.545162      0.608905  0.31114  \n",
       "GorillazAlchemist  0.468144       0.503494  0.545162      0.608905  0.31114  \n",
       "fukoiscool         0.468144       0.503494  0.545162      0.608905  0.31114  \n",
       "\n",
       "[23433 rows x 4489 columns]"
      ]
     },
     "execution_count": 17,
     "metadata": {},
     "output_type": "execute_result"
    }
   ],
   "source": [
    "mean_pred"
   ]
  },
  {
   "cell_type": "code",
   "execution_count": 22,
   "id": "b55293b6-8ed0-48ad-84fe-7db895d1728a",
   "metadata": {},
   "outputs": [
    {
     "data": {
      "text/plain": [
       "0.1848834754104757"
      ]
     },
     "execution_count": 22,
     "metadata": {},
     "output_type": "execute_result"
    }
   ],
   "source": [
    "mean_rmse = rmse(mean_pred, test_Y)\n",
    "mean_rmse"
   ]
  },
  {
   "cell_type": "markdown",
   "id": "88d46d6f-0cd0-424d-a7f1-7d66e04eeb0b",
   "metadata": {},
   "source": [
    "## Comparison to the Benchmark"
   ]
  },
  {
   "cell_type": "code",
   "execution_count": 26,
   "id": "97e8bef3-097e-44f9-b5d8-558db79d8bdc",
   "metadata": {},
   "outputs": [
    {
     "data": {
      "text/plain": [
       "-3.1681186911046266"
      ]
     },
     "execution_count": 26,
     "metadata": {},
     "output_type": "execute_result"
    }
   ],
   "source": [
    "((model_rmse - mean_rmse) / mean_rmse)*100"
   ]
  },
  {
   "cell_type": "markdown",
   "id": "8b816359-cc30-457d-b23c-8946ae5f25eb",
   "metadata": {},
   "source": [
    "3.168% lower RMSE than the benchmark"
   ]
  }
 ],
 "metadata": {
  "kernelspec": {
   "display_name": "Python 3 (ipykernel)",
   "language": "python",
   "name": "python3"
  },
  "language_info": {
   "codemirror_mode": {
    "name": "ipython",
    "version": 3
   },
   "file_extension": ".py",
   "mimetype": "text/x-python",
   "name": "python",
   "nbconvert_exporter": "python",
   "pygments_lexer": "ipython3",
   "version": "3.8.12"
  }
 },
 "nbformat": 4,
 "nbformat_minor": 5
}
