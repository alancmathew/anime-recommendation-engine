{
 "cells": [
  {
   "cell_type": "code",
   "execution_count": 1,
   "id": "7e38bcda-3ff5-429a-ad11-44b281d7ebbb",
   "metadata": {},
   "outputs": [],
   "source": [
    "import numpy as np\n",
    "import pandas as pd\n",
    "import matplotlib.pyplot as plt\n",
    "import seaborn as sns\n",
    "import scipy as sp\n",
    "from sklearn.metrics.pairwise import cosine_similarity\n",
    "from tqdm import tqdm\n",
    "from itertools import combinations\n",
    "import math\n",
    "from multiprocessing import Pool\n",
    "import warnings\n",
    "from functools import partial"
   ]
  },
  {
   "cell_type": "code",
   "execution_count": 2,
   "id": "b4f9de94-a4e8-4c0b-90b9-4f94436c8a5e",
   "metadata": {},
   "outputs": [],
   "source": [
    "warnings.filterwarnings(\"ignore\", category=RuntimeWarning)"
   ]
  },
  {
   "cell_type": "code",
   "execution_count": 3,
   "id": "d0fba32d-a882-4a04-8854-f633acbd3dee",
   "metadata": {},
   "outputs": [],
   "source": [
    "def parallelize(groups, func):\n",
    "    num_workers = 16\n",
    "    with Pool(num_workers) as p:\n",
    "        return pd.concat(p.map(func, [group for name, group in groups])).sort_index()"
   ]
  },
  {
   "cell_type": "code",
   "execution_count": 4,
   "id": "4415cd9c-e6a7-4b33-8731-b4d366c65df1",
   "metadata": {},
   "outputs": [],
   "source": [
    "df = pd.read_pickle('../data/train.pkl.xz')\n",
    "anime = pd.read_pickle('../data/anime.pkl.xz').set_index('title')\n",
    "\n",
    "user_sim_df = pd.read_pickle('../data/user_sim.pkl')\n",
    "anime_sim_df = pd.read_pickle('../data/anime_sim.pkl')"
   ]
  },
  {
   "cell_type": "markdown",
   "id": "8b6e1e6e-0baf-47c4-9ab0-fe1aeb855d1f",
   "metadata": {},
   "source": [
    "Remove any users who rated less than 10 shows"
   ]
  },
  {
   "cell_type": "code",
   "execution_count": 5,
   "id": "8e0d1a62-cfb5-4bbb-9ed4-6f80723ec7f7",
   "metadata": {},
   "outputs": [],
   "source": [
    "df = df.loc[df.notnull().sum(axis=1) >= 10].copy(deep=True)"
   ]
  },
  {
   "cell_type": "markdown",
   "id": "030de11d-fad3-40dc-ad2f-699a3c3004c3",
   "metadata": {},
   "source": [
    "anime_corr = df.corr()\n",
    "\n",
    "anime_corr.to_pickle('../data/anime_corr.pkl')\n",
    "anime_corr.to_csv('../data/anime_corr.csv')\n",
    "\n",
    "%%bash\n",
    "cd ../data\n",
    "\n",
    "rm anime_corr.pkl.xz\n",
    "xz -vT14 anime_corr.pkl\n",
    "\n",
    "rm anime_corr.csv.xz\n",
    "xz -vT14 anime_corr.csv"
   ]
  },
  {
   "cell_type": "code",
   "execution_count": 6,
   "id": "c58f4f04-bd07-4614-a910-81da3c5572b1",
   "metadata": {},
   "outputs": [
    {
     "data": {
      "text/html": [
       "<div>\n",
       "<style scoped>\n",
       "    .dataframe tbody tr th:only-of-type {\n",
       "        vertical-align: middle;\n",
       "    }\n",
       "\n",
       "    .dataframe tbody tr th {\n",
       "        vertical-align: top;\n",
       "    }\n",
       "\n",
       "    .dataframe thead th {\n",
       "        text-align: right;\n",
       "    }\n",
       "</style>\n",
       "<table border=\"1\" class=\"dataframe\">\n",
       "  <thead>\n",
       "    <tr style=\"text-align: right;\">\n",
       "      <th>title</th>\n",
       "      <th>.hack//Legend Of The Twilight</th>\n",
       "      <th>.hack//Roots</th>\n",
       "      <th>.hack//SIGN</th>\n",
       "      <th>009-1</th>\n",
       "      <th>07-Ghost</th>\n",
       "      <th>100 Sleeping Princes &amp; the Kingdom of Dreams</th>\n",
       "      <th>100% Pascal-sensei (2017)</th>\n",
       "      <th>11eyes</th>\n",
       "      <th>12-Sai: Chiccha na Mune no Tokimeki</th>\n",
       "      <th>12-Sai: Chiccha na Mune no Tokimeki 2</th>\n",
       "      <th>...</th>\n",
       "      <th>gdgd Fairies</th>\n",
       "      <th>gdgd Fairies 2</th>\n",
       "      <th>gdgd men's party</th>\n",
       "      <th>number24</th>\n",
       "      <th>revisions</th>\n",
       "      <th>sola</th>\n",
       "      <th>www.Working!!</th>\n",
       "      <th>xxxHOLiC</th>\n",
       "      <th>xxxHOLiC Kei</th>\n",
       "      <th>ēlDLIVE</th>\n",
       "    </tr>\n",
       "    <tr>\n",
       "      <th>username</th>\n",
       "      <th></th>\n",
       "      <th></th>\n",
       "      <th></th>\n",
       "      <th></th>\n",
       "      <th></th>\n",
       "      <th></th>\n",
       "      <th></th>\n",
       "      <th></th>\n",
       "      <th></th>\n",
       "      <th></th>\n",
       "      <th></th>\n",
       "      <th></th>\n",
       "      <th></th>\n",
       "      <th></th>\n",
       "      <th></th>\n",
       "      <th></th>\n",
       "      <th></th>\n",
       "      <th></th>\n",
       "      <th></th>\n",
       "      <th></th>\n",
       "      <th></th>\n",
       "    </tr>\n",
       "  </thead>\n",
       "  <tbody>\n",
       "    <tr>\n",
       "      <th>Anilucard</th>\n",
       "      <td>NaN</td>\n",
       "      <td>NaN</td>\n",
       "      <td>NaN</td>\n",
       "      <td>NaN</td>\n",
       "      <td>NaN</td>\n",
       "      <td>NaN</td>\n",
       "      <td>NaN</td>\n",
       "      <td>NaN</td>\n",
       "      <td>NaN</td>\n",
       "      <td>NaN</td>\n",
       "      <td>...</td>\n",
       "      <td>NaN</td>\n",
       "      <td>NaN</td>\n",
       "      <td>NaN</td>\n",
       "      <td>NaN</td>\n",
       "      <td>NaN</td>\n",
       "      <td>NaN</td>\n",
       "      <td>NaN</td>\n",
       "      <td>NaN</td>\n",
       "      <td>NaN</td>\n",
       "      <td>NaN</td>\n",
       "    </tr>\n",
       "    <tr>\n",
       "      <th>Thallasian</th>\n",
       "      <td>NaN</td>\n",
       "      <td>NaN</td>\n",
       "      <td>NaN</td>\n",
       "      <td>NaN</td>\n",
       "      <td>NaN</td>\n",
       "      <td>NaN</td>\n",
       "      <td>NaN</td>\n",
       "      <td>NaN</td>\n",
       "      <td>NaN</td>\n",
       "      <td>NaN</td>\n",
       "      <td>...</td>\n",
       "      <td>NaN</td>\n",
       "      <td>NaN</td>\n",
       "      <td>NaN</td>\n",
       "      <td>NaN</td>\n",
       "      <td>0.84261</td>\n",
       "      <td>NaN</td>\n",
       "      <td>NaN</td>\n",
       "      <td>NaN</td>\n",
       "      <td>NaN</td>\n",
       "      <td>NaN</td>\n",
       "    </tr>\n",
       "    <tr>\n",
       "      <th>shegicaesario</th>\n",
       "      <td>NaN</td>\n",
       "      <td>NaN</td>\n",
       "      <td>NaN</td>\n",
       "      <td>NaN</td>\n",
       "      <td>NaN</td>\n",
       "      <td>NaN</td>\n",
       "      <td>NaN</td>\n",
       "      <td>NaN</td>\n",
       "      <td>NaN</td>\n",
       "      <td>NaN</td>\n",
       "      <td>...</td>\n",
       "      <td>NaN</td>\n",
       "      <td>NaN</td>\n",
       "      <td>NaN</td>\n",
       "      <td>NaN</td>\n",
       "      <td>NaN</td>\n",
       "      <td>NaN</td>\n",
       "      <td>NaN</td>\n",
       "      <td>NaN</td>\n",
       "      <td>NaN</td>\n",
       "      <td>NaN</td>\n",
       "    </tr>\n",
       "    <tr>\n",
       "      <th>bearofwisdom</th>\n",
       "      <td>NaN</td>\n",
       "      <td>NaN</td>\n",
       "      <td>NaN</td>\n",
       "      <td>NaN</td>\n",
       "      <td>NaN</td>\n",
       "      <td>NaN</td>\n",
       "      <td>NaN</td>\n",
       "      <td>NaN</td>\n",
       "      <td>NaN</td>\n",
       "      <td>NaN</td>\n",
       "      <td>...</td>\n",
       "      <td>NaN</td>\n",
       "      <td>NaN</td>\n",
       "      <td>NaN</td>\n",
       "      <td>NaN</td>\n",
       "      <td>NaN</td>\n",
       "      <td>NaN</td>\n",
       "      <td>NaN</td>\n",
       "      <td>NaN</td>\n",
       "      <td>NaN</td>\n",
       "      <td>NaN</td>\n",
       "    </tr>\n",
       "    <tr>\n",
       "      <th>Potatocat11</th>\n",
       "      <td>NaN</td>\n",
       "      <td>NaN</td>\n",
       "      <td>NaN</td>\n",
       "      <td>NaN</td>\n",
       "      <td>NaN</td>\n",
       "      <td>NaN</td>\n",
       "      <td>NaN</td>\n",
       "      <td>NaN</td>\n",
       "      <td>NaN</td>\n",
       "      <td>NaN</td>\n",
       "      <td>...</td>\n",
       "      <td>NaN</td>\n",
       "      <td>NaN</td>\n",
       "      <td>NaN</td>\n",
       "      <td>NaN</td>\n",
       "      <td>NaN</td>\n",
       "      <td>NaN</td>\n",
       "      <td>NaN</td>\n",
       "      <td>NaN</td>\n",
       "      <td>NaN</td>\n",
       "      <td>NaN</td>\n",
       "    </tr>\n",
       "  </tbody>\n",
       "</table>\n",
       "<p>5 rows × 4489 columns</p>\n",
       "</div>"
      ],
      "text/plain": [
       "title          .hack//Legend Of The Twilight  .hack//Roots  .hack//SIGN  \\\n",
       "username                                                                  \n",
       "Anilucard                                NaN           NaN          NaN   \n",
       "Thallasian                               NaN           NaN          NaN   \n",
       "shegicaesario                            NaN           NaN          NaN   \n",
       "bearofwisdom                             NaN           NaN          NaN   \n",
       "Potatocat11                              NaN           NaN          NaN   \n",
       "\n",
       "title          009-1  07-Ghost  100 Sleeping Princes & the Kingdom of Dreams  \\\n",
       "username                                                                       \n",
       "Anilucard        NaN       NaN                                           NaN   \n",
       "Thallasian       NaN       NaN                                           NaN   \n",
       "shegicaesario    NaN       NaN                                           NaN   \n",
       "bearofwisdom     NaN       NaN                                           NaN   \n",
       "Potatocat11      NaN       NaN                                           NaN   \n",
       "\n",
       "title          100% Pascal-sensei (2017)  11eyes  \\\n",
       "username                                           \n",
       "Anilucard                            NaN     NaN   \n",
       "Thallasian                           NaN     NaN   \n",
       "shegicaesario                        NaN     NaN   \n",
       "bearofwisdom                         NaN     NaN   \n",
       "Potatocat11                          NaN     NaN   \n",
       "\n",
       "title          12-Sai: Chiccha na Mune no Tokimeki  \\\n",
       "username                                             \n",
       "Anilucard                                      NaN   \n",
       "Thallasian                                     NaN   \n",
       "shegicaesario                                  NaN   \n",
       "bearofwisdom                                   NaN   \n",
       "Potatocat11                                    NaN   \n",
       "\n",
       "title          12-Sai: Chiccha na Mune no Tokimeki 2  ...  gdgd Fairies  \\\n",
       "username                                              ...                 \n",
       "Anilucard                                        NaN  ...           NaN   \n",
       "Thallasian                                       NaN  ...           NaN   \n",
       "shegicaesario                                    NaN  ...           NaN   \n",
       "bearofwisdom                                     NaN  ...           NaN   \n",
       "Potatocat11                                      NaN  ...           NaN   \n",
       "\n",
       "title          gdgd Fairies 2  gdgd men's party  number24  revisions  sola  \\\n",
       "username                                                                     \n",
       "Anilucard                 NaN               NaN       NaN        NaN   NaN   \n",
       "Thallasian                NaN               NaN       NaN    0.84261   NaN   \n",
       "shegicaesario             NaN               NaN       NaN        NaN   NaN   \n",
       "bearofwisdom              NaN               NaN       NaN        NaN   NaN   \n",
       "Potatocat11               NaN               NaN       NaN        NaN   NaN   \n",
       "\n",
       "title          www.Working!!  xxxHOLiC  xxxHOLiC Kei  ēlDLIVE  \n",
       "username                                                       \n",
       "Anilucard                NaN       NaN           NaN      NaN  \n",
       "Thallasian               NaN       NaN           NaN      NaN  \n",
       "shegicaesario            NaN       NaN           NaN      NaN  \n",
       "bearofwisdom             NaN       NaN           NaN      NaN  \n",
       "Potatocat11              NaN       NaN           NaN      NaN  \n",
       "\n",
       "[5 rows x 4489 columns]"
      ]
     },
     "execution_count": 6,
     "metadata": {},
     "output_type": "execute_result"
    }
   ],
   "source": [
    "df.head()"
   ]
  },
  {
   "cell_type": "markdown",
   "id": "29d10617-a36d-4d0b-bc26-d8e582b1cd04",
   "metadata": {},
   "source": [
    "def get_similar_shows(title, sort_by='corr', num=10, min_count=1000, min_num_common_tags=2):\n",
    "    def num_common_tags(title):\n",
    "        tags = set(anime.query(f'title == \"{title}\"')['tags'][0])\n",
    "        num_common_series = anime.loc[anime['tags'].notnull(), 'tags'].apply(lambda x: len(set(x).intersection(tags)))\n",
    "        return num_common_series.sort_values(ascending=False)\n",
    "    \n",
    "    dfa = pd.DataFrame({'corr': anime_corr[title], 'count': anime_counts, \n",
    "                        'num_common_tags': num_common_tags(title), 'avg_rating': anime['rating']})\n",
    "    dfa = dfa.query(f'title != \"{title}\" and count >= {min_count} and num_common_tags >= {min_num_common_tags}')\n",
    "    return dfa.sort_values(sort_by, ascending=False).head(num)"
   ]
  },
  {
   "cell_type": "markdown",
   "id": "30d79360-c19f-4c19-804d-58aceca5abf3",
   "metadata": {},
   "source": [
    "df = df.fillna(0)\n",
    "\n",
    "df_sparse = sp.sparse.csr_matrix(df.values, dtype=np.float32)\n",
    "\n",
    "user_similarity = cosine_similarity(df_sparse)\n",
    "anime_similarity = cosine_similarity(df_sparse.T)\n",
    "\n",
    "user_sim_df = pd.DataFrame(user_similarity, index=df.index, columns=df.index)\n",
    "anime_sim_df = pd.DataFrame(anime_similarity, index=df.columns, columns=df.columns)\n",
    "\n",
    "user_sim_df\n",
    "\n",
    "anime_sim_df\n",
    "\n",
    "user_sim_df.to_pickle('../data/user_sim.pkl')\n",
    "anime_sim_df.to_pickle('../data/anime_sim.pkl')\n",
    "\n",
    "df = df.replace(0, np.NaN).copy(deep=True)"
   ]
  },
  {
   "cell_type": "code",
   "execution_count": 106,
   "id": "bb0a8f59-84b4-4547-a3b3-4d99c7a08bd3",
   "metadata": {},
   "outputs": [],
   "source": [
    "def get_similar_users(username=None, userdata=None, min_common=10, sortby='cosine_sim', asc=False, num_users=10):    \n",
    "    username = userdata.name if username is None else username\n",
    "    userdata = df.loc[username] if userdata is None else userdata\n",
    "    \n",
    "    common_booled = np.bitwise_and(df.drop(username, axis=0, errors='ignore').notnull(), userdata.notnull())\n",
    "    num_common = common_booled.sum(axis=1)\n",
    "    \n",
    "    if sortby == 'corr':\n",
    "        tmp = df.T\n",
    "        res = tmp.corrwith(userdata)\n",
    "    \n",
    "    elif sortby == 'dist':\n",
    "        tmp = df.fillna(0)\n",
    "\n",
    "        dist = np.sum(tmp.subtract(tmp.loc[username], axis=1) ** 2, axis=1)\n",
    "        dist = dist / num_common\n",
    "        res = dist.loc[dist != 0]\n",
    "        \n",
    "    elif sortby == 'cosine_sim':\n",
    "        if username in user_sim_df.columns:\n",
    "            res = user_sim_df[username].drop(username, errors='ignore').sort_values(ascending=False)\n",
    "        else:\n",
    "            tmp = df.fillna(0)\n",
    "            sparse = sp.sparse.csr_matrix(tmp.values, dtype=np.float32)\n",
    "            res = cosine_similarity(sparse, np.array(userdata.fillna(0)).reshape(1, -1))\n",
    "            \n",
    "            res = pd.Series(res.flatten(), index=df.index).drop(username, errors='ignore').sort_values(ascending=False)\n",
    "    \n",
    "    elif sortby == 'num_common':\n",
    "        res = []\n",
    "    \n",
    "    data = pd.DataFrame({sortby: res, 'num_common': num_common})\n",
    "    data = data.query(f'username != \"{username}\" and num_common >= {min_common}')\n",
    "    data = data.sort_values(sortby, ascending=asc).head(num_users)\n",
    "\n",
    "    return data"
   ]
  },
  {
   "cell_type": "code",
   "execution_count": 122,
   "id": "5793dd5b-000e-4da7-ad22-026fbe671991",
   "metadata": {},
   "outputs": [],
   "source": [
    "def get_recommendation(username=None, userdata=None, num_recs=10, min_common=10, sortby='cosine_sim', asc=False, num_users=10):\n",
    "    username = userdata.name if username is None else username\n",
    "    userdata = df.loc[username] if userdata is None else userdata\n",
    "    \n",
    "    sim_users = get_similar_users(username=username, userdata=userdata, min_common=min_common, \n",
    "                                  sortby=sortby, asc=asc, num_users=num_users)\n",
    "    sim_users_data = df.loc[sim_users.index]\n",
    "    sim_users_data = sim_users_data.loc[:,sim_users_data.notnull().any(axis=0)]\n",
    "    user_watched = userdata.loc[userdata.notnull()].index\n",
    "    diff = set(sim_users_data.columns).difference(user_watched)\n",
    "    sim_users_data = sim_users_data[diff]\n",
    "    # recs = sim_users_data.mul((sim_users['cosine_sim'] / sim_users['cosine_sim'].max()), \n",
    "    #                           axis=0).mean().sort_values(ascending=False)\n",
    "    recs = sim_users_data.mean().sort_values(ascending=False)\n",
    "    return recs.head(num_recs)"
   ]
  },
  {
   "cell_type": "code",
   "execution_count": 75,
   "id": "e491ea41-76f7-4c88-afc8-193ef6fde31b",
   "metadata": {},
   "outputs": [],
   "source": [
    "username = 'JohnTamer'"
   ]
  },
  {
   "cell_type": "code",
   "execution_count": 57,
   "id": "acc94156-d5c5-4911-bd1a-1ef500022835",
   "metadata": {},
   "outputs": [],
   "source": [
    "recs = get_recommendation(username, num_recs=100)"
   ]
  },
  {
   "cell_type": "code",
   "execution_count": 58,
   "id": "9e6c1ff5-ed60-4303-b44f-a864587ca870",
   "metadata": {},
   "outputs": [
    {
     "data": {
      "text/plain": [
       "title\n",
       "Mobile Suit Gundam: Iron-Blooded Orphans    3.955297\n",
       "Knights of Sidonia                          3.953519\n",
       "Gargantia on the Verdurous Planet           3.953519\n",
       "Death Parade                                3.814186\n",
       "Barakamon                                   3.814186\n",
       "                                              ...   \n",
       "Le Chevalier D'Eon                          2.345870\n",
       "Tower of Druaga: the Sword of Uruk          2.345870\n",
       "Hayate the Combat Butler!                   2.345870\n",
       "Phantom Thief Jeanne                        2.345870\n",
       "Romeo x Juliet                              2.345870\n",
       "Length: 100, dtype: float64"
      ]
     },
     "execution_count": 58,
     "metadata": {},
     "output_type": "execute_result"
    }
   ],
   "source": [
    "recs"
   ]
  },
  {
   "cell_type": "code",
   "execution_count": 59,
   "id": "f2575311-b008-4ac6-95d3-2a6b6d644b26",
   "metadata": {},
   "outputs": [],
   "source": [
    "validate_true = pd.read_pickle('../data/validate.pkl.xz')"
   ]
  },
  {
   "cell_type": "code",
   "execution_count": 60,
   "id": "636222e3-2d27-4141-9ee1-ec9a1ba34ea5",
   "metadata": {},
   "outputs": [],
   "source": [
    "keeper_mask = pd.DataFrame(np.random.uniform(size=validate_true.shape), \n",
    "                           index=validate_true.index, \n",
    "                           columns=validate_true.columns)"
   ]
  },
  {
   "cell_type": "code",
   "execution_count": 61,
   "id": "b1db0742-7f19-435a-9faa-e987309a7661",
   "metadata": {},
   "outputs": [],
   "source": [
    "keeper_mask = keeper_mask.applymap(lambda x: int(x > 0.3))"
   ]
  },
  {
   "cell_type": "code",
   "execution_count": 62,
   "id": "d35bf70d-5269-41db-943a-659a59436cee",
   "metadata": {},
   "outputs": [],
   "source": [
    "validate = validate_true.mul(keeper_mask)\n",
    "validate = validate.replace(0, np.NaN)"
   ]
  },
  {
   "cell_type": "code",
   "execution_count": 63,
   "id": "335b2a3e-0f53-4add-9f37-ec7f3e026f45",
   "metadata": {},
   "outputs": [
    {
     "data": {
      "text/plain": [
       "username\n",
       "Lililou           70\n",
       "GhostyBae         20\n",
       "RyeHawk           28\n",
       "SummerRose316     35\n",
       "omgusername      220\n",
       "                ... \n",
       "kirbix50           2\n",
       "justinplaice      26\n",
       "jeffy90            1\n",
       "Papichulo12        4\n",
       "IIMokuChanII      54\n",
       "Length: 23432, dtype: int64"
      ]
     },
     "execution_count": 63,
     "metadata": {},
     "output_type": "execute_result"
    }
   ],
   "source": [
    "validate_true.notnull().sum(axis=1)"
   ]
  },
  {
   "cell_type": "code",
   "execution_count": 64,
   "id": "0b292227-9a49-4036-bdbf-6b94e8ed67b9",
   "metadata": {},
   "outputs": [
    {
     "data": {
      "text/plain": [
       "username\n",
       "Lililou           49\n",
       "GhostyBae         10\n",
       "RyeHawk           24\n",
       "SummerRose316     24\n",
       "omgusername      146\n",
       "                ... \n",
       "kirbix50           2\n",
       "justinplaice      21\n",
       "jeffy90            1\n",
       "Papichulo12        3\n",
       "IIMokuChanII      35\n",
       "Length: 23432, dtype: int64"
      ]
     },
     "execution_count": 64,
     "metadata": {},
     "output_type": "execute_result"
    }
   ],
   "source": [
    "validate.notnull().sum(axis=1)"
   ]
  },
  {
   "cell_type": "code",
   "execution_count": 67,
   "id": "b0d7b4a8-f00a-46ad-bcd8-6a092135dff4",
   "metadata": {},
   "outputs": [],
   "source": [
    "userdata = validate.iloc[0]"
   ]
  },
  {
   "cell_type": "code",
   "execution_count": 70,
   "id": "6b77d0b7-d3f2-4ed3-9706-0d4a48219948",
   "metadata": {},
   "outputs": [
    {
     "data": {
      "text/plain": [
       "title\n",
       ".hack//Legend Of The Twilight   NaN\n",
       ".hack//Roots                    NaN\n",
       ".hack//SIGN                     NaN\n",
       "009-1                           NaN\n",
       "07-Ghost                        NaN\n",
       "                                 ..\n",
       "sola                            NaN\n",
       "www.Working!!                   NaN\n",
       "xxxHOLiC                        NaN\n",
       "xxxHOLiC Kei                    NaN\n",
       "ēlDLIVE                         NaN\n",
       "Name: Lililou, Length: 4489, dtype: float64"
      ]
     },
     "execution_count": 70,
     "metadata": {},
     "output_type": "execute_result"
    }
   ],
   "source": [
    "userdata"
   ]
  },
  {
   "cell_type": "code",
   "execution_count": 129,
   "id": "34c55101-034d-4454-b7d4-b4434a731303",
   "metadata": {},
   "outputs": [],
   "source": [
    "recs = get_recommendation(userdata=userdata, num_recs=100, num_users=5)"
   ]
  },
  {
   "cell_type": "code",
   "execution_count": 130,
   "id": "fe8151eb-ab11-47de-b428-8a1ef283a2d9",
   "metadata": {},
   "outputs": [
    {
     "data": {
      "text/plain": [
       "title\n",
       "Steins;Gate 0             3.989500\n",
       "Hunter x Hunter (2011)    3.936916\n",
       "Gakuen Alice              3.884333\n",
       "Ghost Hunt                3.884333\n",
       "Maid-sama!                3.884333\n",
       "                            ...   \n",
       "Your lie in April         2.219784\n",
       "Bleach                    2.191606\n",
       "My Hero Academia 2        2.154735\n",
       "Deadman Wonderland        2.123242\n",
       "Eden of the East          2.075920\n",
       "Length: 100, dtype: float64"
      ]
     },
     "execution_count": 130,
     "metadata": {},
     "output_type": "execute_result"
    }
   ],
   "source": [
    "recs"
   ]
  },
  {
   "cell_type": "code",
   "execution_count": 131,
   "id": "f7febdd7-356b-4dc2-8c5e-12168c44e54b",
   "metadata": {},
   "outputs": [],
   "source": [
    "true_userdata = validate_true.iloc[0]"
   ]
  },
  {
   "cell_type": "code",
   "execution_count": 132,
   "id": "feb511a0-ce46-4ff8-aa6d-c219829d2c3d",
   "metadata": {},
   "outputs": [],
   "source": [
    "true_userdata = true_userdata[true_userdata.notnull()]"
   ]
  },
  {
   "cell_type": "code",
   "execution_count": 133,
   "id": "95e57ea6-f914-4164-9bb2-9363e1999919",
   "metadata": {},
   "outputs": [
    {
     "data": {
      "text/plain": [
       "title\n",
       "Yuri!!! on Ice                             4.142217\n",
       "Noragami Aragoto                           3.784257\n",
       "Great Teacher Onizuka                      3.784257\n",
       "Ajin: Demi-Human 2nd Season                3.336893\n",
       "Psycho-Pass                                3.336893\n",
       "Tokyo Ghoul √A                             2.819753\n",
       "Darker than Black: Gemini of the Meteor    1.286344\n",
       "Name: Lililou, dtype: float64"
      ]
     },
     "execution_count": 133,
     "metadata": {},
     "output_type": "execute_result"
    }
   ],
   "source": [
    "true_userdata[set(true_userdata.index).intersection(recs.index)].sort_values(ascending=False)"
   ]
  },
  {
   "cell_type": "code",
   "execution_count": 134,
   "id": "d94ab407-aed9-4f64-aae5-84b6a81372e8",
   "metadata": {},
   "outputs": [
    {
     "data": {
      "text/plain": [
       "title\n",
       "Yuri!!! on Ice                             3.852527\n",
       "Tokyo Ghoul √A                             3.852527\n",
       "Great Teacher Onizuka                      3.559451\n",
       "Psycho-Pass                                3.222334\n",
       "Noragami Aragoto                           3.057373\n",
       "Darker than Black: Gemini of the Meteor    2.604866\n",
       "Ajin: Demi-Human 2nd Season                2.441234\n",
       "dtype: float64"
      ]
     },
     "execution_count": 134,
     "metadata": {},
     "output_type": "execute_result"
    }
   ],
   "source": [
    "recs[set(true_userdata.index).intersection(recs.index)].sort_values(ascending=False)"
   ]
  },
  {
   "cell_type": "code",
   "execution_count": null,
   "id": "18b363de-2870-4446-95ee-e7b571b4e05c",
   "metadata": {},
   "outputs": [],
   "source": []
  }
 ],
 "metadata": {
  "kernelspec": {
   "display_name": "Python 3 (ipykernel)",
   "language": "python",
   "name": "python3"
  },
  "language_info": {
   "codemirror_mode": {
    "name": "ipython",
    "version": 3
   },
   "file_extension": ".py",
   "mimetype": "text/x-python",
   "name": "python",
   "nbconvert_exporter": "python",
   "pygments_lexer": "ipython3",
   "version": "3.8.12"
  }
 },
 "nbformat": 4,
 "nbformat_minor": 5
}
