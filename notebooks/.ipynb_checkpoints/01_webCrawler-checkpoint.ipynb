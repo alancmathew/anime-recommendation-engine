{
 "cells": [
  {
   "cell_type": "code",
   "execution_count": 1,
   "id": "96aafb91-23d4-4c87-a7c5-b8be3cf9b219",
   "metadata": {},
   "outputs": [],
   "source": [
    "hard_drive = 'int_drive_0'"
   ]
  },
  {
   "cell_type": "code",
   "execution_count": 2,
   "id": "b43de628-2c7c-4dc3-b5f5-ed0204b5b6cf",
   "metadata": {},
   "outputs": [],
   "source": [
    "import requests\n",
    "from bs4 import BeautifulSoup\n",
    "import numpy as np\n",
    "import pandas as pd\n",
    "from tqdm import tqdm\n",
    "import os\n",
    "import time\n",
    "import random\n",
    "import pickle\n",
    "import json\n",
    "from itertools import cycle\n",
    "from multiprocessing import Pool"
   ]
  },
  {
   "cell_type": "code",
   "execution_count": 3,
   "id": "55ebbe17-9e5f-410c-9a64-ff9c9caf547f",
   "metadata": {},
   "outputs": [],
   "source": [
    "with open('../tools/key.json', encoding='utf-8') as file:\n",
    "    key = json.loads(file.read())\n",
    "    \n",
    "reqs = requests.get('https://proxy.webshare.io/api/proxy/list/', headers=key)\n",
    "\n",
    "proxy_list = reqs.json()['results']\n",
    "proxy_list = list(map(lambda x: f\"http://{x['username']}:{x['password']}@{x['proxy_address']}:{x['ports']['http']}/\", proxy_list))\n",
    "random.shuffle(proxy_list)\n",
    "proxy_cycle = cycle(proxy_list)"
   ]
  },
  {
   "cell_type": "code",
   "execution_count": 4,
   "id": "98dc57b5-04fa-4215-afcb-5d6fd88dc882",
   "metadata": {},
   "outputs": [],
   "source": [
    "user_agent_list = pd.read_csv('../tools/user_agent_list.txt', sep='\\t', header=None)\n",
    "user_agent_list = user_agent_list[0].to_list()"
   ]
  },
  {
   "cell_type": "code",
   "execution_count": 5,
   "id": "0ba925cb-20b9-43f2-a1ae-5193900014a0",
   "metadata": {},
   "outputs": [],
   "source": [
    "# urls = {'novel':{'https://www.anime-planet.com/'}, 'done':set(), 'batch':[]}\n",
    "with open('../data/urls.pkl','rb') as file:\n",
    "    urls = pickle.load(file)  "
   ]
  },
  {
   "cell_type": "code",
   "execution_count": 6,
   "id": "cb1e25ad-063a-4bd8-a9ab-e23ec182d7cf",
   "metadata": {},
   "outputs": [],
   "source": [
    "def saveUrls():\n",
    "    with open('../data/urls.pkl','wb') as file:\n",
    "        pickle.dump(urls, file)\n",
    "        \n",
    "    with open(\"../data/urls_novel.json\", 'w') as file:\n",
    "        json.dump(list(urls['novel']), file, indent=2) "
   ]
  },
  {
   "cell_type": "code",
   "execution_count": 7,
   "id": "ff0c968e-a798-46a7-a3e9-7cc635a6bba8",
   "metadata": {},
   "outputs": [],
   "source": [
    "def getCurrentPageUrls(url, try_no=1):\n",
    "    \n",
    "    if try_no == 4:\n",
    "        return set(), {url: ''}\n",
    "    \n",
    "    global proxy_cycle\n",
    "    time.sleep(random.randint(2000,10000)/1000)\n",
    "    cur_urls = set()\n",
    "    \n",
    "    proxy = next(proxy_cycle)\n",
    "    user_agent = random.choice(user_agent_list)\n",
    "    headers = {'User-Agent': user_agent}\n",
    "    try:\n",
    "        reqs = requests.get(url, proxies={'http': proxy, 'https': proxy}, headers=headers)\n",
    "    except:\n",
    "        print(url, proxy)\n",
    "        return getCurrentPageUrls(url, try_no+1)\n",
    "    \n",
    "    if reqs.status_code != 200:\n",
    "        print(url, proxy)\n",
    "        return getCurrentPageUrls(url, try_no+1)\n",
    "        \n",
    "    \n",
    "    html_text = reqs.text\n",
    "    soup = BeautifulSoup(html_text, 'html.parser')\n",
    "\n",
    "    for link in soup.find_all('a'):\n",
    "        try:\n",
    "            branch = link.get('href')\n",
    "            if branch[0] == '/':\n",
    "                cur_urls.add('https://www.anime-planet.com' + branch)\n",
    "        except:\n",
    "            pass\n",
    "    \n",
    "    return cur_urls, {url: html_text}"
   ]
  },
  {
   "cell_type": "code",
   "execution_count": 8,
   "id": "2c776f3b-66c4-465e-8cc3-da41aaa0cb2b",
   "metadata": {},
   "outputs": [],
   "source": [
    "def getAllUrls():\n",
    "    counter = 0\n",
    "    page_data = {'url':[], 'html_text':[]}\n",
    "    disallowed_urls = ['https://www.anime-planet.com/search.php', 'https://www.anime-planet.com/login',\n",
    "                       'https://www.anime-planet.com/sign-up']\n",
    "    while len(urls['novel']) > 0:\n",
    "        pop_url = urls['novel'].pop()\n",
    "        if (pop_url not in urls['done']) and (pop_url not in disallowed_urls):\n",
    "            cur_urls, url_html_text = getCurrentPageUrls(pop_url)\n",
    "            urls['done'].add(pop_url)\n",
    "            page_data['url'].append(pop_url)\n",
    "            page_data['html_text'].append(url_html_text[pop_url])\n",
    "\n",
    "        \n",
    "        print(len(urls['novel']), len(urls['done']), 0 if len(urls['novel']) == 0 else len(urls['done'])/len(urls['novel']))\n",
    "\n",
    "        diff = cur_urls.difference(urls['done'])\n",
    "        urls['novel'] = urls['novel'].union(diff)\n",
    "        \n",
    "        counter += 1; \n",
    "\n",
    "        if counter % 10 == 0:\n",
    "            saveUrls()\n",
    "            page_df = pd.DataFrame(page_data)\n",
    "            page_df.to_csv(f'/mnt/{hard_drive}/data/page_data.csv', mode='a', index=False,\n",
    "                           header=not os.path.exists(f'/mnt/{hard_drive}/data/page_data.csv'))\n",
    "                \n",
    "            del page_df\n",
    "            page_data = {'url':[], 'html_text':[]}"
   ]
  },
  {
   "cell_type": "code",
   "execution_count": 9,
   "id": "8076a54b-d432-49f9-90ee-dadec896c052",
   "metadata": {},
   "outputs": [
    {
     "name": "stdout",
     "output_type": "stream",
     "text": [
      "124176 7891 0.06354690117252931\n",
      "124186 7892 0.06354983653551931\n",
      "124224 7893 0.06353844667697063\n",
      "124223 7894 0.06354700820298978\n",
      "124224 7895 0.06355454662545079\n",
      "124223 7896 0.06356310828107516\n",
      "124222 7897 0.06357167007454397\n",
      "124240 7898 0.06357050869285254\n",
      "124248 7899 0.06357446397527526\n",
      "124248 7900 0.06358251239456571\n",
      "124247 7901 0.06359107262147175\n"
     ]
    },
    {
     "ename": "KeyboardInterrupt",
     "evalue": "",
     "output_type": "error",
     "traceback": [
      "\u001b[0;31m---------------------------------------------------------------------------\u001b[0m",
      "\u001b[0;31mKeyboardInterrupt\u001b[0m                         Traceback (most recent call last)",
      "\u001b[0;32m<ipython-input-9-bd50f36684b6>\u001b[0m in \u001b[0;36m<module>\u001b[0;34m\u001b[0m\n\u001b[0;32m----> 1\u001b[0;31m \u001b[0mgetAllUrls\u001b[0m\u001b[0;34m(\u001b[0m\u001b[0;34m)\u001b[0m\u001b[0;34m\u001b[0m\u001b[0;34m\u001b[0m\u001b[0m\n\u001b[0m",
      "\u001b[0;32m<ipython-input-8-9e754adea73c>\u001b[0m in \u001b[0;36mgetAllUrls\u001b[0;34m()\u001b[0m\n\u001b[1;32m      7\u001b[0m         \u001b[0mpop_url\u001b[0m \u001b[0;34m=\u001b[0m \u001b[0murls\u001b[0m\u001b[0;34m[\u001b[0m\u001b[0;34m'novel'\u001b[0m\u001b[0;34m]\u001b[0m\u001b[0;34m.\u001b[0m\u001b[0mpop\u001b[0m\u001b[0;34m(\u001b[0m\u001b[0;34m)\u001b[0m\u001b[0;34m\u001b[0m\u001b[0;34m\u001b[0m\u001b[0m\n\u001b[1;32m      8\u001b[0m         \u001b[0;32mif\u001b[0m \u001b[0;34m(\u001b[0m\u001b[0mpop_url\u001b[0m \u001b[0;32mnot\u001b[0m \u001b[0;32min\u001b[0m \u001b[0murls\u001b[0m\u001b[0;34m[\u001b[0m\u001b[0;34m'done'\u001b[0m\u001b[0;34m]\u001b[0m\u001b[0;34m)\u001b[0m \u001b[0;32mand\u001b[0m \u001b[0;34m(\u001b[0m\u001b[0mpop_url\u001b[0m \u001b[0;32mnot\u001b[0m \u001b[0;32min\u001b[0m \u001b[0mdisallowed_urls\u001b[0m\u001b[0;34m)\u001b[0m\u001b[0;34m:\u001b[0m\u001b[0;34m\u001b[0m\u001b[0;34m\u001b[0m\u001b[0m\n\u001b[0;32m----> 9\u001b[0;31m             \u001b[0mcur_urls\u001b[0m\u001b[0;34m,\u001b[0m \u001b[0murl_html_text\u001b[0m \u001b[0;34m=\u001b[0m \u001b[0mgetCurrentPageUrls\u001b[0m\u001b[0;34m(\u001b[0m\u001b[0mpop_url\u001b[0m\u001b[0;34m)\u001b[0m\u001b[0;34m\u001b[0m\u001b[0;34m\u001b[0m\u001b[0m\n\u001b[0m\u001b[1;32m     10\u001b[0m             \u001b[0murls\u001b[0m\u001b[0;34m[\u001b[0m\u001b[0;34m'done'\u001b[0m\u001b[0;34m]\u001b[0m\u001b[0;34m.\u001b[0m\u001b[0madd\u001b[0m\u001b[0;34m(\u001b[0m\u001b[0mpop_url\u001b[0m\u001b[0;34m)\u001b[0m\u001b[0;34m\u001b[0m\u001b[0;34m\u001b[0m\u001b[0m\n\u001b[1;32m     11\u001b[0m             \u001b[0mpage_data\u001b[0m\u001b[0;34m[\u001b[0m\u001b[0;34m'url'\u001b[0m\u001b[0;34m]\u001b[0m\u001b[0;34m.\u001b[0m\u001b[0mappend\u001b[0m\u001b[0;34m(\u001b[0m\u001b[0mpop_url\u001b[0m\u001b[0;34m)\u001b[0m\u001b[0;34m\u001b[0m\u001b[0;34m\u001b[0m\u001b[0m\n",
      "\u001b[0;32m<ipython-input-7-50ea63098c67>\u001b[0m in \u001b[0;36mgetCurrentPageUrls\u001b[0;34m(url, try_no)\u001b[0m\n\u001b[1;32m      5\u001b[0m \u001b[0;34m\u001b[0m\u001b[0m\n\u001b[1;32m      6\u001b[0m     \u001b[0;32mglobal\u001b[0m \u001b[0mproxy_cycle\u001b[0m\u001b[0;34m\u001b[0m\u001b[0;34m\u001b[0m\u001b[0m\n\u001b[0;32m----> 7\u001b[0;31m     \u001b[0mtime\u001b[0m\u001b[0;34m.\u001b[0m\u001b[0msleep\u001b[0m\u001b[0;34m(\u001b[0m\u001b[0mrandom\u001b[0m\u001b[0;34m.\u001b[0m\u001b[0mrandint\u001b[0m\u001b[0;34m(\u001b[0m\u001b[0;36m2000\u001b[0m\u001b[0;34m,\u001b[0m\u001b[0;36m10000\u001b[0m\u001b[0;34m)\u001b[0m\u001b[0;34m/\u001b[0m\u001b[0;36m1000\u001b[0m\u001b[0;34m)\u001b[0m\u001b[0;34m\u001b[0m\u001b[0;34m\u001b[0m\u001b[0m\n\u001b[0m\u001b[1;32m      8\u001b[0m     \u001b[0mcur_urls\u001b[0m \u001b[0;34m=\u001b[0m \u001b[0mset\u001b[0m\u001b[0;34m(\u001b[0m\u001b[0;34m)\u001b[0m\u001b[0;34m\u001b[0m\u001b[0;34m\u001b[0m\u001b[0m\n\u001b[1;32m      9\u001b[0m \u001b[0;34m\u001b[0m\u001b[0m\n",
      "\u001b[0;31mKeyboardInterrupt\u001b[0m: "
     ]
    }
   ],
   "source": [
    "getAllUrls()"
   ]
  }
 ],
 "metadata": {
  "kernelspec": {
   "display_name": "Python 3",
   "language": "python",
   "name": "python3"
  },
  "language_info": {
   "codemirror_mode": {
    "name": "ipython",
    "version": 3
   },
   "file_extension": ".py",
   "mimetype": "text/x-python",
   "name": "python",
   "nbconvert_exporter": "python",
   "pygments_lexer": "ipython3",
   "version": "3.8.10"
  }
 },
 "nbformat": 4,
 "nbformat_minor": 5
}
