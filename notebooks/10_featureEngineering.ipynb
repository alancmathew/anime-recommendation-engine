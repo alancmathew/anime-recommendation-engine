{
 "cells": [
  {
   "cell_type": "code",
   "execution_count": 1,
   "id": "c8b546db-3322-4cf0-96a6-bb3fc9cfcf98",
   "metadata": {},
   "outputs": [],
   "source": [
    "import numpy as np\n",
    "import pandas as pd\n",
    "import matplotlib.pyplot as plt\n",
    "import seaborn as sns \n",
    "import scipy.stats as stats\n",
    "\n",
    "from tqdm import tqdm\n",
    "from multiprocessing import Pool"
   ]
  },
  {
   "cell_type": "code",
   "execution_count": 2,
   "id": "36408a29-cb56-4fa3-b016-b5134f9b00c1",
   "metadata": {},
   "outputs": [],
   "source": [
    "df = pd.read_pickle('../data/watch_list_clean.pkl.xz')"
   ]
  },
  {
   "cell_type": "markdown",
   "id": "db326636-e29b-4bdc-9706-30f5e9294d02",
   "metadata": {
    "tags": []
   },
   "source": [
    "## Normalize User Ratings to their own rating behavior"
   ]
  },
  {
   "cell_type": "code",
   "execution_count": 3,
   "id": "44bf735f-6568-4938-9742-99e84cadf582",
   "metadata": {},
   "outputs": [
    {
     "data": {
      "text/html": [
       "<div>\n",
       "<style scoped>\n",
       "    .dataframe tbody tr th:only-of-type {\n",
       "        vertical-align: middle;\n",
       "    }\n",
       "\n",
       "    .dataframe tbody tr th {\n",
       "        vertical-align: top;\n",
       "    }\n",
       "\n",
       "    .dataframe thead th {\n",
       "        text-align: right;\n",
       "    }\n",
       "</style>\n",
       "<table border=\"1\" class=\"dataframe\">\n",
       "  <thead>\n",
       "    <tr style=\"text-align: right;\">\n",
       "      <th></th>\n",
       "      <th>title</th>\n",
       "      <th>url</th>\n",
       "      <th>username</th>\n",
       "      <th>status</th>\n",
       "      <th>times_watched</th>\n",
       "      <th>user_rating</th>\n",
       "      <th>num_eps</th>\n",
       "      <th>is_ongoing</th>\n",
       "      <th>duration</th>\n",
       "      <th>studio</th>\n",
       "      <th>start_year</th>\n",
       "      <th>end_year</th>\n",
       "      <th>season</th>\n",
       "      <th>avg_rating</th>\n",
       "      <th>num_votes</th>\n",
       "      <th>synopsis</th>\n",
       "      <th>tags</th>\n",
       "      <th>content_warnings</th>\n",
       "    </tr>\n",
       "  </thead>\n",
       "  <tbody>\n",
       "    <tr>\n",
       "      <th>0</th>\n",
       "      <td>Day Break Illusion: il sole penetra le illusioni</td>\n",
       "      <td>https://www.anime-planet.com/anime/day-break-i...</td>\n",
       "      <td>Ruth</td>\n",
       "      <td>Watched</td>\n",
       "      <td>1</td>\n",
       "      <td>3.0</td>\n",
       "      <td>13</td>\n",
       "      <td>False</td>\n",
       "      <td>NaN</td>\n",
       "      <td>AIC</td>\n",
       "      <td>2013.0</td>\n",
       "      <td>2013.0</td>\n",
       "      <td>Summer</td>\n",
       "      <td>3.158</td>\n",
       "      <td>1980</td>\n",
       "      <td>Akari has always known two things: she’s a ski...</td>\n",
       "      <td>[Drama, Fantasy, Horror, Magical Girl, Contemp...</td>\n",
       "      <td>None</td>\n",
       "    </tr>\n",
       "    <tr>\n",
       "      <th>1</th>\n",
       "      <td>Dog Days</td>\n",
       "      <td>https://www.anime-planet.com/anime/dog-days</td>\n",
       "      <td>Ruth</td>\n",
       "      <td>Watched</td>\n",
       "      <td>1</td>\n",
       "      <td>3.5</td>\n",
       "      <td>13</td>\n",
       "      <td>False</td>\n",
       "      <td>NaN</td>\n",
       "      <td>Seven Arcs</td>\n",
       "      <td>2011.0</td>\n",
       "      <td>2011.0</td>\n",
       "      <td>Spring</td>\n",
       "      <td>3.524</td>\n",
       "      <td>9447</td>\n",
       "      <td>In the magical land of Flonyard, animal-eared ...</td>\n",
       "      <td>[Action, Adventure, Ecchi, Fantasy, Animal Cha...</td>\n",
       "      <td>None</td>\n",
       "    </tr>\n",
       "    <tr>\n",
       "      <th>2</th>\n",
       "      <td>Dog Days'</td>\n",
       "      <td>https://www.anime-planet.com/anime/dog-days-2</td>\n",
       "      <td>Ruth</td>\n",
       "      <td>Watched</td>\n",
       "      <td>1</td>\n",
       "      <td>3.0</td>\n",
       "      <td>13</td>\n",
       "      <td>False</td>\n",
       "      <td>NaN</td>\n",
       "      <td>Seven Arcs</td>\n",
       "      <td>2012.0</td>\n",
       "      <td>2012.0</td>\n",
       "      <td>Summer</td>\n",
       "      <td>3.651</td>\n",
       "      <td>5345</td>\n",
       "      <td>Three months have passed since Shinku returned...</td>\n",
       "      <td>[Action, Adventure, Ecchi, Fantasy, Animal Cha...</td>\n",
       "      <td>None</td>\n",
       "    </tr>\n",
       "    <tr>\n",
       "      <th>3</th>\n",
       "      <td>Fantasista Doll</td>\n",
       "      <td>https://www.anime-planet.com/anime/fantasista-...</td>\n",
       "      <td>Ruth</td>\n",
       "      <td>Watched</td>\n",
       "      <td>1</td>\n",
       "      <td>2.5</td>\n",
       "      <td>12</td>\n",
       "      <td>False</td>\n",
       "      <td>NaN</td>\n",
       "      <td>Hoods Entertainment</td>\n",
       "      <td>2013.0</td>\n",
       "      <td>2013.0</td>\n",
       "      <td>Summer</td>\n",
       "      <td>2.918</td>\n",
       "      <td>1206</td>\n",
       "      <td>Uzume Uno was on her way to class one day when...</td>\n",
       "      <td>[Magical Girl, Sci Fi, Seinen, Slice of Life, ...</td>\n",
       "      <td>None</td>\n",
       "    </tr>\n",
       "    <tr>\n",
       "      <th>4</th>\n",
       "      <td>Fate/Kaleid Liner Prisma Illya</td>\n",
       "      <td>https://www.anime-planet.com/anime/fate-kaleid...</td>\n",
       "      <td>Ruth</td>\n",
       "      <td>Watched</td>\n",
       "      <td>1</td>\n",
       "      <td>3.5</td>\n",
       "      <td>10</td>\n",
       "      <td>False</td>\n",
       "      <td>NaN</td>\n",
       "      <td>SILVER LINK.</td>\n",
       "      <td>2013.0</td>\n",
       "      <td>2013.0</td>\n",
       "      <td>Summer</td>\n",
       "      <td>3.513</td>\n",
       "      <td>5655</td>\n",
       "      <td>Illya loves magical girls; but more than anyth...</td>\n",
       "      <td>[Action, Fantasy, Magical Girl, Shounen, Conte...</td>\n",
       "      <td>None</td>\n",
       "    </tr>\n",
       "  </tbody>\n",
       "</table>\n",
       "</div>"
      ],
      "text/plain": [
       "                                              title  \\\n",
       "0  Day Break Illusion: il sole penetra le illusioni   \n",
       "1                                          Dog Days   \n",
       "2                                         Dog Days'   \n",
       "3                                   Fantasista Doll   \n",
       "4                    Fate/Kaleid Liner Prisma Illya   \n",
       "\n",
       "                                                 url username   status  \\\n",
       "0  https://www.anime-planet.com/anime/day-break-i...     Ruth  Watched   \n",
       "1        https://www.anime-planet.com/anime/dog-days     Ruth  Watched   \n",
       "2      https://www.anime-planet.com/anime/dog-days-2     Ruth  Watched   \n",
       "3  https://www.anime-planet.com/anime/fantasista-...     Ruth  Watched   \n",
       "4  https://www.anime-planet.com/anime/fate-kaleid...     Ruth  Watched   \n",
       "\n",
       "   times_watched  user_rating  num_eps  is_ongoing  duration  \\\n",
       "0              1          3.0       13       False       NaN   \n",
       "1              1          3.5       13       False       NaN   \n",
       "2              1          3.0       13       False       NaN   \n",
       "3              1          2.5       12       False       NaN   \n",
       "4              1          3.5       10       False       NaN   \n",
       "\n",
       "                studio  start_year  end_year  season  avg_rating  num_votes  \\\n",
       "0                  AIC      2013.0    2013.0  Summer       3.158       1980   \n",
       "1           Seven Arcs      2011.0    2011.0  Spring       3.524       9447   \n",
       "2           Seven Arcs      2012.0    2012.0  Summer       3.651       5345   \n",
       "3  Hoods Entertainment      2013.0    2013.0  Summer       2.918       1206   \n",
       "4         SILVER LINK.      2013.0    2013.0  Summer       3.513       5655   \n",
       "\n",
       "                                            synopsis  \\\n",
       "0  Akari has always known two things: she’s a ski...   \n",
       "1  In the magical land of Flonyard, animal-eared ...   \n",
       "2  Three months have passed since Shinku returned...   \n",
       "3  Uzume Uno was on her way to class one day when...   \n",
       "4  Illya loves magical girls; but more than anyth...   \n",
       "\n",
       "                                                tags content_warnings  \n",
       "0  [Drama, Fantasy, Horror, Magical Girl, Contemp...             None  \n",
       "1  [Action, Adventure, Ecchi, Fantasy, Animal Cha...             None  \n",
       "2  [Action, Adventure, Ecchi, Fantasy, Animal Cha...             None  \n",
       "3  [Magical Girl, Sci Fi, Seinen, Slice of Life, ...             None  \n",
       "4  [Action, Fantasy, Magical Girl, Shounen, Conte...             None  "
      ]
     },
     "execution_count": 3,
     "metadata": {},
     "output_type": "execute_result"
    }
   ],
   "source": [
    "df.head()"
   ]
  },
  {
   "cell_type": "code",
   "execution_count": 25,
   "id": "c71b6dbf-0853-4936-a6ab-23551895f80e",
   "metadata": {},
   "outputs": [],
   "source": [
    "def rating_normalizer(data):\n",
    "    # min + ((max - min)/2)\n",
    "    # 0.5 + ((5 - 0.5)/2)\n",
    "    # 0.5 + 2.25 = 2.75\n",
    "    # return (data * (2.75 / data.mean())).apply(lambda x: min(x, 5))\n",
    "    normalized = ((data - data.mean()) / (data.max() - data.min())).replace()\n",
    "    return "
   ]
  },
  {
   "cell_type": "code",
   "execution_count": 26,
   "id": "a78f2873-fdab-4ec8-b228-7fd703bccc0b",
   "metadata": {},
   "outputs": [],
   "source": [
    "df['adj_user_rating'] = df.groupby('username')['user_rating'].apply(rating_normalizer)"
   ]
  },
  {
   "cell_type": "code",
   "execution_count": 27,
   "id": "251fcce8-1c91-46d8-b174-534dfe8db92d",
   "metadata": {},
   "outputs": [
    {
     "data": {
      "text/plain": [
       "min   -0.998703\n",
       "max    0.990909\n",
       "Name: adj_user_rating, dtype: float32"
      ]
     },
     "execution_count": 27,
     "metadata": {},
     "output_type": "execute_result"
    }
   ],
   "source": [
    "df['adj_user_rating'].agg(['min', 'max'])"
   ]
  },
  {
   "cell_type": "code",
   "execution_count": 28,
   "id": "9889fc63-e2f9-4055-abe6-67fad41fdc5b",
   "metadata": {},
   "outputs": [
    {
     "data": {
      "text/plain": [
       "0         -0.126016\n",
       "1         -0.014905\n",
       "2         -0.126016\n",
       "3         -0.237127\n",
       "4         -0.014905\n",
       "             ...   \n",
       "9205629    0.233871\n",
       "9205630    0.233871\n",
       "9205631    0.233871\n",
       "9205632    0.233871\n",
       "9205633    0.233871\n",
       "Name: adj_user_rating, Length: 9205634, dtype: float32"
      ]
     },
     "execution_count": 28,
     "metadata": {},
     "output_type": "execute_result"
    }
   ],
   "source": [
    "df['adj_user_rating']"
   ]
  },
  {
   "cell_type": "code",
   "execution_count": 29,
   "id": "b5a89b19-2660-43de-aa67-9319c23fdf86",
   "metadata": {},
   "outputs": [
    {
     "data": {
      "text/plain": [
       "(-1.1, 1.1)"
      ]
     },
     "execution_count": 29,
     "metadata": {},
     "output_type": "execute_result"
    },
    {
     "data": {
      "image/png": "[encoded data removed]",
      "text/plain": [
       "<Figure size 432x288 with 1 Axes>"
      ]
     },
     "metadata": {
      "needs_background": "light"
     },
     "output_type": "display_data"
    }
   ],
   "source": [
    "plt.hist(df['adj_user_rating'], bins=100)\n",
    "plt.xlim(-1.1, 1.1)"
   ]
  },
  {
   "cell_type": "code",
   "execution_count": 30,
   "id": "d8a2ea30-06a7-49ac-b723-27a0a77146c5",
   "metadata": {},
   "outputs": [
    {
     "data": {
      "text/plain": [
       "<AxesSubplot:xlabel='adj_user_rating'>"
      ]
     },
     "execution_count": 30,
     "metadata": {},
     "output_type": "execute_result"
    },
    {
     "data": {
      "image/png": "[encoded data removed]",
      "text/plain": [
       "<Figure size 432x288 with 1 Axes>"
      ]
     },
     "metadata": {
      "needs_background": "light"
     },
     "output_type": "display_data"
    }
   ],
   "source": [
    "sns.boxplot(data=df, x='adj_user_rating')"
   ]
  },
  {
   "cell_type": "code",
   "execution_count": 31,
   "id": "f8cc6a21-7a53-4568-9e76-7b3d643c32d4",
   "metadata": {},
   "outputs": [
    {
     "data": {
      "text/plain": [
       "-0.998703        1\n",
       "-0.998241        1\n",
       "-0.997685        1\n",
       "-0.997334        1\n",
       "-0.997268        1\n",
       "             ...  \n",
       " 0.945896        7\n",
       " 0.956522        1\n",
       " 0.956522        1\n",
       " 0.990909        1\n",
       " NaN         96511\n",
       "Name: adj_user_rating, Length: 247197, dtype: int64"
      ]
     },
     "execution_count": 31,
     "metadata": {},
     "output_type": "execute_result"
    }
   ],
   "source": [
    "df['adj_user_rating'].value_counts(dropna=False).sort_index()"
   ]
  },
  {
   "cell_type": "markdown",
   "id": "22b4bf2d-81c9-491a-aef6-581685d1a5f9",
   "metadata": {},
   "source": [
    "## Normalize Average Ratings"
   ]
  },
  {
   "cell_type": "code",
   "execution_count": 24,
   "id": "8cb716bc-91b7-459b-9b55-1f0afdf733a1",
   "metadata": {},
   "outputs": [
    {
     "data": {
      "text/plain": [
       "0          3.158\n",
       "1          3.524\n",
       "2          3.651\n",
       "3          2.918\n",
       "4          3.513\n",
       "           ...  \n",
       "9205629    4.227\n",
       "9205630    4.308\n",
       "9205631    4.187\n",
       "9205632    4.210\n",
       "9205633    4.396\n",
       "Name: avg_rating, Length: 9205634, dtype: float32"
      ]
     },
     "execution_count": 24,
     "metadata": {},
     "output_type": "execute_result"
    }
   ],
   "source": [
    "df['avg_rating']"
   ]
  },
  {
   "cell_type": "code",
   "execution_count": null,
   "id": "bc5a1b6c-4f18-450a-9d41-ef48a0c9c0ac",
   "metadata": {},
   "outputs": [],
   "source": []
  }
 ],
 "metadata": {
  "kernelspec": {
   "display_name": "Python 3 (ipykernel)",
   "language": "python",
   "name": "python3"
  },
  "language_info": {
   "codemirror_mode": {
    "name": "ipython",
    "version": 3
   },
   "file_extension": ".py",
   "mimetype": "text/x-python",
   "name": "python",
   "nbconvert_exporter": "python",
   "pygments_lexer": "ipython3",
   "version": "3.8.12"
  }
 },
 "nbformat": 4,
 "nbformat_minor": 5
}
