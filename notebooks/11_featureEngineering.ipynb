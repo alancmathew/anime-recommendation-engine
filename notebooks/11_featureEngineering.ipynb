{
 "cells": [
  {
   "cell_type": "code",
   "execution_count": 1,
   "id": "c8b546db-3322-4cf0-96a6-bb3fc9cfcf98",
   "metadata": {},
   "outputs": [],
   "source": [
    "import numpy as np\n",
    "import pandas as pd\n",
    "import matplotlib.pyplot as plt\n",
    "import seaborn as sns \n",
    "from math import log\n",
    "from sklearn.preprocessing import RobustScaler, StandardScaler, MinMaxScaler\n",
    "from functools import partial\n",
    "from tqdm import tqdm\n",
    "from multiprocessing import Pool\n",
    "import pickle"
   ]
  },
  {
   "cell_type": "code",
   "execution_count": 2,
   "id": "44284834-30d6-4058-9824-34a4ec7b0729",
   "metadata": {},
   "outputs": [],
   "source": [
    "def parallelize(func, groups):\n",
    "    num_workers = 16\n",
    "    with Pool(num_workers) as p:\n",
    "        return pd.concat(p.map(func, [group for name, group in groups])).sort_index()"
   ]
  },
  {
   "cell_type": "code",
   "execution_count": 3,
   "id": "36408a29-cb56-4fa3-b016-b5134f9b00c1",
   "metadata": {},
   "outputs": [],
   "source": [
    "df = pd.read_pickle('../data/watch_list_clean.pkl.xz')[['title', 'username', 'rating']]"
   ]
  },
  {
   "cell_type": "code",
   "execution_count": 4,
   "id": "269c6181-1e82-4b6c-990f-99df3d2f91da",
   "metadata": {},
   "outputs": [
    {
     "data": {
      "text/html": [
       "<div>\n",
       "<style scoped>\n",
       "    .dataframe tbody tr th:only-of-type {\n",
       "        vertical-align: middle;\n",
       "    }\n",
       "\n",
       "    .dataframe tbody tr th {\n",
       "        vertical-align: top;\n",
       "    }\n",
       "\n",
       "    .dataframe thead th {\n",
       "        text-align: right;\n",
       "    }\n",
       "</style>\n",
       "<table border=\"1\" class=\"dataframe\">\n",
       "  <thead>\n",
       "    <tr style=\"text-align: right;\">\n",
       "      <th></th>\n",
       "      <th>title</th>\n",
       "      <th>username</th>\n",
       "      <th>rating</th>\n",
       "    </tr>\n",
       "  </thead>\n",
       "  <tbody>\n",
       "    <tr>\n",
       "      <th>0</th>\n",
       "      <td>Day Break Illusion: il sole penetra le illusioni</td>\n",
       "      <td>Ruth</td>\n",
       "      <td>3.0</td>\n",
       "    </tr>\n",
       "    <tr>\n",
       "      <th>1</th>\n",
       "      <td>Dog Days</td>\n",
       "      <td>Ruth</td>\n",
       "      <td>3.5</td>\n",
       "    </tr>\n",
       "    <tr>\n",
       "      <th>2</th>\n",
       "      <td>Dog Days'</td>\n",
       "      <td>Ruth</td>\n",
       "      <td>3.0</td>\n",
       "    </tr>\n",
       "    <tr>\n",
       "      <th>3</th>\n",
       "      <td>Fantasista Doll</td>\n",
       "      <td>Ruth</td>\n",
       "      <td>2.5</td>\n",
       "    </tr>\n",
       "    <tr>\n",
       "      <th>4</th>\n",
       "      <td>Fate/Kaleid Liner Prisma Illya</td>\n",
       "      <td>Ruth</td>\n",
       "      <td>3.5</td>\n",
       "    </tr>\n",
       "    <tr>\n",
       "      <th>...</th>\n",
       "      <td>...</td>\n",
       "      <td>...</td>\n",
       "      <td>...</td>\n",
       "    </tr>\n",
       "    <tr>\n",
       "      <th>9205777</th>\n",
       "      <td>The Ancient Magus' Bride</td>\n",
       "      <td>Rutendo</td>\n",
       "      <td>5.0</td>\n",
       "    </tr>\n",
       "    <tr>\n",
       "      <th>9205778</th>\n",
       "      <td>The Disastrous Life of Saiki K.</td>\n",
       "      <td>Rutendo</td>\n",
       "      <td>5.0</td>\n",
       "    </tr>\n",
       "    <tr>\n",
       "      <th>9205779</th>\n",
       "      <td>The Seven Deadly Sins</td>\n",
       "      <td>Rutendo</td>\n",
       "      <td>5.0</td>\n",
       "    </tr>\n",
       "    <tr>\n",
       "      <th>9205780</th>\n",
       "      <td>The Seven Deadly Sins: Revival of The Commandm...</td>\n",
       "      <td>Rutendo</td>\n",
       "      <td>5.0</td>\n",
       "    </tr>\n",
       "    <tr>\n",
       "      <th>9205781</th>\n",
       "      <td>Violet Evergarden</td>\n",
       "      <td>Rutendo</td>\n",
       "      <td>5.0</td>\n",
       "    </tr>\n",
       "  </tbody>\n",
       "</table>\n",
       "<p>9205782 rows × 3 columns</p>\n",
       "</div>"
      ],
      "text/plain": [
       "                                                     title username  rating\n",
       "0         Day Break Illusion: il sole penetra le illusioni     Ruth     3.0\n",
       "1                                                 Dog Days     Ruth     3.5\n",
       "2                                                Dog Days'     Ruth     3.0\n",
       "3                                          Fantasista Doll     Ruth     2.5\n",
       "4                           Fate/Kaleid Liner Prisma Illya     Ruth     3.5\n",
       "...                                                    ...      ...     ...\n",
       "9205777                           The Ancient Magus' Bride  Rutendo     5.0\n",
       "9205778                    The Disastrous Life of Saiki K.  Rutendo     5.0\n",
       "9205779                              The Seven Deadly Sins  Rutendo     5.0\n",
       "9205780  The Seven Deadly Sins: Revival of The Commandm...  Rutendo     5.0\n",
       "9205781                                  Violet Evergarden  Rutendo     5.0\n",
       "\n",
       "[9205782 rows x 3 columns]"
      ]
     },
     "execution_count": 4,
     "metadata": {},
     "output_type": "execute_result"
    }
   ],
   "source": [
    "df"
   ]
  },
  {
   "cell_type": "markdown",
   "id": "db326636-e29b-4bdc-9706-30f5e9294d02",
   "metadata": {
    "tags": []
   },
   "source": [
    "## Scale user ratings to their own rating behavior"
   ]
  },
  {
   "cell_type": "markdown",
   "id": "8eed002c-73ee-4f0c-ab6e-69b9f5f502c1",
   "metadata": {
    "tags": []
   },
   "source": [
    "### Remove Outliers ($\\pm3\\sigma$)"
   ]
  },
  {
   "cell_type": "markdown",
   "id": "e2003a81-0a8c-4899-b885-3d96e8515dc1",
   "metadata": {},
   "source": [
    "def in_three_std(x):\n",
    "    return x.between(x.quantile(0.05), x.quantile(0.95)) == 1\n",
    "\n",
    "in_three_std_mask = parallelize(df.groupby('username')['user_rating'], in_three_std)\n",
    "\n",
    "df.loc[~in_three_std_mask]\n",
    "\n",
    "df = df.loc[in_three_std_mask].copy(deep=True)"
   ]
  },
  {
   "cell_type": "markdown",
   "id": "034a6136-1bae-43a3-b38e-2843b1f0e3d0",
   "metadata": {},
   "source": [
    "### Standard Scaling by Title (Mean/Std Scaling)"
   ]
  },
  {
   "cell_type": "code",
   "execution_count": 5,
   "id": "b48011e0-d99e-411e-bdc5-6d0202cf2c9a",
   "metadata": {},
   "outputs": [],
   "source": [
    "scaler = StandardScaler()\n",
    "def group_rating_normalizer(group, value_col):\n",
    "    scaled = scaler.fit_transform(group[[value_col]])\n",
    "    return pd.Series(scaled.reshape(1, scaled.shape[0])[0], index=group.index)"
   ]
  },
  {
   "cell_type": "markdown",
   "id": "5c8584a4-6eca-440c-b62a-bb623cdfe1b5",
   "metadata": {},
   "source": [
    "title_rating_normalizer = partial(group_rating_normalizer, value_col='rating')\n",
    "df['rating'] = parallelize(title_rating_normalizer, df.groupby('title'))"
   ]
  },
  {
   "cell_type": "markdown",
   "id": "5aa4290a-3871-4a90-bdc2-485186aeb03e",
   "metadata": {},
   "source": [
    "df"
   ]
  },
  {
   "cell_type": "markdown",
   "id": "25f7e667-faa9-4996-a071-59dcf5ec1b47",
   "metadata": {},
   "source": [
    "sns.histplot(x='rating', data=df)"
   ]
  },
  {
   "cell_type": "markdown",
   "id": "8456110f-e5a2-48ff-9c4a-30948155b183",
   "metadata": {},
   "source": [
    "### Standard Scaling by User (Mean/Std Scaling)"
   ]
  },
  {
   "cell_type": "code",
   "execution_count": 6,
   "id": "f06dbb5f-bf3a-4123-bded-dca6213046f5",
   "metadata": {},
   "outputs": [],
   "source": [
    "user_rating_normalizer = partial(group_rating_normalizer, value_col='rating')\n",
    "df['rating'] = parallelize(user_rating_normalizer, df.groupby('username'))"
   ]
  },
  {
   "cell_type": "code",
   "execution_count": 7,
   "id": "9bea2971-c726-4d19-87fa-156160b7e215",
   "metadata": {},
   "outputs": [
    {
     "data": {
      "text/html": [
       "<div>\n",
       "<style scoped>\n",
       "    .dataframe tbody tr th:only-of-type {\n",
       "        vertical-align: middle;\n",
       "    }\n",
       "\n",
       "    .dataframe tbody tr th {\n",
       "        vertical-align: top;\n",
       "    }\n",
       "\n",
       "    .dataframe thead th {\n",
       "        text-align: right;\n",
       "    }\n",
       "</style>\n",
       "<table border=\"1\" class=\"dataframe\">\n",
       "  <thead>\n",
       "    <tr style=\"text-align: right;\">\n",
       "      <th></th>\n",
       "      <th>title</th>\n",
       "      <th>username</th>\n",
       "      <th>rating</th>\n",
       "    </tr>\n",
       "  </thead>\n",
       "  <tbody>\n",
       "    <tr>\n",
       "      <th>0</th>\n",
       "      <td>Day Break Illusion: il sole penetra le illusioni</td>\n",
       "      <td>Ruth</td>\n",
       "      <td>-0.620981</td>\n",
       "    </tr>\n",
       "    <tr>\n",
       "      <th>1</th>\n",
       "      <td>Dog Days</td>\n",
       "      <td>Ruth</td>\n",
       "      <td>-0.073449</td>\n",
       "    </tr>\n",
       "    <tr>\n",
       "      <th>2</th>\n",
       "      <td>Dog Days'</td>\n",
       "      <td>Ruth</td>\n",
       "      <td>-0.620981</td>\n",
       "    </tr>\n",
       "    <tr>\n",
       "      <th>3</th>\n",
       "      <td>Fantasista Doll</td>\n",
       "      <td>Ruth</td>\n",
       "      <td>-1.168512</td>\n",
       "    </tr>\n",
       "    <tr>\n",
       "      <th>4</th>\n",
       "      <td>Fate/Kaleid Liner Prisma Illya</td>\n",
       "      <td>Ruth</td>\n",
       "      <td>-0.073449</td>\n",
       "    </tr>\n",
       "    <tr>\n",
       "      <th>...</th>\n",
       "      <td>...</td>\n",
       "      <td>...</td>\n",
       "      <td>...</td>\n",
       "    </tr>\n",
       "    <tr>\n",
       "      <th>9205777</th>\n",
       "      <td>The Ancient Magus' Bride</td>\n",
       "      <td>Rutendo</td>\n",
       "      <td>0.769039</td>\n",
       "    </tr>\n",
       "    <tr>\n",
       "      <th>9205778</th>\n",
       "      <td>The Disastrous Life of Saiki K.</td>\n",
       "      <td>Rutendo</td>\n",
       "      <td>0.769039</td>\n",
       "    </tr>\n",
       "    <tr>\n",
       "      <th>9205779</th>\n",
       "      <td>The Seven Deadly Sins</td>\n",
       "      <td>Rutendo</td>\n",
       "      <td>0.769039</td>\n",
       "    </tr>\n",
       "    <tr>\n",
       "      <th>9205780</th>\n",
       "      <td>The Seven Deadly Sins: Revival of The Commandm...</td>\n",
       "      <td>Rutendo</td>\n",
       "      <td>0.769039</td>\n",
       "    </tr>\n",
       "    <tr>\n",
       "      <th>9205781</th>\n",
       "      <td>Violet Evergarden</td>\n",
       "      <td>Rutendo</td>\n",
       "      <td>0.769039</td>\n",
       "    </tr>\n",
       "  </tbody>\n",
       "</table>\n",
       "<p>9205782 rows × 3 columns</p>\n",
       "</div>"
      ],
      "text/plain": [
       "                                                     title username    rating\n",
       "0         Day Break Illusion: il sole penetra le illusioni     Ruth -0.620981\n",
       "1                                                 Dog Days     Ruth -0.073449\n",
       "2                                                Dog Days'     Ruth -0.620981\n",
       "3                                          Fantasista Doll     Ruth -1.168512\n",
       "4                           Fate/Kaleid Liner Prisma Illya     Ruth -0.073449\n",
       "...                                                    ...      ...       ...\n",
       "9205777                           The Ancient Magus' Bride  Rutendo  0.769039\n",
       "9205778                    The Disastrous Life of Saiki K.  Rutendo  0.769039\n",
       "9205779                              The Seven Deadly Sins  Rutendo  0.769039\n",
       "9205780  The Seven Deadly Sins: Revival of The Commandm...  Rutendo  0.769039\n",
       "9205781                                  Violet Evergarden  Rutendo  0.769039\n",
       "\n",
       "[9205782 rows x 3 columns]"
      ]
     },
     "execution_count": 7,
     "metadata": {},
     "output_type": "execute_result"
    }
   ],
   "source": [
    "df"
   ]
  },
  {
   "cell_type": "code",
   "execution_count": 8,
   "id": "d21150c0-670f-4824-b102-f233178798bf",
   "metadata": {},
   "outputs": [
    {
     "data": {
      "text/plain": [
       "<AxesSubplot:xlabel='rating', ylabel='Count'>"
      ]
     },
     "execution_count": 8,
     "metadata": {},
     "output_type": "execute_result"
    },
    {
     "data": {
      "image/png": "[encoded data removed]",
      "text/plain": [
       "<Figure size 432x288 with 1 Axes>"
      ]
     },
     "metadata": {
      "needs_background": "light"
     },
     "output_type": "display_data"
    }
   ],
   "source": [
    "sns.histplot(x='rating', data=df)"
   ]
  },
  {
   "cell_type": "markdown",
   "id": "c946c6c9-792e-4128-a3c2-a62205a22eec",
   "metadata": {
    "tags": []
   },
   "source": [
    "### Scale ratings back to 0-1 scale"
   ]
  },
  {
   "cell_type": "markdown",
   "id": "a712e0b9-8ac5-4846-ad9d-30f1be19c511",
   "metadata": {},
   "source": [
    "def sigmoid(x):\n",
    "    z = np.exp(-x)\n",
    "    sig = 1 / (1 + z)\n",
    "    return sig"
   ]
  },
  {
   "cell_type": "markdown",
   "id": "2adbfdb9-7fd1-453c-b640-856a3327cf80",
   "metadata": {},
   "source": [
    "df['rating'] = sigmoid(df['rating'])"
   ]
  },
  {
   "cell_type": "markdown",
   "id": "410b5de6-13ff-4037-b851-3af7ce21c41e",
   "metadata": {
    "tags": []
   },
   "source": [
    "## Convert ratings to binary\n",
    "- 0: rating <= 0 (\"did not like that much\")\n",
    "- 1: rating > 0 (\"did like it\")"
   ]
  },
  {
   "cell_type": "markdown",
   "id": "04300e93-05e1-4888-b82c-f61cba20c51f",
   "metadata": {},
   "source": [
    "df['rating'] = df['rating'].apply(lambda x: 1 if x > 0 else 0)"
   ]
  },
  {
   "cell_type": "markdown",
   "id": "6a863e5f-1789-4c9e-a203-401f0851cba4",
   "metadata": {},
   "source": [
    "## Reshape"
   ]
  },
  {
   "cell_type": "code",
   "execution_count": 9,
   "id": "d2112eaa-df9e-4aba-a7d7-1c62bc85bb15",
   "metadata": {},
   "outputs": [],
   "source": [
    "pivot = df.pivot(index='username', columns='title', values='rating')\n",
    "pivot = pivot.sample(pivot.shape[0])"
   ]
  },
  {
   "cell_type": "code",
   "execution_count": 10,
   "id": "505ed3f3-0d27-425f-95db-609f331f0487",
   "metadata": {},
   "outputs": [
    {
     "data": {
      "text/plain": [
       "(117162, 4489)"
      ]
     },
     "execution_count": 10,
     "metadata": {},
     "output_type": "execute_result"
    }
   ],
   "source": [
    "pivot.shape"
   ]
  },
  {
   "cell_type": "markdown",
   "id": "9e74efac-9f37-4b5c-98e1-21fe60754c74",
   "metadata": {
    "tags": []
   },
   "source": [
    "## Train-Validate-Test Split\n",
    "- Train: 60%\n",
    "- Validate: 20%\n",
    "- Test: 20%"
   ]
  },
  {
   "cell_type": "code",
   "execution_count": 11,
   "id": "db245e21-b584-48a5-8664-847b84dac239",
   "metadata": {},
   "outputs": [],
   "source": [
    "train = pivot.sample(frac=0.6, random_state=42)\n",
    "pivot = pivot.drop(train.index)\n",
    "validate = pivot.sample(frac=0.5, random_state=42)\n",
    "test = pivot.drop(validate.index)"
   ]
  },
  {
   "cell_type": "code",
   "execution_count": 12,
   "id": "8bb2a142-49d6-49a2-9f64-37aad4b60616",
   "metadata": {},
   "outputs": [
    {
     "data": {
      "text/plain": [
       "(70297, 4489)"
      ]
     },
     "execution_count": 12,
     "metadata": {},
     "output_type": "execute_result"
    }
   ],
   "source": [
    "train.shape"
   ]
  },
  {
   "cell_type": "code",
   "execution_count": 13,
   "id": "36cf82b9-63a5-4386-9e50-53e56a09552c",
   "metadata": {},
   "outputs": [],
   "source": [
    "keeper_mask = np.random.choice(a=[True, False], size=train.shape, p=[0.75, 0.25])"
   ]
  },
  {
   "cell_type": "code",
   "execution_count": 14,
   "id": "8403412b-1d90-4221-9b74-fd9d8cb47b70",
   "metadata": {},
   "outputs": [],
   "source": [
    "train_X = train.mask(keeper_mask)\n",
    "train_Y = train.mask(~keeper_mask)\n",
    "\n",
    "validate_X = validate.mask(keeper_mask[:validate.shape[0]])\n",
    "validate_Y = validate.mask(~keeper_mask[:validate.shape[0]])\n",
    "\n",
    "test_X = test.mask(keeper_mask[:test.shape[0]])\n",
    "test_Y = test.mask(~keeper_mask[:test.shape[0]])"
   ]
  },
  {
   "cell_type": "markdown",
   "id": "3aa211de-7721-441c-8330-a61632602d70",
   "metadata": {},
   "source": [
    "## Saving Data"
   ]
  },
  {
   "cell_type": "code",
   "execution_count": 15,
   "id": "28370bd2-d9ea-43cd-87b6-ce06360d21d6",
   "metadata": {},
   "outputs": [],
   "source": [
    "train_X.to_pickle('../data/train_X.pkl')\n",
    "train_Y.to_pickle('../data/train_Y.pkl')\n",
    "train.to_pickle('../data/train.pkl')\n",
    "\n",
    "validate_X.to_pickle('../data/validate_X.pkl')\n",
    "validate_Y.to_pickle('../data/validate_Y.pkl')\n",
    "validate.to_pickle('../data/validate.pkl')\n",
    "\n",
    "test_X.to_pickle('../data/test_X.pkl')\n",
    "test_Y.to_pickle('../data/test_Y.pkl')\n",
    "test.to_pickle('../data/test.pkl')"
   ]
  },
  {
   "cell_type": "code",
   "execution_count": 16,
   "id": "964834a2-1a8a-442d-8e40-08da9addeeb8",
   "metadata": {},
   "outputs": [
    {
     "name": "stderr",
     "output_type": "stream",
     "text": [
      "train_X.pkl: 7,714.7 KiB / 2,409.3 MiB = 0.003, 364 MiB/s, 0:06\n",
      "train_Y.pkl: 14.1 MiB / 2,409.3 MiB = 0.006, 308 MiB/s, 0:07\n",
      "train.pkl: 16.5 MiB / 2,409.3 MiB = 0.007, 278 MiB/s, 0:08\n",
      "validate_X.pkl: 2,957.6 KiB / 804.1 MiB = 0.004, 0:02\n",
      "validate_Y.pkl: 5,174.4 KiB / 804.1 MiB = 0.006, 260 MiB/s, 0:03\n",
      "validate.pkl: 5,986.9 KiB / 804.1 MiB = 0.007, 246 MiB/s, 0:03\n",
      "test_X.pkl: 3,001.6 KiB / 804.1 MiB = 0.004, 0:02\n",
      "test_Y.pkl: 5,259.3 KiB / 804.1 MiB = 0.006, 254 MiB/s, 0:03\n",
      "test.pkl: 6,076.8 KiB / 804.1 MiB = 0.007, 233 MiB/s, 0:03\n"
     ]
    }
   ],
   "source": [
    "%%bash\n",
    "cd ../data\n",
    "\n",
    "xz -vfT14 train_X.pkl\n",
    "xz -vfT14 train_Y.pkl\n",
    "xz -vfT14 train.pkl\n",
    "\n",
    "xz -vfT14 validate_X.pkl\n",
    "xz -vfT14 validate_Y.pkl\n",
    "xz -vfT14 validate.pkl\n",
    "\n",
    "xz -vfT14 test_X.pkl\n",
    "xz -vfT14 test_Y.pkl\n",
    "xz -vfT14 test.pkl"
   ]
  },
  {
   "cell_type": "code",
   "execution_count": 17,
   "id": "d4c9237b-abab-49c8-b962-829a4be4ad00",
   "metadata": {},
   "outputs": [],
   "source": [
    "train.to_csv('../data/train.csv')\n",
    "validate.to_csv('../data/validate.csv')\n",
    "test.to_csv('../data/test.csv')"
   ]
  },
  {
   "cell_type": "code",
   "execution_count": 18,
   "id": "654b3891-2cee-483e-aa6e-2d219464a577",
   "metadata": {},
   "outputs": [
    {
     "name": "stderr",
     "output_type": "stream",
     "text": [
      "train.csv: 14.6 MiB / 398.5 MiB = 0.037, 45 MiB/s, 0:08\n",
      "validate.csv: 4,974.6 KiB / 132.3 MiB = 0.037, 36 MiB/s, 0:03\n",
      "test.csv: 5,056.0 KiB / 133.3 MiB = 0.037, 34 MiB/s, 0:03\n"
     ]
    }
   ],
   "source": [
    "%%bash\n",
    "cd ../data\n",
    "\n",
    "xz -vfT14 train.csv\n",
    "xz -vfT14 validate.csv\n",
    "xz -vfT14 test.csv"
   ]
  }
 ],
 "metadata": {
  "kernelspec": {
   "display_name": "Python 3 (ipykernel)",
   "language": "python",
   "name": "python3"
  },
  "language_info": {
   "codemirror_mode": {
    "name": "ipython",
    "version": 3
   },
   "file_extension": ".py",
   "mimetype": "text/x-python",
   "name": "python",
   "nbconvert_exporter": "python",
   "pygments_lexer": "ipython3",
   "version": "3.8.12"
  }
 },
 "nbformat": 4,
 "nbformat_minor": 5
}
