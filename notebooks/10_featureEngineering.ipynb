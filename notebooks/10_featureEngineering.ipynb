{
 "cells": [
  {
   "cell_type": "code",
   "execution_count": 1,
   "id": "c8b546db-3322-4cf0-96a6-bb3fc9cfcf98",
   "metadata": {},
   "outputs": [],
   "source": [
    "import numpy as np\n",
    "import pandas as pd\n",
    "import matplotlib.pyplot as plt\n",
    "import seaborn as sns \n",
    "import scipy.stats as stats\n",
    "from sklearn.preprocessing import RobustScaler, StandardScaler, MinMaxScaler\n",
    "\n",
    "from tqdm import tqdm\n",
    "from multiprocessing import Pool"
   ]
  },
  {
   "cell_type": "code",
   "execution_count": 2,
   "id": "36408a29-cb56-4fa3-b016-b5134f9b00c1",
   "metadata": {},
   "outputs": [],
   "source": [
    "df = pd.read_pickle('../data/watch_list_clean.pkl.xz')"
   ]
  },
  {
   "cell_type": "markdown",
   "id": "db326636-e29b-4bdc-9706-30f5e9294d02",
   "metadata": {
    "tags": []
   },
   "source": [
    "## Normalize User Ratings to their own rating behavior"
   ]
  },
  {
   "cell_type": "code",
   "execution_count": 3,
   "id": "44bf735f-6568-4938-9742-99e84cadf582",
   "metadata": {},
   "outputs": [
    {
     "data": {
      "text/html": [
       "<div>\n",
       "<style scoped>\n",
       "    .dataframe tbody tr th:only-of-type {\n",
       "        vertical-align: middle;\n",
       "    }\n",
       "\n",
       "    .dataframe tbody tr th {\n",
       "        vertical-align: top;\n",
       "    }\n",
       "\n",
       "    .dataframe thead th {\n",
       "        text-align: right;\n",
       "    }\n",
       "</style>\n",
       "<table border=\"1\" class=\"dataframe\">\n",
       "  <thead>\n",
       "    <tr style=\"text-align: right;\">\n",
       "      <th></th>\n",
       "      <th>title</th>\n",
       "      <th>url</th>\n",
       "      <th>username</th>\n",
       "      <th>status</th>\n",
       "      <th>times_watched</th>\n",
       "      <th>user_rating</th>\n",
       "      <th>num_eps</th>\n",
       "      <th>is_ongoing</th>\n",
       "      <th>duration</th>\n",
       "      <th>studio</th>\n",
       "      <th>start_year</th>\n",
       "      <th>end_year</th>\n",
       "      <th>season</th>\n",
       "      <th>avg_rating</th>\n",
       "      <th>num_votes</th>\n",
       "      <th>synopsis</th>\n",
       "      <th>tags</th>\n",
       "      <th>content_warnings</th>\n",
       "    </tr>\n",
       "  </thead>\n",
       "  <tbody>\n",
       "    <tr>\n",
       "      <th>0</th>\n",
       "      <td>Day Break Illusion: il sole penetra le illusioni</td>\n",
       "      <td>https://www.anime-planet.com/anime/day-break-i...</td>\n",
       "      <td>Ruth</td>\n",
       "      <td>Watched</td>\n",
       "      <td>1</td>\n",
       "      <td>3.0</td>\n",
       "      <td>13</td>\n",
       "      <td>False</td>\n",
       "      <td>NaN</td>\n",
       "      <td>AIC</td>\n",
       "      <td>2013.0</td>\n",
       "      <td>2013.0</td>\n",
       "      <td>Summer</td>\n",
       "      <td>3.158</td>\n",
       "      <td>1980</td>\n",
       "      <td>Akari has always known two things: she’s a ski...</td>\n",
       "      <td>[Drama, Fantasy, Horror, Magical Girl, Contemp...</td>\n",
       "      <td>None</td>\n",
       "    </tr>\n",
       "    <tr>\n",
       "      <th>1</th>\n",
       "      <td>Dog Days</td>\n",
       "      <td>https://www.anime-planet.com/anime/dog-days</td>\n",
       "      <td>Ruth</td>\n",
       "      <td>Watched</td>\n",
       "      <td>1</td>\n",
       "      <td>3.5</td>\n",
       "      <td>13</td>\n",
       "      <td>False</td>\n",
       "      <td>NaN</td>\n",
       "      <td>Seven Arcs</td>\n",
       "      <td>2011.0</td>\n",
       "      <td>2011.0</td>\n",
       "      <td>Spring</td>\n",
       "      <td>3.524</td>\n",
       "      <td>9447</td>\n",
       "      <td>In the magical land of Flonyard, animal-eared ...</td>\n",
       "      <td>[Action, Adventure, Ecchi, Fantasy, Animal Cha...</td>\n",
       "      <td>None</td>\n",
       "    </tr>\n",
       "    <tr>\n",
       "      <th>2</th>\n",
       "      <td>Dog Days'</td>\n",
       "      <td>https://www.anime-planet.com/anime/dog-days-2</td>\n",
       "      <td>Ruth</td>\n",
       "      <td>Watched</td>\n",
       "      <td>1</td>\n",
       "      <td>3.0</td>\n",
       "      <td>13</td>\n",
       "      <td>False</td>\n",
       "      <td>NaN</td>\n",
       "      <td>Seven Arcs</td>\n",
       "      <td>2012.0</td>\n",
       "      <td>2012.0</td>\n",
       "      <td>Summer</td>\n",
       "      <td>3.651</td>\n",
       "      <td>5345</td>\n",
       "      <td>Three months have passed since Shinku returned...</td>\n",
       "      <td>[Action, Adventure, Ecchi, Fantasy, Animal Cha...</td>\n",
       "      <td>None</td>\n",
       "    </tr>\n",
       "    <tr>\n",
       "      <th>3</th>\n",
       "      <td>Fantasista Doll</td>\n",
       "      <td>https://www.anime-planet.com/anime/fantasista-...</td>\n",
       "      <td>Ruth</td>\n",
       "      <td>Watched</td>\n",
       "      <td>1</td>\n",
       "      <td>2.5</td>\n",
       "      <td>12</td>\n",
       "      <td>False</td>\n",
       "      <td>NaN</td>\n",
       "      <td>Hoods Entertainment</td>\n",
       "      <td>2013.0</td>\n",
       "      <td>2013.0</td>\n",
       "      <td>Summer</td>\n",
       "      <td>2.918</td>\n",
       "      <td>1206</td>\n",
       "      <td>Uzume Uno was on her way to class one day when...</td>\n",
       "      <td>[Magical Girl, Sci Fi, Seinen, Slice of Life, ...</td>\n",
       "      <td>None</td>\n",
       "    </tr>\n",
       "    <tr>\n",
       "      <th>4</th>\n",
       "      <td>Fate/Kaleid Liner Prisma Illya</td>\n",
       "      <td>https://www.anime-planet.com/anime/fate-kaleid...</td>\n",
       "      <td>Ruth</td>\n",
       "      <td>Watched</td>\n",
       "      <td>1</td>\n",
       "      <td>3.5</td>\n",
       "      <td>10</td>\n",
       "      <td>False</td>\n",
       "      <td>NaN</td>\n",
       "      <td>SILVER LINK.</td>\n",
       "      <td>2013.0</td>\n",
       "      <td>2013.0</td>\n",
       "      <td>Summer</td>\n",
       "      <td>3.513</td>\n",
       "      <td>5655</td>\n",
       "      <td>Illya loves magical girls; but more than anyth...</td>\n",
       "      <td>[Action, Fantasy, Magical Girl, Shounen, Conte...</td>\n",
       "      <td>None</td>\n",
       "    </tr>\n",
       "  </tbody>\n",
       "</table>\n",
       "</div>"
      ],
      "text/plain": [
       "                                              title  \\\n",
       "0  Day Break Illusion: il sole penetra le illusioni   \n",
       "1                                          Dog Days   \n",
       "2                                         Dog Days'   \n",
       "3                                   Fantasista Doll   \n",
       "4                    Fate/Kaleid Liner Prisma Illya   \n",
       "\n",
       "                                                 url username   status  \\\n",
       "0  https://www.anime-planet.com/anime/day-break-i...     Ruth  Watched   \n",
       "1        https://www.anime-planet.com/anime/dog-days     Ruth  Watched   \n",
       "2      https://www.anime-planet.com/anime/dog-days-2     Ruth  Watched   \n",
       "3  https://www.anime-planet.com/anime/fantasista-...     Ruth  Watched   \n",
       "4  https://www.anime-planet.com/anime/fate-kaleid...     Ruth  Watched   \n",
       "\n",
       "   times_watched  user_rating  num_eps  is_ongoing  duration  \\\n",
       "0              1          3.0       13       False       NaN   \n",
       "1              1          3.5       13       False       NaN   \n",
       "2              1          3.0       13       False       NaN   \n",
       "3              1          2.5       12       False       NaN   \n",
       "4              1          3.5       10       False       NaN   \n",
       "\n",
       "                studio  start_year  end_year  season  avg_rating  num_votes  \\\n",
       "0                  AIC      2013.0    2013.0  Summer       3.158       1980   \n",
       "1           Seven Arcs      2011.0    2011.0  Spring       3.524       9447   \n",
       "2           Seven Arcs      2012.0    2012.0  Summer       3.651       5345   \n",
       "3  Hoods Entertainment      2013.0    2013.0  Summer       2.918       1206   \n",
       "4         SILVER LINK.      2013.0    2013.0  Summer       3.513       5655   \n",
       "\n",
       "                                            synopsis  \\\n",
       "0  Akari has always known two things: she’s a ski...   \n",
       "1  In the magical land of Flonyard, animal-eared ...   \n",
       "2  Three months have passed since Shinku returned...   \n",
       "3  Uzume Uno was on her way to class one day when...   \n",
       "4  Illya loves magical girls; but more than anyth...   \n",
       "\n",
       "                                                tags content_warnings  \n",
       "0  [Drama, Fantasy, Horror, Magical Girl, Contemp...             None  \n",
       "1  [Action, Adventure, Ecchi, Fantasy, Animal Cha...             None  \n",
       "2  [Action, Adventure, Ecchi, Fantasy, Animal Cha...             None  \n",
       "3  [Magical Girl, Sci Fi, Seinen, Slice of Life, ...             None  \n",
       "4  [Action, Fantasy, Magical Girl, Shounen, Conte...             None  "
      ]
     },
     "execution_count": 3,
     "metadata": {},
     "output_type": "execute_result"
    }
   ],
   "source": [
    "df.head()"
   ]
  },
  {
   "cell_type": "code",
   "execution_count": 28,
   "id": "c71b6dbf-0853-4936-a6ab-23551895f80e",
   "metadata": {},
   "outputs": [],
   "source": [
    "scaler = RobustScaler()\n",
    "def user_rating_normalizer(group):\n",
    "    # return ((data - data.median()) / (data.quantile(0.75) - data.quantile(0.25))).replace(np.NaN, 0)\n",
    "    scaled = scaler.fit_transform(group[['user_rating']])\n",
    "    return pd.Series(scaled.reshape(1, scaled.shape[0])[0], index=group.index)"
   ]
  },
  {
   "cell_type": "code",
   "execution_count": 29,
   "id": "5f32c6d2-f27e-4662-b2f9-57fb7b33fc73",
   "metadata": {},
   "outputs": [],
   "source": [
    "def applyParallel(groups, func):\n",
    "    num_workers = 16\n",
    "    with Pool(num_workers) as p:\n",
    "        return pd.concat(p.map(func, [group for name, group in groups])).sort_index()"
   ]
  },
  {
   "cell_type": "code",
   "execution_count": 30,
   "id": "a78f2873-fdab-4ec8-b228-7fd703bccc0b",
   "metadata": {},
   "outputs": [
    {
     "name": "stdout",
     "output_type": "stream",
     "text": [
      "CPU times: user 1min 2s, sys: 1.93 s, total: 1min 4s\n",
      "Wall time: 1min 5s\n"
     ]
    }
   ],
   "source": [
    "%%time\n",
    "df['adj_user_rating'] = applyParallel(df.groupby('username'), user_rating_normalizer)"
   ]
  },
  {
   "cell_type": "code",
   "execution_count": 36,
   "id": "251fcce8-1c91-46d8-b174-534dfe8db92d",
   "metadata": {},
   "outputs": [
    {
     "data": {
      "text/plain": [
       "min   -36.0\n",
       "max    16.0\n",
       "Name: adj_user_rating, dtype: float32"
      ]
     },
     "execution_count": 36,
     "metadata": {},
     "output_type": "execute_result"
    }
   ],
   "source": [
    "df['adj_user_rating'].agg(['min', 'max'])"
   ]
  },
  {
   "cell_type": "code",
   "execution_count": 57,
   "id": "b5a89b19-2660-43de-aa67-9319c23fdf86",
   "metadata": {},
   "outputs": [
    {
     "data": {
      "text/plain": [
       "(-10.0, 4.0)"
      ]
     },
     "execution_count": 57,
     "metadata": {},
     "output_type": "execute_result"
    },
    {
     "data": {
      "image/png": "[encoded data removed]",
      "text/plain": [
       "<Figure size 432x288 with 1 Axes>"
      ]
     },
     "metadata": {
      "needs_background": "light"
     },
     "output_type": "display_data"
    }
   ],
   "source": [
    "plt.hist(df['adj_user_rating'], bins=100)\n",
    "plt.xlim(-10, 4)"
   ]
  },
  {
   "cell_type": "code",
   "execution_count": 39,
   "id": "d8a2ea30-06a7-49ac-b723-27a0a77146c5",
   "metadata": {},
   "outputs": [
    {
     "data": {
      "text/plain": [
       "<AxesSubplot:xlabel='adj_user_rating'>"
      ]
     },
     "execution_count": 39,
     "metadata": {},
     "output_type": "execute_result"
    },
    {
     "data": {
      "image/png": "[encoded data removed]",
      "text/plain": [
       "<Figure size 432x288 with 1 Axes>"
      ]
     },
     "metadata": {
      "needs_background": "light"
     },
     "output_type": "display_data"
    }
   ],
   "source": [
    "sns.boxplot(data=df, x='adj_user_rating')"
   ]
  },
  {
   "cell_type": "markdown",
   "id": "22b4bf2d-81c9-491a-aef6-581685d1a5f9",
   "metadata": {},
   "source": [
    "## Normalize Average Ratings"
   ]
  },
  {
   "cell_type": "code",
   "execution_count": 47,
   "id": "e8036fd6-3d31-4c72-b6f6-9e88d6e39f94",
   "metadata": {},
   "outputs": [],
   "source": [
    "scaler = RobustScaler()\n",
    "def avg_rating_normalizer(data):\n",
    "    # return ((data - data.median()) / (data.quantile(0.75) - data.quantile(0.25))).replace(np.NaN, 0)\n",
    "    scaled = scaler.fit_transform(data[['avg_rating']])\n",
    "    return pd.Series(scaled.reshape(1, scaled.shape[0])[0], index=data.index)"
   ]
  },
  {
   "cell_type": "code",
   "execution_count": 51,
   "id": "8cb716bc-91b7-459b-9b55-1f0afdf733a1",
   "metadata": {},
   "outputs": [],
   "source": [
    "df['adj_avg_rating'] = avg_rating_normalizer(df)"
   ]
  },
  {
   "cell_type": "code",
   "execution_count": 52,
   "id": "bc5a1b6c-4f18-450a-9d41-ef48a0c9c0ac",
   "metadata": {},
   "outputs": [
    {
     "data": {
      "text/plain": [
       "min   -5.170343\n",
       "max    1.442886\n",
       "Name: adj_avg_rating, dtype: float32"
      ]
     },
     "execution_count": 52,
     "metadata": {},
     "output_type": "execute_result"
    }
   ],
   "source": [
    "df['adj_avg_rating'].agg(['min', 'max'])"
   ]
  },
  {
   "cell_type": "code",
   "execution_count": 54,
   "id": "5bda1b6f-2327-43fb-9221-45e77ccdd0d8",
   "metadata": {},
   "outputs": [
    {
     "data": {
      "text/plain": [
       "(-5.0, 2.0)"
      ]
     },
     "execution_count": 54,
     "metadata": {},
     "output_type": "execute_result"
    },
    {
     "data": {
      "image/png": "[encoded data removed]",
      "text/plain": [
       "<Figure size 432x288 with 1 Axes>"
      ]
     },
     "metadata": {
      "needs_background": "light"
     },
     "output_type": "display_data"
    }
   ],
   "source": [
    "plt.hist(df['adj_avg_rating'], bins=100)\n",
    "plt.xlim(-5, 2)"
   ]
  },
  {
   "cell_type": "code",
   "execution_count": null,
   "id": "718a41f1-3e80-4bb3-9d87-64293a4ba68c",
   "metadata": {},
   "outputs": [],
   "source": []
  }
 ],
 "metadata": {
  "kernelspec": {
   "display_name": "Python 3 (ipykernel)",
   "language": "python",
   "name": "python3"
  },
  "language_info": {
   "codemirror_mode": {
    "name": "ipython",
    "version": 3
   },
   "file_extension": ".py",
   "mimetype": "text/x-python",
   "name": "python",
   "nbconvert_exporter": "python",
   "pygments_lexer": "ipython3",
   "version": "3.8.12"
  }
 },
 "nbformat": 4,
 "nbformat_minor": 5
}
